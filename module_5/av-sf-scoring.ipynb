{
 "cells": [
  {
   "cell_type": "code",
   "execution_count": 1,
   "id": "33d960a9",
   "metadata": {
    "_cell_guid": "b1076dfc-b9ad-4769-8c92-a6c4dae69d19",
    "_uuid": "8f2839f25d086af736a60e9eeb907d3b93b6e0e5",
    "execution": {
     "iopub.execute_input": "2022-01-26T21:03:15.205057Z",
     "iopub.status.busy": "2022-01-26T21:03:15.203985Z",
     "iopub.status.idle": "2022-01-26T21:03:15.216633Z",
     "shell.execute_reply": "2022-01-26T21:03:15.217066Z",
     "shell.execute_reply.started": "2021-12-04T22:02:07.999586Z"
    },
    "papermill": {
     "duration": 0.038059,
     "end_time": "2022-01-26T21:03:15.217336",
     "exception": false,
     "start_time": "2022-01-26T21:03:15.179277",
     "status": "completed"
    },
    "tags": []
   },
   "outputs": [
    {
     "name": "stdout",
     "output_type": "stream",
     "text": [
      "/kaggle/input/sf-scoring/sample_submission.csv\n",
      "/kaggle/input/sf-scoring/train.csv\n",
      "/kaggle/input/sf-scoring/test.csv\n"
     ]
    }
   ],
   "source": [
    "# This Python 3 environment comes with many helpful analytics libraries installed\n",
    "# It is defined by the kaggle/python Docker image: https://github.com/kaggle/docker-python\n",
    "# For example, here's several helpful packages to load\n",
    "\n",
    "import numpy as np # linear algebra\n",
    "import pandas as pd # data processing, CSV file I/O (e.g. pd.read_csv)\n",
    "\n",
    "# Input data files are available in the read-only \"../input/\" directory\n",
    "# For example, running this (by clicking run or pressing Shift+Enter) will list all files under the input directory\n",
    "\n",
    "import os\n",
    "for dirname, _, filenames in os.walk('/kaggle/input'):\n",
    "    for filename in filenames:\n",
    "        print(os.path.join(dirname, filename))\n",
    "\n",
    "# You can write up to 20GB to the current directory (/kaggle/working/) that gets preserved as output when you create a version using \"Save & Run All\" \n",
    "# You can also write temporary files to /kaggle/temp/, but they won't be saved outside of the current session"
   ]
  },
  {
   "cell_type": "code",
   "execution_count": 2,
   "id": "25fe6627",
   "metadata": {
    "execution": {
     "iopub.execute_input": "2022-01-26T21:03:15.259943Z",
     "iopub.status.busy": "2022-01-26T21:03:15.259263Z",
     "iopub.status.idle": "2022-01-26T21:03:15.550900Z",
     "shell.execute_reply": "2022-01-26T21:03:15.550462Z",
     "shell.execute_reply.started": "2021-12-04T22:02:08.02391Z"
    },
    "papermill": {
     "duration": 0.313585,
     "end_time": "2022-01-26T21:03:15.551028",
     "exception": false,
     "start_time": "2022-01-26T21:03:15.237443",
     "status": "completed"
    },
    "tags": []
   },
   "outputs": [],
   "source": [
    "DATA_DIR = '/kaggle/input/sf-scoring/'\n",
    "df_train = pd.read_csv(DATA_DIR +'/train.csv')\n",
    "df_test = pd.read_csv(DATA_DIR +'/test.csv')\n",
    "sample_submission = pd.read_csv(DATA_DIR+'/sample_submission.csv')"
   ]
  },
  {
   "cell_type": "code",
   "execution_count": 3,
   "id": "69d3f18c",
   "metadata": {
    "execution": {
     "iopub.execute_input": "2022-01-26T21:03:15.598789Z",
     "iopub.status.busy": "2022-01-26T21:03:15.598107Z",
     "iopub.status.idle": "2022-01-26T21:03:15.602541Z",
     "shell.execute_reply": "2022-01-26T21:03:15.601978Z",
     "shell.execute_reply.started": "2021-12-04T22:02:08.349548Z"
    },
    "papermill": {
     "duration": 0.03121,
     "end_time": "2022-01-26T21:03:15.602665",
     "exception": false,
     "start_time": "2022-01-26T21:03:15.571455",
     "status": "completed"
    },
    "tags": []
   },
   "outputs": [
    {
     "data": {
      "text/plain": [
       "(36349, 2)"
      ]
     },
     "execution_count": 3,
     "metadata": {},
     "output_type": "execute_result"
    }
   ],
   "source": [
    "sample_submission.shape"
   ]
  },
  {
   "cell_type": "code",
   "execution_count": 4,
   "id": "758324e0",
   "metadata": {
    "execution": {
     "iopub.execute_input": "2022-01-26T21:03:15.647975Z",
     "iopub.status.busy": "2022-01-26T21:03:15.645586Z",
     "iopub.status.idle": "2022-01-26T21:03:15.649756Z",
     "shell.execute_reply": "2022-01-26T21:03:15.650133Z",
     "shell.execute_reply.started": "2021-12-04T22:02:08.361719Z"
    },
    "papermill": {
     "duration": 0.026966,
     "end_time": "2022-01-26T21:03:15.650310",
     "exception": false,
     "start_time": "2022-01-26T21:03:15.623344",
     "status": "completed"
    },
    "tags": []
   },
   "outputs": [
    {
     "data": {
      "text/plain": [
       "(36349, 18)"
      ]
     },
     "execution_count": 4,
     "metadata": {},
     "output_type": "execute_result"
    }
   ],
   "source": [
    "df_test.shape"
   ]
  },
  {
   "cell_type": "code",
   "execution_count": 5,
   "id": "d0236e62",
   "metadata": {
    "execution": {
     "iopub.execute_input": "2022-01-26T21:03:15.698175Z",
     "iopub.status.busy": "2022-01-26T21:03:15.694043Z",
     "iopub.status.idle": "2022-01-26T21:03:15.737783Z",
     "shell.execute_reply": "2022-01-26T21:03:15.738278Z",
     "shell.execute_reply.started": "2021-12-04T22:02:08.375025Z"
    },
    "papermill": {
     "duration": 0.067593,
     "end_time": "2022-01-26T21:03:15.738447",
     "exception": false,
     "start_time": "2022-01-26T21:03:15.670854",
     "status": "completed"
    },
    "tags": []
   },
   "outputs": [
    {
     "name": "stdout",
     "output_type": "stream",
     "text": [
      "<class 'pandas.core.frame.DataFrame'>\n",
      "RangeIndex: 73799 entries, 0 to 73798\n",
      "Data columns (total 19 columns):\n",
      " #   Column            Non-Null Count  Dtype  \n",
      "---  ------            --------------  -----  \n",
      " 0   client_id         73799 non-null  int64  \n",
      " 1   app_date          73799 non-null  object \n",
      " 2   education         73492 non-null  object \n",
      " 3   sex               73799 non-null  object \n",
      " 4   age               73799 non-null  int64  \n",
      " 5   car               73799 non-null  object \n",
      " 6   car_type          73799 non-null  object \n",
      " 7   decline_app_cnt   73799 non-null  int64  \n",
      " 8   good_work         73799 non-null  int64  \n",
      " 9   score_bki         73799 non-null  float64\n",
      " 10  bki_request_cnt   73799 non-null  int64  \n",
      " 11  region_rating     73799 non-null  int64  \n",
      " 12  home_address      73799 non-null  int64  \n",
      " 13  work_address      73799 non-null  int64  \n",
      " 14  income            73799 non-null  int64  \n",
      " 15  sna               73799 non-null  int64  \n",
      " 16  first_time        73799 non-null  int64  \n",
      " 17  foreign_passport  73799 non-null  object \n",
      " 18  default           73799 non-null  int64  \n",
      "dtypes: float64(1), int64(12), object(6)\n",
      "memory usage: 10.7+ MB\n"
     ]
    }
   ],
   "source": [
    "df_train.info()"
   ]
  },
  {
   "cell_type": "code",
   "execution_count": 6,
   "id": "18a0ca64",
   "metadata": {
    "execution": {
     "iopub.execute_input": "2022-01-26T21:03:15.784341Z",
     "iopub.status.busy": "2022-01-26T21:03:15.783787Z",
     "iopub.status.idle": "2022-01-26T21:03:15.802344Z",
     "shell.execute_reply": "2022-01-26T21:03:15.801872Z",
     "shell.execute_reply.started": "2021-12-04T22:02:08.447694Z"
    },
    "papermill": {
     "duration": 0.041921,
     "end_time": "2022-01-26T21:03:15.802472",
     "exception": false,
     "start_time": "2022-01-26T21:03:15.760551",
     "status": "completed"
    },
    "tags": []
   },
   "outputs": [
    {
     "data": {
      "text/html": [
       "<div>\n",
       "<style scoped>\n",
       "    .dataframe tbody tr th:only-of-type {\n",
       "        vertical-align: middle;\n",
       "    }\n",
       "\n",
       "    .dataframe tbody tr th {\n",
       "        vertical-align: top;\n",
       "    }\n",
       "\n",
       "    .dataframe thead th {\n",
       "        text-align: right;\n",
       "    }\n",
       "</style>\n",
       "<table border=\"1\" class=\"dataframe\">\n",
       "  <thead>\n",
       "    <tr style=\"text-align: right;\">\n",
       "      <th></th>\n",
       "      <th>client_id</th>\n",
       "      <th>app_date</th>\n",
       "      <th>education</th>\n",
       "      <th>sex</th>\n",
       "      <th>age</th>\n",
       "      <th>car</th>\n",
       "      <th>car_type</th>\n",
       "      <th>decline_app_cnt</th>\n",
       "      <th>good_work</th>\n",
       "      <th>score_bki</th>\n",
       "      <th>bki_request_cnt</th>\n",
       "      <th>region_rating</th>\n",
       "      <th>home_address</th>\n",
       "      <th>work_address</th>\n",
       "      <th>income</th>\n",
       "      <th>sna</th>\n",
       "      <th>first_time</th>\n",
       "      <th>foreign_passport</th>\n",
       "      <th>default</th>\n",
       "    </tr>\n",
       "  </thead>\n",
       "  <tbody>\n",
       "    <tr>\n",
       "      <th>0</th>\n",
       "      <td>25905</td>\n",
       "      <td>01FEB2014</td>\n",
       "      <td>SCH</td>\n",
       "      <td>M</td>\n",
       "      <td>62</td>\n",
       "      <td>Y</td>\n",
       "      <td>Y</td>\n",
       "      <td>0</td>\n",
       "      <td>0</td>\n",
       "      <td>-2.008753</td>\n",
       "      <td>1</td>\n",
       "      <td>50</td>\n",
       "      <td>1</td>\n",
       "      <td>2</td>\n",
       "      <td>18000</td>\n",
       "      <td>4</td>\n",
       "      <td>1</td>\n",
       "      <td>N</td>\n",
       "      <td>0</td>\n",
       "    </tr>\n",
       "    <tr>\n",
       "      <th>1</th>\n",
       "      <td>63161</td>\n",
       "      <td>12MAR2014</td>\n",
       "      <td>SCH</td>\n",
       "      <td>F</td>\n",
       "      <td>59</td>\n",
       "      <td>N</td>\n",
       "      <td>N</td>\n",
       "      <td>0</td>\n",
       "      <td>0</td>\n",
       "      <td>-1.532276</td>\n",
       "      <td>3</td>\n",
       "      <td>50</td>\n",
       "      <td>2</td>\n",
       "      <td>3</td>\n",
       "      <td>19000</td>\n",
       "      <td>4</td>\n",
       "      <td>1</td>\n",
       "      <td>N</td>\n",
       "      <td>0</td>\n",
       "    </tr>\n",
       "    <tr>\n",
       "      <th>2</th>\n",
       "      <td>25887</td>\n",
       "      <td>01FEB2014</td>\n",
       "      <td>SCH</td>\n",
       "      <td>M</td>\n",
       "      <td>25</td>\n",
       "      <td>Y</td>\n",
       "      <td>N</td>\n",
       "      <td>2</td>\n",
       "      <td>0</td>\n",
       "      <td>-1.408142</td>\n",
       "      <td>1</td>\n",
       "      <td>80</td>\n",
       "      <td>1</td>\n",
       "      <td>2</td>\n",
       "      <td>30000</td>\n",
       "      <td>1</td>\n",
       "      <td>4</td>\n",
       "      <td>Y</td>\n",
       "      <td>0</td>\n",
       "    </tr>\n",
       "    <tr>\n",
       "      <th>3</th>\n",
       "      <td>16222</td>\n",
       "      <td>23JAN2014</td>\n",
       "      <td>SCH</td>\n",
       "      <td>F</td>\n",
       "      <td>53</td>\n",
       "      <td>N</td>\n",
       "      <td>N</td>\n",
       "      <td>0</td>\n",
       "      <td>0</td>\n",
       "      <td>-2.057471</td>\n",
       "      <td>2</td>\n",
       "      <td>50</td>\n",
       "      <td>2</td>\n",
       "      <td>3</td>\n",
       "      <td>10000</td>\n",
       "      <td>1</td>\n",
       "      <td>3</td>\n",
       "      <td>N</td>\n",
       "      <td>0</td>\n",
       "    </tr>\n",
       "    <tr>\n",
       "      <th>4</th>\n",
       "      <td>101655</td>\n",
       "      <td>18APR2014</td>\n",
       "      <td>GRD</td>\n",
       "      <td>M</td>\n",
       "      <td>48</td>\n",
       "      <td>N</td>\n",
       "      <td>N</td>\n",
       "      <td>0</td>\n",
       "      <td>1</td>\n",
       "      <td>-1.244723</td>\n",
       "      <td>1</td>\n",
       "      <td>60</td>\n",
       "      <td>2</td>\n",
       "      <td>3</td>\n",
       "      <td>30000</td>\n",
       "      <td>1</td>\n",
       "      <td>4</td>\n",
       "      <td>Y</td>\n",
       "      <td>0</td>\n",
       "    </tr>\n",
       "  </tbody>\n",
       "</table>\n",
       "</div>"
      ],
      "text/plain": [
       "   client_id   app_date education sex  age car car_type  decline_app_cnt  \\\n",
       "0      25905  01FEB2014       SCH   M   62   Y        Y                0   \n",
       "1      63161  12MAR2014       SCH   F   59   N        N                0   \n",
       "2      25887  01FEB2014       SCH   M   25   Y        N                2   \n",
       "3      16222  23JAN2014       SCH   F   53   N        N                0   \n",
       "4     101655  18APR2014       GRD   M   48   N        N                0   \n",
       "\n",
       "   good_work  score_bki  bki_request_cnt  region_rating  home_address  \\\n",
       "0          0  -2.008753                1             50             1   \n",
       "1          0  -1.532276                3             50             2   \n",
       "2          0  -1.408142                1             80             1   \n",
       "3          0  -2.057471                2             50             2   \n",
       "4          1  -1.244723                1             60             2   \n",
       "\n",
       "   work_address  income  sna  first_time foreign_passport  default  \n",
       "0             2   18000    4           1                N        0  \n",
       "1             3   19000    4           1                N        0  \n",
       "2             2   30000    1           4                Y        0  \n",
       "3             3   10000    1           3                N        0  \n",
       "4             3   30000    1           4                Y        0  "
      ]
     },
     "execution_count": 6,
     "metadata": {},
     "output_type": "execute_result"
    }
   ],
   "source": [
    "df_train.head(5)"
   ]
  },
  {
   "cell_type": "code",
   "execution_count": 7,
   "id": "5b10c53b",
   "metadata": {
    "execution": {
     "iopub.execute_input": "2022-01-26T21:03:15.872277Z",
     "iopub.status.busy": "2022-01-26T21:03:15.849752Z",
     "iopub.status.idle": "2022-01-26T21:03:15.880651Z",
     "shell.execute_reply": "2022-01-26T21:03:15.881382Z",
     "shell.execute_reply.started": "2021-12-04T22:02:08.472865Z"
    },
    "papermill": {
     "duration": 0.057319,
     "end_time": "2022-01-26T21:03:15.881571",
     "exception": false,
     "start_time": "2022-01-26T21:03:15.824252",
     "status": "completed"
    },
    "tags": []
   },
   "outputs": [
    {
     "name": "stdout",
     "output_type": "stream",
     "text": [
      "<class 'pandas.core.frame.DataFrame'>\n",
      "RangeIndex: 36349 entries, 0 to 36348\n",
      "Data columns (total 18 columns):\n",
      " #   Column            Non-Null Count  Dtype  \n",
      "---  ------            --------------  -----  \n",
      " 0   client_id         36349 non-null  int64  \n",
      " 1   app_date          36349 non-null  object \n",
      " 2   education         36178 non-null  object \n",
      " 3   sex               36349 non-null  object \n",
      " 4   age               36349 non-null  int64  \n",
      " 5   car               36349 non-null  object \n",
      " 6   car_type          36349 non-null  object \n",
      " 7   decline_app_cnt   36349 non-null  int64  \n",
      " 8   good_work         36349 non-null  int64  \n",
      " 9   score_bki         36349 non-null  float64\n",
      " 10  bki_request_cnt   36349 non-null  int64  \n",
      " 11  region_rating     36349 non-null  int64  \n",
      " 12  home_address      36349 non-null  int64  \n",
      " 13  work_address      36349 non-null  int64  \n",
      " 14  income            36349 non-null  int64  \n",
      " 15  sna               36349 non-null  int64  \n",
      " 16  first_time        36349 non-null  int64  \n",
      " 17  foreign_passport  36349 non-null  object \n",
      "dtypes: float64(1), int64(11), object(6)\n",
      "memory usage: 5.0+ MB\n"
     ]
    }
   ],
   "source": [
    "df_test.info()"
   ]
  },
  {
   "cell_type": "code",
   "execution_count": 8,
   "id": "e8d18262",
   "metadata": {
    "execution": {
     "iopub.execute_input": "2022-01-26T21:03:15.928920Z",
     "iopub.status.busy": "2022-01-26T21:03:15.928354Z",
     "iopub.status.idle": "2022-01-26T21:03:15.934669Z",
     "shell.execute_reply": "2022-01-26T21:03:15.935168Z",
     "shell.execute_reply.started": "2021-12-04T22:02:08.515055Z"
    },
    "papermill": {
     "duration": 0.030777,
     "end_time": "2022-01-26T21:03:15.935365",
     "exception": false,
     "start_time": "2022-01-26T21:03:15.904588",
     "status": "completed"
    },
    "tags": []
   },
   "outputs": [
    {
     "data": {
      "text/html": [
       "<div>\n",
       "<style scoped>\n",
       "    .dataframe tbody tr th:only-of-type {\n",
       "        vertical-align: middle;\n",
       "    }\n",
       "\n",
       "    .dataframe tbody tr th {\n",
       "        vertical-align: top;\n",
       "    }\n",
       "\n",
       "    .dataframe thead th {\n",
       "        text-align: right;\n",
       "    }\n",
       "</style>\n",
       "<table border=\"1\" class=\"dataframe\">\n",
       "  <thead>\n",
       "    <tr style=\"text-align: right;\">\n",
       "      <th></th>\n",
       "      <th>client_id</th>\n",
       "      <th>default</th>\n",
       "    </tr>\n",
       "  </thead>\n",
       "  <tbody>\n",
       "    <tr>\n",
       "      <th>0</th>\n",
       "      <td>74835</td>\n",
       "      <td>0</td>\n",
       "    </tr>\n",
       "    <tr>\n",
       "      <th>1</th>\n",
       "      <td>17527</td>\n",
       "      <td>0</td>\n",
       "    </tr>\n",
       "    <tr>\n",
       "      <th>2</th>\n",
       "      <td>75683</td>\n",
       "      <td>0</td>\n",
       "    </tr>\n",
       "    <tr>\n",
       "      <th>3</th>\n",
       "      <td>26883</td>\n",
       "      <td>0</td>\n",
       "    </tr>\n",
       "    <tr>\n",
       "      <th>4</th>\n",
       "      <td>28862</td>\n",
       "      <td>0</td>\n",
       "    </tr>\n",
       "  </tbody>\n",
       "</table>\n",
       "</div>"
      ],
      "text/plain": [
       "   client_id  default\n",
       "0      74835        0\n",
       "1      17527        0\n",
       "2      75683        0\n",
       "3      26883        0\n",
       "4      28862        0"
      ]
     },
     "execution_count": 8,
     "metadata": {},
     "output_type": "execute_result"
    }
   ],
   "source": [
    "sample_submission.head(5)"
   ]
  },
  {
   "cell_type": "code",
   "execution_count": 9,
   "id": "76462cce",
   "metadata": {
    "execution": {
     "iopub.execute_input": "2022-01-26T21:03:15.982138Z",
     "iopub.status.busy": "2022-01-26T21:03:15.981589Z",
     "iopub.status.idle": "2022-01-26T21:03:15.990310Z",
     "shell.execute_reply": "2022-01-26T21:03:15.989771Z",
     "shell.execute_reply.started": "2021-12-04T22:02:08.525951Z"
    },
    "papermill": {
     "duration": 0.033627,
     "end_time": "2022-01-26T21:03:15.990425",
     "exception": false,
     "start_time": "2022-01-26T21:03:15.956798",
     "status": "completed"
    },
    "tags": []
   },
   "outputs": [
    {
     "name": "stdout",
     "output_type": "stream",
     "text": [
      "<class 'pandas.core.frame.DataFrame'>\n",
      "RangeIndex: 36349 entries, 0 to 36348\n",
      "Data columns (total 2 columns):\n",
      " #   Column     Non-Null Count  Dtype\n",
      "---  ------     --------------  -----\n",
      " 0   client_id  36349 non-null  int64\n",
      " 1   default    36349 non-null  int64\n",
      "dtypes: int64(2)\n",
      "memory usage: 568.1 KB\n"
     ]
    }
   ],
   "source": [
    "sample_submission.info()"
   ]
  },
  {
   "cell_type": "code",
   "execution_count": 10,
   "id": "6ce182c0",
   "metadata": {
    "execution": {
     "iopub.execute_input": "2022-01-26T21:03:16.041365Z",
     "iopub.status.busy": "2022-01-26T21:03:16.040761Z",
     "iopub.status.idle": "2022-01-26T21:03:16.088733Z",
     "shell.execute_reply": "2022-01-26T21:03:16.087968Z",
     "shell.execute_reply.started": "2021-12-04T22:02:08.543928Z"
    },
    "papermill": {
     "duration": 0.07585,
     "end_time": "2022-01-26T21:03:16.088966",
     "exception": false,
     "start_time": "2022-01-26T21:03:16.013116",
     "status": "completed"
    },
    "tags": []
   },
   "outputs": [],
   "source": [
    "# ВАЖНО! дря корректной обработки признаков объединяем трейн и тест в один датасет\n",
    "df_train['sample'] = 1 # помечаем где у нас трейн\n",
    "df_test['sample'] = 0  # помечаем где у нас тест\n",
    "df_test['default'] = 0 # в тесте у нас нет значения default, мы его должны предсказать, по этому пока просто заполняем нулями\n",
    "\n",
    "data = df_test.append(df_train, sort=False).reset_index(drop=True) # объединяем"
   ]
  },
  {
   "cell_type": "code",
   "execution_count": 11,
   "id": "f1dccfe1",
   "metadata": {
    "execution": {
     "iopub.execute_input": "2022-01-26T21:03:16.140666Z",
     "iopub.status.busy": "2022-01-26T21:03:16.140107Z",
     "iopub.status.idle": "2022-01-26T21:03:16.198049Z",
     "shell.execute_reply": "2022-01-26T21:03:16.198589Z",
     "shell.execute_reply.started": "2021-12-04T22:02:08.640315Z"
    },
    "papermill": {
     "duration": 0.08633,
     "end_time": "2022-01-26T21:03:16.198779",
     "exception": false,
     "start_time": "2022-01-26T21:03:16.112449",
     "status": "completed"
    },
    "tags": []
   },
   "outputs": [
    {
     "data": {
      "text/plain": [
       "client_id           110148\n",
       "app_date               120\n",
       "education                6\n",
       "sex                      2\n",
       "age                     52\n",
       "car                      2\n",
       "car_type                 2\n",
       "decline_app_cnt         24\n",
       "good_work                2\n",
       "score_bki           102618\n",
       "bki_request_cnt         40\n",
       "region_rating            7\n",
       "home_address             3\n",
       "work_address             3\n",
       "income                1207\n",
       "sna                      4\n",
       "first_time               4\n",
       "foreign_passport         2\n",
       "sample                   2\n",
       "default                  2\n",
       "dtype: int64"
      ]
     },
     "execution_count": 11,
     "metadata": {},
     "output_type": "execute_result"
    }
   ],
   "source": [
    "data.nunique(dropna=False)"
   ]
  },
  {
   "cell_type": "code",
   "execution_count": 12,
   "id": "51caa8ae",
   "metadata": {
    "execution": {
     "iopub.execute_input": "2022-01-26T21:03:16.271905Z",
     "iopub.status.busy": "2022-01-26T21:03:16.271097Z",
     "iopub.status.idle": "2022-01-26T21:03:16.272881Z",
     "shell.execute_reply": "2022-01-26T21:03:16.273340Z",
     "shell.execute_reply.started": "2021-12-04T22:02:08.726645Z"
    },
    "papermill": {
     "duration": 0.041583,
     "end_time": "2022-01-26T21:03:16.273527",
     "exception": false,
     "start_time": "2022-01-26T21:03:16.231944",
     "status": "completed"
    },
    "tags": []
   },
   "outputs": [],
   "source": [
    "num_cols = ['age', 'score_bki', 'decline_app_cnt', 'score_bki', 'bki_request_cnt', 'income']\n",
    "cat_cols = ['education', 'first_time', 'sna', 'work_address', 'home_address', 'region_rating']\n",
    "bin_cols = ['sex', 'car', 'car_type', 'good_work', 'foreign_passport']"
   ]
  },
  {
   "cell_type": "code",
   "execution_count": 13,
   "id": "353c5df6",
   "metadata": {
    "execution": {
     "iopub.execute_input": "2022-01-26T21:03:16.321272Z",
     "iopub.status.busy": "2022-01-26T21:03:16.320583Z",
     "iopub.status.idle": "2022-01-26T21:03:16.534389Z",
     "shell.execute_reply": "2022-01-26T21:03:16.533507Z",
     "shell.execute_reply.started": "2021-12-04T22:02:08.733995Z"
    },
    "papermill": {
     "duration": 0.238897,
     "end_time": "2022-01-26T21:03:16.534544",
     "exception": false,
     "start_time": "2022-01-26T21:03:16.295647",
     "status": "completed"
    },
    "tags": []
   },
   "outputs": [
    {
     "data": {
      "text/plain": [
       "<AxesSubplot:>"
      ]
     },
     "execution_count": 13,
     "metadata": {},
     "output_type": "execute_result"
    },
    {
     "data": {
      "image/png": "[encoded data removed]",
      "text/plain": [
       "<Figure size 432x288 with 1 Axes>"
      ]
     },
     "metadata": {
      "needs_background": "light"
     },
     "output_type": "display_data"
    }
   ],
   "source": [
    "data['default'].value_counts(ascending=True).plot(kind='barh')"
   ]
  },
  {
   "cell_type": "code",
   "execution_count": 14,
   "id": "8b74f9d5",
   "metadata": {
    "execution": {
     "iopub.execute_input": "2022-01-26T21:03:16.609928Z",
     "iopub.status.busy": "2022-01-26T21:03:16.608952Z",
     "iopub.status.idle": "2022-01-26T21:03:16.622298Z",
     "shell.execute_reply": "2022-01-26T21:03:16.622902Z",
     "shell.execute_reply.started": "2021-12-04T22:02:08.956936Z"
    },
    "papermill": {
     "duration": 0.05332,
     "end_time": "2022-01-26T21:03:16.623102",
     "exception": false,
     "start_time": "2022-01-26T21:03:16.569782",
     "status": "completed"
    },
    "tags": []
   },
   "outputs": [],
   "source": [
    "data.drop(['client_id','app_date',], axis = 1, inplace=True)"
   ]
  },
  {
   "cell_type": "code",
   "execution_count": 15,
   "id": "09893fd2",
   "metadata": {
    "execution": {
     "iopub.execute_input": "2022-01-26T21:03:16.697744Z",
     "iopub.status.busy": "2022-01-26T21:03:16.696850Z",
     "iopub.status.idle": "2022-01-26T21:03:16.729682Z",
     "shell.execute_reply": "2022-01-26T21:03:16.730263Z",
     "shell.execute_reply.started": "2021-12-04T22:02:08.972519Z"
    },
    "papermill": {
     "duration": 0.071592,
     "end_time": "2022-01-26T21:03:16.730463",
     "exception": false,
     "start_time": "2022-01-26T21:03:16.658871",
     "status": "completed"
    },
    "tags": []
   },
   "outputs": [],
   "source": [
    "data = pd.get_dummies(data, columns=['education'], dummy_na=True)"
   ]
  },
  {
   "cell_type": "code",
   "execution_count": 16,
   "id": "4fb902ba",
   "metadata": {
    "execution": {
     "iopub.execute_input": "2022-01-26T21:03:16.807009Z",
     "iopub.status.busy": "2022-01-26T21:03:16.806126Z",
     "iopub.status.idle": "2022-01-26T21:03:17.985442Z",
     "shell.execute_reply": "2022-01-26T21:03:17.986003Z",
     "shell.execute_reply.started": "2021-12-04T22:02:09.020025Z"
    },
    "papermill": {
     "duration": 1.219001,
     "end_time": "2022-01-26T21:03:17.986188",
     "exception": false,
     "start_time": "2022-01-26T21:03:16.767187",
     "status": "completed"
    },
    "tags": []
   },
   "outputs": [],
   "source": [
    "from sklearn import preprocessing\n",
    "le = preprocessing.LabelEncoder()\n",
    "\n",
    "for column in bin_cols:\n",
    "    data[column] = le.fit_transform(data[column])\n",
    "    \n",
    "columns = ['first_time', 'sna', 'work_address', 'home_address', 'region_rating']\n",
    "\n",
    "for column in columns:\n",
    "    data[column] = le.fit_transform(data[column])"
   ]
  },
  {
   "cell_type": "code",
   "execution_count": 17,
   "id": "52107e74",
   "metadata": {
    "execution": {
     "iopub.execute_input": "2022-01-26T21:03:18.060563Z",
     "iopub.status.busy": "2022-01-26T21:03:18.059988Z",
     "iopub.status.idle": "2022-01-26T21:03:18.077423Z",
     "shell.execute_reply": "2022-01-26T21:03:18.076531Z",
     "shell.execute_reply.started": "2021-12-04T22:02:09.522211Z"
    },
    "papermill": {
     "duration": 0.055541,
     "end_time": "2022-01-26T21:03:18.077649",
     "exception": false,
     "start_time": "2022-01-26T21:03:18.022108",
     "status": "completed"
    },
    "tags": []
   },
   "outputs": [
    {
     "name": "stdout",
     "output_type": "stream",
     "text": [
      "<class 'pandas.core.frame.DataFrame'>\n",
      "RangeIndex: 110148 entries, 0 to 110147\n",
      "Data columns (total 23 columns):\n",
      " #   Column            Non-Null Count   Dtype  \n",
      "---  ------            --------------   -----  \n",
      " 0   sex               110148 non-null  int64  \n",
      " 1   age               110148 non-null  int64  \n",
      " 2   car               110148 non-null  int64  \n",
      " 3   car_type          110148 non-null  int64  \n",
      " 4   decline_app_cnt   110148 non-null  int64  \n",
      " 5   good_work         110148 non-null  int64  \n",
      " 6   score_bki         110148 non-null  float64\n",
      " 7   bki_request_cnt   110148 non-null  int64  \n",
      " 8   region_rating     110148 non-null  int64  \n",
      " 9   home_address      110148 non-null  int64  \n",
      " 10  work_address      110148 non-null  int64  \n",
      " 11  income            110148 non-null  int64  \n",
      " 12  sna               110148 non-null  int64  \n",
      " 13  first_time        110148 non-null  int64  \n",
      " 14  foreign_passport  110148 non-null  int64  \n",
      " 15  sample            110148 non-null  int64  \n",
      " 16  default           110148 non-null  int64  \n",
      " 17  education_ACD     110148 non-null  uint8  \n",
      " 18  education_GRD     110148 non-null  uint8  \n",
      " 19  education_PGR     110148 non-null  uint8  \n",
      " 20  education_SCH     110148 non-null  uint8  \n",
      " 21  education_UGR     110148 non-null  uint8  \n",
      " 22  education_nan     110148 non-null  uint8  \n",
      "dtypes: float64(1), int64(16), uint8(6)\n",
      "memory usage: 14.9 MB\n"
     ]
    }
   ],
   "source": [
    "data.info()"
   ]
  },
  {
   "cell_type": "code",
   "execution_count": 18,
   "id": "9f664b6d",
   "metadata": {
    "execution": {
     "iopub.execute_input": "2022-01-26T21:03:18.136477Z",
     "iopub.status.busy": "2022-01-26T21:03:18.128608Z",
     "iopub.status.idle": "2022-01-26T21:03:18.162424Z",
     "shell.execute_reply": "2022-01-26T21:03:18.162888Z",
     "shell.execute_reply.started": "2021-12-04T22:02:09.683004Z"
    },
    "papermill": {
     "duration": 0.060621,
     "end_time": "2022-01-26T21:03:18.163026",
     "exception": false,
     "start_time": "2022-01-26T21:03:18.102405",
     "status": "completed"
    },
    "tags": []
   },
   "outputs": [
    {
     "data": {
      "text/html": [
       "<div>\n",
       "<style scoped>\n",
       "    .dataframe tbody tr th:only-of-type {\n",
       "        vertical-align: middle;\n",
       "    }\n",
       "\n",
       "    .dataframe tbody tr th {\n",
       "        vertical-align: top;\n",
       "    }\n",
       "\n",
       "    .dataframe thead th {\n",
       "        text-align: right;\n",
       "    }\n",
       "</style>\n",
       "<table border=\"1\" class=\"dataframe\">\n",
       "  <thead>\n",
       "    <tr style=\"text-align: right;\">\n",
       "      <th></th>\n",
       "      <th>sex</th>\n",
       "      <th>age</th>\n",
       "      <th>car</th>\n",
       "      <th>car_type</th>\n",
       "      <th>decline_app_cnt</th>\n",
       "      <th>good_work</th>\n",
       "      <th>score_bki</th>\n",
       "      <th>bki_request_cnt</th>\n",
       "      <th>region_rating</th>\n",
       "      <th>home_address</th>\n",
       "      <th>...</th>\n",
       "      <th>first_time</th>\n",
       "      <th>foreign_passport</th>\n",
       "      <th>sample</th>\n",
       "      <th>default</th>\n",
       "      <th>education_ACD</th>\n",
       "      <th>education_GRD</th>\n",
       "      <th>education_PGR</th>\n",
       "      <th>education_SCH</th>\n",
       "      <th>education_UGR</th>\n",
       "      <th>education_nan</th>\n",
       "    </tr>\n",
       "  </thead>\n",
       "  <tbody>\n",
       "    <tr>\n",
       "      <th>0</th>\n",
       "      <td>1</td>\n",
       "      <td>29</td>\n",
       "      <td>1</td>\n",
       "      <td>1</td>\n",
       "      <td>0</td>\n",
       "      <td>0</td>\n",
       "      <td>-2.271884</td>\n",
       "      <td>3</td>\n",
       "      <td>3</td>\n",
       "      <td>0</td>\n",
       "      <td>...</td>\n",
       "      <td>3</td>\n",
       "      <td>0</td>\n",
       "      <td>0</td>\n",
       "      <td>0</td>\n",
       "      <td>0</td>\n",
       "      <td>1</td>\n",
       "      <td>0</td>\n",
       "      <td>0</td>\n",
       "      <td>0</td>\n",
       "      <td>0</td>\n",
       "    </tr>\n",
       "    <tr>\n",
       "      <th>1</th>\n",
       "      <td>0</td>\n",
       "      <td>39</td>\n",
       "      <td>0</td>\n",
       "      <td>0</td>\n",
       "      <td>5</td>\n",
       "      <td>0</td>\n",
       "      <td>-1.504999</td>\n",
       "      <td>2</td>\n",
       "      <td>3</td>\n",
       "      <td>0</td>\n",
       "      <td>...</td>\n",
       "      <td>2</td>\n",
       "      <td>0</td>\n",
       "      <td>0</td>\n",
       "      <td>0</td>\n",
       "      <td>0</td>\n",
       "      <td>0</td>\n",
       "      <td>0</td>\n",
       "      <td>1</td>\n",
       "      <td>0</td>\n",
       "      <td>0</td>\n",
       "    </tr>\n",
       "    <tr>\n",
       "      <th>2</th>\n",
       "      <td>1</td>\n",
       "      <td>50</td>\n",
       "      <td>1</td>\n",
       "      <td>1</td>\n",
       "      <td>0</td>\n",
       "      <td>0</td>\n",
       "      <td>-1.691339</td>\n",
       "      <td>1</td>\n",
       "      <td>3</td>\n",
       "      <td>0</td>\n",
       "      <td>...</td>\n",
       "      <td>2</td>\n",
       "      <td>1</td>\n",
       "      <td>0</td>\n",
       "      <td>0</td>\n",
       "      <td>0</td>\n",
       "      <td>0</td>\n",
       "      <td>0</td>\n",
       "      <td>0</td>\n",
       "      <td>1</td>\n",
       "      <td>0</td>\n",
       "    </tr>\n",
       "    <tr>\n",
       "      <th>3</th>\n",
       "      <td>1</td>\n",
       "      <td>56</td>\n",
       "      <td>0</td>\n",
       "      <td>0</td>\n",
       "      <td>0</td>\n",
       "      <td>0</td>\n",
       "      <td>-2.374182</td>\n",
       "      <td>1</td>\n",
       "      <td>2</td>\n",
       "      <td>0</td>\n",
       "      <td>...</td>\n",
       "      <td>2</td>\n",
       "      <td>0</td>\n",
       "      <td>0</td>\n",
       "      <td>0</td>\n",
       "      <td>0</td>\n",
       "      <td>0</td>\n",
       "      <td>0</td>\n",
       "      <td>1</td>\n",
       "      <td>0</td>\n",
       "      <td>0</td>\n",
       "    </tr>\n",
       "    <tr>\n",
       "      <th>4</th>\n",
       "      <td>0</td>\n",
       "      <td>38</td>\n",
       "      <td>0</td>\n",
       "      <td>0</td>\n",
       "      <td>0</td>\n",
       "      <td>0</td>\n",
       "      <td>-2.487502</td>\n",
       "      <td>0</td>\n",
       "      <td>6</td>\n",
       "      <td>1</td>\n",
       "      <td>...</td>\n",
       "      <td>2</td>\n",
       "      <td>0</td>\n",
       "      <td>0</td>\n",
       "      <td>0</td>\n",
       "      <td>0</td>\n",
       "      <td>1</td>\n",
       "      <td>0</td>\n",
       "      <td>0</td>\n",
       "      <td>0</td>\n",
       "      <td>0</td>\n",
       "    </tr>\n",
       "    <tr>\n",
       "      <th>...</th>\n",
       "      <td>...</td>\n",
       "      <td>...</td>\n",
       "      <td>...</td>\n",
       "      <td>...</td>\n",
       "      <td>...</td>\n",
       "      <td>...</td>\n",
       "      <td>...</td>\n",
       "      <td>...</td>\n",
       "      <td>...</td>\n",
       "      <td>...</td>\n",
       "      <td>...</td>\n",
       "      <td>...</td>\n",
       "      <td>...</td>\n",
       "      <td>...</td>\n",
       "      <td>...</td>\n",
       "      <td>...</td>\n",
       "      <td>...</td>\n",
       "      <td>...</td>\n",
       "      <td>...</td>\n",
       "      <td>...</td>\n",
       "      <td>...</td>\n",
       "    </tr>\n",
       "    <tr>\n",
       "      <th>110143</th>\n",
       "      <td>0</td>\n",
       "      <td>45</td>\n",
       "      <td>0</td>\n",
       "      <td>0</td>\n",
       "      <td>0</td>\n",
       "      <td>0</td>\n",
       "      <td>-1.792064</td>\n",
       "      <td>3</td>\n",
       "      <td>3</td>\n",
       "      <td>0</td>\n",
       "      <td>...</td>\n",
       "      <td>3</td>\n",
       "      <td>0</td>\n",
       "      <td>1</td>\n",
       "      <td>0</td>\n",
       "      <td>0</td>\n",
       "      <td>1</td>\n",
       "      <td>0</td>\n",
       "      <td>0</td>\n",
       "      <td>0</td>\n",
       "      <td>0</td>\n",
       "    </tr>\n",
       "    <tr>\n",
       "      <th>110144</th>\n",
       "      <td>1</td>\n",
       "      <td>41</td>\n",
       "      <td>1</td>\n",
       "      <td>1</td>\n",
       "      <td>0</td>\n",
       "      <td>0</td>\n",
       "      <td>-2.058029</td>\n",
       "      <td>1</td>\n",
       "      <td>3</td>\n",
       "      <td>1</td>\n",
       "      <td>...</td>\n",
       "      <td>3</td>\n",
       "      <td>0</td>\n",
       "      <td>1</td>\n",
       "      <td>0</td>\n",
       "      <td>0</td>\n",
       "      <td>0</td>\n",
       "      <td>0</td>\n",
       "      <td>1</td>\n",
       "      <td>0</td>\n",
       "      <td>0</td>\n",
       "    </tr>\n",
       "    <tr>\n",
       "      <th>110145</th>\n",
       "      <td>1</td>\n",
       "      <td>31</td>\n",
       "      <td>0</td>\n",
       "      <td>0</td>\n",
       "      <td>0</td>\n",
       "      <td>0</td>\n",
       "      <td>-1.512635</td>\n",
       "      <td>4</td>\n",
       "      <td>6</td>\n",
       "      <td>1</td>\n",
       "      <td>...</td>\n",
       "      <td>1</td>\n",
       "      <td>0</td>\n",
       "      <td>1</td>\n",
       "      <td>0</td>\n",
       "      <td>0</td>\n",
       "      <td>0</td>\n",
       "      <td>0</td>\n",
       "      <td>1</td>\n",
       "      <td>0</td>\n",
       "      <td>0</td>\n",
       "    </tr>\n",
       "    <tr>\n",
       "      <th>110146</th>\n",
       "      <td>0</td>\n",
       "      <td>29</td>\n",
       "      <td>0</td>\n",
       "      <td>0</td>\n",
       "      <td>0</td>\n",
       "      <td>1</td>\n",
       "      <td>-1.479334</td>\n",
       "      <td>3</td>\n",
       "      <td>3</td>\n",
       "      <td>0</td>\n",
       "      <td>...</td>\n",
       "      <td>2</td>\n",
       "      <td>0</td>\n",
       "      <td>1</td>\n",
       "      <td>1</td>\n",
       "      <td>0</td>\n",
       "      <td>0</td>\n",
       "      <td>0</td>\n",
       "      <td>1</td>\n",
       "      <td>0</td>\n",
       "      <td>0</td>\n",
       "    </tr>\n",
       "    <tr>\n",
       "      <th>110147</th>\n",
       "      <td>1</td>\n",
       "      <td>34</td>\n",
       "      <td>0</td>\n",
       "      <td>0</td>\n",
       "      <td>0</td>\n",
       "      <td>0</td>\n",
       "      <td>-1.764711</td>\n",
       "      <td>2</td>\n",
       "      <td>3</td>\n",
       "      <td>1</td>\n",
       "      <td>...</td>\n",
       "      <td>2</td>\n",
       "      <td>0</td>\n",
       "      <td>1</td>\n",
       "      <td>0</td>\n",
       "      <td>0</td>\n",
       "      <td>1</td>\n",
       "      <td>0</td>\n",
       "      <td>0</td>\n",
       "      <td>0</td>\n",
       "      <td>0</td>\n",
       "    </tr>\n",
       "  </tbody>\n",
       "</table>\n",
       "<p>110148 rows × 23 columns</p>\n",
       "</div>"
      ],
      "text/plain": [
       "        sex  age  car  car_type  decline_app_cnt  good_work  score_bki  \\\n",
       "0         1   29    1         1                0          0  -2.271884   \n",
       "1         0   39    0         0                5          0  -1.504999   \n",
       "2         1   50    1         1                0          0  -1.691339   \n",
       "3         1   56    0         0                0          0  -2.374182   \n",
       "4         0   38    0         0                0          0  -2.487502   \n",
       "...     ...  ...  ...       ...              ...        ...        ...   \n",
       "110143    0   45    0         0                0          0  -1.792064   \n",
       "110144    1   41    1         1                0          0  -2.058029   \n",
       "110145    1   31    0         0                0          0  -1.512635   \n",
       "110146    0   29    0         0                0          1  -1.479334   \n",
       "110147    1   34    0         0                0          0  -1.764711   \n",
       "\n",
       "        bki_request_cnt  region_rating  home_address  ...  first_time  \\\n",
       "0                     3              3             0  ...           3   \n",
       "1                     2              3             0  ...           2   \n",
       "2                     1              3             0  ...           2   \n",
       "3                     1              2             0  ...           2   \n",
       "4                     0              6             1  ...           2   \n",
       "...                 ...            ...           ...  ...         ...   \n",
       "110143                3              3             0  ...           3   \n",
       "110144                1              3             1  ...           3   \n",
       "110145                4              6             1  ...           1   \n",
       "110146                3              3             0  ...           2   \n",
       "110147                2              3             1  ...           2   \n",
       "\n",
       "        foreign_passport  sample  default  education_ACD  education_GRD  \\\n",
       "0                      0       0        0              0              1   \n",
       "1                      0       0        0              0              0   \n",
       "2                      1       0        0              0              0   \n",
       "3                      0       0        0              0              0   \n",
       "4                      0       0        0              0              1   \n",
       "...                  ...     ...      ...            ...            ...   \n",
       "110143                 0       1        0              0              1   \n",
       "110144                 0       1        0              0              0   \n",
       "110145                 0       1        0              0              0   \n",
       "110146                 0       1        1              0              0   \n",
       "110147                 0       1        0              0              1   \n",
       "\n",
       "        education_PGR  education_SCH  education_UGR  education_nan  \n",
       "0                   0              0              0              0  \n",
       "1                   0              1              0              0  \n",
       "2                   0              0              1              0  \n",
       "3                   0              1              0              0  \n",
       "4                   0              0              0              0  \n",
       "...               ...            ...            ...            ...  \n",
       "110143              0              0              0              0  \n",
       "110144              0              1              0              0  \n",
       "110145              0              1              0              0  \n",
       "110146              0              1              0              0  \n",
       "110147              0              0              0              0  \n",
       "\n",
       "[110148 rows x 23 columns]"
      ]
     },
     "execution_count": 18,
     "metadata": {},
     "output_type": "execute_result"
    }
   ],
   "source": [
    "data"
   ]
  },
  {
   "cell_type": "code",
   "execution_count": 19,
   "id": "4c52748c",
   "metadata": {
    "execution": {
     "iopub.execute_input": "2022-01-26T21:03:18.214425Z",
     "iopub.status.busy": "2022-01-26T21:03:18.213817Z",
     "iopub.status.idle": "2022-01-26T21:03:18.252660Z",
     "shell.execute_reply": "2022-01-26T21:03:18.252173Z",
     "shell.execute_reply.started": "2021-12-04T22:02:09.734382Z"
    },
    "papermill": {
     "duration": 0.06593,
     "end_time": "2022-01-26T21:03:18.252789",
     "exception": false,
     "start_time": "2022-01-26T21:03:18.186859",
     "status": "completed"
    },
    "tags": []
   },
   "outputs": [],
   "source": [
    "# Теперь выделим тестовую часть\n",
    "train_data = data.query('sample == 1').drop(['sample'], axis=1)\n",
    "test_data = data.query('sample == 0').drop(['sample', 'default'], axis=1)\n",
    "\n",
    "y = train_data['default'].values  # наш таргет\n",
    "X = train_data.drop(['default'], axis=1)"
   ]
  },
  {
   "cell_type": "code",
   "execution_count": 20,
   "id": "e967cda9",
   "metadata": {
    "execution": {
     "iopub.execute_input": "2022-01-26T21:03:18.305601Z",
     "iopub.status.busy": "2022-01-26T21:03:18.305008Z",
     "iopub.status.idle": "2022-01-26T21:03:18.379173Z",
     "shell.execute_reply": "2022-01-26T21:03:18.378637Z",
     "shell.execute_reply.started": "2021-12-04T22:02:09.786815Z"
    },
    "papermill": {
     "duration": 0.102817,
     "end_time": "2022-01-26T21:03:18.379307",
     "exception": false,
     "start_time": "2022-01-26T21:03:18.276490",
     "status": "completed"
    },
    "tags": []
   },
   "outputs": [],
   "source": [
    "# Воспользуемся специальной функцие train_test_split для разбивки тестовых данных\n",
    "from sklearn.model_selection import train_test_split\n",
    "\n",
    "# выделим 20% данных на валидацию (параметр test_size)\n",
    "X_train, X_test, y_train, y_test = train_test_split(X, y, test_size=0.2, random_state=42)"
   ]
  },
  {
   "cell_type": "code",
   "execution_count": 21,
   "id": "6b425c9c",
   "metadata": {
    "execution": {
     "iopub.execute_input": "2022-01-26T21:03:18.432306Z",
     "iopub.status.busy": "2022-01-26T21:03:18.431573Z",
     "iopub.status.idle": "2022-01-26T21:03:18.434355Z",
     "shell.execute_reply": "2022-01-26T21:03:18.434815Z",
     "shell.execute_reply.started": "2021-12-04T22:02:09.830024Z"
    },
    "papermill": {
     "duration": 0.03189,
     "end_time": "2022-01-26T21:03:18.434951",
     "exception": false,
     "start_time": "2022-01-26T21:03:18.403061",
     "status": "completed"
    },
    "tags": []
   },
   "outputs": [
    {
     "data": {
      "text/plain": [
       "((59039, 21), (14760, 21), (59039,), (14760,))"
      ]
     },
     "execution_count": 21,
     "metadata": {},
     "output_type": "execute_result"
    }
   ],
   "source": [
    "# проверяем\n",
    "X_train.shape, X_test.shape, y_train.shape, y_test.shape"
   ]
  },
  {
   "cell_type": "code",
   "execution_count": 22,
   "id": "de5797a3",
   "metadata": {
    "execution": {
     "iopub.execute_input": "2022-01-26T21:03:18.486439Z",
     "iopub.status.busy": "2022-01-26T21:03:18.485710Z",
     "iopub.status.idle": "2022-01-26T21:03:18.677373Z",
     "shell.execute_reply": "2022-01-26T21:03:18.676829Z",
     "shell.execute_reply.started": "2021-12-04T22:02:09.837854Z"
    },
    "papermill": {
     "duration": 0.218934,
     "end_time": "2022-01-26T21:03:18.677492",
     "exception": false,
     "start_time": "2022-01-26T21:03:18.458558",
     "status": "completed"
    },
    "tags": []
   },
   "outputs": [],
   "source": [
    "# Импортируем необходимые библиотеки:\n",
    "from sklearn.linear_model import LogisticRegression # инструмент для создания и обучения модели\n",
    "from sklearn import metrics # инструменты для оценки точности модели"
   ]
  },
  {
   "cell_type": "code",
   "execution_count": 23,
   "id": "c1593c2c",
   "metadata": {
    "execution": {
     "iopub.execute_input": "2022-01-26T21:03:18.732343Z",
     "iopub.status.busy": "2022-01-26T21:03:18.731841Z",
     "iopub.status.idle": "2022-01-26T21:03:19.183857Z",
     "shell.execute_reply": "2022-01-26T21:03:19.183336Z",
     "shell.execute_reply.started": "2021-12-04T22:02:09.875133Z"
    },
    "papermill": {
     "duration": 0.482853,
     "end_time": "2022-01-26T21:03:19.183998",
     "exception": false,
     "start_time": "2022-01-26T21:03:18.701145",
     "status": "completed"
    },
    "tags": []
   },
   "outputs": [],
   "source": [
    "logreg = LogisticRegression(solver='liblinear', max_iter=1000)\n",
    "logreg.fit(X_train, y_train)\n",
    "y_pred = logreg.predict(X_test)"
   ]
  },
  {
   "cell_type": "code",
   "execution_count": 24,
   "id": "05cbb1e3",
   "metadata": {
    "execution": {
     "iopub.execute_input": "2022-01-26T21:03:19.269189Z",
     "iopub.status.busy": "2022-01-26T21:03:19.268383Z",
     "iopub.status.idle": "2022-01-26T21:03:19.286362Z",
     "shell.execute_reply": "2022-01-26T21:03:19.287366Z",
     "shell.execute_reply.started": "2021-12-04T22:03:10.059517Z"
    },
    "papermill": {
     "duration": 0.069477,
     "end_time": "2022-01-26T21:03:19.287577",
     "exception": false,
     "start_time": "2022-01-26T21:03:19.218100",
     "status": "completed"
    },
    "tags": []
   },
   "outputs": [
    {
     "name": "stdout",
     "output_type": "stream",
     "text": [
      "              precision    recall  f1-score   support\n",
      "\n",
      "           0       0.88      1.00      0.93     12933\n",
      "           1       0.50      0.00      0.00      1827\n",
      "\n",
      "    accuracy                           0.88     14760\n",
      "   macro avg       0.69      0.50      0.47     14760\n",
      "weighted avg       0.83      0.88      0.82     14760\n",
      "\n"
     ]
    }
   ],
   "source": [
    "from sklearn.metrics import classification_report\n",
    "classification_report = classification_report(y_test, y_pred)\n",
    "print(classification_report)"
   ]
  },
  {
   "cell_type": "code",
   "execution_count": 25,
   "id": "3f1ccd9d",
   "metadata": {
    "execution": {
     "iopub.execute_input": "2022-01-26T21:03:19.365788Z",
     "iopub.status.busy": "2022-01-26T21:03:19.364904Z",
     "iopub.status.idle": "2022-01-26T21:03:19.845396Z",
     "shell.execute_reply": "2022-01-26T21:03:19.846017Z",
     "shell.execute_reply.started": "2021-12-04T22:02:10.383752Z"
    },
    "papermill": {
     "duration": 0.520491,
     "end_time": "2022-01-26T21:03:19.846183",
     "exception": false,
     "start_time": "2022-01-26T21:03:19.325692",
     "status": "completed"
    },
    "tags": []
   },
   "outputs": [
    {
     "data": {
      "text/plain": [
       "LogisticRegression(max_iter=1000, solver='liblinear')"
      ]
     },
     "execution_count": 25,
     "metadata": {},
     "output_type": "execute_result"
    }
   ],
   "source": [
    "# если качество нас устраивает, обучаем финальную модель на всех обучающи данных\n",
    "logreg_final = LogisticRegression(solver='liblinear', max_iter=1000)\n",
    "logreg_final.fit(X, y)"
   ]
  },
  {
   "cell_type": "code",
   "execution_count": 26,
   "id": "9eb2f3e8",
   "metadata": {
    "execution": {
     "iopub.execute_input": "2022-01-26T21:03:19.936919Z",
     "iopub.status.busy": "2022-01-26T21:03:19.932866Z",
     "iopub.status.idle": "2022-01-26T21:03:19.937692Z",
     "shell.execute_reply": "2022-01-26T21:03:19.938235Z",
     "shell.execute_reply.started": "2021-12-04T22:02:10.963813Z"
    },
    "papermill": {
     "duration": 0.053072,
     "end_time": "2022-01-26T21:03:19.938423",
     "exception": false,
     "start_time": "2022-01-26T21:03:19.885351",
     "status": "completed"
    },
    "tags": []
   },
   "outputs": [],
   "source": [
    "predict_submission = logreg_final.predict(test_data)"
   ]
  },
  {
   "cell_type": "code",
   "execution_count": 27,
   "id": "c8eab75f",
   "metadata": {
    "execution": {
     "iopub.execute_input": "2022-01-26T21:03:20.017323Z",
     "iopub.status.busy": "2022-01-26T21:03:20.014074Z",
     "iopub.status.idle": "2022-01-26T21:03:20.080006Z",
     "shell.execute_reply": "2022-01-26T21:03:20.079269Z",
     "shell.execute_reply.started": "2021-12-04T22:02:10.977992Z"
    },
    "papermill": {
     "duration": 0.106423,
     "end_time": "2022-01-26T21:03:20.080133",
     "exception": false,
     "start_time": "2022-01-26T21:03:19.973710",
     "status": "completed"
    },
    "tags": []
   },
   "outputs": [
    {
     "data": {
      "text/html": [
       "<div>\n",
       "<style scoped>\n",
       "    .dataframe tbody tr th:only-of-type {\n",
       "        vertical-align: middle;\n",
       "    }\n",
       "\n",
       "    .dataframe tbody tr th {\n",
       "        vertical-align: top;\n",
       "    }\n",
       "\n",
       "    .dataframe thead th {\n",
       "        text-align: right;\n",
       "    }\n",
       "</style>\n",
       "<table border=\"1\" class=\"dataframe\">\n",
       "  <thead>\n",
       "    <tr style=\"text-align: right;\">\n",
       "      <th></th>\n",
       "      <th>client_id</th>\n",
       "      <th>default</th>\n",
       "    </tr>\n",
       "  </thead>\n",
       "  <tbody>\n",
       "    <tr>\n",
       "      <th>0</th>\n",
       "      <td>74835</td>\n",
       "      <td>0</td>\n",
       "    </tr>\n",
       "    <tr>\n",
       "      <th>1</th>\n",
       "      <td>17527</td>\n",
       "      <td>0</td>\n",
       "    </tr>\n",
       "    <tr>\n",
       "      <th>2</th>\n",
       "      <td>75683</td>\n",
       "      <td>0</td>\n",
       "    </tr>\n",
       "    <tr>\n",
       "      <th>3</th>\n",
       "      <td>26883</td>\n",
       "      <td>0</td>\n",
       "    </tr>\n",
       "    <tr>\n",
       "      <th>4</th>\n",
       "      <td>28862</td>\n",
       "      <td>0</td>\n",
       "    </tr>\n",
       "    <tr>\n",
       "      <th>5</th>\n",
       "      <td>99881</td>\n",
       "      <td>0</td>\n",
       "    </tr>\n",
       "    <tr>\n",
       "      <th>6</th>\n",
       "      <td>26630</td>\n",
       "      <td>0</td>\n",
       "    </tr>\n",
       "    <tr>\n",
       "      <th>7</th>\n",
       "      <td>79934</td>\n",
       "      <td>0</td>\n",
       "    </tr>\n",
       "    <tr>\n",
       "      <th>8</th>\n",
       "      <td>16605</td>\n",
       "      <td>0</td>\n",
       "    </tr>\n",
       "    <tr>\n",
       "      <th>9</th>\n",
       "      <td>105449</td>\n",
       "      <td>0</td>\n",
       "    </tr>\n",
       "  </tbody>\n",
       "</table>\n",
       "</div>"
      ],
      "text/plain": [
       "   client_id  default\n",
       "0      74835        0\n",
       "1      17527        0\n",
       "2      75683        0\n",
       "3      26883        0\n",
       "4      28862        0\n",
       "5      99881        0\n",
       "6      26630        0\n",
       "7      79934        0\n",
       "8      16605        0\n",
       "9     105449        0"
      ]
     },
     "execution_count": 27,
     "metadata": {},
     "output_type": "execute_result"
    }
   ],
   "source": [
    "sample_submission['default'] = predict_submission\n",
    "sample_submission.to_csv('submission.csv', index=False)\n",
    "sample_submission.head(10)"
   ]
  },
  {
   "cell_type": "code",
   "execution_count": 28,
   "id": "771fa769",
   "metadata": {
    "execution": {
     "iopub.execute_input": "2022-01-26T21:03:20.138108Z",
     "iopub.status.busy": "2022-01-26T21:03:20.137295Z",
     "iopub.status.idle": "2022-01-26T21:03:20.156752Z",
     "shell.execute_reply": "2022-01-26T21:03:20.157190Z",
     "shell.execute_reply.started": "2021-12-04T22:02:11.116379Z"
    },
    "papermill": {
     "duration": 0.050333,
     "end_time": "2022-01-26T21:03:20.157380",
     "exception": false,
     "start_time": "2022-01-26T21:03:20.107047",
     "status": "completed"
    },
    "tags": []
   },
   "outputs": [
    {
     "data": {
      "text/html": [
       "<div>\n",
       "<style scoped>\n",
       "    .dataframe tbody tr th:only-of-type {\n",
       "        vertical-align: middle;\n",
       "    }\n",
       "\n",
       "    .dataframe tbody tr th {\n",
       "        vertical-align: top;\n",
       "    }\n",
       "\n",
       "    .dataframe thead th {\n",
       "        text-align: right;\n",
       "    }\n",
       "</style>\n",
       "<table border=\"1\" class=\"dataframe\">\n",
       "  <thead>\n",
       "    <tr style=\"text-align: right;\">\n",
       "      <th></th>\n",
       "      <th>client_id</th>\n",
       "      <th>default</th>\n",
       "    </tr>\n",
       "  </thead>\n",
       "  <tbody>\n",
       "    <tr>\n",
       "      <th>count</th>\n",
       "      <td>36349.000000</td>\n",
       "      <td>36349.00000</td>\n",
       "    </tr>\n",
       "    <tr>\n",
       "      <th>mean</th>\n",
       "      <td>54945.647473</td>\n",
       "      <td>0.00011</td>\n",
       "    </tr>\n",
       "    <tr>\n",
       "      <th>std</th>\n",
       "      <td>31706.052195</td>\n",
       "      <td>0.01049</td>\n",
       "    </tr>\n",
       "    <tr>\n",
       "      <th>min</th>\n",
       "      <td>4.000000</td>\n",
       "      <td>0.00000</td>\n",
       "    </tr>\n",
       "    <tr>\n",
       "      <th>25%</th>\n",
       "      <td>27744.000000</td>\n",
       "      <td>0.00000</td>\n",
       "    </tr>\n",
       "    <tr>\n",
       "      <th>50%</th>\n",
       "      <td>54657.000000</td>\n",
       "      <td>0.00000</td>\n",
       "    </tr>\n",
       "    <tr>\n",
       "      <th>75%</th>\n",
       "      <td>82322.000000</td>\n",
       "      <td>0.00000</td>\n",
       "    </tr>\n",
       "    <tr>\n",
       "      <th>max</th>\n",
       "      <td>110148.000000</td>\n",
       "      <td>1.00000</td>\n",
       "    </tr>\n",
       "  </tbody>\n",
       "</table>\n",
       "</div>"
      ],
      "text/plain": [
       "           client_id      default\n",
       "count   36349.000000  36349.00000\n",
       "mean    54945.647473      0.00011\n",
       "std     31706.052195      0.01049\n",
       "min         4.000000      0.00000\n",
       "25%     27744.000000      0.00000\n",
       "50%     54657.000000      0.00000\n",
       "75%     82322.000000      0.00000\n",
       "max    110148.000000      1.00000"
      ]
     },
     "execution_count": 28,
     "metadata": {},
     "output_type": "execute_result"
    }
   ],
   "source": [
    "sample_submission.describe()"
   ]
  },
  {
   "cell_type": "code",
   "execution_count": 29,
   "id": "64bb290a",
   "metadata": {
    "execution": {
     "iopub.execute_input": "2022-01-26T21:03:20.215497Z",
     "iopub.status.busy": "2022-01-26T21:03:20.214923Z",
     "iopub.status.idle": "2022-01-26T21:03:20.849307Z",
     "shell.execute_reply": "2022-01-26T21:03:20.848839Z",
     "shell.execute_reply.started": "2021-12-04T22:02:11.138984Z"
    },
    "papermill": {
     "duration": 0.66384,
     "end_time": "2022-01-26T21:03:20.849429",
     "exception": false,
     "start_time": "2022-01-26T21:03:20.185589",
     "status": "completed"
    },
    "tags": []
   },
   "outputs": [
    {
     "name": "stdout",
     "output_type": "stream",
     "text": [
      "Traceback (most recent call last):\r\n",
      "  File \"/opt/conda/bin/kaggle\", line 5, in <module>\r\n",
      "    from kaggle.cli import main\r\n",
      "  File \"/opt/conda/lib/python3.7/site-packages/kaggle/__init__.py\", line 23, in <module>\r\n",
      "    api.authenticate()\r\n",
      "  File \"/opt/conda/lib/python3.7/site-packages/kaggle/api/kaggle_api_extended.py\", line 166, in authenticate\r\n",
      "    self.config_file, self.config_dir))\r\n",
      "OSError: Could not find kaggle.json. Make sure it's located in /root/.kaggle. Or use the environment method.\r\n"
     ]
    }
   ],
   "source": [
    "!kaggle competitions submit -c sf-scoring -f ssubmission.csv -m \"Message\"\n",
    "# !kaggle competitions submit your-competition-name -f submission.csv -m 'My submission message'"
   ]
  }
 ],
 "metadata": {
  "kernelspec": {
   "display_name": "Python 3",
   "language": "python",
   "name": "python3"
  },
  "language_info": {
   "codemirror_mode": {
    "name": "ipython",
    "version": 3
   },
   "file_extension": ".py",
   "mimetype": "text/x-python",
   "name": "python",
   "nbconvert_exporter": "python",
   "pygments_lexer": "ipython3",
   "version": "3.7.10"
  },
  "papermill": {
   "default_parameters": {},
   "duration": 15.26062,
   "end_time": "2022-01-26T21:03:21.587424",
   "environment_variables": {},
   "exception": null,
   "input_path": "__notebook__.ipynb",
   "output_path": "__notebook__.ipynb",
   "parameters": {},
   "start_time": "2022-01-26T21:03:06.326804",
   "version": "2.3.3"
  }
 },
 "nbformat": 4,
 "nbformat_minor": 5
}
