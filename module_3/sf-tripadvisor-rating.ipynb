{
 "cells": [
  {
   "cell_type": "markdown",
   "metadata": {},
   "source": [
    "![](https://www.pata.org/wp-content/uploads/2014/09/TripAdvisor_Logo-300x119.png)\n",
    "# Predict TripAdvisor Rating\n",
    "## В этом соревновании нам предстоит предсказать рейтинг ресторана в TripAdvisor\n",
    "**По ходу задачи:**\n",
    "* Прокачаем работу с pandas\n",
    "* Научимся работать с Kaggle Notebooks\n",
    "* Поймем как делать предобработку различных данных\n",
    "* Научимся работать с пропущенными данными (Nan)\n",
    "* Познакомимся с различными видами кодирования признаков\n",
    "* Немного попробуем [Feature Engineering](https://ru.wikipedia.org/wiki/Конструирование_признаков) (генерировать новые признаки)\n",
    "* И совсем немного затронем ML\n",
    "* И многое другое...   \n"
   ]
  },
  {
   "cell_type": "markdown",
   "metadata": {},
   "source": [
    "# import"
   ]
  },
  {
   "cell_type": "code",
   "execution_count": 213,
   "metadata": {
    "_cell_guid": "b1076dfc-b9ad-4769-8c92-a6c4dae69d19",
    "_uuid": "8f2839f25d086af736a60e9eeb907d3b93b6e0e5",
    "execution": {
     "iopub.execute_input": "2021-11-21T22:56:18.388923Z",
     "iopub.status.busy": "2021-11-21T22:56:18.388541Z",
     "iopub.status.idle": "2021-11-21T22:56:18.407400Z",
     "shell.execute_reply": "2021-11-21T22:56:18.406724Z",
     "shell.execute_reply.started": "2021-11-21T22:56:18.388830Z"
    }
   },
   "outputs": [],
   "source": [
    "# This Python 3 environment comes with many helpful analytics libraries installed\n",
    "# It is defined by the kaggle/python docker image: https://github.com/kaggle/docker-python\n",
    "# For example, here's several helpful packages to load in \n",
    "\n",
    "import numpy as np # linear algebra\n",
    "import pandas as pd # data processing, CSV file I/O (e.g. pd.read_csv)\n",
    "\n",
    "import matplotlib.pyplot as plt\n",
    "import seaborn as sns \n",
    "%matplotlib inline\n",
    "\n",
    "# Загружаем специальный удобный инструмент для разделения датасета:\n",
    "from sklearn.model_selection import train_test_split\n"
   ]
  },
  {
   "cell_type": "code",
   "execution_count": 214,
   "metadata": {
    "execution": {
     "iopub.execute_input": "2021-11-21T22:56:18.409511Z",
     "iopub.status.busy": "2021-11-21T22:56:18.409183Z",
     "iopub.status.idle": "2021-11-21T22:56:18.424525Z",
     "shell.execute_reply": "2021-11-21T22:56:18.423803Z",
     "shell.execute_reply.started": "2021-11-21T22:56:18.409371Z"
    }
   },
   "outputs": [],
   "source": [
    "# всегда фиксируйте RANDOM_SEED, чтобы ваши эксперименты были воспроизводимы!\n",
    "RANDOM_SEED = 42"
   ]
  },
  {
   "cell_type": "code",
   "execution_count": 215,
   "metadata": {
    "execution": {
     "iopub.execute_input": "2021-11-21T22:56:18.426456Z",
     "iopub.status.busy": "2021-11-21T22:56:18.425920Z",
     "iopub.status.idle": "2021-11-21T22:56:20.870277Z",
     "shell.execute_reply": "2021-11-21T22:56:20.869287Z",
     "shell.execute_reply.started": "2021-11-21T22:56:18.426401Z"
    }
   },
   "outputs": [],
   "source": [
    "# зафиксируем версию пакетов, чтобы эксперименты были воспроизводимы:\n",
    "!pip freeze > requirements.txt"
   ]
  },
  {
   "cell_type": "markdown",
   "metadata": {},
   "source": [
    "# DATA"
   ]
  },
  {
   "cell_type": "code",
   "execution_count": 216,
   "metadata": {
    "_cell_guid": "79c7e3d0-c299-4dcb-8224-4455121ee9b0",
    "_uuid": "d629ff2d2480ee46fbb7e2d37f6b5fab8052498a",
    "execution": {
     "iopub.execute_input": "2021-11-21T22:56:20.872069Z",
     "iopub.status.busy": "2021-11-21T22:56:20.871735Z",
     "iopub.status.idle": "2021-11-21T22:56:21.099664Z",
     "shell.execute_reply": "2021-11-21T22:56:21.098824Z",
     "shell.execute_reply.started": "2021-11-21T22:56:20.872012Z"
    }
   },
   "outputs": [],
   "source": [
    "df_train = pd.read_csv('main_task.csv')\n",
    "df_test = pd.read_csv('kaggle_task.csv')\n",
    "sample_submission = pd.read_csv('sample_submission.csv')"
   ]
  },
  {
   "cell_type": "code",
   "execution_count": 217,
   "metadata": {
    "execution": {
     "iopub.execute_input": "2021-11-21T22:56:21.103071Z",
     "iopub.status.busy": "2021-11-21T22:56:21.102741Z",
     "iopub.status.idle": "2021-11-21T22:56:21.140004Z",
     "shell.execute_reply": "2021-11-21T22:56:21.138994Z",
     "shell.execute_reply.started": "2021-11-21T22:56:21.103022Z"
    }
   },
   "outputs": [
    {
     "name": "stdout",
     "output_type": "stream",
     "text": [
      "<class 'pandas.core.frame.DataFrame'>\n",
      "RangeIndex: 40000 entries, 0 to 39999\n",
      "Data columns (total 10 columns):\n",
      " #   Column             Non-Null Count  Dtype  \n",
      "---  ------             --------------  -----  \n",
      " 0   Restaurant_id      40000 non-null  object \n",
      " 1   City               40000 non-null  object \n",
      " 2   Cuisine Style      30717 non-null  object \n",
      " 3   Ranking            40000 non-null  float64\n",
      " 4   Rating             40000 non-null  float64\n",
      " 5   Price Range        26114 non-null  object \n",
      " 6   Number of Reviews  37457 non-null  float64\n",
      " 7   Reviews            40000 non-null  object \n",
      " 8   URL_TA             40000 non-null  object \n",
      " 9   ID_TA              40000 non-null  object \n",
      "dtypes: float64(3), object(7)\n",
      "memory usage: 3.1+ MB\n"
     ]
    }
   ],
   "source": [
    "df_train.info()"
   ]
  },
  {
   "cell_type": "code",
   "execution_count": 218,
   "metadata": {
    "execution": {
     "iopub.execute_input": "2021-11-21T22:56:21.143692Z",
     "iopub.status.busy": "2021-11-21T22:56:21.143416Z",
     "iopub.status.idle": "2021-11-21T22:56:21.162004Z",
     "shell.execute_reply": "2021-11-21T22:56:21.160685Z",
     "shell.execute_reply.started": "2021-11-21T22:56:21.143642Z"
    }
   },
   "outputs": [
    {
     "data": {
      "text/html": [
       "<div>\n",
       "<style scoped>\n",
       "    .dataframe tbody tr th:only-of-type {\n",
       "        vertical-align: middle;\n",
       "    }\n",
       "\n",
       "    .dataframe tbody tr th {\n",
       "        vertical-align: top;\n",
       "    }\n",
       "\n",
       "    .dataframe thead th {\n",
       "        text-align: right;\n",
       "    }\n",
       "</style>\n",
       "<table border=\"1\" class=\"dataframe\">\n",
       "  <thead>\n",
       "    <tr style=\"text-align: right;\">\n",
       "      <th></th>\n",
       "      <th>Restaurant_id</th>\n",
       "      <th>City</th>\n",
       "      <th>Cuisine Style</th>\n",
       "      <th>Ranking</th>\n",
       "      <th>Rating</th>\n",
       "      <th>Price Range</th>\n",
       "      <th>Number of Reviews</th>\n",
       "      <th>Reviews</th>\n",
       "      <th>URL_TA</th>\n",
       "      <th>ID_TA</th>\n",
       "    </tr>\n",
       "  </thead>\n",
       "  <tbody>\n",
       "    <tr>\n",
       "      <th>0</th>\n",
       "      <td>id_5569</td>\n",
       "      <td>Paris</td>\n",
       "      <td>['European', 'French', 'International']</td>\n",
       "      <td>5570.0</td>\n",
       "      <td>3.5</td>\n",
       "      <td>$$ - $$$</td>\n",
       "      <td>194.0</td>\n",
       "      <td>[['Good food at your doorstep', 'A good hotel ...</td>\n",
       "      <td>/Restaurant_Review-g187147-d1912643-Reviews-R_...</td>\n",
       "      <td>d1912643</td>\n",
       "    </tr>\n",
       "    <tr>\n",
       "      <th>1</th>\n",
       "      <td>id_1535</td>\n",
       "      <td>Stockholm</td>\n",
       "      <td>NaN</td>\n",
       "      <td>1537.0</td>\n",
       "      <td>4.0</td>\n",
       "      <td>NaN</td>\n",
       "      <td>10.0</td>\n",
       "      <td>[['Unique cuisine', 'Delicious Nepalese food']...</td>\n",
       "      <td>/Restaurant_Review-g189852-d7992032-Reviews-Bu...</td>\n",
       "      <td>d7992032</td>\n",
       "    </tr>\n",
       "    <tr>\n",
       "      <th>2</th>\n",
       "      <td>id_352</td>\n",
       "      <td>London</td>\n",
       "      <td>['Japanese', 'Sushi', 'Asian', 'Grill', 'Veget...</td>\n",
       "      <td>353.0</td>\n",
       "      <td>4.5</td>\n",
       "      <td>$$$$</td>\n",
       "      <td>688.0</td>\n",
       "      <td>[['Catch up with friends', 'Not exceptional'],...</td>\n",
       "      <td>/Restaurant_Review-g186338-d8632781-Reviews-RO...</td>\n",
       "      <td>d8632781</td>\n",
       "    </tr>\n",
       "    <tr>\n",
       "      <th>3</th>\n",
       "      <td>id_3456</td>\n",
       "      <td>Berlin</td>\n",
       "      <td>NaN</td>\n",
       "      <td>3458.0</td>\n",
       "      <td>5.0</td>\n",
       "      <td>NaN</td>\n",
       "      <td>3.0</td>\n",
       "      <td>[[], []]</td>\n",
       "      <td>/Restaurant_Review-g187323-d1358776-Reviews-Es...</td>\n",
       "      <td>d1358776</td>\n",
       "    </tr>\n",
       "    <tr>\n",
       "      <th>4</th>\n",
       "      <td>id_615</td>\n",
       "      <td>Munich</td>\n",
       "      <td>['German', 'Central European', 'Vegetarian Fri...</td>\n",
       "      <td>621.0</td>\n",
       "      <td>4.0</td>\n",
       "      <td>$$ - $$$</td>\n",
       "      <td>84.0</td>\n",
       "      <td>[['Best place to try a Bavarian food', 'Nice b...</td>\n",
       "      <td>/Restaurant_Review-g187309-d6864963-Reviews-Au...</td>\n",
       "      <td>d6864963</td>\n",
       "    </tr>\n",
       "  </tbody>\n",
       "</table>\n",
       "</div>"
      ],
      "text/plain": [
       "  Restaurant_id       City                                      Cuisine Style  \\\n",
       "0       id_5569      Paris            ['European', 'French', 'International']   \n",
       "1       id_1535  Stockholm                                                NaN   \n",
       "2        id_352     London  ['Japanese', 'Sushi', 'Asian', 'Grill', 'Veget...   \n",
       "3       id_3456     Berlin                                                NaN   \n",
       "4        id_615     Munich  ['German', 'Central European', 'Vegetarian Fri...   \n",
       "\n",
       "   Ranking  Rating Price Range  Number of Reviews  \\\n",
       "0   5570.0     3.5    $$ - $$$              194.0   \n",
       "1   1537.0     4.0         NaN               10.0   \n",
       "2    353.0     4.5        $$$$              688.0   \n",
       "3   3458.0     5.0         NaN                3.0   \n",
       "4    621.0     4.0    $$ - $$$               84.0   \n",
       "\n",
       "                                             Reviews  \\\n",
       "0  [['Good food at your doorstep', 'A good hotel ...   \n",
       "1  [['Unique cuisine', 'Delicious Nepalese food']...   \n",
       "2  [['Catch up with friends', 'Not exceptional'],...   \n",
       "3                                           [[], []]   \n",
       "4  [['Best place to try a Bavarian food', 'Nice b...   \n",
       "\n",
       "                                              URL_TA     ID_TA  \n",
       "0  /Restaurant_Review-g187147-d1912643-Reviews-R_...  d1912643  \n",
       "1  /Restaurant_Review-g189852-d7992032-Reviews-Bu...  d7992032  \n",
       "2  /Restaurant_Review-g186338-d8632781-Reviews-RO...  d8632781  \n",
       "3  /Restaurant_Review-g187323-d1358776-Reviews-Es...  d1358776  \n",
       "4  /Restaurant_Review-g187309-d6864963-Reviews-Au...  d6864963  "
      ]
     },
     "execution_count": 218,
     "metadata": {},
     "output_type": "execute_result"
    }
   ],
   "source": [
    "df_train.head(5)"
   ]
  },
  {
   "cell_type": "code",
   "execution_count": 219,
   "metadata": {
    "execution": {
     "iopub.execute_input": "2021-11-21T22:56:21.164160Z",
     "iopub.status.busy": "2021-11-21T22:56:21.163751Z",
     "iopub.status.idle": "2021-11-21T22:56:21.183666Z",
     "shell.execute_reply": "2021-11-21T22:56:21.182968Z",
     "shell.execute_reply.started": "2021-11-21T22:56:21.164088Z"
    }
   },
   "outputs": [
    {
     "name": "stdout",
     "output_type": "stream",
     "text": [
      "<class 'pandas.core.frame.DataFrame'>\n",
      "RangeIndex: 10000 entries, 0 to 9999\n",
      "Data columns (total 9 columns):\n",
      " #   Column             Non-Null Count  Dtype  \n",
      "---  ------             --------------  -----  \n",
      " 0   Restaurant_id      10000 non-null  object \n",
      " 1   City               10000 non-null  object \n",
      " 2   Cuisine Style      7693 non-null   object \n",
      " 3   Ranking            10000 non-null  float64\n",
      " 4   Price Range        6525 non-null   object \n",
      " 5   Number of Reviews  9343 non-null   float64\n",
      " 6   Reviews            9998 non-null   object \n",
      " 7   URL_TA             10000 non-null  object \n",
      " 8   ID_TA              10000 non-null  object \n",
      "dtypes: float64(2), object(7)\n",
      "memory usage: 703.2+ KB\n"
     ]
    }
   ],
   "source": [
    "df_test.info()"
   ]
  },
  {
   "cell_type": "code",
   "execution_count": 220,
   "metadata": {
    "execution": {
     "iopub.execute_input": "2021-11-21T22:56:21.185189Z",
     "iopub.status.busy": "2021-11-21T22:56:21.184719Z",
     "iopub.status.idle": "2021-11-21T22:56:21.202961Z",
     "shell.execute_reply": "2021-11-21T22:56:21.202312Z",
     "shell.execute_reply.started": "2021-11-21T22:56:21.185145Z"
    }
   },
   "outputs": [
    {
     "data": {
      "text/html": [
       "<div>\n",
       "<style scoped>\n",
       "    .dataframe tbody tr th:only-of-type {\n",
       "        vertical-align: middle;\n",
       "    }\n",
       "\n",
       "    .dataframe tbody tr th {\n",
       "        vertical-align: top;\n",
       "    }\n",
       "\n",
       "    .dataframe thead th {\n",
       "        text-align: right;\n",
       "    }\n",
       "</style>\n",
       "<table border=\"1\" class=\"dataframe\">\n",
       "  <thead>\n",
       "    <tr style=\"text-align: right;\">\n",
       "      <th></th>\n",
       "      <th>Restaurant_id</th>\n",
       "      <th>City</th>\n",
       "      <th>Cuisine Style</th>\n",
       "      <th>Ranking</th>\n",
       "      <th>Price Range</th>\n",
       "      <th>Number of Reviews</th>\n",
       "      <th>Reviews</th>\n",
       "      <th>URL_TA</th>\n",
       "      <th>ID_TA</th>\n",
       "    </tr>\n",
       "  </thead>\n",
       "  <tbody>\n",
       "    <tr>\n",
       "      <th>0</th>\n",
       "      <td>id_0</td>\n",
       "      <td>Paris</td>\n",
       "      <td>['Bar', 'Pub']</td>\n",
       "      <td>12963.0</td>\n",
       "      <td>$$ - $$$</td>\n",
       "      <td>4.0</td>\n",
       "      <td>[[], []]</td>\n",
       "      <td>/Restaurant_Review-g187147-d10746918-Reviews-L...</td>\n",
       "      <td>d10746918</td>\n",
       "    </tr>\n",
       "    <tr>\n",
       "      <th>1</th>\n",
       "      <td>id_1</td>\n",
       "      <td>Helsinki</td>\n",
       "      <td>['European', 'Scandinavian', 'Gluten Free Opti...</td>\n",
       "      <td>106.0</td>\n",
       "      <td>$$ - $$$</td>\n",
       "      <td>97.0</td>\n",
       "      <td>[['Very good reviews!', 'Fine dining in Hakani...</td>\n",
       "      <td>/Restaurant_Review-g189934-d6674944-Reviews-Ra...</td>\n",
       "      <td>d6674944</td>\n",
       "    </tr>\n",
       "    <tr>\n",
       "      <th>2</th>\n",
       "      <td>id_2</td>\n",
       "      <td>Edinburgh</td>\n",
       "      <td>['Vegetarian Friendly']</td>\n",
       "      <td>810.0</td>\n",
       "      <td>$$ - $$$</td>\n",
       "      <td>28.0</td>\n",
       "      <td>[['Better than the Links', 'Ivy Black'], ['12/...</td>\n",
       "      <td>/Restaurant_Review-g186525-d13129638-Reviews-B...</td>\n",
       "      <td>d13129638</td>\n",
       "    </tr>\n",
       "    <tr>\n",
       "      <th>3</th>\n",
       "      <td>id_3</td>\n",
       "      <td>London</td>\n",
       "      <td>['Italian', 'Mediterranean', 'European', 'Vege...</td>\n",
       "      <td>1669.0</td>\n",
       "      <td>$$$$</td>\n",
       "      <td>202.0</td>\n",
       "      <td>[['Most exquisite', 'Delicious and authentic']...</td>\n",
       "      <td>/Restaurant_Review-g186338-d680417-Reviews-Qui...</td>\n",
       "      <td>d680417</td>\n",
       "    </tr>\n",
       "    <tr>\n",
       "      <th>4</th>\n",
       "      <td>id_4</td>\n",
       "      <td>Bratislava</td>\n",
       "      <td>['Italian', 'Mediterranean', 'European', 'Seaf...</td>\n",
       "      <td>37.0</td>\n",
       "      <td>$$$$</td>\n",
       "      <td>162.0</td>\n",
       "      <td>[['Always the best in bratislava', 'Very good ...</td>\n",
       "      <td>/Restaurant_Review-g274924-d1112354-Reviews-Ma...</td>\n",
       "      <td>d1112354</td>\n",
       "    </tr>\n",
       "  </tbody>\n",
       "</table>\n",
       "</div>"
      ],
      "text/plain": [
       "  Restaurant_id        City  \\\n",
       "0          id_0       Paris   \n",
       "1          id_1    Helsinki   \n",
       "2          id_2   Edinburgh   \n",
       "3          id_3      London   \n",
       "4          id_4  Bratislava   \n",
       "\n",
       "                                       Cuisine Style  Ranking Price Range  \\\n",
       "0                                     ['Bar', 'Pub']  12963.0    $$ - $$$   \n",
       "1  ['European', 'Scandinavian', 'Gluten Free Opti...    106.0    $$ - $$$   \n",
       "2                            ['Vegetarian Friendly']    810.0    $$ - $$$   \n",
       "3  ['Italian', 'Mediterranean', 'European', 'Vege...   1669.0        $$$$   \n",
       "4  ['Italian', 'Mediterranean', 'European', 'Seaf...     37.0        $$$$   \n",
       "\n",
       "   Number of Reviews                                            Reviews  \\\n",
       "0                4.0                                           [[], []]   \n",
       "1               97.0  [['Very good reviews!', 'Fine dining in Hakani...   \n",
       "2               28.0  [['Better than the Links', 'Ivy Black'], ['12/...   \n",
       "3              202.0  [['Most exquisite', 'Delicious and authentic']...   \n",
       "4              162.0  [['Always the best in bratislava', 'Very good ...   \n",
       "\n",
       "                                              URL_TA      ID_TA  \n",
       "0  /Restaurant_Review-g187147-d10746918-Reviews-L...  d10746918  \n",
       "1  /Restaurant_Review-g189934-d6674944-Reviews-Ra...   d6674944  \n",
       "2  /Restaurant_Review-g186525-d13129638-Reviews-B...  d13129638  \n",
       "3  /Restaurant_Review-g186338-d680417-Reviews-Qui...    d680417  \n",
       "4  /Restaurant_Review-g274924-d1112354-Reviews-Ma...   d1112354  "
      ]
     },
     "execution_count": 220,
     "metadata": {},
     "output_type": "execute_result"
    }
   ],
   "source": [
    "df_test.head(5)"
   ]
  },
  {
   "cell_type": "code",
   "execution_count": 221,
   "metadata": {
    "execution": {
     "iopub.execute_input": "2021-11-21T22:56:21.204252Z",
     "iopub.status.busy": "2021-11-21T22:56:21.203908Z",
     "iopub.status.idle": "2021-11-21T22:56:21.212329Z",
     "shell.execute_reply": "2021-11-21T22:56:21.211714Z",
     "shell.execute_reply.started": "2021-11-21T22:56:21.204216Z"
    }
   },
   "outputs": [
    {
     "data": {
      "text/html": [
       "<div>\n",
       "<style scoped>\n",
       "    .dataframe tbody tr th:only-of-type {\n",
       "        vertical-align: middle;\n",
       "    }\n",
       "\n",
       "    .dataframe tbody tr th {\n",
       "        vertical-align: top;\n",
       "    }\n",
       "\n",
       "    .dataframe thead th {\n",
       "        text-align: right;\n",
       "    }\n",
       "</style>\n",
       "<table border=\"1\" class=\"dataframe\">\n",
       "  <thead>\n",
       "    <tr style=\"text-align: right;\">\n",
       "      <th></th>\n",
       "      <th>Restaurant_id</th>\n",
       "      <th>Rating</th>\n",
       "    </tr>\n",
       "  </thead>\n",
       "  <tbody>\n",
       "    <tr>\n",
       "      <th>0</th>\n",
       "      <td>id_0</td>\n",
       "      <td>2.0</td>\n",
       "    </tr>\n",
       "    <tr>\n",
       "      <th>1</th>\n",
       "      <td>id_1</td>\n",
       "      <td>2.5</td>\n",
       "    </tr>\n",
       "    <tr>\n",
       "      <th>2</th>\n",
       "      <td>id_2</td>\n",
       "      <td>4.0</td>\n",
       "    </tr>\n",
       "    <tr>\n",
       "      <th>3</th>\n",
       "      <td>id_3</td>\n",
       "      <td>1.0</td>\n",
       "    </tr>\n",
       "    <tr>\n",
       "      <th>4</th>\n",
       "      <td>id_4</td>\n",
       "      <td>4.0</td>\n",
       "    </tr>\n",
       "  </tbody>\n",
       "</table>\n",
       "</div>"
      ],
      "text/plain": [
       "  Restaurant_id  Rating\n",
       "0          id_0     2.0\n",
       "1          id_1     2.5\n",
       "2          id_2     4.0\n",
       "3          id_3     1.0\n",
       "4          id_4     4.0"
      ]
     },
     "execution_count": 221,
     "metadata": {},
     "output_type": "execute_result"
    }
   ],
   "source": [
    "sample_submission.head(5)"
   ]
  },
  {
   "cell_type": "code",
   "execution_count": 222,
   "metadata": {
    "execution": {
     "iopub.execute_input": "2021-11-21T22:56:21.213593Z",
     "iopub.status.busy": "2021-11-21T22:56:21.213266Z",
     "iopub.status.idle": "2021-11-21T22:56:21.244463Z",
     "shell.execute_reply": "2021-11-21T22:56:21.243438Z",
     "shell.execute_reply.started": "2021-11-21T22:56:21.213557Z"
    }
   },
   "outputs": [
    {
     "name": "stdout",
     "output_type": "stream",
     "text": [
      "<class 'pandas.core.frame.DataFrame'>\n",
      "RangeIndex: 10000 entries, 0 to 9999\n",
      "Data columns (total 2 columns):\n",
      " #   Column         Non-Null Count  Dtype  \n",
      "---  ------         --------------  -----  \n",
      " 0   Restaurant_id  10000 non-null  object \n",
      " 1   Rating         10000 non-null  float64\n",
      "dtypes: float64(1), object(1)\n",
      "memory usage: 156.4+ KB\n"
     ]
    }
   ],
   "source": [
    "sample_submission.info()"
   ]
  },
  {
   "cell_type": "code",
   "execution_count": 223,
   "metadata": {
    "execution": {
     "iopub.execute_input": "2021-11-21T22:56:21.246063Z",
     "iopub.status.busy": "2021-11-21T22:56:21.245672Z",
     "iopub.status.idle": "2021-11-21T22:56:21.286148Z",
     "shell.execute_reply": "2021-11-21T22:56:21.285277Z",
     "shell.execute_reply.started": "2021-11-21T22:56:21.246022Z"
    }
   },
   "outputs": [],
   "source": [
    "# ВАЖНО! дря корректной обработки признаков объединяем трейн и тест в один датасет\n",
    "df_train['sample'] = 1 # помечаем где у нас трейн\n",
    "df_test['sample'] = 0 # помечаем где у нас тест\n",
    "df_test['Rating'] = 0 # в тесте у нас нет значения Rating, мы его должны предсказать, по этому пока просто заполняем нулями\n",
    "\n",
    "data = df_test.append(df_train, sort=False).reset_index(drop=True) # объединяем"
   ]
  },
  {
   "cell_type": "code",
   "execution_count": 224,
   "metadata": {
    "execution": {
     "iopub.execute_input": "2021-11-21T22:56:21.288337Z",
     "iopub.status.busy": "2021-11-21T22:56:21.287837Z",
     "iopub.status.idle": "2021-11-21T22:56:21.333263Z",
     "shell.execute_reply": "2021-11-21T22:56:21.332205Z",
     "shell.execute_reply.started": "2021-11-21T22:56:21.288121Z"
    }
   },
   "outputs": [
    {
     "name": "stdout",
     "output_type": "stream",
     "text": [
      "<class 'pandas.core.frame.DataFrame'>\n",
      "RangeIndex: 50000 entries, 0 to 49999\n",
      "Data columns (total 11 columns):\n",
      " #   Column             Non-Null Count  Dtype  \n",
      "---  ------             --------------  -----  \n",
      " 0   Restaurant_id      50000 non-null  object \n",
      " 1   City               50000 non-null  object \n",
      " 2   Cuisine Style      38410 non-null  object \n",
      " 3   Ranking            50000 non-null  float64\n",
      " 4   Price Range        32639 non-null  object \n",
      " 5   Number of Reviews  46800 non-null  float64\n",
      " 6   Reviews            49998 non-null  object \n",
      " 7   URL_TA             50000 non-null  object \n",
      " 8   ID_TA              50000 non-null  object \n",
      " 9   sample             50000 non-null  int64  \n",
      " 10  Rating             50000 non-null  float64\n",
      "dtypes: float64(3), int64(1), object(7)\n",
      "memory usage: 4.2+ MB\n"
     ]
    }
   ],
   "source": [
    "data.info()"
   ]
  },
  {
   "cell_type": "markdown",
   "metadata": {},
   "source": [
    "Подробнее по признакам:\n",
    "* City: Город \n",
    "* Cuisine Style: Кухня\n",
    "* Ranking: Ранг ресторана относительно других ресторанов в этом городе\n",
    "* Price Range: Цены в ресторане в 3 категориях\n",
    "* Number of Reviews: Количество отзывов\n",
    "* Reviews: 2 последних отзыва и даты этих отзывов\n",
    "* URL_TA: страница ресторана на 'www.tripadvisor.com' \n",
    "* ID_TA: ID ресторана в TripAdvisor\n",
    "* Rating: Рейтинг ресторана"
   ]
  },
  {
   "cell_type": "code",
   "execution_count": 225,
   "metadata": {
    "execution": {
     "iopub.execute_input": "2021-11-21T22:56:21.335773Z",
     "iopub.status.busy": "2021-11-21T22:56:21.334981Z",
     "iopub.status.idle": "2021-11-21T22:56:21.358553Z",
     "shell.execute_reply": "2021-11-21T22:56:21.357684Z",
     "shell.execute_reply.started": "2021-11-21T22:56:21.335696Z"
    }
   },
   "outputs": [
    {
     "data": {
      "text/html": [
       "<div>\n",
       "<style scoped>\n",
       "    .dataframe tbody tr th:only-of-type {\n",
       "        vertical-align: middle;\n",
       "    }\n",
       "\n",
       "    .dataframe tbody tr th {\n",
       "        vertical-align: top;\n",
       "    }\n",
       "\n",
       "    .dataframe thead th {\n",
       "        text-align: right;\n",
       "    }\n",
       "</style>\n",
       "<table border=\"1\" class=\"dataframe\">\n",
       "  <thead>\n",
       "    <tr style=\"text-align: right;\">\n",
       "      <th></th>\n",
       "      <th>Restaurant_id</th>\n",
       "      <th>City</th>\n",
       "      <th>Cuisine Style</th>\n",
       "      <th>Ranking</th>\n",
       "      <th>Price Range</th>\n",
       "      <th>Number of Reviews</th>\n",
       "      <th>Reviews</th>\n",
       "      <th>URL_TA</th>\n",
       "      <th>ID_TA</th>\n",
       "      <th>sample</th>\n",
       "      <th>Rating</th>\n",
       "    </tr>\n",
       "  </thead>\n",
       "  <tbody>\n",
       "    <tr>\n",
       "      <th>45646</th>\n",
       "      <td>id_598</td>\n",
       "      <td>Edinburgh</td>\n",
       "      <td>['Seafood', 'Bar', 'British', 'Scottish', 'Glu...</td>\n",
       "      <td>599.0</td>\n",
       "      <td>$$ - $$$</td>\n",
       "      <td>162.0</td>\n",
       "      <td>[['Great buzz', 'Haggis'], ['12/17/2017', '11/...</td>\n",
       "      <td>/Restaurant_Review-g186525-d3228592-Reviews-Ha...</td>\n",
       "      <td>d3228592</td>\n",
       "      <td>1</td>\n",
       "      <td>4.0</td>\n",
       "    </tr>\n",
       "    <tr>\n",
       "      <th>17826</th>\n",
       "      <td>id_1041</td>\n",
       "      <td>Dublin</td>\n",
       "      <td>['Irish', 'Cafe', 'International', 'European']</td>\n",
       "      <td>1043.0</td>\n",
       "      <td>$</td>\n",
       "      <td>28.0</td>\n",
       "      <td>[['Great little spot', 'quaint little cafe - g...</td>\n",
       "      <td>/Restaurant_Review-g186605-d2718800-Reviews-Me...</td>\n",
       "      <td>d2718800</td>\n",
       "      <td>1</td>\n",
       "      <td>4.5</td>\n",
       "    </tr>\n",
       "    <tr>\n",
       "      <th>47349</th>\n",
       "      <td>id_1846</td>\n",
       "      <td>Barcelona</td>\n",
       "      <td>['Mediterranean', 'European', 'Spanish', 'Vege...</td>\n",
       "      <td>1847.0</td>\n",
       "      <td>$$ - $$$</td>\n",
       "      <td>97.0</td>\n",
       "      <td>[['Elbow surprise', 'Excellent!!!'], ['12/29/2...</td>\n",
       "      <td>/Restaurant_Review-g187497-d12785973-Reviews-E...</td>\n",
       "      <td>d12785973</td>\n",
       "      <td>1</td>\n",
       "      <td>4.5</td>\n",
       "    </tr>\n",
       "    <tr>\n",
       "      <th>41185</th>\n",
       "      <td>id_35</td>\n",
       "      <td>Vienna</td>\n",
       "      <td>['German', 'Austrian', 'European', 'Central Eu...</td>\n",
       "      <td>36.0</td>\n",
       "      <td>$$ - $$$</td>\n",
       "      <td>812.0</td>\n",
       "      <td>[['Typical Viennese food', 'Traditional Vienne...</td>\n",
       "      <td>/Restaurant_Review-g190454-d1888282-Reviews-Hu...</td>\n",
       "      <td>d1888282</td>\n",
       "      <td>1</td>\n",
       "      <td>4.5</td>\n",
       "    </tr>\n",
       "    <tr>\n",
       "      <th>9221</th>\n",
       "      <td>id_9221</td>\n",
       "      <td>London</td>\n",
       "      <td>['Indian', 'Asian', 'Halal', 'Vegetarian Frien...</td>\n",
       "      <td>14458.0</td>\n",
       "      <td>$$ - $$$</td>\n",
       "      <td>10.0</td>\n",
       "      <td>[['Consistently good and inexpensive', 'Not ve...</td>\n",
       "      <td>/Restaurant_Review-g186338-d2266330-Reviews-Mi...</td>\n",
       "      <td>d2266330</td>\n",
       "      <td>0</td>\n",
       "      <td>0.0</td>\n",
       "    </tr>\n",
       "  </tbody>\n",
       "</table>\n",
       "</div>"
      ],
      "text/plain": [
       "      Restaurant_id       City  \\\n",
       "45646        id_598  Edinburgh   \n",
       "17826       id_1041     Dublin   \n",
       "47349       id_1846  Barcelona   \n",
       "41185         id_35     Vienna   \n",
       "9221        id_9221     London   \n",
       "\n",
       "                                           Cuisine Style  Ranking Price Range  \\\n",
       "45646  ['Seafood', 'Bar', 'British', 'Scottish', 'Glu...    599.0    $$ - $$$   \n",
       "17826     ['Irish', 'Cafe', 'International', 'European']   1043.0           $   \n",
       "47349  ['Mediterranean', 'European', 'Spanish', 'Vege...   1847.0    $$ - $$$   \n",
       "41185  ['German', 'Austrian', 'European', 'Central Eu...     36.0    $$ - $$$   \n",
       "9221   ['Indian', 'Asian', 'Halal', 'Vegetarian Frien...  14458.0    $$ - $$$   \n",
       "\n",
       "       Number of Reviews                                            Reviews  \\\n",
       "45646              162.0  [['Great buzz', 'Haggis'], ['12/17/2017', '11/...   \n",
       "17826               28.0  [['Great little spot', 'quaint little cafe - g...   \n",
       "47349               97.0  [['Elbow surprise', 'Excellent!!!'], ['12/29/2...   \n",
       "41185              812.0  [['Typical Viennese food', 'Traditional Vienne...   \n",
       "9221                10.0  [['Consistently good and inexpensive', 'Not ve...   \n",
       "\n",
       "                                                  URL_TA      ID_TA  sample  \\\n",
       "45646  /Restaurant_Review-g186525-d3228592-Reviews-Ha...   d3228592       1   \n",
       "17826  /Restaurant_Review-g186605-d2718800-Reviews-Me...   d2718800       1   \n",
       "47349  /Restaurant_Review-g187497-d12785973-Reviews-E...  d12785973       1   \n",
       "41185  /Restaurant_Review-g190454-d1888282-Reviews-Hu...   d1888282       1   \n",
       "9221   /Restaurant_Review-g186338-d2266330-Reviews-Mi...   d2266330       0   \n",
       "\n",
       "       Rating  \n",
       "45646     4.0  \n",
       "17826     4.5  \n",
       "47349     4.5  \n",
       "41185     4.5  \n",
       "9221      0.0  "
      ]
     },
     "execution_count": 225,
     "metadata": {},
     "output_type": "execute_result"
    }
   ],
   "source": [
    "data.sample(5)"
   ]
  },
  {
   "cell_type": "code",
   "execution_count": 226,
   "metadata": {
    "execution": {
     "iopub.execute_input": "2021-11-21T22:56:21.361319Z",
     "iopub.status.busy": "2021-11-21T22:56:21.360828Z",
     "iopub.status.idle": "2021-11-21T22:56:21.369097Z",
     "shell.execute_reply": "2021-11-21T22:56:21.368426Z",
     "shell.execute_reply.started": "2021-11-21T22:56:21.361267Z"
    }
   },
   "outputs": [
    {
     "data": {
      "text/plain": [
       "\"[['Very good reviews!', 'Fine dining in Hakaniemi'], ['12/05/2017', '10/29/2017']]\""
      ]
     },
     "execution_count": 226,
     "metadata": {},
     "output_type": "execute_result"
    }
   ],
   "source": [
    "data.Reviews[1]"
   ]
  },
  {
   "cell_type": "markdown",
   "metadata": {},
   "source": [
    "Как видим, большинство признаков у нас требует очистки и предварительной обработки."
   ]
  },
  {
   "cell_type": "markdown",
   "metadata": {},
   "source": [
    "# Cleaning and Prepping Data\n",
    "Обычно данные содержат в себе кучу мусора, который необходимо почистить, для того чтобы привести их в приемлемый формат. Чистка данных — это необходимый этап решения почти любой реальной задачи.   \n",
    "![](https://analyticsindiamag.com/wp-content/uploads/2018/01/data-cleaning.png)"
   ]
  },
  {
   "cell_type": "markdown",
   "metadata": {},
   "source": [
    "## 1. Обработка NAN \n",
    "У наличия пропусков могут быть разные причины, но пропуски нужно либо заполнить, либо исключить из набора полностью. Но с пропусками нужно быть внимательным, **даже отсутствие информации может быть важным признаком!**   \n",
    "По этому перед обработкой NAN лучше вынести информацию о наличии пропуска как отдельный признак "
   ]
  },
  {
   "cell_type": "code",
   "execution_count": 227,
   "metadata": {
    "execution": {
     "iopub.execute_input": "2021-11-21T22:56:21.371207Z",
     "iopub.status.busy": "2021-11-21T22:56:21.370551Z",
     "iopub.status.idle": "2021-11-21T22:56:21.377471Z",
     "shell.execute_reply": "2021-11-21T22:56:21.376928Z",
     "shell.execute_reply.started": "2021-11-21T22:56:21.371147Z"
    }
   },
   "outputs": [],
   "source": [
    "# Для примера я возьму столбец Number of Reviews\n",
    "data['Number_of_Reviews_isNAN'] = pd.isna(data['Number of Reviews']).astype('uint8')"
   ]
  },
  {
   "cell_type": "code",
   "execution_count": 228,
   "metadata": {
    "execution": {
     "iopub.execute_input": "2021-11-21T22:56:21.379435Z",
     "iopub.status.busy": "2021-11-21T22:56:21.378787Z",
     "iopub.status.idle": "2021-11-21T22:56:21.388030Z",
     "shell.execute_reply": "2021-11-21T22:56:21.387309Z",
     "shell.execute_reply.started": "2021-11-21T22:56:21.379381Z"
    }
   },
   "outputs": [
    {
     "data": {
      "text/plain": [
       "0        0\n",
       "1        0\n",
       "2        0\n",
       "3        0\n",
       "4        0\n",
       "        ..\n",
       "49995    0\n",
       "49996    0\n",
       "49997    0\n",
       "49998    0\n",
       "49999    0\n",
       "Name: Number_of_Reviews_isNAN, Length: 50000, dtype: uint8"
      ]
     },
     "execution_count": 228,
     "metadata": {},
     "output_type": "execute_result"
    }
   ],
   "source": [
    "data['Number_of_Reviews_isNAN']"
   ]
  },
  {
   "cell_type": "code",
   "execution_count": 229,
   "metadata": {
    "execution": {
     "iopub.execute_input": "2021-11-21T22:56:21.389530Z",
     "iopub.status.busy": "2021-11-21T22:56:21.389069Z",
     "iopub.status.idle": "2021-11-21T22:56:21.396412Z",
     "shell.execute_reply": "2021-11-21T22:56:21.395553Z",
     "shell.execute_reply.started": "2021-11-21T22:56:21.389485Z"
    }
   },
   "outputs": [],
   "source": [
    "# Далее заполняем пропуски 0, вы можете попробовать заполнением средним или средним по городу и тд...\n",
    "data['Number of Reviews'].fillna(0, inplace=True)"
   ]
  },
  {
   "cell_type": "markdown",
   "metadata": {},
   "source": [
    "### 2. Обработка признаков\n",
    "Для начала посмотрим какие признаки у нас могут быть категориальными."
   ]
  },
  {
   "cell_type": "code",
   "execution_count": 230,
   "metadata": {
    "execution": {
     "iopub.execute_input": "2021-11-21T22:56:21.397798Z",
     "iopub.status.busy": "2021-11-21T22:56:21.397422Z",
     "iopub.status.idle": "2021-11-21T22:56:21.514795Z",
     "shell.execute_reply": "2021-11-21T22:56:21.514170Z",
     "shell.execute_reply.started": "2021-11-21T22:56:21.397746Z"
    }
   },
   "outputs": [
    {
     "data": {
      "text/plain": [
       "Restaurant_id              13094\n",
       "City                          31\n",
       "Cuisine Style              10732\n",
       "Ranking                    12975\n",
       "Price Range                    4\n",
       "Number of Reviews           1574\n",
       "Reviews                    41858\n",
       "URL_TA                     49963\n",
       "ID_TA                      49963\n",
       "sample                         2\n",
       "Rating                        10\n",
       "Number_of_Reviews_isNAN        2\n",
       "dtype: int64"
      ]
     },
     "execution_count": 230,
     "metadata": {},
     "output_type": "execute_result"
    }
   ],
   "source": [
    "data.nunique(dropna=False)"
   ]
  },
  {
   "cell_type": "markdown",
   "metadata": {},
   "source": [
    "Какие признаки можно считать категориальными?"
   ]
  },
  {
   "cell_type": "markdown",
   "metadata": {},
   "source": [
    "Для кодирования категориальных признаков есть множество подходов:\n",
    "* Label Encoding\n",
    "* One-Hot Encoding\n",
    "* Target Encoding\n",
    "* Hashing\n",
    "\n",
    "Выбор кодирования зависит от признака и выбраной модели.\n",
    "Не будем сейчас сильно погружаться в эту тематику, давайте посмотрим лучше пример с One-Hot Encoding:\n",
    "![](https://i.imgur.com/mtimFxh.png)"
   ]
  },
  {
   "cell_type": "code",
   "execution_count": 231,
   "metadata": {
    "execution": {
     "iopub.execute_input": "2021-11-21T22:56:21.516325Z",
     "iopub.status.busy": "2021-11-21T22:56:21.515891Z",
     "iopub.status.idle": "2021-11-21T22:56:21.545656Z",
     "shell.execute_reply": "2021-11-21T22:56:21.544817Z",
     "shell.execute_reply.started": "2021-11-21T22:56:21.516262Z"
    }
   },
   "outputs": [],
   "source": [
    "# для One-Hot Encoding в pandas есть готовая функция - get_dummies. Особенно радует параметр dummy_na\n",
    "data = pd.get_dummies(data, columns=[ 'City',], dummy_na=True)"
   ]
  },
  {
   "cell_type": "code",
   "execution_count": 232,
   "metadata": {
    "execution": {
     "iopub.execute_input": "2021-11-21T22:56:21.547451Z",
     "iopub.status.busy": "2021-11-21T22:56:21.547152Z",
     "iopub.status.idle": "2021-11-21T22:56:21.575919Z",
     "shell.execute_reply": "2021-11-21T22:56:21.575277Z",
     "shell.execute_reply.started": "2021-11-21T22:56:21.547389Z"
    }
   },
   "outputs": [
    {
     "data": {
      "text/html": [
       "<div>\n",
       "<style scoped>\n",
       "    .dataframe tbody tr th:only-of-type {\n",
       "        vertical-align: middle;\n",
       "    }\n",
       "\n",
       "    .dataframe tbody tr th {\n",
       "        vertical-align: top;\n",
       "    }\n",
       "\n",
       "    .dataframe thead th {\n",
       "        text-align: right;\n",
       "    }\n",
       "</style>\n",
       "<table border=\"1\" class=\"dataframe\">\n",
       "  <thead>\n",
       "    <tr style=\"text-align: right;\">\n",
       "      <th></th>\n",
       "      <th>Restaurant_id</th>\n",
       "      <th>Cuisine Style</th>\n",
       "      <th>Ranking</th>\n",
       "      <th>Price Range</th>\n",
       "      <th>Number of Reviews</th>\n",
       "      <th>Reviews</th>\n",
       "      <th>URL_TA</th>\n",
       "      <th>ID_TA</th>\n",
       "      <th>sample</th>\n",
       "      <th>Rating</th>\n",
       "      <th>...</th>\n",
       "      <th>City_Oporto</th>\n",
       "      <th>City_Oslo</th>\n",
       "      <th>City_Paris</th>\n",
       "      <th>City_Prague</th>\n",
       "      <th>City_Rome</th>\n",
       "      <th>City_Stockholm</th>\n",
       "      <th>City_Vienna</th>\n",
       "      <th>City_Warsaw</th>\n",
       "      <th>City_Zurich</th>\n",
       "      <th>City_nan</th>\n",
       "    </tr>\n",
       "  </thead>\n",
       "  <tbody>\n",
       "    <tr>\n",
       "      <th>0</th>\n",
       "      <td>id_0</td>\n",
       "      <td>['Bar', 'Pub']</td>\n",
       "      <td>12963.0</td>\n",
       "      <td>$$ - $$$</td>\n",
       "      <td>4.0</td>\n",
       "      <td>[[], []]</td>\n",
       "      <td>/Restaurant_Review-g187147-d10746918-Reviews-L...</td>\n",
       "      <td>d10746918</td>\n",
       "      <td>0</td>\n",
       "      <td>0.0</td>\n",
       "      <td>...</td>\n",
       "      <td>0</td>\n",
       "      <td>0</td>\n",
       "      <td>1</td>\n",
       "      <td>0</td>\n",
       "      <td>0</td>\n",
       "      <td>0</td>\n",
       "      <td>0</td>\n",
       "      <td>0</td>\n",
       "      <td>0</td>\n",
       "      <td>0</td>\n",
       "    </tr>\n",
       "    <tr>\n",
       "      <th>1</th>\n",
       "      <td>id_1</td>\n",
       "      <td>['European', 'Scandinavian', 'Gluten Free Opti...</td>\n",
       "      <td>106.0</td>\n",
       "      <td>$$ - $$$</td>\n",
       "      <td>97.0</td>\n",
       "      <td>[['Very good reviews!', 'Fine dining in Hakani...</td>\n",
       "      <td>/Restaurant_Review-g189934-d6674944-Reviews-Ra...</td>\n",
       "      <td>d6674944</td>\n",
       "      <td>0</td>\n",
       "      <td>0.0</td>\n",
       "      <td>...</td>\n",
       "      <td>0</td>\n",
       "      <td>0</td>\n",
       "      <td>0</td>\n",
       "      <td>0</td>\n",
       "      <td>0</td>\n",
       "      <td>0</td>\n",
       "      <td>0</td>\n",
       "      <td>0</td>\n",
       "      <td>0</td>\n",
       "      <td>0</td>\n",
       "    </tr>\n",
       "    <tr>\n",
       "      <th>2</th>\n",
       "      <td>id_2</td>\n",
       "      <td>['Vegetarian Friendly']</td>\n",
       "      <td>810.0</td>\n",
       "      <td>$$ - $$$</td>\n",
       "      <td>28.0</td>\n",
       "      <td>[['Better than the Links', 'Ivy Black'], ['12/...</td>\n",
       "      <td>/Restaurant_Review-g186525-d13129638-Reviews-B...</td>\n",
       "      <td>d13129638</td>\n",
       "      <td>0</td>\n",
       "      <td>0.0</td>\n",
       "      <td>...</td>\n",
       "      <td>0</td>\n",
       "      <td>0</td>\n",
       "      <td>0</td>\n",
       "      <td>0</td>\n",
       "      <td>0</td>\n",
       "      <td>0</td>\n",
       "      <td>0</td>\n",
       "      <td>0</td>\n",
       "      <td>0</td>\n",
       "      <td>0</td>\n",
       "    </tr>\n",
       "    <tr>\n",
       "      <th>3</th>\n",
       "      <td>id_3</td>\n",
       "      <td>['Italian', 'Mediterranean', 'European', 'Vege...</td>\n",
       "      <td>1669.0</td>\n",
       "      <td>$$$$</td>\n",
       "      <td>202.0</td>\n",
       "      <td>[['Most exquisite', 'Delicious and authentic']...</td>\n",
       "      <td>/Restaurant_Review-g186338-d680417-Reviews-Qui...</td>\n",
       "      <td>d680417</td>\n",
       "      <td>0</td>\n",
       "      <td>0.0</td>\n",
       "      <td>...</td>\n",
       "      <td>0</td>\n",
       "      <td>0</td>\n",
       "      <td>0</td>\n",
       "      <td>0</td>\n",
       "      <td>0</td>\n",
       "      <td>0</td>\n",
       "      <td>0</td>\n",
       "      <td>0</td>\n",
       "      <td>0</td>\n",
       "      <td>0</td>\n",
       "    </tr>\n",
       "    <tr>\n",
       "      <th>4</th>\n",
       "      <td>id_4</td>\n",
       "      <td>['Italian', 'Mediterranean', 'European', 'Seaf...</td>\n",
       "      <td>37.0</td>\n",
       "      <td>$$$$</td>\n",
       "      <td>162.0</td>\n",
       "      <td>[['Always the best in bratislava', 'Very good ...</td>\n",
       "      <td>/Restaurant_Review-g274924-d1112354-Reviews-Ma...</td>\n",
       "      <td>d1112354</td>\n",
       "      <td>0</td>\n",
       "      <td>0.0</td>\n",
       "      <td>...</td>\n",
       "      <td>0</td>\n",
       "      <td>0</td>\n",
       "      <td>0</td>\n",
       "      <td>0</td>\n",
       "      <td>0</td>\n",
       "      <td>0</td>\n",
       "      <td>0</td>\n",
       "      <td>0</td>\n",
       "      <td>0</td>\n",
       "      <td>0</td>\n",
       "    </tr>\n",
       "  </tbody>\n",
       "</table>\n",
       "<p>5 rows × 43 columns</p>\n",
       "</div>"
      ],
      "text/plain": [
       "  Restaurant_id                                      Cuisine Style  Ranking  \\\n",
       "0          id_0                                     ['Bar', 'Pub']  12963.0   \n",
       "1          id_1  ['European', 'Scandinavian', 'Gluten Free Opti...    106.0   \n",
       "2          id_2                            ['Vegetarian Friendly']    810.0   \n",
       "3          id_3  ['Italian', 'Mediterranean', 'European', 'Vege...   1669.0   \n",
       "4          id_4  ['Italian', 'Mediterranean', 'European', 'Seaf...     37.0   \n",
       "\n",
       "  Price Range  Number of Reviews  \\\n",
       "0    $$ - $$$                4.0   \n",
       "1    $$ - $$$               97.0   \n",
       "2    $$ - $$$               28.0   \n",
       "3        $$$$              202.0   \n",
       "4        $$$$              162.0   \n",
       "\n",
       "                                             Reviews  \\\n",
       "0                                           [[], []]   \n",
       "1  [['Very good reviews!', 'Fine dining in Hakani...   \n",
       "2  [['Better than the Links', 'Ivy Black'], ['12/...   \n",
       "3  [['Most exquisite', 'Delicious and authentic']...   \n",
       "4  [['Always the best in bratislava', 'Very good ...   \n",
       "\n",
       "                                              URL_TA      ID_TA  sample  \\\n",
       "0  /Restaurant_Review-g187147-d10746918-Reviews-L...  d10746918       0   \n",
       "1  /Restaurant_Review-g189934-d6674944-Reviews-Ra...   d6674944       0   \n",
       "2  /Restaurant_Review-g186525-d13129638-Reviews-B...  d13129638       0   \n",
       "3  /Restaurant_Review-g186338-d680417-Reviews-Qui...    d680417       0   \n",
       "4  /Restaurant_Review-g274924-d1112354-Reviews-Ma...   d1112354       0   \n",
       "\n",
       "   Rating  ...  City_Oporto  City_Oslo  City_Paris  City_Prague  City_Rome  \\\n",
       "0     0.0  ...            0          0           1            0          0   \n",
       "1     0.0  ...            0          0           0            0          0   \n",
       "2     0.0  ...            0          0           0            0          0   \n",
       "3     0.0  ...            0          0           0            0          0   \n",
       "4     0.0  ...            0          0           0            0          0   \n",
       "\n",
       "   City_Stockholm  City_Vienna  City_Warsaw  City_Zurich  City_nan  \n",
       "0               0            0            0            0         0  \n",
       "1               0            0            0            0         0  \n",
       "2               0            0            0            0         0  \n",
       "3               0            0            0            0         0  \n",
       "4               0            0            0            0         0  \n",
       "\n",
       "[5 rows x 43 columns]"
      ]
     },
     "execution_count": 232,
     "metadata": {},
     "output_type": "execute_result"
    }
   ],
   "source": [
    "data.head(5)"
   ]
  },
  {
   "cell_type": "code",
   "execution_count": 233,
   "metadata": {
    "execution": {
     "iopub.execute_input": "2021-11-21T22:56:21.577160Z",
     "iopub.status.busy": "2021-11-21T22:56:21.576805Z",
     "iopub.status.idle": "2021-11-21T22:56:21.613897Z",
     "shell.execute_reply": "2021-11-21T22:56:21.613282Z",
     "shell.execute_reply.started": "2021-11-21T22:56:21.577123Z"
    }
   },
   "outputs": [
    {
     "data": {
      "text/html": [
       "<div>\n",
       "<style scoped>\n",
       "    .dataframe tbody tr th:only-of-type {\n",
       "        vertical-align: middle;\n",
       "    }\n",
       "\n",
       "    .dataframe tbody tr th {\n",
       "        vertical-align: top;\n",
       "    }\n",
       "\n",
       "    .dataframe thead th {\n",
       "        text-align: right;\n",
       "    }\n",
       "</style>\n",
       "<table border=\"1\" class=\"dataframe\">\n",
       "  <thead>\n",
       "    <tr style=\"text-align: right;\">\n",
       "      <th></th>\n",
       "      <th>Restaurant_id</th>\n",
       "      <th>Cuisine Style</th>\n",
       "      <th>Ranking</th>\n",
       "      <th>Price Range</th>\n",
       "      <th>Number of Reviews</th>\n",
       "      <th>Reviews</th>\n",
       "      <th>URL_TA</th>\n",
       "      <th>ID_TA</th>\n",
       "      <th>sample</th>\n",
       "      <th>Rating</th>\n",
       "      <th>...</th>\n",
       "      <th>City_Oporto</th>\n",
       "      <th>City_Oslo</th>\n",
       "      <th>City_Paris</th>\n",
       "      <th>City_Prague</th>\n",
       "      <th>City_Rome</th>\n",
       "      <th>City_Stockholm</th>\n",
       "      <th>City_Vienna</th>\n",
       "      <th>City_Warsaw</th>\n",
       "      <th>City_Zurich</th>\n",
       "      <th>City_nan</th>\n",
       "    </tr>\n",
       "  </thead>\n",
       "  <tbody>\n",
       "    <tr>\n",
       "      <th>37153</th>\n",
       "      <td>id_16291</td>\n",
       "      <td>['Pizza']</td>\n",
       "      <td>16303.0</td>\n",
       "      <td>$</td>\n",
       "      <td>8.0</td>\n",
       "      <td>[['Terrible customer service, my daughter did....</td>\n",
       "      <td>/Restaurant_Review-g186338-d5818787-Reviews-Do...</td>\n",
       "      <td>d5818787</td>\n",
       "      <td>1</td>\n",
       "      <td>1.0</td>\n",
       "      <td>...</td>\n",
       "      <td>0</td>\n",
       "      <td>0</td>\n",
       "      <td>0</td>\n",
       "      <td>0</td>\n",
       "      <td>0</td>\n",
       "      <td>0</td>\n",
       "      <td>0</td>\n",
       "      <td>0</td>\n",
       "      <td>0</td>\n",
       "      <td>0</td>\n",
       "    </tr>\n",
       "    <tr>\n",
       "      <th>21685</th>\n",
       "      <td>id_13191</td>\n",
       "      <td>NaN</td>\n",
       "      <td>13193.0</td>\n",
       "      <td>NaN</td>\n",
       "      <td>7.0</td>\n",
       "      <td>[['great views, nice food at reasonable price....</td>\n",
       "      <td>/Restaurant_Review-g187147-d1091107-Reviews-Le...</td>\n",
       "      <td>d1091107</td>\n",
       "      <td>1</td>\n",
       "      <td>3.5</td>\n",
       "      <td>...</td>\n",
       "      <td>0</td>\n",
       "      <td>0</td>\n",
       "      <td>1</td>\n",
       "      <td>0</td>\n",
       "      <td>0</td>\n",
       "      <td>0</td>\n",
       "      <td>0</td>\n",
       "      <td>0</td>\n",
       "      <td>0</td>\n",
       "      <td>0</td>\n",
       "    </tr>\n",
       "    <tr>\n",
       "      <th>21582</th>\n",
       "      <td>id_8301</td>\n",
       "      <td>['Delicatessen']</td>\n",
       "      <td>8302.0</td>\n",
       "      <td>NaN</td>\n",
       "      <td>0.0</td>\n",
       "      <td>[[], []]</td>\n",
       "      <td>/Restaurant_Review-g187147-d7112143-Reviews-Ko...</td>\n",
       "      <td>d7112143</td>\n",
       "      <td>1</td>\n",
       "      <td>5.0</td>\n",
       "      <td>...</td>\n",
       "      <td>0</td>\n",
       "      <td>0</td>\n",
       "      <td>1</td>\n",
       "      <td>0</td>\n",
       "      <td>0</td>\n",
       "      <td>0</td>\n",
       "      <td>0</td>\n",
       "      <td>0</td>\n",
       "      <td>0</td>\n",
       "      <td>0</td>\n",
       "    </tr>\n",
       "    <tr>\n",
       "      <th>34766</th>\n",
       "      <td>id_2440</td>\n",
       "      <td>['Vegetarian Friendly']</td>\n",
       "      <td>2446.0</td>\n",
       "      <td>$$ - $$$</td>\n",
       "      <td>21.0</td>\n",
       "      <td>[['Good food but a local focus', 'Amazing Food...</td>\n",
       "      <td>/Restaurant_Review-g188590-d10453600-Reviews-R...</td>\n",
       "      <td>d10453600</td>\n",
       "      <td>1</td>\n",
       "      <td>4.0</td>\n",
       "      <td>...</td>\n",
       "      <td>0</td>\n",
       "      <td>0</td>\n",
       "      <td>0</td>\n",
       "      <td>0</td>\n",
       "      <td>0</td>\n",
       "      <td>0</td>\n",
       "      <td>0</td>\n",
       "      <td>0</td>\n",
       "      <td>0</td>\n",
       "      <td>0</td>\n",
       "    </tr>\n",
       "    <tr>\n",
       "      <th>41292</th>\n",
       "      <td>id_990</td>\n",
       "      <td>NaN</td>\n",
       "      <td>992.0</td>\n",
       "      <td>NaN</td>\n",
       "      <td>12.0</td>\n",
       "      <td>[['A hidden gem', 'Best Place For Waffles, Cof...</td>\n",
       "      <td>/Restaurant_Review-g189400-d8611686-Reviews-Ho...</td>\n",
       "      <td>d8611686</td>\n",
       "      <td>1</td>\n",
       "      <td>4.5</td>\n",
       "      <td>...</td>\n",
       "      <td>0</td>\n",
       "      <td>0</td>\n",
       "      <td>0</td>\n",
       "      <td>0</td>\n",
       "      <td>0</td>\n",
       "      <td>0</td>\n",
       "      <td>0</td>\n",
       "      <td>0</td>\n",
       "      <td>0</td>\n",
       "      <td>0</td>\n",
       "    </tr>\n",
       "  </tbody>\n",
       "</table>\n",
       "<p>5 rows × 43 columns</p>\n",
       "</div>"
      ],
      "text/plain": [
       "      Restaurant_id            Cuisine Style  Ranking Price Range  \\\n",
       "37153      id_16291                ['Pizza']  16303.0           $   \n",
       "21685      id_13191                      NaN  13193.0         NaN   \n",
       "21582       id_8301         ['Delicatessen']   8302.0         NaN   \n",
       "34766       id_2440  ['Vegetarian Friendly']   2446.0    $$ - $$$   \n",
       "41292        id_990                      NaN    992.0         NaN   \n",
       "\n",
       "       Number of Reviews                                            Reviews  \\\n",
       "37153                8.0  [['Terrible customer service, my daughter did....   \n",
       "21685                7.0  [['great views, nice food at reasonable price....   \n",
       "21582                0.0                                           [[], []]   \n",
       "34766               21.0  [['Good food but a local focus', 'Amazing Food...   \n",
       "41292               12.0  [['A hidden gem', 'Best Place For Waffles, Cof...   \n",
       "\n",
       "                                                  URL_TA      ID_TA  sample  \\\n",
       "37153  /Restaurant_Review-g186338-d5818787-Reviews-Do...   d5818787       1   \n",
       "21685  /Restaurant_Review-g187147-d1091107-Reviews-Le...   d1091107       1   \n",
       "21582  /Restaurant_Review-g187147-d7112143-Reviews-Ko...   d7112143       1   \n",
       "34766  /Restaurant_Review-g188590-d10453600-Reviews-R...  d10453600       1   \n",
       "41292  /Restaurant_Review-g189400-d8611686-Reviews-Ho...   d8611686       1   \n",
       "\n",
       "       Rating  ...  City_Oporto  City_Oslo  City_Paris  City_Prague  \\\n",
       "37153     1.0  ...            0          0           0            0   \n",
       "21685     3.5  ...            0          0           1            0   \n",
       "21582     5.0  ...            0          0           1            0   \n",
       "34766     4.0  ...            0          0           0            0   \n",
       "41292     4.5  ...            0          0           0            0   \n",
       "\n",
       "       City_Rome  City_Stockholm  City_Vienna  City_Warsaw  City_Zurich  \\\n",
       "37153          0               0            0            0            0   \n",
       "21685          0               0            0            0            0   \n",
       "21582          0               0            0            0            0   \n",
       "34766          0               0            0            0            0   \n",
       "41292          0               0            0            0            0   \n",
       "\n",
       "       City_nan  \n",
       "37153         0  \n",
       "21685         0  \n",
       "21582         0  \n",
       "34766         0  \n",
       "41292         0  \n",
       "\n",
       "[5 rows x 43 columns]"
      ]
     },
     "execution_count": 233,
     "metadata": {},
     "output_type": "execute_result"
    }
   ],
   "source": [
    "data.sample(5)"
   ]
  },
  {
   "cell_type": "markdown",
   "metadata": {},
   "source": [
    "#### Возьмем следующий признак \"Price Range\"."
   ]
  },
  {
   "cell_type": "code",
   "execution_count": 234,
   "metadata": {
    "execution": {
     "iopub.execute_input": "2021-11-21T22:56:21.615202Z",
     "iopub.status.busy": "2021-11-21T22:56:21.614820Z",
     "iopub.status.idle": "2021-11-21T22:56:21.631138Z",
     "shell.execute_reply": "2021-11-21T22:56:21.630576Z",
     "shell.execute_reply.started": "2021-11-21T22:56:21.615147Z"
    }
   },
   "outputs": [
    {
     "data": {
      "text/plain": [
       "$$ - $$$    23041\n",
       "$            7816\n",
       "$$$$         1782\n",
       "Name: Price Range, dtype: int64"
      ]
     },
     "execution_count": 234,
     "metadata": {},
     "output_type": "execute_result"
    }
   ],
   "source": [
    "data['Price Range'].value_counts()"
   ]
  },
  {
   "cell_type": "markdown",
   "metadata": {},
   "source": [
    "По описанию 'Price Range' это - Цены в ресторане.  \n",
    "Их можно поставить по возрастанию (значит это не категориальный признак). А это значит, что их можно заменить последовательными числами, например 1,2,3  \n",
    "*Попробуйте сделать обработку этого признака уже самостоятельно!*"
   ]
  },
  {
   "cell_type": "code",
   "execution_count": 235,
   "metadata": {
    "execution": {
     "iopub.execute_input": "2021-11-21T22:56:21.632459Z",
     "iopub.status.busy": "2021-11-21T22:56:21.632136Z",
     "iopub.status.idle": "2021-11-21T22:56:21.695680Z",
     "shell.execute_reply": "2021-11-21T22:56:21.695013Z",
     "shell.execute_reply.started": "2021-11-21T22:56:21.632424Z"
    }
   },
   "outputs": [],
   "source": [
    "# Обработка 'Price Range' - перевод в число\n",
    "def normalise_price_range(str):\n",
    "    dict = {\"$\": 1, \"$$ - $$$\": 2, \"$$$$\": 3}\n",
    "    return dict[str] if str in dict.keys() else 0\n",
    "\n",
    "data['Price Range'] = data['Price Range'].apply(lambda x : normalise_price_range(x))\n"
   ]
  },
  {
   "cell_type": "code",
   "execution_count": 236,
   "metadata": {
    "execution": {
     "iopub.execute_input": "2021-11-21T22:56:21.697054Z",
     "iopub.status.busy": "2021-11-21T22:56:21.696720Z",
     "iopub.status.idle": "2021-11-21T22:56:21.704052Z",
     "shell.execute_reply": "2021-11-21T22:56:21.703165Z",
     "shell.execute_reply.started": "2021-11-21T22:56:21.697017Z"
    }
   },
   "outputs": [
    {
     "data": {
      "text/plain": [
       "2    23041\n",
       "0    17361\n",
       "1     7816\n",
       "3     1782\n",
       "Name: Price Range, dtype: int64"
      ]
     },
     "execution_count": 236,
     "metadata": {},
     "output_type": "execute_result"
    }
   ],
   "source": [
    "data['Price Range'].value_counts()\n",
    "# супер - совпало со значениями выше!"
   ]
  },
  {
   "cell_type": "code",
   "execution_count": 237,
   "metadata": {
    "execution": {
     "iopub.execute_input": "2021-11-21T22:56:21.706043Z",
     "iopub.status.busy": "2021-11-21T22:56:21.705667Z",
     "iopub.status.idle": "2021-11-21T22:56:24.513594Z",
     "shell.execute_reply": "2021-11-21T22:56:24.512660Z",
     "shell.execute_reply.started": "2021-11-21T22:56:21.706002Z"
    }
   },
   "outputs": [
    {
     "data": {
      "text/html": [
       "<div>\n",
       "<style scoped>\n",
       "    .dataframe tbody tr th:only-of-type {\n",
       "        vertical-align: middle;\n",
       "    }\n",
       "\n",
       "    .dataframe tbody tr th {\n",
       "        vertical-align: top;\n",
       "    }\n",
       "\n",
       "    .dataframe thead th {\n",
       "        text-align: right;\n",
       "    }\n",
       "</style>\n",
       "<table border=\"1\" class=\"dataframe\">\n",
       "  <thead>\n",
       "    <tr style=\"text-align: right;\">\n",
       "      <th></th>\n",
       "      <th>Restaurant_id</th>\n",
       "      <th>Cuisine Style</th>\n",
       "      <th>Ranking</th>\n",
       "      <th>Price Range</th>\n",
       "      <th>Number of Reviews</th>\n",
       "      <th>Reviews</th>\n",
       "      <th>URL_TA</th>\n",
       "      <th>ID_TA</th>\n",
       "      <th>sample</th>\n",
       "      <th>Rating</th>\n",
       "      <th>...</th>\n",
       "      <th>City_Paris</th>\n",
       "      <th>City_Prague</th>\n",
       "      <th>City_Rome</th>\n",
       "      <th>City_Stockholm</th>\n",
       "      <th>City_Vienna</th>\n",
       "      <th>City_Warsaw</th>\n",
       "      <th>City_Zurich</th>\n",
       "      <th>City_nan</th>\n",
       "      <th>Review1_Epoch</th>\n",
       "      <th>Review2_Epoch</th>\n",
       "    </tr>\n",
       "  </thead>\n",
       "  <tbody>\n",
       "    <tr>\n",
       "      <th>0</th>\n",
       "      <td>id_0</td>\n",
       "      <td>['Bar', 'Pub']</td>\n",
       "      <td>12963.0</td>\n",
       "      <td>2</td>\n",
       "      <td>4.0</td>\n",
       "      <td>[[], []]</td>\n",
       "      <td>/Restaurant_Review-g187147-d10746918-Reviews-L...</td>\n",
       "      <td>d10746918</td>\n",
       "      <td>0</td>\n",
       "      <td>0.0</td>\n",
       "      <td>...</td>\n",
       "      <td>1</td>\n",
       "      <td>0</td>\n",
       "      <td>0</td>\n",
       "      <td>0</td>\n",
       "      <td>0</td>\n",
       "      <td>0</td>\n",
       "      <td>0</td>\n",
       "      <td>0</td>\n",
       "      <td>0.000000e+00</td>\n",
       "      <td>0.000000e+00</td>\n",
       "    </tr>\n",
       "    <tr>\n",
       "      <th>1</th>\n",
       "      <td>id_1</td>\n",
       "      <td>['European', 'Scandinavian', 'Gluten Free Opti...</td>\n",
       "      <td>106.0</td>\n",
       "      <td>2</td>\n",
       "      <td>97.0</td>\n",
       "      <td>[['Very good reviews!', 'Fine dining in Hakani...</td>\n",
       "      <td>/Restaurant_Review-g189934-d6674944-Reviews-Ra...</td>\n",
       "      <td>d6674944</td>\n",
       "      <td>0</td>\n",
       "      <td>0.0</td>\n",
       "      <td>...</td>\n",
       "      <td>0</td>\n",
       "      <td>0</td>\n",
       "      <td>0</td>\n",
       "      <td>0</td>\n",
       "      <td>0</td>\n",
       "      <td>0</td>\n",
       "      <td>0</td>\n",
       "      <td>0</td>\n",
       "      <td>1.512425e+09</td>\n",
       "      <td>1.509224e+09</td>\n",
       "    </tr>\n",
       "    <tr>\n",
       "      <th>2</th>\n",
       "      <td>id_2</td>\n",
       "      <td>['Vegetarian Friendly']</td>\n",
       "      <td>810.0</td>\n",
       "      <td>2</td>\n",
       "      <td>28.0</td>\n",
       "      <td>[['Better than the Links', 'Ivy Black'], ['12/...</td>\n",
       "      <td>/Restaurant_Review-g186525-d13129638-Reviews-B...</td>\n",
       "      <td>d13129638</td>\n",
       "      <td>0</td>\n",
       "      <td>0.0</td>\n",
       "      <td>...</td>\n",
       "      <td>0</td>\n",
       "      <td>0</td>\n",
       "      <td>0</td>\n",
       "      <td>0</td>\n",
       "      <td>0</td>\n",
       "      <td>0</td>\n",
       "      <td>0</td>\n",
       "      <td>0</td>\n",
       "      <td>1.514412e+09</td>\n",
       "      <td>1.512511e+09</td>\n",
       "    </tr>\n",
       "    <tr>\n",
       "      <th>3</th>\n",
       "      <td>id_3</td>\n",
       "      <td>['Italian', 'Mediterranean', 'European', 'Vege...</td>\n",
       "      <td>1669.0</td>\n",
       "      <td>3</td>\n",
       "      <td>202.0</td>\n",
       "      <td>[['Most exquisite', 'Delicious and authentic']...</td>\n",
       "      <td>/Restaurant_Review-g186338-d680417-Reviews-Qui...</td>\n",
       "      <td>d680417</td>\n",
       "      <td>0</td>\n",
       "      <td>0.0</td>\n",
       "      <td>...</td>\n",
       "      <td>0</td>\n",
       "      <td>0</td>\n",
       "      <td>0</td>\n",
       "      <td>0</td>\n",
       "      <td>0</td>\n",
       "      <td>0</td>\n",
       "      <td>0</td>\n",
       "      <td>0</td>\n",
       "      <td>1.512511e+09</td>\n",
       "      <td>1.511302e+09</td>\n",
       "    </tr>\n",
       "    <tr>\n",
       "      <th>4</th>\n",
       "      <td>id_4</td>\n",
       "      <td>['Italian', 'Mediterranean', 'European', 'Seaf...</td>\n",
       "      <td>37.0</td>\n",
       "      <td>3</td>\n",
       "      <td>162.0</td>\n",
       "      <td>[['Always the best in bratislava', 'Very good ...</td>\n",
       "      <td>/Restaurant_Review-g274924-d1112354-Reviews-Ma...</td>\n",
       "      <td>d1112354</td>\n",
       "      <td>0</td>\n",
       "      <td>0.0</td>\n",
       "      <td>...</td>\n",
       "      <td>0</td>\n",
       "      <td>0</td>\n",
       "      <td>0</td>\n",
       "      <td>0</td>\n",
       "      <td>0</td>\n",
       "      <td>0</td>\n",
       "      <td>0</td>\n",
       "      <td>0</td>\n",
       "      <td>1.518041e+09</td>\n",
       "      <td>1.516745e+09</td>\n",
       "    </tr>\n",
       "  </tbody>\n",
       "</table>\n",
       "<p>5 rows × 45 columns</p>\n",
       "</div>"
      ],
      "text/plain": [
       "  Restaurant_id                                      Cuisine Style  Ranking  \\\n",
       "0          id_0                                     ['Bar', 'Pub']  12963.0   \n",
       "1          id_1  ['European', 'Scandinavian', 'Gluten Free Opti...    106.0   \n",
       "2          id_2                            ['Vegetarian Friendly']    810.0   \n",
       "3          id_3  ['Italian', 'Mediterranean', 'European', 'Vege...   1669.0   \n",
       "4          id_4  ['Italian', 'Mediterranean', 'European', 'Seaf...     37.0   \n",
       "\n",
       "   Price Range  Number of Reviews  \\\n",
       "0            2                4.0   \n",
       "1            2               97.0   \n",
       "2            2               28.0   \n",
       "3            3              202.0   \n",
       "4            3              162.0   \n",
       "\n",
       "                                             Reviews  \\\n",
       "0                                           [[], []]   \n",
       "1  [['Very good reviews!', 'Fine dining in Hakani...   \n",
       "2  [['Better than the Links', 'Ivy Black'], ['12/...   \n",
       "3  [['Most exquisite', 'Delicious and authentic']...   \n",
       "4  [['Always the best in bratislava', 'Very good ...   \n",
       "\n",
       "                                              URL_TA      ID_TA  sample  \\\n",
       "0  /Restaurant_Review-g187147-d10746918-Reviews-L...  d10746918       0   \n",
       "1  /Restaurant_Review-g189934-d6674944-Reviews-Ra...   d6674944       0   \n",
       "2  /Restaurant_Review-g186525-d13129638-Reviews-B...  d13129638       0   \n",
       "3  /Restaurant_Review-g186338-d680417-Reviews-Qui...    d680417       0   \n",
       "4  /Restaurant_Review-g274924-d1112354-Reviews-Ma...   d1112354       0   \n",
       "\n",
       "   Rating  ...  City_Paris  City_Prague  City_Rome  City_Stockholm  \\\n",
       "0     0.0  ...           1            0          0               0   \n",
       "1     0.0  ...           0            0          0               0   \n",
       "2     0.0  ...           0            0          0               0   \n",
       "3     0.0  ...           0            0          0               0   \n",
       "4     0.0  ...           0            0          0               0   \n",
       "\n",
       "   City_Vienna  City_Warsaw  City_Zurich  City_nan  Review1_Epoch  \\\n",
       "0            0            0            0         0   0.000000e+00   \n",
       "1            0            0            0         0   1.512425e+09   \n",
       "2            0            0            0         0   1.514412e+09   \n",
       "3            0            0            0         0   1.512511e+09   \n",
       "4            0            0            0         0   1.518041e+09   \n",
       "\n",
       "   Review2_Epoch  \n",
       "0   0.000000e+00  \n",
       "1   1.509224e+09  \n",
       "2   1.512511e+09  \n",
       "3   1.511302e+09  \n",
       "4   1.516745e+09  \n",
       "\n",
       "[5 rows x 45 columns]"
      ]
     },
     "execution_count": 237,
     "metadata": {},
     "output_type": "execute_result"
    }
   ],
   "source": [
    "# обработка колонки Reviews\n",
    "import re\n",
    "from datetime import datetime\n",
    "\n",
    "def parse_review_dates(str):\n",
    "    # распарсим строку и выделим даты\n",
    "    pattern = \"(\\d{2}/\\d{2}/\\d{4})', '(\\d{2}/\\d{2}/\\d{4})\"\n",
    "    match = re.search(pattern, str) \n",
    "\n",
    "    if match:\n",
    "        dates = match.group().replace(\"', '\", \",\").split(',')\n",
    "        if len(dates) != 2:\n",
    "            # не удалось распарсить - вернем нулевые значения\n",
    "            return [0, 0]\n",
    "        # вернем в формате unix time\n",
    "        return [datetime.strptime(dates[0], '%m/%d/%Y').timestamp(), datetime.strptime(dates[1], '%m/%d/%Y').timestamp()]\n",
    "    else:\n",
    "        # не удалось распарсить - вернем нулевые значения\n",
    "        return [0, 0]\n",
    "    \n",
    "data['Reviews'].fillna(\"\", inplace=True)\n",
    "data['Review1_Epoch'] = data['Reviews'].apply(lambda x : parse_review_dates(x)[0])\n",
    "data['Review2_Epoch'] = data['Reviews'].apply(lambda x : parse_review_dates(x)[1])\n",
    "data.head()"
   ]
  },
  {
   "cell_type": "code",
   "execution_count": 238,
   "metadata": {
    "execution": {
     "iopub.execute_input": "2021-11-21T22:56:24.515201Z",
     "iopub.status.busy": "2021-11-21T22:56:24.514939Z",
     "iopub.status.idle": "2021-11-21T22:56:25.918055Z",
     "shell.execute_reply": "2021-11-21T22:56:25.917086Z",
     "shell.execute_reply.started": "2021-11-21T22:56:24.515156Z"
    }
   },
   "outputs": [],
   "source": [
    "# добавление колонки Between_Reviews (разница в секундах между ревью)\n",
    "def calc_between_reviews(str):\n",
    "    dates = parse_review_dates(str)\n",
    "    if dates[0] == 0 or dates[1] == 0:\n",
    "        return 0\n",
    "    else:\n",
    "        return abs(dates[0] - dates[1])\n",
    "\n",
    "data['Between_Reviews'] = data['Reviews'].apply(lambda x : calc_between_reviews(x))"
   ]
  },
  {
   "cell_type": "code",
   "execution_count": 239,
   "metadata": {
    "execution": {
     "iopub.execute_input": "2021-11-21T22:56:25.920324Z",
     "iopub.status.busy": "2021-11-21T22:56:25.919802Z",
     "iopub.status.idle": "2021-11-21T22:56:25.974443Z",
     "shell.execute_reply": "2021-11-21T22:56:25.973456Z",
     "shell.execute_reply.started": "2021-11-21T22:56:25.920109Z"
    }
   },
   "outputs": [
    {
     "name": "stdout",
     "output_type": "stream",
     "text": [
      "125\n"
     ]
    }
   ],
   "source": [
    "# получим полный список cuisines\n",
    "def parse_cuisines(str):\n",
    "    str = str.replace(\"['\", \"\").replace(\"']\", \"\").replace(\"', '\", \",\")\n",
    "    return str.split(\",\")\n",
    "\n",
    "cuisines = set()\n",
    "\n",
    "for value in data['Cuisine Style'].dropna().unique():\n",
    "    for cuisine in parse_cuisines(value):\n",
    "        cuisines.add(cuisine)\n",
    "\n",
    "print(len(cuisines))\n"
   ]
  },
  {
   "cell_type": "code",
   "execution_count": 240,
   "metadata": {
    "execution": {
     "iopub.execute_input": "2021-11-21T22:56:25.976283Z",
     "iopub.status.busy": "2021-11-21T22:56:25.975952Z",
     "iopub.status.idle": "2021-11-21T22:56:30.150540Z",
     "shell.execute_reply": "2021-11-21T22:56:30.149633Z",
     "shell.execute_reply.started": "2021-11-21T22:56:25.976147Z"
    }
   },
   "outputs": [],
   "source": [
    "# сделаем one-hot mapping для каждой кухни\n",
    "data['Cuisine Style'].fillna('', inplace=True)\n",
    "data['Cuisines'] = data['Cuisine Style'].apply(lambda x : parse_cuisines(x))\n",
    "\n",
    "def find_item(cell):\n",
    "    if cuisine in cell:\n",
    "        return 1\n",
    "    return 0\n",
    "\n",
    "for cuisine in cuisines:\n",
    "    data['Cuisine_' + cuisine] = data['Cuisines'].apply(find_item)\n"
   ]
  },
  {
   "cell_type": "code",
   "execution_count": 241,
   "metadata": {
    "execution": {
     "iopub.execute_input": "2021-11-21T22:56:30.151932Z",
     "iopub.status.busy": "2021-11-21T22:56:30.151696Z",
     "iopub.status.idle": "2021-11-21T22:56:30.232713Z",
     "shell.execute_reply": "2021-11-21T22:56:30.231675Z",
     "shell.execute_reply.started": "2021-11-21T22:56:30.151897Z"
    }
   },
   "outputs": [
    {
     "data": {
      "text/html": [
       "<div>\n",
       "<style scoped>\n",
       "    .dataframe tbody tr th:only-of-type {\n",
       "        vertical-align: middle;\n",
       "    }\n",
       "\n",
       "    .dataframe tbody tr th {\n",
       "        vertical-align: top;\n",
       "    }\n",
       "\n",
       "    .dataframe thead th {\n",
       "        text-align: right;\n",
       "    }\n",
       "</style>\n",
       "<table border=\"1\" class=\"dataframe\">\n",
       "  <thead>\n",
       "    <tr style=\"text-align: right;\">\n",
       "      <th></th>\n",
       "      <th>Restaurant_id</th>\n",
       "      <th>Cuisine Style</th>\n",
       "      <th>Ranking</th>\n",
       "      <th>Price Range</th>\n",
       "      <th>Number of Reviews</th>\n",
       "      <th>Reviews</th>\n",
       "      <th>URL_TA</th>\n",
       "      <th>ID_TA</th>\n",
       "      <th>sample</th>\n",
       "      <th>Rating</th>\n",
       "      <th>...</th>\n",
       "      <th>Cuisine_Arabic</th>\n",
       "      <th>Cuisine_Georgian</th>\n",
       "      <th>Cuisine_Uzbek</th>\n",
       "      <th>Cuisine_Caucasian</th>\n",
       "      <th>Cuisine_Scandinavian</th>\n",
       "      <th>Cuisine_Chinese</th>\n",
       "      <th>Cuisine_Polish</th>\n",
       "      <th>Cuisine_Hawaiian</th>\n",
       "      <th>Cuisine_Cajun &amp; Creole</th>\n",
       "      <th>Cuisine_New Zealand</th>\n",
       "    </tr>\n",
       "  </thead>\n",
       "  <tbody>\n",
       "    <tr>\n",
       "      <th>47539</th>\n",
       "      <td>id_2149</td>\n",
       "      <td></td>\n",
       "      <td>2165.0</td>\n",
       "      <td>0</td>\n",
       "      <td>0.0</td>\n",
       "      <td>[['Great cafe in Bogenhausen'], ['11/19/2015']]</td>\n",
       "      <td>/Restaurant_Review-g187309-d8828412-Reviews-De...</td>\n",
       "      <td>d8828412</td>\n",
       "      <td>1</td>\n",
       "      <td>4.0</td>\n",
       "      <td>...</td>\n",
       "      <td>0</td>\n",
       "      <td>0</td>\n",
       "      <td>0</td>\n",
       "      <td>0</td>\n",
       "      <td>0</td>\n",
       "      <td>0</td>\n",
       "      <td>0</td>\n",
       "      <td>0</td>\n",
       "      <td>0</td>\n",
       "      <td>0</td>\n",
       "    </tr>\n",
       "    <tr>\n",
       "      <th>7583</th>\n",
       "      <td>id_7583</td>\n",
       "      <td>['European', 'Belgian']</td>\n",
       "      <td>1064.0</td>\n",
       "      <td>2</td>\n",
       "      <td>16.0</td>\n",
       "      <td>[['Nice Belgian type bistro, unfortunately cl....</td>\n",
       "      <td>/Restaurant_Review-g189934-d7732558-Reviews-Ri...</td>\n",
       "      <td>d7732558</td>\n",
       "      <td>0</td>\n",
       "      <td>0.0</td>\n",
       "      <td>...</td>\n",
       "      <td>0</td>\n",
       "      <td>0</td>\n",
       "      <td>0</td>\n",
       "      <td>0</td>\n",
       "      <td>0</td>\n",
       "      <td>0</td>\n",
       "      <td>0</td>\n",
       "      <td>0</td>\n",
       "      <td>0</td>\n",
       "      <td>0</td>\n",
       "    </tr>\n",
       "    <tr>\n",
       "      <th>25165</th>\n",
       "      <td>id_5195</td>\n",
       "      <td></td>\n",
       "      <td>5197.0</td>\n",
       "      <td>0</td>\n",
       "      <td>4.0</td>\n",
       "      <td>[[], []]</td>\n",
       "      <td>/Restaurant_Review-g187323-d12000684-Reviews-P...</td>\n",
       "      <td>d12000684</td>\n",
       "      <td>1</td>\n",
       "      <td>4.0</td>\n",
       "      <td>...</td>\n",
       "      <td>0</td>\n",
       "      <td>0</td>\n",
       "      <td>0</td>\n",
       "      <td>0</td>\n",
       "      <td>0</td>\n",
       "      <td>0</td>\n",
       "      <td>0</td>\n",
       "      <td>0</td>\n",
       "      <td>0</td>\n",
       "      <td>0</td>\n",
       "    </tr>\n",
       "    <tr>\n",
       "      <th>9964</th>\n",
       "      <td>id_9964</td>\n",
       "      <td>['Irish', 'Bar', 'Pub']</td>\n",
       "      <td>491.0</td>\n",
       "      <td>1</td>\n",
       "      <td>244.0</td>\n",
       "      <td>[['We stopped here on a Sunday it was freezin....</td>\n",
       "      <td>/Restaurant_Review-g188590-d3648914-Reviews-Sl...</td>\n",
       "      <td>d3648914</td>\n",
       "      <td>0</td>\n",
       "      <td>0.0</td>\n",
       "      <td>...</td>\n",
       "      <td>0</td>\n",
       "      <td>0</td>\n",
       "      <td>0</td>\n",
       "      <td>0</td>\n",
       "      <td>0</td>\n",
       "      <td>0</td>\n",
       "      <td>0</td>\n",
       "      <td>0</td>\n",
       "      <td>0</td>\n",
       "      <td>0</td>\n",
       "    </tr>\n",
       "    <tr>\n",
       "      <th>45882</th>\n",
       "      <td>id_4107</td>\n",
       "      <td></td>\n",
       "      <td>4109.0</td>\n",
       "      <td>0</td>\n",
       "      <td>8.0</td>\n",
       "      <td>[[], []]</td>\n",
       "      <td>/Restaurant_Review-g187323-d5526542-Reviews-Re...</td>\n",
       "      <td>d5526542</td>\n",
       "      <td>1</td>\n",
       "      <td>4.5</td>\n",
       "      <td>...</td>\n",
       "      <td>0</td>\n",
       "      <td>0</td>\n",
       "      <td>0</td>\n",
       "      <td>0</td>\n",
       "      <td>0</td>\n",
       "      <td>0</td>\n",
       "      <td>0</td>\n",
       "      <td>0</td>\n",
       "      <td>0</td>\n",
       "      <td>0</td>\n",
       "    </tr>\n",
       "  </tbody>\n",
       "</table>\n",
       "<p>5 rows × 172 columns</p>\n",
       "</div>"
      ],
      "text/plain": [
       "      Restaurant_id            Cuisine Style  Ranking  Price Range  \\\n",
       "47539       id_2149                            2165.0            0   \n",
       "7583        id_7583  ['European', 'Belgian']   1064.0            2   \n",
       "25165       id_5195                            5197.0            0   \n",
       "9964        id_9964  ['Irish', 'Bar', 'Pub']    491.0            1   \n",
       "45882       id_4107                            4109.0            0   \n",
       "\n",
       "       Number of Reviews                                            Reviews  \\\n",
       "47539                0.0    [['Great cafe in Bogenhausen'], ['11/19/2015']]   \n",
       "7583                16.0  [['Nice Belgian type bistro, unfortunately cl....   \n",
       "25165                4.0                                           [[], []]   \n",
       "9964               244.0  [['We stopped here on a Sunday it was freezin....   \n",
       "45882                8.0                                           [[], []]   \n",
       "\n",
       "                                                  URL_TA      ID_TA  sample  \\\n",
       "47539  /Restaurant_Review-g187309-d8828412-Reviews-De...   d8828412       1   \n",
       "7583   /Restaurant_Review-g189934-d7732558-Reviews-Ri...   d7732558       0   \n",
       "25165  /Restaurant_Review-g187323-d12000684-Reviews-P...  d12000684       1   \n",
       "9964   /Restaurant_Review-g188590-d3648914-Reviews-Sl...   d3648914       0   \n",
       "45882  /Restaurant_Review-g187323-d5526542-Reviews-Re...   d5526542       1   \n",
       "\n",
       "       Rating  ...  Cuisine_Arabic  Cuisine_Georgian  Cuisine_Uzbek  \\\n",
       "47539     4.0  ...               0                 0              0   \n",
       "7583      0.0  ...               0                 0              0   \n",
       "25165     4.0  ...               0                 0              0   \n",
       "9964      0.0  ...               0                 0              0   \n",
       "45882     4.5  ...               0                 0              0   \n",
       "\n",
       "       Cuisine_Caucasian  Cuisine_Scandinavian  Cuisine_Chinese  \\\n",
       "47539                  0                     0                0   \n",
       "7583                   0                     0                0   \n",
       "25165                  0                     0                0   \n",
       "9964                   0                     0                0   \n",
       "45882                  0                     0                0   \n",
       "\n",
       "       Cuisine_Polish  Cuisine_Hawaiian  Cuisine_Cajun & Creole  \\\n",
       "47539               0                 0                       0   \n",
       "7583                0                 0                       0   \n",
       "25165               0                 0                       0   \n",
       "9964                0                 0                       0   \n",
       "45882               0                 0                       0   \n",
       "\n",
       "       Cuisine_New Zealand  \n",
       "47539                    0  \n",
       "7583                     0  \n",
       "25165                    0  \n",
       "9964                     0  \n",
       "45882                    0  \n",
       "\n",
       "[5 rows x 172 columns]"
      ]
     },
     "execution_count": 241,
     "metadata": {},
     "output_type": "execute_result"
    }
   ],
   "source": [
    "data.sample(5)"
   ]
  },
  {
   "cell_type": "markdown",
   "metadata": {},
   "source": [
    "![](https://cs10.pikabu.ru/post_img/2018/09/06/11/1536261023140110012.jpg)"
   ]
  },
  {
   "cell_type": "markdown",
   "metadata": {},
   "source": [
    "# EDA \n",
    "[Exploratory Data Analysis](https://ru.wikipedia.org/wiki/Разведочный_анализ_данных) - Анализ данных\n",
    "На этом этапе мы строим графики, ищем закономерности, аномалии, выбросы или связи между признаками.\n",
    "В общем цель этого этапа понять, что эти данные могут нам дать и как признаки могут быть взаимосвязаны между собой.\n",
    "Понимание изначальных признаков позволит сгенерировать новые, более сильные и, тем самым, сделать нашу модель лучше.\n",
    "![](https://miro.medium.com/max/2598/1*RXdMb7Uk6mGqWqPguHULaQ.png)"
   ]
  },
  {
   "cell_type": "markdown",
   "metadata": {},
   "source": [
    "### Посмотрим распределение признака"
   ]
  },
  {
   "cell_type": "code",
   "execution_count": 242,
   "metadata": {
    "execution": {
     "iopub.execute_input": "2021-11-21T22:56:30.234556Z",
     "iopub.status.busy": "2021-11-21T22:56:30.234230Z",
     "iopub.status.idle": "2021-11-21T22:56:30.708745Z",
     "shell.execute_reply": "2021-11-21T22:56:30.707761Z",
     "shell.execute_reply.started": "2021-11-21T22:56:30.234498Z"
    }
   },
   "outputs": [
    {
     "data": {
      "text/plain": [
       "<AxesSubplot:>"
      ]
     },
     "execution_count": 242,
     "metadata": {},
     "output_type": "execute_result"
    },
    {
     "data": {
      "image/png": "[encoded data removed]",
      "text/plain": [
       "<Figure size 720x504 with 1 Axes>"
      ]
     },
     "metadata": {
      "needs_background": "light"
     },
     "output_type": "display_data"
    }
   ],
   "source": [
    "plt.rcParams['figure.figsize'] = (10,7)\n",
    "df_train['Ranking'].hist(bins=100)"
   ]
  },
  {
   "cell_type": "markdown",
   "metadata": {},
   "source": [
    "У нас много ресторанов, которые не дотягивают и до 2500 места в своем городе, а что там по городам?"
   ]
  },
  {
   "cell_type": "code",
   "execution_count": 243,
   "metadata": {
    "execution": {
     "iopub.execute_input": "2021-11-21T22:56:30.710727Z",
     "iopub.status.busy": "2021-11-21T22:56:30.710251Z",
     "iopub.status.idle": "2021-11-21T22:56:31.154699Z",
     "shell.execute_reply": "2021-11-21T22:56:31.153760Z",
     "shell.execute_reply.started": "2021-11-21T22:56:30.710674Z"
    }
   },
   "outputs": [
    {
     "data": {
      "text/plain": [
       "<AxesSubplot:>"
      ]
     },
     "execution_count": 243,
     "metadata": {},
     "output_type": "execute_result"
    },
    {
     "data": {
      "image/png": "[encoded data removed]",
      "text/plain": [
       "<Figure size 720x504 with 1 Axes>"
      ]
     },
     "metadata": {
      "needs_background": "light"
     },
     "output_type": "display_data"
    }
   ],
   "source": [
    "df_train['City'].value_counts(ascending=True).plot(kind='barh')"
   ]
  },
  {
   "cell_type": "markdown",
   "metadata": {},
   "source": [
    "А кто-то говорил, что французы любят поесть=) Посмотрим, как изменится распределение в большом городе:"
   ]
  },
  {
   "cell_type": "code",
   "execution_count": 244,
   "metadata": {
    "execution": {
     "iopub.execute_input": "2021-11-21T22:56:31.162729Z",
     "iopub.status.busy": "2021-11-21T22:56:31.162359Z",
     "iopub.status.idle": "2021-11-21T22:56:31.647146Z",
     "shell.execute_reply": "2021-11-21T22:56:31.646183Z",
     "shell.execute_reply.started": "2021-11-21T22:56:31.162691Z"
    }
   },
   "outputs": [
    {
     "data": {
      "text/plain": [
       "<AxesSubplot:>"
      ]
     },
     "execution_count": 244,
     "metadata": {},
     "output_type": "execute_result"
    },
    {
     "data": {
      "image/png": "[encoded data removed]",
      "text/plain": [
       "<Figure size 720x504 with 1 Axes>"
      ]
     },
     "metadata": {
      "needs_background": "light"
     },
     "output_type": "display_data"
    }
   ],
   "source": [
    "df_train['Ranking'][df_train['City'] =='London'].hist(bins=100)"
   ]
  },
  {
   "cell_type": "code",
   "execution_count": 245,
   "metadata": {
    "execution": {
     "iopub.execute_input": "2021-11-21T22:56:31.649904Z",
     "iopub.status.busy": "2021-11-21T22:56:31.649184Z",
     "iopub.status.idle": "2021-11-21T22:56:34.747336Z",
     "shell.execute_reply": "2021-11-21T22:56:34.746288Z",
     "shell.execute_reply.started": "2021-11-21T22:56:31.649822Z"
    }
   },
   "outputs": [
    {
     "data": {
      "image/png": "[encoded data removed]",
      "text/plain": [
       "<Figure size 720x504 with 1 Axes>"
      ]
     },
     "metadata": {
      "needs_background": "light"
     },
     "output_type": "display_data"
    }
   ],
   "source": [
    "# посмотрим на топ 10 городов\n",
    "for x in (df_train['City'].value_counts())[0:10].index:\n",
    "    df_train['Ranking'][df_train['City'] == x].hist(bins=100)\n",
    "plt.show()"
   ]
  },
  {
   "cell_type": "markdown",
   "metadata": {},
   "source": [
    "Получается, что Ranking имеет нормальное распределение, просто в больших городах больше ресторанов, из-за мы этого имеем смещение."
   ]
  },
  {
   "cell_type": "code",
   "execution_count": 246,
   "metadata": {
    "execution": {
     "iopub.execute_input": "2021-11-21T22:56:34.749860Z",
     "iopub.status.busy": "2021-11-21T22:56:34.749226Z",
     "iopub.status.idle": "2021-11-21T22:56:34.789577Z",
     "shell.execute_reply": "2021-11-21T22:56:34.788681Z",
     "shell.execute_reply.started": "2021-11-21T22:56:34.749785Z"
    }
   },
   "outputs": [
    {
     "data": {
      "text/html": [
       "<div>\n",
       "<style scoped>\n",
       "    .dataframe tbody tr th:only-of-type {\n",
       "        vertical-align: middle;\n",
       "    }\n",
       "\n",
       "    .dataframe tbody tr th {\n",
       "        vertical-align: top;\n",
       "    }\n",
       "\n",
       "    .dataframe thead th {\n",
       "        text-align: right;\n",
       "    }\n",
       "</style>\n",
       "<table border=\"1\" class=\"dataframe\">\n",
       "  <thead>\n",
       "    <tr style=\"text-align: right;\">\n",
       "      <th></th>\n",
       "      <th>Restaurant_id</th>\n",
       "      <th>City</th>\n",
       "      <th>Cuisine Style</th>\n",
       "      <th>Ranking</th>\n",
       "      <th>Rating</th>\n",
       "      <th>Price Range</th>\n",
       "      <th>Number of Reviews</th>\n",
       "      <th>Reviews</th>\n",
       "      <th>URL_TA</th>\n",
       "      <th>ID_TA</th>\n",
       "      <th>sample</th>\n",
       "      <th>RestaurantsInCity</th>\n",
       "    </tr>\n",
       "  </thead>\n",
       "  <tbody>\n",
       "    <tr>\n",
       "      <th>37673</th>\n",
       "      <td>id_1583</td>\n",
       "      <td>Rome</td>\n",
       "      <td>['Italian', 'Pizza', 'Mediterranean', 'Vegetar...</td>\n",
       "      <td>1584.0</td>\n",
       "      <td>3.5</td>\n",
       "      <td>$$ - $$$</td>\n",
       "      <td>821.0</td>\n",
       "      <td>[['No bad, no good', 'Sunday night'], ['12/09/...</td>\n",
       "      <td>/Restaurant_Review-g187791-d2667392-Reviews-Ma...</td>\n",
       "      <td>d2667392</td>\n",
       "      <td>1</td>\n",
       "      <td>2078</td>\n",
       "    </tr>\n",
       "    <tr>\n",
       "      <th>36402</th>\n",
       "      <td>id_3334</td>\n",
       "      <td>London</td>\n",
       "      <td>['Bar', 'European', 'British', 'Vegetarian Fri...</td>\n",
       "      <td>3341.0</td>\n",
       "      <td>3.5</td>\n",
       "      <td>$$ - $$$</td>\n",
       "      <td>369.0</td>\n",
       "      <td>[['Hit and miss', 'Attentive friendly Staff-gr...</td>\n",
       "      <td>/Restaurant_Review-g186338-d1501528-Reviews-Ro...</td>\n",
       "      <td>d1501528</td>\n",
       "      <td>1</td>\n",
       "      <td>5757</td>\n",
       "    </tr>\n",
       "    <tr>\n",
       "      <th>19154</th>\n",
       "      <td>id_1222</td>\n",
       "      <td>Dublin</td>\n",
       "      <td>NaN</td>\n",
       "      <td>1225.0</td>\n",
       "      <td>5.0</td>\n",
       "      <td>NaN</td>\n",
       "      <td>2.0</td>\n",
       "      <td>[[\"Don't pass by this place\", 'Love my Nicos']...</td>\n",
       "      <td>/Restaurant_Review-g186605-d7038606-Reviews-Ni...</td>\n",
       "      <td>d7038606</td>\n",
       "      <td>1</td>\n",
       "      <td>673</td>\n",
       "    </tr>\n",
       "    <tr>\n",
       "      <th>3823</th>\n",
       "      <td>id_5391</td>\n",
       "      <td>Madrid</td>\n",
       "      <td>['Spanish']</td>\n",
       "      <td>5394.0</td>\n",
       "      <td>3.5</td>\n",
       "      <td>NaN</td>\n",
       "      <td>32.0</td>\n",
       "      <td>[[], []]</td>\n",
       "      <td>/Restaurant_Review-g187514-d7742983-Reviews-Ca...</td>\n",
       "      <td>d7742983</td>\n",
       "      <td>1</td>\n",
       "      <td>3108</td>\n",
       "    </tr>\n",
       "    <tr>\n",
       "      <th>18324</th>\n",
       "      <td>id_1669</td>\n",
       "      <td>Barcelona</td>\n",
       "      <td>['Mediterranean', 'European', 'Spanish', 'Vega...</td>\n",
       "      <td>1670.0</td>\n",
       "      <td>4.0</td>\n",
       "      <td>$$$$</td>\n",
       "      <td>377.0</td>\n",
       "      <td>[['Airy room with delightful food', 'Fantastic...</td>\n",
       "      <td>/Restaurant_Review-g187497-d1074478-Reviews-En...</td>\n",
       "      <td>d1074478</td>\n",
       "      <td>1</td>\n",
       "      <td>2734</td>\n",
       "    </tr>\n",
       "  </tbody>\n",
       "</table>\n",
       "</div>"
      ],
      "text/plain": [
       "      Restaurant_id       City  \\\n",
       "37673       id_1583       Rome   \n",
       "36402       id_3334     London   \n",
       "19154       id_1222     Dublin   \n",
       "3823        id_5391     Madrid   \n",
       "18324       id_1669  Barcelona   \n",
       "\n",
       "                                           Cuisine Style  Ranking  Rating  \\\n",
       "37673  ['Italian', 'Pizza', 'Mediterranean', 'Vegetar...   1584.0     3.5   \n",
       "36402  ['Bar', 'European', 'British', 'Vegetarian Fri...   3341.0     3.5   \n",
       "19154                                                NaN   1225.0     5.0   \n",
       "3823                                         ['Spanish']   5394.0     3.5   \n",
       "18324  ['Mediterranean', 'European', 'Spanish', 'Vega...   1670.0     4.0   \n",
       "\n",
       "      Price Range  Number of Reviews  \\\n",
       "37673    $$ - $$$              821.0   \n",
       "36402    $$ - $$$              369.0   \n",
       "19154         NaN                2.0   \n",
       "3823          NaN               32.0   \n",
       "18324        $$$$              377.0   \n",
       "\n",
       "                                                 Reviews  \\\n",
       "37673  [['No bad, no good', 'Sunday night'], ['12/09/...   \n",
       "36402  [['Hit and miss', 'Attentive friendly Staff-gr...   \n",
       "19154  [[\"Don't pass by this place\", 'Love my Nicos']...   \n",
       "3823                                            [[], []]   \n",
       "18324  [['Airy room with delightful food', 'Fantastic...   \n",
       "\n",
       "                                                  URL_TA     ID_TA  sample  \\\n",
       "37673  /Restaurant_Review-g187791-d2667392-Reviews-Ma...  d2667392       1   \n",
       "36402  /Restaurant_Review-g186338-d1501528-Reviews-Ro...  d1501528       1   \n",
       "19154  /Restaurant_Review-g186605-d7038606-Reviews-Ni...  d7038606       1   \n",
       "3823   /Restaurant_Review-g187514-d7742983-Reviews-Ca...  d7742983       1   \n",
       "18324  /Restaurant_Review-g187497-d1074478-Reviews-En...  d1074478       1   \n",
       "\n",
       "       RestaurantsInCity  \n",
       "37673               2078  \n",
       "36402               5757  \n",
       "19154                673  \n",
       "3823                3108  \n",
       "18324               2734  "
      ]
     },
     "execution_count": 246,
     "metadata": {},
     "output_type": "execute_result"
    }
   ],
   "source": [
    "# количество ресторанов в городе\n",
    "df_train['RestaurantsInCity'] = df_train.groupby('City')['Restaurant_id'].transform('count')\n",
    "df_train.sample(5)"
   ]
  },
  {
   "cell_type": "code",
   "execution_count": 247,
   "metadata": {
    "execution": {
     "iopub.execute_input": "2021-11-21T22:56:34.791937Z",
     "iopub.status.busy": "2021-11-21T22:56:34.791425Z",
     "iopub.status.idle": "2021-11-21T22:56:34.817693Z",
     "shell.execute_reply": "2021-11-21T22:56:34.816818Z",
     "shell.execute_reply.started": "2021-11-21T22:56:34.791725Z"
    }
   },
   "outputs": [
    {
     "data": {
      "text/html": [
       "<div>\n",
       "<style scoped>\n",
       "    .dataframe tbody tr th:only-of-type {\n",
       "        vertical-align: middle;\n",
       "    }\n",
       "\n",
       "    .dataframe tbody tr th {\n",
       "        vertical-align: top;\n",
       "    }\n",
       "\n",
       "    .dataframe thead th {\n",
       "        text-align: right;\n",
       "    }\n",
       "</style>\n",
       "<table border=\"1\" class=\"dataframe\">\n",
       "  <thead>\n",
       "    <tr style=\"text-align: right;\">\n",
       "      <th></th>\n",
       "      <th>Restaurant_id</th>\n",
       "      <th>City</th>\n",
       "      <th>Cuisine Style</th>\n",
       "      <th>Ranking</th>\n",
       "      <th>Rating</th>\n",
       "      <th>Price Range</th>\n",
       "      <th>Number of Reviews</th>\n",
       "      <th>Reviews</th>\n",
       "      <th>URL_TA</th>\n",
       "      <th>ID_TA</th>\n",
       "      <th>sample</th>\n",
       "      <th>RestaurantsInCity</th>\n",
       "      <th>NormalisedRanking</th>\n",
       "    </tr>\n",
       "  </thead>\n",
       "  <tbody>\n",
       "    <tr>\n",
       "      <th>24157</th>\n",
       "      <td>id_13728</td>\n",
       "      <td>Paris</td>\n",
       "      <td>['Brazilian', 'Sushi', 'South American']</td>\n",
       "      <td>13730.0</td>\n",
       "      <td>2.0</td>\n",
       "      <td>$$$$</td>\n",
       "      <td>NaN</td>\n",
       "      <td>[['I was expecting more...'], ['10/19/2012']]</td>\n",
       "      <td>/Restaurant_Review-g187147-d810086-Reviews-Tav...</td>\n",
       "      <td>d810086</td>\n",
       "      <td>1</td>\n",
       "      <td>4897</td>\n",
       "      <td>2.803757</td>\n",
       "    </tr>\n",
       "    <tr>\n",
       "      <th>39687</th>\n",
       "      <td>id_2220</td>\n",
       "      <td>Amsterdam</td>\n",
       "      <td>['Spanish']</td>\n",
       "      <td>2225.0</td>\n",
       "      <td>5.0</td>\n",
       "      <td>$</td>\n",
       "      <td>5.0</td>\n",
       "      <td>[['Little deli - authentic Spanish food'], ['0...</td>\n",
       "      <td>/Restaurant_Review-g188590-d3811900-Reviews-Pa...</td>\n",
       "      <td>d3811900</td>\n",
       "      <td>1</td>\n",
       "      <td>1086</td>\n",
       "      <td>2.048803</td>\n",
       "    </tr>\n",
       "    <tr>\n",
       "      <th>35517</th>\n",
       "      <td>id_13781</td>\n",
       "      <td>London</td>\n",
       "      <td>['Fast Food']</td>\n",
       "      <td>13791.0</td>\n",
       "      <td>3.5</td>\n",
       "      <td>$</td>\n",
       "      <td>12.0</td>\n",
       "      <td>[['Food was ok', 'Good fish n chips'], ['04/17...</td>\n",
       "      <td>/Restaurant_Review-g186338-d5244341-Reviews-Mi...</td>\n",
       "      <td>d5244341</td>\n",
       "      <td>1</td>\n",
       "      <td>5757</td>\n",
       "      <td>2.395518</td>\n",
       "    </tr>\n",
       "    <tr>\n",
       "      <th>8289</th>\n",
       "      <td>id_5531</td>\n",
       "      <td>Madrid</td>\n",
       "      <td>NaN</td>\n",
       "      <td>5534.0</td>\n",
       "      <td>4.0</td>\n",
       "      <td>NaN</td>\n",
       "      <td>2.0</td>\n",
       "      <td>[[], []]</td>\n",
       "      <td>/Restaurant_Review-g187514-d13320374-Reviews-T...</td>\n",
       "      <td>d13320374</td>\n",
       "      <td>1</td>\n",
       "      <td>3108</td>\n",
       "      <td>1.780566</td>\n",
       "    </tr>\n",
       "    <tr>\n",
       "      <th>35000</th>\n",
       "      <td>id_11930</td>\n",
       "      <td>Paris</td>\n",
       "      <td>['French', 'Bar', 'European', 'Pub']</td>\n",
       "      <td>11932.0</td>\n",
       "      <td>3.0</td>\n",
       "      <td>$$ - $$$</td>\n",
       "      <td>194.0</td>\n",
       "      <td>[['Good Fixed Price Lunch', 'One of the best p...</td>\n",
       "      <td>/Restaurant_Review-g187147-d5890589-Reviews-Le...</td>\n",
       "      <td>d5890589</td>\n",
       "      <td>1</td>\n",
       "      <td>4897</td>\n",
       "      <td>2.436594</td>\n",
       "    </tr>\n",
       "  </tbody>\n",
       "</table>\n",
       "</div>"
      ],
      "text/plain": [
       "      Restaurant_id       City                             Cuisine Style  \\\n",
       "24157      id_13728      Paris  ['Brazilian', 'Sushi', 'South American']   \n",
       "39687       id_2220  Amsterdam                               ['Spanish']   \n",
       "35517      id_13781     London                             ['Fast Food']   \n",
       "8289        id_5531     Madrid                                       NaN   \n",
       "35000      id_11930      Paris      ['French', 'Bar', 'European', 'Pub']   \n",
       "\n",
       "       Ranking  Rating Price Range  Number of Reviews  \\\n",
       "24157  13730.0     2.0        $$$$                NaN   \n",
       "39687   2225.0     5.0           $                5.0   \n",
       "35517  13791.0     3.5           $               12.0   \n",
       "8289    5534.0     4.0         NaN                2.0   \n",
       "35000  11932.0     3.0    $$ - $$$              194.0   \n",
       "\n",
       "                                                 Reviews  \\\n",
       "24157      [['I was expecting more...'], ['10/19/2012']]   \n",
       "39687  [['Little deli - authentic Spanish food'], ['0...   \n",
       "35517  [['Food was ok', 'Good fish n chips'], ['04/17...   \n",
       "8289                                            [[], []]   \n",
       "35000  [['Good Fixed Price Lunch', 'One of the best p...   \n",
       "\n",
       "                                                  URL_TA      ID_TA  sample  \\\n",
       "24157  /Restaurant_Review-g187147-d810086-Reviews-Tav...    d810086       1   \n",
       "39687  /Restaurant_Review-g188590-d3811900-Reviews-Pa...   d3811900       1   \n",
       "35517  /Restaurant_Review-g186338-d5244341-Reviews-Mi...   d5244341       1   \n",
       "8289   /Restaurant_Review-g187514-d13320374-Reviews-T...  d13320374       1   \n",
       "35000  /Restaurant_Review-g187147-d5890589-Reviews-Le...   d5890589       1   \n",
       "\n",
       "       RestaurantsInCity  NormalisedRanking  \n",
       "24157               4897           2.803757  \n",
       "39687               1086           2.048803  \n",
       "35517               5757           2.395518  \n",
       "8289                3108           1.780566  \n",
       "35000               4897           2.436594  "
      ]
     },
     "execution_count": 247,
     "metadata": {},
     "output_type": "execute_result"
    }
   ],
   "source": [
    "# нормализуем Ranking на количество ресторанов в городе\n",
    "df_train['NormalisedRanking'] = df_train['Ranking'] / df_train['RestaurantsInCity']\n",
    "df_train.sample(5)"
   ]
  },
  {
   "cell_type": "code",
   "execution_count": 248,
   "metadata": {
    "execution": {
     "iopub.execute_input": "2021-11-21T22:56:34.819278Z",
     "iopub.status.busy": "2021-11-21T22:56:34.818900Z",
     "iopub.status.idle": "2021-11-21T22:56:37.280078Z",
     "shell.execute_reply": "2021-11-21T22:56:37.279021Z",
     "shell.execute_reply.started": "2021-11-21T22:56:34.819103Z"
    }
   },
   "outputs": [
    {
     "data": {
      "image/png": "[encoded data removed]",
      "text/plain": [
       "<Figure size 720x504 with 1 Axes>"
      ]
     },
     "metadata": {
      "needs_background": "light"
     },
     "output_type": "display_data"
    }
   ],
   "source": [
    "# проверим нормализацию Ranking\n",
    "for x in (df_train['City'].value_counts())[0:10].index:\n",
    "    df_train['NormalisedRanking'][df_train['City'] == x].hist(bins=100)\n",
    "plt.show()"
   ]
  },
  {
   "cell_type": "code",
   "execution_count": 249,
   "metadata": {
    "execution": {
     "iopub.execute_input": "2021-11-21T22:56:37.282255Z",
     "iopub.status.busy": "2021-11-21T22:56:37.281702Z",
     "iopub.status.idle": "2021-11-21T22:56:37.314098Z",
     "shell.execute_reply": "2021-11-21T22:56:37.313179Z",
     "shell.execute_reply.started": "2021-11-21T22:56:37.282195Z"
    }
   },
   "outputs": [
    {
     "data": {
      "text/html": [
       "<div>\n",
       "<style scoped>\n",
       "    .dataframe tbody tr th:only-of-type {\n",
       "        vertical-align: middle;\n",
       "    }\n",
       "\n",
       "    .dataframe tbody tr th {\n",
       "        vertical-align: top;\n",
       "    }\n",
       "\n",
       "    .dataframe thead th {\n",
       "        text-align: right;\n",
       "    }\n",
       "</style>\n",
       "<table border=\"1\" class=\"dataframe\">\n",
       "  <thead>\n",
       "    <tr style=\"text-align: right;\">\n",
       "      <th></th>\n",
       "      <th>Restaurant_id</th>\n",
       "      <th>City</th>\n",
       "      <th>Cuisine Style</th>\n",
       "      <th>Ranking</th>\n",
       "      <th>Rating</th>\n",
       "      <th>Price Range</th>\n",
       "      <th>Number of Reviews</th>\n",
       "      <th>Reviews</th>\n",
       "      <th>URL_TA</th>\n",
       "      <th>ID_TA</th>\n",
       "      <th>sample</th>\n",
       "      <th>RestaurantsInCity</th>\n",
       "      <th>NormalisedRanking</th>\n",
       "      <th>NormalisedNumberOfReviews</th>\n",
       "    </tr>\n",
       "  </thead>\n",
       "  <tbody>\n",
       "    <tr>\n",
       "      <th>13164</th>\n",
       "      <td>id_1429</td>\n",
       "      <td>Milan</td>\n",
       "      <td>['Italian', 'Pizza', 'Seafood', 'Mediterranean...</td>\n",
       "      <td>1431.0</td>\n",
       "      <td>4.0</td>\n",
       "      <td>$$$$</td>\n",
       "      <td>177.0</td>\n",
       "      <td>[['Wonderful Dinner Experience', 'Tasty food a...</td>\n",
       "      <td>/Restaurant_Review-g187849-d2535829-Reviews-La...</td>\n",
       "      <td>d2535829</td>\n",
       "      <td>1</td>\n",
       "      <td>2133</td>\n",
       "      <td>0.670886</td>\n",
       "      <td>0.082982</td>\n",
       "    </tr>\n",
       "    <tr>\n",
       "      <th>6820</th>\n",
       "      <td>id_127</td>\n",
       "      <td>Munich</td>\n",
       "      <td>['French', 'International', 'Mediterranean', '...</td>\n",
       "      <td>129.0</td>\n",
       "      <td>4.5</td>\n",
       "      <td>$$$$</td>\n",
       "      <td>86.0</td>\n",
       "      <td>[['Outstanding food, impeccable service', 'Ano...</td>\n",
       "      <td>/Restaurant_Review-g187309-d5818462-Reviews-ES...</td>\n",
       "      <td>d5818462</td>\n",
       "      <td>1</td>\n",
       "      <td>893</td>\n",
       "      <td>0.144457</td>\n",
       "      <td>0.096305</td>\n",
       "    </tr>\n",
       "    <tr>\n",
       "      <th>23326</th>\n",
       "      <td>id_634</td>\n",
       "      <td>Geneva</td>\n",
       "      <td>['Italian', 'European', 'Pizza', 'Mediterranea...</td>\n",
       "      <td>637.0</td>\n",
       "      <td>3.5</td>\n",
       "      <td>$$ - $$$</td>\n",
       "      <td>93.0</td>\n",
       "      <td>[['Very accessible', 'Very Good!'], ['01/08/20...</td>\n",
       "      <td>/Restaurant_Review-g188057-d1025410-Reviews-Al...</td>\n",
       "      <td>d1025410</td>\n",
       "      <td>1</td>\n",
       "      <td>481</td>\n",
       "      <td>1.324324</td>\n",
       "      <td>0.193347</td>\n",
       "    </tr>\n",
       "    <tr>\n",
       "      <th>13786</th>\n",
       "      <td>id_803</td>\n",
       "      <td>Warsaw</td>\n",
       "      <td>NaN</td>\n",
       "      <td>804.0</td>\n",
       "      <td>4.5</td>\n",
       "      <td>NaN</td>\n",
       "      <td>16.0</td>\n",
       "      <td>[[\"Best gluten free burgers we've ever had!\", ...</td>\n",
       "      <td>/Restaurant_Review-g274856-d8378583-Reviews-Bu...</td>\n",
       "      <td>d8378583</td>\n",
       "      <td>1</td>\n",
       "      <td>727</td>\n",
       "      <td>1.105915</td>\n",
       "      <td>0.022008</td>\n",
       "    </tr>\n",
       "    <tr>\n",
       "      <th>38603</th>\n",
       "      <td>id_8664</td>\n",
       "      <td>London</td>\n",
       "      <td>['British']</td>\n",
       "      <td>8673.0</td>\n",
       "      <td>4.0</td>\n",
       "      <td>$</td>\n",
       "      <td>9.0</td>\n",
       "      <td>[['Lovely little place', 'Good British Breakfa...</td>\n",
       "      <td>/Restaurant_Review-g186338-d3863573-Reviews-Ca...</td>\n",
       "      <td>d3863573</td>\n",
       "      <td>1</td>\n",
       "      <td>5757</td>\n",
       "      <td>1.506514</td>\n",
       "      <td>0.001563</td>\n",
       "    </tr>\n",
       "  </tbody>\n",
       "</table>\n",
       "</div>"
      ],
      "text/plain": [
       "      Restaurant_id    City  \\\n",
       "13164       id_1429   Milan   \n",
       "6820         id_127  Munich   \n",
       "23326        id_634  Geneva   \n",
       "13786        id_803  Warsaw   \n",
       "38603       id_8664  London   \n",
       "\n",
       "                                           Cuisine Style  Ranking  Rating  \\\n",
       "13164  ['Italian', 'Pizza', 'Seafood', 'Mediterranean...   1431.0     4.0   \n",
       "6820   ['French', 'International', 'Mediterranean', '...    129.0     4.5   \n",
       "23326  ['Italian', 'European', 'Pizza', 'Mediterranea...    637.0     3.5   \n",
       "13786                                                NaN    804.0     4.5   \n",
       "38603                                        ['British']   8673.0     4.0   \n",
       "\n",
       "      Price Range  Number of Reviews  \\\n",
       "13164        $$$$              177.0   \n",
       "6820         $$$$               86.0   \n",
       "23326    $$ - $$$               93.0   \n",
       "13786         NaN               16.0   \n",
       "38603           $                9.0   \n",
       "\n",
       "                                                 Reviews  \\\n",
       "13164  [['Wonderful Dinner Experience', 'Tasty food a...   \n",
       "6820   [['Outstanding food, impeccable service', 'Ano...   \n",
       "23326  [['Very accessible', 'Very Good!'], ['01/08/20...   \n",
       "13786  [[\"Best gluten free burgers we've ever had!\", ...   \n",
       "38603  [['Lovely little place', 'Good British Breakfa...   \n",
       "\n",
       "                                                  URL_TA     ID_TA  sample  \\\n",
       "13164  /Restaurant_Review-g187849-d2535829-Reviews-La...  d2535829       1   \n",
       "6820   /Restaurant_Review-g187309-d5818462-Reviews-ES...  d5818462       1   \n",
       "23326  /Restaurant_Review-g188057-d1025410-Reviews-Al...  d1025410       1   \n",
       "13786  /Restaurant_Review-g274856-d8378583-Reviews-Bu...  d8378583       1   \n",
       "38603  /Restaurant_Review-g186338-d3863573-Reviews-Ca...  d3863573       1   \n",
       "\n",
       "       RestaurantsInCity  NormalisedRanking  NormalisedNumberOfReviews  \n",
       "13164               2133           0.670886                   0.082982  \n",
       "6820                 893           0.144457                   0.096305  \n",
       "23326                481           1.324324                   0.193347  \n",
       "13786                727           1.105915                   0.022008  \n",
       "38603               5757           1.506514                   0.001563  "
      ]
     },
     "execution_count": 249,
     "metadata": {},
     "output_type": "execute_result"
    }
   ],
   "source": [
    "# нормализуем 'Number of Reviews' на количество ресторанов в городе\n",
    "df_train['NormalisedNumberOfReviews'] = df_train['Number of Reviews'] / df_train['RestaurantsInCity']\n",
    "df_train.sample(5)"
   ]
  },
  {
   "cell_type": "code",
   "execution_count": 250,
   "metadata": {
    "execution": {
     "iopub.execute_input": "2021-11-21T22:56:37.316065Z",
     "iopub.status.busy": "2021-11-21T22:56:37.315664Z",
     "iopub.status.idle": "2021-11-21T22:56:37.693813Z",
     "shell.execute_reply": "2021-11-21T22:56:37.692918Z",
     "shell.execute_reply.started": "2021-11-21T22:56:37.315992Z"
    }
   },
   "outputs": [
    {
     "data": {
      "image/png": "[encoded data removed]",
      "text/plain": [
       "<Figure size 720x504 with 1 Axes>"
      ]
     },
     "metadata": {
      "needs_background": "light"
     },
     "output_type": "display_data"
    }
   ],
   "source": [
    "# проверим нормализацию 'Number of Reviews'\n",
    "for x in (df_train['City'].value_counts())[0:10].index:\n",
    "    df_train['NormalisedNumberOfReviews'][df_train['City'] == x].hist(bins=4)\n",
    "plt.show()"
   ]
  },
  {
   "cell_type": "markdown",
   "metadata": {},
   "source": [
    "### Посмотрим распределение целевой переменной"
   ]
  },
  {
   "cell_type": "code",
   "execution_count": 251,
   "metadata": {
    "execution": {
     "iopub.execute_input": "2021-11-21T22:56:37.696402Z",
     "iopub.status.busy": "2021-11-21T22:56:37.695917Z",
     "iopub.status.idle": "2021-11-21T22:56:37.889211Z",
     "shell.execute_reply": "2021-11-21T22:56:37.888101Z",
     "shell.execute_reply.started": "2021-11-21T22:56:37.696220Z"
    }
   },
   "outputs": [
    {
     "data": {
      "text/plain": [
       "<AxesSubplot:>"
      ]
     },
     "execution_count": 251,
     "metadata": {},
     "output_type": "execute_result"
    },
    {
     "data": {
      "image/png": "[encoded data removed]",
      "text/plain": [
       "<Figure size 720x504 with 1 Axes>"
      ]
     },
     "metadata": {
      "needs_background": "light"
     },
     "output_type": "display_data"
    }
   ],
   "source": [
    "df_train['Rating'].value_counts(ascending=True).plot(kind='barh')"
   ]
  },
  {
   "cell_type": "markdown",
   "metadata": {},
   "source": [
    "### Посмотрим распределение целевой переменной относительно признака"
   ]
  },
  {
   "cell_type": "code",
   "execution_count": 252,
   "metadata": {
    "execution": {
     "iopub.execute_input": "2021-11-21T22:56:37.891893Z",
     "iopub.status.busy": "2021-11-21T22:56:37.891257Z",
     "iopub.status.idle": "2021-11-21T22:56:38.293644Z",
     "shell.execute_reply": "2021-11-21T22:56:38.292525Z",
     "shell.execute_reply.started": "2021-11-21T22:56:37.891818Z"
    }
   },
   "outputs": [
    {
     "data": {
      "text/plain": [
       "<AxesSubplot:>"
      ]
     },
     "execution_count": 252,
     "metadata": {},
     "output_type": "execute_result"
    },
    {
     "data": {
      "image/png": "[encoded data removed]",
      "text/plain": [
       "<Figure size 720x504 with 1 Axes>"
      ]
     },
     "metadata": {
      "needs_background": "light"
     },
     "output_type": "display_data"
    }
   ],
   "source": [
    "df_train['Ranking'][df_train['Rating'] == 5].hist(bins=100)"
   ]
  },
  {
   "cell_type": "code",
   "execution_count": 253,
   "metadata": {
    "execution": {
     "iopub.execute_input": "2021-11-21T22:56:38.295783Z",
     "iopub.status.busy": "2021-11-21T22:56:38.295417Z",
     "iopub.status.idle": "2021-11-21T22:56:38.696795Z",
     "shell.execute_reply": "2021-11-21T22:56:38.696068Z",
     "shell.execute_reply.started": "2021-11-21T22:56:38.295704Z"
    }
   },
   "outputs": [
    {
     "data": {
      "text/plain": [
       "<AxesSubplot:>"
      ]
     },
     "execution_count": 253,
     "metadata": {},
     "output_type": "execute_result"
    },
    {
     "data": {
      "image/png": "[encoded data removed]",
      "text/plain": [
       "<Figure size 720x504 with 1 Axes>"
      ]
     },
     "metadata": {
      "needs_background": "light"
     },
     "output_type": "display_data"
    }
   ],
   "source": [
    "df_train['Ranking'][df_train['Rating'] < 4].hist(bins=100)"
   ]
  },
  {
   "cell_type": "markdown",
   "metadata": {},
   "source": [
    "### И один из моих любимых - [корреляция признаков](https://ru.wikipedia.org/wiki/Корреляция)\n",
    "На этом графике уже сейчас вы сможете заметить, как признаки связаны между собой и с целевой переменной."
   ]
  },
  {
   "cell_type": "code",
   "execution_count": 254,
   "metadata": {
    "execution": {
     "iopub.execute_input": "2021-11-21T22:56:38.698704Z",
     "iopub.status.busy": "2021-11-21T22:56:38.698373Z",
     "iopub.status.idle": "2021-11-21T22:56:44.021164Z",
     "shell.execute_reply": "2021-11-21T22:56:44.020165Z",
     "shell.execute_reply.started": "2021-11-21T22:56:38.698647Z"
    }
   },
   "outputs": [
    {
     "data": {
      "text/plain": [
       "<AxesSubplot:>"
      ]
     },
     "execution_count": 254,
     "metadata": {},
     "output_type": "execute_result"
    },
    {
     "data": {
      "image/png": "[encoded data removed]",
      "text/plain": [
       "<Figure size 1800x1440 with 2 Axes>"
      ]
     },
     "metadata": {
      "needs_background": "light"
     },
     "output_type": "display_data"
    }
   ],
   "source": [
    "plt.rcParams['figure.figsize'] = (25,20)\n",
    "sns.heatmap(data.drop(['sample'], axis=1).corr(),)"
   ]
  },
  {
   "cell_type": "markdown",
   "metadata": {},
   "source": [
    "# Data Preprocessing\n",
    "Теперь, для удобства и воспроизводимости кода, завернем всю обработку в одну большую функцию."
   ]
  },
  {
   "cell_type": "code",
   "execution_count": 255,
   "metadata": {
    "execution": {
     "iopub.execute_input": "2021-11-21T22:56:44.023117Z",
     "iopub.status.busy": "2021-11-21T22:56:44.022761Z",
     "iopub.status.idle": "2021-11-21T22:56:44.319500Z",
     "shell.execute_reply": "2021-11-21T22:56:44.318432Z",
     "shell.execute_reply.started": "2021-11-21T22:56:44.023058Z"
    }
   },
   "outputs": [
    {
     "name": "stdout",
     "output_type": "stream",
     "text": [
      "<class 'pandas.core.frame.DataFrame'>\n",
      "RangeIndex: 50000 entries, 0 to 49999\n",
      "Data columns (total 11 columns):\n",
      " #   Column             Non-Null Count  Dtype  \n",
      "---  ------             --------------  -----  \n",
      " 0   Restaurant_id      50000 non-null  object \n",
      " 1   City               50000 non-null  object \n",
      " 2   Cuisine Style      38410 non-null  object \n",
      " 3   Ranking            50000 non-null  float64\n",
      " 4   Price Range        32639 non-null  object \n",
      " 5   Number of Reviews  46800 non-null  float64\n",
      " 6   Reviews            49998 non-null  object \n",
      " 7   URL_TA             50000 non-null  object \n",
      " 8   ID_TA              50000 non-null  object \n",
      " 9   sample             50000 non-null  int64  \n",
      " 10  Rating             50000 non-null  float64\n",
      "dtypes: float64(3), int64(1), object(7)\n",
      "memory usage: 4.2+ MB\n"
     ]
    }
   ],
   "source": [
    "# на всякий случай, заново подгружаем данные\n",
    "df_train = pd.read_csv('main_task.csv')\n",
    "df_test = pd.read_csv('kaggle_task.csv')\n",
    "df_train['sample'] = 1 # помечаем где у нас трейн\n",
    "df_test['sample'] = 0 # помечаем где у нас тест\n",
    "df_test['Rating'] = 0 # в тесте у нас нет значения Rating, мы его должны предсказать, по этому пока просто заполняем нулями\n",
    "\n",
    "data = df_test.append(df_train, sort=False).reset_index(drop=True) # объединяем\n",
    "data.info()"
   ]
  },
  {
   "cell_type": "code",
   "execution_count": 256,
   "metadata": {
    "execution": {
     "iopub.execute_input": "2021-11-21T22:56:44.321279Z",
     "iopub.status.busy": "2021-11-21T22:56:44.320901Z",
     "iopub.status.idle": "2021-11-21T22:56:44.346812Z",
     "shell.execute_reply": "2021-11-21T22:56:44.345761Z",
     "shell.execute_reply.started": "2021-11-21T22:56:44.321120Z"
    }
   },
   "outputs": [],
   "source": [
    "import re\n",
    "from datetime import datetime\n",
    "from sklearn.preprocessing import PolynomialFeatures \n",
    "\n",
    "def preproc_data(df_input):\n",
    "    '''includes several functions to pre-process the predictor data.'''\n",
    "    \n",
    "    df_output = df_input.copy()\n",
    "    \n",
    "    # ################### 1. Предобработка ############################################################## \n",
    "    \n",
    "    # опечатка\n",
    "    df_output.City = df_output.City.replace(to_replace={'Oporto': 'Porto'})\n",
    "    \n",
    "    # добавление признака RestaurantsInCity (количество ресторанов в городе)\n",
    "    df_output['RestaurantsInCity'] = df_output.groupby('City')['Restaurant_id'].transform('count')\n",
    "    \n",
    "    # добавление признака PriceRangeNan (указан Price Range?) - УХУДШИЛО!\n",
    "    # df_output['PriceRangeNan'] = pd.isna(df_output['Price Range']).astype('uint8')    \n",
    "    \n",
    "    # ################### 2. NAN ############################################################## \n",
    "    # Далее заполняем пропуски, вы можете попробовать заполнением средним или средним по городу и тд...\n",
    "    df_output['Number of Reviews'].fillna(0, inplace=True)\n",
    "    df_output['Cuisine Style'].fillna('', inplace=True)\n",
    "    \n",
    "    \n",
    "    # ################### 3. Encoding ############################################################## \n",
    "    \n",
    "    # колонка 'City'\n",
    "    df_output = pd.get_dummies(df_output, columns=[ 'City',], dummy_na=True)\n",
    "        \n",
    "    # колонка 'Price Range'\n",
    "    def normalise_price_range(str):\n",
    "        dict = {\"$\": 1, \"$$ - $$$\": 2, \"$$$$\": 3}\n",
    "        return dict[str] if str in dict.keys() else 0\n",
    "\n",
    "    df_output['Price Range'] = df_output['Price Range'].apply(lambda x : normalise_price_range(x))    \n",
    "    \n",
    "    # обработаем 'Cuisine Style'\n",
    "    def parse_cuisines(str):\n",
    "        str = str.replace(\"['\", \"\").replace(\"']\", \"\").replace(\"', '\", \",\")\n",
    "        return str.split(\",\")\n",
    "\n",
    "    cuisines = set()\n",
    "\n",
    "    for value in data['Cuisine Style'].dropna().unique():\n",
    "        for cuisine in parse_cuisines(value):\n",
    "            cuisines.add(cuisine)\n",
    "        \n",
    "    df_output['Cuisines'] = df_output['Cuisine Style'].apply(lambda x : parse_cuisines(x))\n",
    "\n",
    "    def find_item(cell):\n",
    "        if cuisine in cell:\n",
    "            return 1\n",
    "        return 0\n",
    "\n",
    "    for cuisine in cuisines:\n",
    "        df_output['Cuisine_' + cuisine] = df_output['Cuisines'].apply(find_item)\n",
    "    \n",
    "    # ################### 4. Feature Engineering ####################################################\n",
    "\n",
    "    # добавление признака Review1_Epoch и Review2_Epoch (секунд между первым и вторым ревью и Unix epoch time)\n",
    "    def parse_review_dates(str):\n",
    "        pattern = \"(\\d{2}/\\d{2}/\\d{4})', '(\\d{2}/\\d{2}/\\d{4})\"\n",
    "        match = re.search(pattern, str) \n",
    "\n",
    "        if match:\n",
    "            dates = match.group().replace(\"', '\", \",\").split(',')\n",
    "            if len(dates) != 2:\n",
    "                return [0, 0]\n",
    "            return [datetime.strptime(dates[0], '%m/%d/%Y').timestamp(), datetime.strptime(dates[1], '%m/%d/%Y').timestamp()]\n",
    "        else:\n",
    "            return [0, 0]\n",
    "    \n",
    "    df_output['Reviews'].fillna(\"\", inplace=True)\n",
    "    df_output['Review1_Epoch'] = df_output['Reviews'].apply(lambda x : parse_review_dates(x)[0])\n",
    "    df_output['Review2_Epoch'] = df_output['Reviews'].apply(lambda x : parse_review_dates(x)[1])    \n",
    "    \n",
    "    # добавление признака Between_Reviews (разница в секундах между ревью)\n",
    "    def calc_between_reviews(str):\n",
    "        dates = parse_review_dates(str)\n",
    "        if dates[0] == 0 or dates[1] == 0:\n",
    "            return 0\n",
    "        else:\n",
    "            return abs(dates[0] - dates[1])\n",
    "\n",
    "    df_output['Between_Reviews'] = df_output['Reviews'].apply(lambda x : calc_between_reviews(x))\n",
    "    \n",
    "    # добавление признака NormalisedRanking (нормализуем Ranking на количество ресторанов в городе)\n",
    "    df_output['NormalisedRanking'] = df_output['Ranking'] / df_output['RestaurantsInCity']\n",
    "    \n",
    "    # добавление признака NormalisedNumberOfReviews (нормализуем 'Number of Reviews' на количество ресторанов в городе) - УХУДШИЛО!\n",
    "    # df_output['NormalisedNumberOfReviews'] = df_output['Number of Reviews'] / df_output['RestaurantsInCity']\n",
    "    \n",
    "    # ################### 5. Clean #################################################### \n",
    "    \n",
    "    # убираем не нужные для модели признаки\n",
    "    df_output.drop(['Restaurant_id', 'ID_TA'], axis = 1, inplace=True)\n",
    "    \n",
    "    # убираем признаки которые еще не успели обработать, \n",
    "    # модель на признаках с dtypes \"object\" обучаться не будет, просто выберим их и удалим\n",
    "    object_columns = [s for s in df_output.columns if df_output[s].dtypes == 'object']\n",
    "    df_output.drop(object_columns, axis = 1, inplace=True)\n",
    "    \n",
    "    return df_output"
   ]
  },
  {
   "cell_type": "markdown",
   "metadata": {},
   "source": [
    ">По хорошему, можно было бы перевести эту большую функцию в класс и разбить на подфункции (согласно ООП). "
   ]
  },
  {
   "cell_type": "markdown",
   "metadata": {},
   "source": [
    "#### Запускаем и проверяем что получилось"
   ]
  },
  {
   "cell_type": "code",
   "execution_count": 257,
   "metadata": {
    "execution": {
     "iopub.execute_input": "2021-11-21T22:56:44.348307Z",
     "iopub.status.busy": "2021-11-21T22:56:44.348087Z",
     "iopub.status.idle": "2021-11-21T22:56:52.752088Z",
     "shell.execute_reply": "2021-11-21T22:56:52.751276Z",
     "shell.execute_reply.started": "2021-11-21T22:56:44.348266Z"
    }
   },
   "outputs": [
    {
     "data": {
      "text/html": [
       "<div>\n",
       "<style scoped>\n",
       "    .dataframe tbody tr th:only-of-type {\n",
       "        vertical-align: middle;\n",
       "    }\n",
       "\n",
       "    .dataframe tbody tr th {\n",
       "        vertical-align: top;\n",
       "    }\n",
       "\n",
       "    .dataframe thead th {\n",
       "        text-align: right;\n",
       "    }\n",
       "</style>\n",
       "<table border=\"1\" class=\"dataframe\">\n",
       "  <thead>\n",
       "    <tr style=\"text-align: right;\">\n",
       "      <th></th>\n",
       "      <th>Ranking</th>\n",
       "      <th>Price Range</th>\n",
       "      <th>Number of Reviews</th>\n",
       "      <th>sample</th>\n",
       "      <th>Rating</th>\n",
       "      <th>RestaurantsInCity</th>\n",
       "      <th>City_Amsterdam</th>\n",
       "      <th>City_Athens</th>\n",
       "      <th>City_Barcelona</th>\n",
       "      <th>City_Berlin</th>\n",
       "      <th>...</th>\n",
       "      <th>Cuisine_Scandinavian</th>\n",
       "      <th>Cuisine_Chinese</th>\n",
       "      <th>Cuisine_Polish</th>\n",
       "      <th>Cuisine_Hawaiian</th>\n",
       "      <th>Cuisine_Cajun &amp; Creole</th>\n",
       "      <th>Cuisine_New Zealand</th>\n",
       "      <th>Review1_Epoch</th>\n",
       "      <th>Review2_Epoch</th>\n",
       "      <th>Between_Reviews</th>\n",
       "      <th>NormalisedRanking</th>\n",
       "    </tr>\n",
       "  </thead>\n",
       "  <tbody>\n",
       "    <tr>\n",
       "      <th>8769</th>\n",
       "      <td>348.0</td>\n",
       "      <td>2</td>\n",
       "      <td>388.0</td>\n",
       "      <td>0</td>\n",
       "      <td>0.0</td>\n",
       "      <td>1816</td>\n",
       "      <td>0</td>\n",
       "      <td>0</td>\n",
       "      <td>0</td>\n",
       "      <td>0</td>\n",
       "      <td>...</td>\n",
       "      <td>0</td>\n",
       "      <td>0</td>\n",
       "      <td>0</td>\n",
       "      <td>0</td>\n",
       "      <td>0</td>\n",
       "      <td>0</td>\n",
       "      <td>1.512943e+09</td>\n",
       "      <td>1.510006e+09</td>\n",
       "      <td>2937600.0</td>\n",
       "      <td>0.191630</td>\n",
       "    </tr>\n",
       "    <tr>\n",
       "      <th>43095</th>\n",
       "      <td>3551.0</td>\n",
       "      <td>0</td>\n",
       "      <td>4.0</td>\n",
       "      <td>1</td>\n",
       "      <td>5.0</td>\n",
       "      <td>2705</td>\n",
       "      <td>0</td>\n",
       "      <td>0</td>\n",
       "      <td>0</td>\n",
       "      <td>1</td>\n",
       "      <td>...</td>\n",
       "      <td>0</td>\n",
       "      <td>0</td>\n",
       "      <td>0</td>\n",
       "      <td>0</td>\n",
       "      <td>0</td>\n",
       "      <td>0</td>\n",
       "      <td>0.000000e+00</td>\n",
       "      <td>0.000000e+00</td>\n",
       "      <td>0.0</td>\n",
       "      <td>1.312754</td>\n",
       "    </tr>\n",
       "    <tr>\n",
       "      <th>22462</th>\n",
       "      <td>5168.0</td>\n",
       "      <td>3</td>\n",
       "      <td>8.0</td>\n",
       "      <td>1</td>\n",
       "      <td>4.0</td>\n",
       "      <td>3395</td>\n",
       "      <td>0</td>\n",
       "      <td>0</td>\n",
       "      <td>1</td>\n",
       "      <td>0</td>\n",
       "      <td>...</td>\n",
       "      <td>0</td>\n",
       "      <td>0</td>\n",
       "      <td>0</td>\n",
       "      <td>0</td>\n",
       "      <td>0</td>\n",
       "      <td>0</td>\n",
       "      <td>1.505596e+09</td>\n",
       "      <td>1.463778e+09</td>\n",
       "      <td>41817600.0</td>\n",
       "      <td>1.522239</td>\n",
       "    </tr>\n",
       "    <tr>\n",
       "      <th>11451</th>\n",
       "      <td>1915.0</td>\n",
       "      <td>0</td>\n",
       "      <td>7.0</td>\n",
       "      <td>1</td>\n",
       "      <td>4.0</td>\n",
       "      <td>1314</td>\n",
       "      <td>0</td>\n",
       "      <td>0</td>\n",
       "      <td>0</td>\n",
       "      <td>0</td>\n",
       "      <td>...</td>\n",
       "      <td>0</td>\n",
       "      <td>0</td>\n",
       "      <td>0</td>\n",
       "      <td>0</td>\n",
       "      <td>0</td>\n",
       "      <td>0</td>\n",
       "      <td>1.511820e+09</td>\n",
       "      <td>1.487196e+09</td>\n",
       "      <td>24624000.0</td>\n",
       "      <td>1.457382</td>\n",
       "    </tr>\n",
       "    <tr>\n",
       "      <th>9152</th>\n",
       "      <td>509.0</td>\n",
       "      <td>2</td>\n",
       "      <td>40.0</td>\n",
       "      <td>0</td>\n",
       "      <td>0.0</td>\n",
       "      <td>554</td>\n",
       "      <td>0</td>\n",
       "      <td>0</td>\n",
       "      <td>0</td>\n",
       "      <td>0</td>\n",
       "      <td>...</td>\n",
       "      <td>0</td>\n",
       "      <td>0</td>\n",
       "      <td>0</td>\n",
       "      <td>0</td>\n",
       "      <td>0</td>\n",
       "      <td>0</td>\n",
       "      <td>1.492549e+09</td>\n",
       "      <td>1.487455e+09</td>\n",
       "      <td>5094000.0</td>\n",
       "      <td>0.918773</td>\n",
       "    </tr>\n",
       "    <tr>\n",
       "      <th>37401</th>\n",
       "      <td>443.0</td>\n",
       "      <td>2</td>\n",
       "      <td>389.0</td>\n",
       "      <td>1</td>\n",
       "      <td>4.0</td>\n",
       "      <td>2705</td>\n",
       "      <td>0</td>\n",
       "      <td>0</td>\n",
       "      <td>0</td>\n",
       "      <td>1</td>\n",
       "      <td>...</td>\n",
       "      <td>0</td>\n",
       "      <td>0</td>\n",
       "      <td>0</td>\n",
       "      <td>0</td>\n",
       "      <td>0</td>\n",
       "      <td>0</td>\n",
       "      <td>1.514326e+09</td>\n",
       "      <td>1.511647e+09</td>\n",
       "      <td>2678400.0</td>\n",
       "      <td>0.163771</td>\n",
       "    </tr>\n",
       "    <tr>\n",
       "      <th>5240</th>\n",
       "      <td>904.0</td>\n",
       "      <td>2</td>\n",
       "      <td>16.0</td>\n",
       "      <td>0</td>\n",
       "      <td>0.0</td>\n",
       "      <td>1186</td>\n",
       "      <td>0</td>\n",
       "      <td>0</td>\n",
       "      <td>0</td>\n",
       "      <td>0</td>\n",
       "      <td>...</td>\n",
       "      <td>0</td>\n",
       "      <td>0</td>\n",
       "      <td>0</td>\n",
       "      <td>0</td>\n",
       "      <td>0</td>\n",
       "      <td>0</td>\n",
       "      <td>1.507064e+09</td>\n",
       "      <td>1.476738e+09</td>\n",
       "      <td>30326400.0</td>\n",
       "      <td>0.762226</td>\n",
       "    </tr>\n",
       "    <tr>\n",
       "      <th>40667</th>\n",
       "      <td>1175.0</td>\n",
       "      <td>2</td>\n",
       "      <td>41.0</td>\n",
       "      <td>1</td>\n",
       "      <td>4.5</td>\n",
       "      <td>2705</td>\n",
       "      <td>0</td>\n",
       "      <td>0</td>\n",
       "      <td>0</td>\n",
       "      <td>1</td>\n",
       "      <td>...</td>\n",
       "      <td>0</td>\n",
       "      <td>0</td>\n",
       "      <td>0</td>\n",
       "      <td>0</td>\n",
       "      <td>0</td>\n",
       "      <td>0</td>\n",
       "      <td>1.511129e+09</td>\n",
       "      <td>1.491426e+09</td>\n",
       "      <td>19702800.0</td>\n",
       "      <td>0.434381</td>\n",
       "    </tr>\n",
       "    <tr>\n",
       "      <th>35935</th>\n",
       "      <td>1207.0</td>\n",
       "      <td>2</td>\n",
       "      <td>347.0</td>\n",
       "      <td>1</td>\n",
       "      <td>4.0</td>\n",
       "      <td>7193</td>\n",
       "      <td>0</td>\n",
       "      <td>0</td>\n",
       "      <td>0</td>\n",
       "      <td>0</td>\n",
       "      <td>...</td>\n",
       "      <td>0</td>\n",
       "      <td>0</td>\n",
       "      <td>0</td>\n",
       "      <td>0</td>\n",
       "      <td>0</td>\n",
       "      <td>0</td>\n",
       "      <td>1.512857e+09</td>\n",
       "      <td>1.511820e+09</td>\n",
       "      <td>1036800.0</td>\n",
       "      <td>0.167802</td>\n",
       "    </tr>\n",
       "    <tr>\n",
       "      <th>38875</th>\n",
       "      <td>1104.0</td>\n",
       "      <td>1</td>\n",
       "      <td>15.0</td>\n",
       "      <td>1</td>\n",
       "      <td>4.0</td>\n",
       "      <td>1186</td>\n",
       "      <td>0</td>\n",
       "      <td>0</td>\n",
       "      <td>0</td>\n",
       "      <td>0</td>\n",
       "      <td>...</td>\n",
       "      <td>0</td>\n",
       "      <td>0</td>\n",
       "      <td>0</td>\n",
       "      <td>0</td>\n",
       "      <td>0</td>\n",
       "      <td>0</td>\n",
       "      <td>1.462136e+09</td>\n",
       "      <td>1.439759e+09</td>\n",
       "      <td>22377600.0</td>\n",
       "      <td>0.930860</td>\n",
       "    </tr>\n",
       "  </tbody>\n",
       "</table>\n",
       "<p>10 rows × 167 columns</p>\n",
       "</div>"
      ],
      "text/plain": [
       "       Ranking  Price Range  Number of Reviews  sample  Rating  \\\n",
       "8769     348.0            2              388.0       0     0.0   \n",
       "43095   3551.0            0                4.0       1     5.0   \n",
       "22462   5168.0            3                8.0       1     4.0   \n",
       "11451   1915.0            0                7.0       1     4.0   \n",
       "9152     509.0            2               40.0       0     0.0   \n",
       "37401    443.0            2              389.0       1     4.0   \n",
       "5240     904.0            2               16.0       0     0.0   \n",
       "40667   1175.0            2               41.0       1     4.5   \n",
       "35935   1207.0            2              347.0       1     4.0   \n",
       "38875   1104.0            1               15.0       1     4.0   \n",
       "\n",
       "       RestaurantsInCity  City_Amsterdam  City_Athens  City_Barcelona  \\\n",
       "8769                1816               0            0               0   \n",
       "43095               2705               0            0               0   \n",
       "22462               3395               0            0               1   \n",
       "11451               1314               0            0               0   \n",
       "9152                 554               0            0               0   \n",
       "37401               2705               0            0               0   \n",
       "5240                1186               0            0               0   \n",
       "40667               2705               0            0               0   \n",
       "35935               7193               0            0               0   \n",
       "38875               1186               0            0               0   \n",
       "\n",
       "       City_Berlin  ...  Cuisine_Scandinavian  Cuisine_Chinese  \\\n",
       "8769             0  ...                     0                0   \n",
       "43095            1  ...                     0                0   \n",
       "22462            0  ...                     0                0   \n",
       "11451            0  ...                     0                0   \n",
       "9152             0  ...                     0                0   \n",
       "37401            1  ...                     0                0   \n",
       "5240             0  ...                     0                0   \n",
       "40667            1  ...                     0                0   \n",
       "35935            0  ...                     0                0   \n",
       "38875            0  ...                     0                0   \n",
       "\n",
       "       Cuisine_Polish  Cuisine_Hawaiian  Cuisine_Cajun & Creole  \\\n",
       "8769                0                 0                       0   \n",
       "43095               0                 0                       0   \n",
       "22462               0                 0                       0   \n",
       "11451               0                 0                       0   \n",
       "9152                0                 0                       0   \n",
       "37401               0                 0                       0   \n",
       "5240                0                 0                       0   \n",
       "40667               0                 0                       0   \n",
       "35935               0                 0                       0   \n",
       "38875               0                 0                       0   \n",
       "\n",
       "       Cuisine_New Zealand  Review1_Epoch  Review2_Epoch  Between_Reviews  \\\n",
       "8769                     0   1.512943e+09   1.510006e+09        2937600.0   \n",
       "43095                    0   0.000000e+00   0.000000e+00              0.0   \n",
       "22462                    0   1.505596e+09   1.463778e+09       41817600.0   \n",
       "11451                    0   1.511820e+09   1.487196e+09       24624000.0   \n",
       "9152                     0   1.492549e+09   1.487455e+09        5094000.0   \n",
       "37401                    0   1.514326e+09   1.511647e+09        2678400.0   \n",
       "5240                     0   1.507064e+09   1.476738e+09       30326400.0   \n",
       "40667                    0   1.511129e+09   1.491426e+09       19702800.0   \n",
       "35935                    0   1.512857e+09   1.511820e+09        1036800.0   \n",
       "38875                    0   1.462136e+09   1.439759e+09       22377600.0   \n",
       "\n",
       "       NormalisedRanking  \n",
       "8769            0.191630  \n",
       "43095           1.312754  \n",
       "22462           1.522239  \n",
       "11451           1.457382  \n",
       "9152            0.918773  \n",
       "37401           0.163771  \n",
       "5240            0.762226  \n",
       "40667           0.434381  \n",
       "35935           0.167802  \n",
       "38875           0.930860  \n",
       "\n",
       "[10 rows x 167 columns]"
      ]
     },
     "execution_count": 257,
     "metadata": {},
     "output_type": "execute_result"
    }
   ],
   "source": [
    "df_preproc = preproc_data(data)\n",
    "df_preproc.sample(10)"
   ]
  },
  {
   "cell_type": "code",
   "execution_count": 258,
   "metadata": {
    "execution": {
     "iopub.execute_input": "2021-11-21T22:56:52.754202Z",
     "iopub.status.busy": "2021-11-21T22:56:52.753831Z",
     "iopub.status.idle": "2021-11-21T22:56:52.772947Z",
     "shell.execute_reply": "2021-11-21T22:56:52.772094Z",
     "shell.execute_reply.started": "2021-11-21T22:56:52.754137Z"
    }
   },
   "outputs": [
    {
     "name": "stdout",
     "output_type": "stream",
     "text": [
      "<class 'pandas.core.frame.DataFrame'>\n",
      "RangeIndex: 50000 entries, 0 to 49999\n",
      "Columns: 167 entries, Ranking to NormalisedRanking\n",
      "dtypes: float64(7), int64(128), uint8(32)\n",
      "memory usage: 53.0 MB\n"
     ]
    }
   ],
   "source": [
    "df_preproc.info()"
   ]
  },
  {
   "cell_type": "code",
   "execution_count": 259,
   "metadata": {
    "execution": {
     "iopub.execute_input": "2021-11-21T22:56:52.774403Z",
     "iopub.status.busy": "2021-11-21T22:56:52.774125Z",
     "iopub.status.idle": "2021-11-21T22:56:52.841557Z",
     "shell.execute_reply": "2021-11-21T22:56:52.840809Z",
     "shell.execute_reply.started": "2021-11-21T22:56:52.774328Z"
    }
   },
   "outputs": [],
   "source": [
    "# Теперь выделим тестовую часть\n",
    "train_data = df_preproc.query('sample == 1').drop(['sample'], axis=1)\n",
    "test_data = df_preproc.query('sample == 0').drop(['sample'], axis=1)\n",
    "\n",
    "y = train_data.Rating.values            # наш таргет\n",
    "X = train_data.drop(['Rating'], axis=1)"
   ]
  },
  {
   "cell_type": "markdown",
   "metadata": {},
   "source": [
    "**Перед тем как отправлять наши данные на обучение, разделим данные на еще один тест и трейн, для валидации. \n",
    "Это поможет нам проверить, как хорошо наша модель работает, до отправки submissiona на kaggle.**"
   ]
  },
  {
   "cell_type": "code",
   "execution_count": 260,
   "metadata": {
    "execution": {
     "iopub.execute_input": "2021-11-21T22:56:52.843113Z",
     "iopub.status.busy": "2021-11-21T22:56:52.842640Z",
     "iopub.status.idle": "2021-11-21T22:56:52.884154Z",
     "shell.execute_reply": "2021-11-21T22:56:52.883171Z",
     "shell.execute_reply.started": "2021-11-21T22:56:52.843065Z"
    }
   },
   "outputs": [],
   "source": [
    "# Воспользуемся специальной функцие train_test_split для разбивки тестовых данных\n",
    "# выделим 20% данных на валидацию (параметр test_size)\n",
    "X_train, X_test, y_train, y_test = train_test_split(X, y, test_size=0.2, random_state=RANDOM_SEED)"
   ]
  },
  {
   "cell_type": "code",
   "execution_count": 261,
   "metadata": {
    "execution": {
     "iopub.execute_input": "2021-11-21T22:56:52.886368Z",
     "iopub.status.busy": "2021-11-21T22:56:52.885969Z",
     "iopub.status.idle": "2021-11-21T22:56:52.893071Z",
     "shell.execute_reply": "2021-11-21T22:56:52.892023Z",
     "shell.execute_reply.started": "2021-11-21T22:56:52.886305Z"
    }
   },
   "outputs": [
    {
     "data": {
      "text/plain": [
       "((10000, 166), (40000, 166), (40000, 165), (32000, 165), (8000, 165))"
      ]
     },
     "execution_count": 261,
     "metadata": {},
     "output_type": "execute_result"
    }
   ],
   "source": [
    "# проверяем\n",
    "test_data.shape, train_data.shape, X.shape, X_train.shape, X_test.shape"
   ]
  },
  {
   "cell_type": "markdown",
   "metadata": {},
   "source": [
    "# Model \n",
    "Сам ML"
   ]
  },
  {
   "cell_type": "code",
   "execution_count": 262,
   "metadata": {
    "execution": {
     "iopub.execute_input": "2021-11-21T22:56:52.895004Z",
     "iopub.status.busy": "2021-11-21T22:56:52.894470Z",
     "iopub.status.idle": "2021-11-21T22:56:52.901411Z",
     "shell.execute_reply": "2021-11-21T22:56:52.900600Z",
     "shell.execute_reply.started": "2021-11-21T22:56:52.894961Z"
    }
   },
   "outputs": [],
   "source": [
    "# Импортируем необходимые библиотеки:\n",
    "from sklearn.ensemble import RandomForestRegressor # инструмент для создания и обучения модели\n",
    "from sklearn import metrics # инструменты для оценки точности модели"
   ]
  },
  {
   "cell_type": "code",
   "execution_count": 263,
   "metadata": {
    "execution": {
     "iopub.execute_input": "2021-11-21T22:56:52.904429Z",
     "iopub.status.busy": "2021-11-21T22:56:52.904144Z",
     "iopub.status.idle": "2021-11-21T22:56:52.912364Z",
     "shell.execute_reply": "2021-11-21T22:56:52.911702Z",
     "shell.execute_reply.started": "2021-11-21T22:56:52.904353Z"
    }
   },
   "outputs": [],
   "source": [
    "# Создаём модель (НАСТРОЙКИ НЕ ТРОГАЕМ)\n",
    "model = RandomForestRegressor(n_estimators=100, verbose=1, n_jobs=-1, random_state=RANDOM_SEED)"
   ]
  },
  {
   "cell_type": "code",
   "execution_count": 264,
   "metadata": {
    "execution": {
     "iopub.execute_input": "2021-11-21T22:56:52.913815Z",
     "iopub.status.busy": "2021-11-21T22:56:52.913424Z",
     "iopub.status.idle": "2021-11-21T22:57:09.354464Z",
     "shell.execute_reply": "2021-11-21T22:57:09.353669Z",
     "shell.execute_reply.started": "2021-11-21T22:56:52.913776Z"
    }
   },
   "outputs": [
    {
     "name": "stderr",
     "output_type": "stream",
     "text": [
      "[Parallel(n_jobs=-1)]: Using backend ThreadingBackend with 12 concurrent workers.\n",
      "[Parallel(n_jobs=-1)]: Done  26 tasks      | elapsed:    1.8s\n",
      "[Parallel(n_jobs=-1)]: Done 100 out of 100 | elapsed:    5.4s finished\n",
      "[Parallel(n_jobs=12)]: Using backend ThreadingBackend with 12 concurrent workers.\n",
      "[Parallel(n_jobs=12)]: Done  26 tasks      | elapsed:    0.0s\n",
      "[Parallel(n_jobs=12)]: Done 100 out of 100 | elapsed:    0.0s finished\n"
     ]
    }
   ],
   "source": [
    "# Обучаем модель на тестовом наборе данных\n",
    "model.fit(X_train, y_train)\n",
    "\n",
    "# Используем обученную модель для предсказания рейтинга ресторанов в тестовой выборке.\n",
    "# Предсказанные значения записываем в переменную y_pred\n",
    "y_pred = model.predict(X_test)"
   ]
  },
  {
   "cell_type": "code",
   "execution_count": 265,
   "metadata": {
    "execution": {
     "iopub.execute_input": "2021-11-21T22:57:09.355665Z",
     "iopub.status.busy": "2021-11-21T22:57:09.355443Z",
     "iopub.status.idle": "2021-11-21T22:57:09.362486Z",
     "shell.execute_reply": "2021-11-21T22:57:09.361393Z",
     "shell.execute_reply.started": "2021-11-21T22:57:09.355631Z"
    }
   },
   "outputs": [
    {
     "name": "stdout",
     "output_type": "stream",
     "text": [
      "MAE: 0.20236374999999998\n"
     ]
    }
   ],
   "source": [
    "# Сравниваем предсказанные значения (y_pred) с реальными (y_test), и смотрим насколько они в среднем отличаются\n",
    "# Метрика называется Mean Absolute Error (MAE) и показывает среднее отклонение предсказанных значений от фактических.\n",
    "print('MAE:', metrics.mean_absolute_error(y_test, y_pred))"
   ]
  },
  {
   "cell_type": "code",
   "execution_count": 266,
   "metadata": {
    "execution": {
     "iopub.execute_input": "2021-11-21T22:57:09.364398Z",
     "iopub.status.busy": "2021-11-21T22:57:09.363915Z",
     "iopub.status.idle": "2021-11-21T22:57:09.724682Z",
     "shell.execute_reply": "2021-11-21T22:57:09.723794Z",
     "shell.execute_reply.started": "2021-11-21T22:57:09.364343Z"
    }
   },
   "outputs": [
    {
     "data": {
      "text/plain": [
       "<AxesSubplot:>"
      ]
     },
     "execution_count": 266,
     "metadata": {},
     "output_type": "execute_result"
    },
    {
     "data": {
      "image/png": "[encoded data removed]",
      "text/plain": [
       "<Figure size 720x720 with 1 Axes>"
      ]
     },
     "metadata": {
      "needs_background": "light"
     },
     "output_type": "display_data"
    }
   ],
   "source": [
    "# в RandomForestRegressor есть возможность вывести самые важные признаки для модели\n",
    "plt.rcParams['figure.figsize'] = (10,10)\n",
    "feat_importances = pd.Series(model.feature_importances_, index=X.columns)\n",
    "feat_importances.nlargest(15).plot(kind='barh')"
   ]
  },
  {
   "cell_type": "markdown",
   "metadata": {},
   "source": [
    "# Submission\n",
    "Если все устраевает - готовим Submission на кагл"
   ]
  },
  {
   "cell_type": "code",
   "execution_count": 267,
   "metadata": {
    "execution": {
     "iopub.execute_input": "2021-11-21T22:57:09.728093Z",
     "iopub.status.busy": "2021-11-21T22:57:09.725780Z",
     "iopub.status.idle": "2021-11-21T22:57:09.759879Z",
     "shell.execute_reply": "2021-11-21T22:57:09.759015Z",
     "shell.execute_reply.started": "2021-11-21T22:57:09.728013Z"
    }
   },
   "outputs": [
    {
     "data": {
      "text/html": [
       "<div>\n",
       "<style scoped>\n",
       "    .dataframe tbody tr th:only-of-type {\n",
       "        vertical-align: middle;\n",
       "    }\n",
       "\n",
       "    .dataframe tbody tr th {\n",
       "        vertical-align: top;\n",
       "    }\n",
       "\n",
       "    .dataframe thead th {\n",
       "        text-align: right;\n",
       "    }\n",
       "</style>\n",
       "<table border=\"1\" class=\"dataframe\">\n",
       "  <thead>\n",
       "    <tr style=\"text-align: right;\">\n",
       "      <th></th>\n",
       "      <th>Ranking</th>\n",
       "      <th>Price Range</th>\n",
       "      <th>Number of Reviews</th>\n",
       "      <th>Rating</th>\n",
       "      <th>RestaurantsInCity</th>\n",
       "      <th>City_Amsterdam</th>\n",
       "      <th>City_Athens</th>\n",
       "      <th>City_Barcelona</th>\n",
       "      <th>City_Berlin</th>\n",
       "      <th>City_Bratislava</th>\n",
       "      <th>...</th>\n",
       "      <th>Cuisine_Scandinavian</th>\n",
       "      <th>Cuisine_Chinese</th>\n",
       "      <th>Cuisine_Polish</th>\n",
       "      <th>Cuisine_Hawaiian</th>\n",
       "      <th>Cuisine_Cajun &amp; Creole</th>\n",
       "      <th>Cuisine_New Zealand</th>\n",
       "      <th>Review1_Epoch</th>\n",
       "      <th>Review2_Epoch</th>\n",
       "      <th>Between_Reviews</th>\n",
       "      <th>NormalisedRanking</th>\n",
       "    </tr>\n",
       "  </thead>\n",
       "  <tbody>\n",
       "    <tr>\n",
       "      <th>3512</th>\n",
       "      <td>9303.0</td>\n",
       "      <td>0</td>\n",
       "      <td>5.0</td>\n",
       "      <td>0.0</td>\n",
       "      <td>6108</td>\n",
       "      <td>0</td>\n",
       "      <td>0</td>\n",
       "      <td>0</td>\n",
       "      <td>0</td>\n",
       "      <td>0</td>\n",
       "      <td>...</td>\n",
       "      <td>0</td>\n",
       "      <td>0</td>\n",
       "      <td>0</td>\n",
       "      <td>0</td>\n",
       "      <td>0</td>\n",
       "      <td>0</td>\n",
       "      <td>0.000000e+00</td>\n",
       "      <td>0.000000e+00</td>\n",
       "      <td>0.0</td>\n",
       "      <td>1.523084</td>\n",
       "    </tr>\n",
       "    <tr>\n",
       "      <th>9115</th>\n",
       "      <td>1297.0</td>\n",
       "      <td>2</td>\n",
       "      <td>39.0</td>\n",
       "      <td>0.0</td>\n",
       "      <td>836</td>\n",
       "      <td>0</td>\n",
       "      <td>0</td>\n",
       "      <td>0</td>\n",
       "      <td>0</td>\n",
       "      <td>0</td>\n",
       "      <td>...</td>\n",
       "      <td>0</td>\n",
       "      <td>0</td>\n",
       "      <td>0</td>\n",
       "      <td>0</td>\n",
       "      <td>0</td>\n",
       "      <td>0</td>\n",
       "      <td>1.511129e+09</td>\n",
       "      <td>1.508879e+09</td>\n",
       "      <td>2250000.0</td>\n",
       "      <td>1.551435</td>\n",
       "    </tr>\n",
       "    <tr>\n",
       "      <th>2725</th>\n",
       "      <td>7716.0</td>\n",
       "      <td>2</td>\n",
       "      <td>66.0</td>\n",
       "      <td>0.0</td>\n",
       "      <td>7193</td>\n",
       "      <td>0</td>\n",
       "      <td>0</td>\n",
       "      <td>0</td>\n",
       "      <td>0</td>\n",
       "      <td>0</td>\n",
       "      <td>...</td>\n",
       "      <td>0</td>\n",
       "      <td>0</td>\n",
       "      <td>0</td>\n",
       "      <td>0</td>\n",
       "      <td>0</td>\n",
       "      <td>0</td>\n",
       "      <td>1.489442e+09</td>\n",
       "      <td>1.507237e+09</td>\n",
       "      <td>17794800.0</td>\n",
       "      <td>1.072710</td>\n",
       "    </tr>\n",
       "    <tr>\n",
       "      <th>8319</th>\n",
       "      <td>305.0</td>\n",
       "      <td>2</td>\n",
       "      <td>2760.0</td>\n",
       "      <td>0.0</td>\n",
       "      <td>2589</td>\n",
       "      <td>0</td>\n",
       "      <td>0</td>\n",
       "      <td>0</td>\n",
       "      <td>0</td>\n",
       "      <td>0</td>\n",
       "      <td>...</td>\n",
       "      <td>0</td>\n",
       "      <td>0</td>\n",
       "      <td>0</td>\n",
       "      <td>0</td>\n",
       "      <td>0</td>\n",
       "      <td>0</td>\n",
       "      <td>1.515449e+09</td>\n",
       "      <td>1.515276e+09</td>\n",
       "      <td>172800.0</td>\n",
       "      <td>0.117806</td>\n",
       "    </tr>\n",
       "    <tr>\n",
       "      <th>6497</th>\n",
       "      <td>15409.0</td>\n",
       "      <td>1</td>\n",
       "      <td>15.0</td>\n",
       "      <td>0.0</td>\n",
       "      <td>7193</td>\n",
       "      <td>0</td>\n",
       "      <td>0</td>\n",
       "      <td>0</td>\n",
       "      <td>0</td>\n",
       "      <td>0</td>\n",
       "      <td>...</td>\n",
       "      <td>0</td>\n",
       "      <td>1</td>\n",
       "      <td>0</td>\n",
       "      <td>0</td>\n",
       "      <td>0</td>\n",
       "      <td>0</td>\n",
       "      <td>1.491685e+09</td>\n",
       "      <td>1.490134e+09</td>\n",
       "      <td>1551600.0</td>\n",
       "      <td>2.142222</td>\n",
       "    </tr>\n",
       "    <tr>\n",
       "      <th>3818</th>\n",
       "      <td>3896.0</td>\n",
       "      <td>2</td>\n",
       "      <td>97.0</td>\n",
       "      <td>0.0</td>\n",
       "      <td>6108</td>\n",
       "      <td>0</td>\n",
       "      <td>0</td>\n",
       "      <td>0</td>\n",
       "      <td>0</td>\n",
       "      <td>0</td>\n",
       "      <td>...</td>\n",
       "      <td>0</td>\n",
       "      <td>0</td>\n",
       "      <td>0</td>\n",
       "      <td>0</td>\n",
       "      <td>0</td>\n",
       "      <td>0</td>\n",
       "      <td>1.492117e+09</td>\n",
       "      <td>1.491772e+09</td>\n",
       "      <td>345600.0</td>\n",
       "      <td>0.637852</td>\n",
       "    </tr>\n",
       "    <tr>\n",
       "      <th>2137</th>\n",
       "      <td>11165.0</td>\n",
       "      <td>2</td>\n",
       "      <td>22.0</td>\n",
       "      <td>0.0</td>\n",
       "      <td>7193</td>\n",
       "      <td>0</td>\n",
       "      <td>0</td>\n",
       "      <td>0</td>\n",
       "      <td>0</td>\n",
       "      <td>0</td>\n",
       "      <td>...</td>\n",
       "      <td>0</td>\n",
       "      <td>0</td>\n",
       "      <td>0</td>\n",
       "      <td>0</td>\n",
       "      <td>0</td>\n",
       "      <td>0</td>\n",
       "      <td>1.500498e+09</td>\n",
       "      <td>1.499980e+09</td>\n",
       "      <td>518400.0</td>\n",
       "      <td>1.552204</td>\n",
       "    </tr>\n",
       "    <tr>\n",
       "      <th>6428</th>\n",
       "      <td>85.0</td>\n",
       "      <td>2</td>\n",
       "      <td>74.0</td>\n",
       "      <td>0.0</td>\n",
       "      <td>488</td>\n",
       "      <td>0</td>\n",
       "      <td>0</td>\n",
       "      <td>0</td>\n",
       "      <td>0</td>\n",
       "      <td>0</td>\n",
       "      <td>...</td>\n",
       "      <td>0</td>\n",
       "      <td>0</td>\n",
       "      <td>0</td>\n",
       "      <td>0</td>\n",
       "      <td>0</td>\n",
       "      <td>0</td>\n",
       "      <td>1.508792e+09</td>\n",
       "      <td>1.506632e+09</td>\n",
       "      <td>2160000.0</td>\n",
       "      <td>0.174180</td>\n",
       "    </tr>\n",
       "    <tr>\n",
       "      <th>4993</th>\n",
       "      <td>4261.0</td>\n",
       "      <td>2</td>\n",
       "      <td>9.0</td>\n",
       "      <td>0.0</td>\n",
       "      <td>2589</td>\n",
       "      <td>0</td>\n",
       "      <td>0</td>\n",
       "      <td>0</td>\n",
       "      <td>0</td>\n",
       "      <td>0</td>\n",
       "      <td>...</td>\n",
       "      <td>0</td>\n",
       "      <td>0</td>\n",
       "      <td>0</td>\n",
       "      <td>0</td>\n",
       "      <td>0</td>\n",
       "      <td>0</td>\n",
       "      <td>0.000000e+00</td>\n",
       "      <td>0.000000e+00</td>\n",
       "      <td>0.0</td>\n",
       "      <td>1.645809</td>\n",
       "    </tr>\n",
       "    <tr>\n",
       "      <th>9334</th>\n",
       "      <td>1774.0</td>\n",
       "      <td>0</td>\n",
       "      <td>6.0</td>\n",
       "      <td>0.0</td>\n",
       "      <td>925</td>\n",
       "      <td>0</td>\n",
       "      <td>0</td>\n",
       "      <td>0</td>\n",
       "      <td>0</td>\n",
       "      <td>0</td>\n",
       "      <td>...</td>\n",
       "      <td>0</td>\n",
       "      <td>0</td>\n",
       "      <td>0</td>\n",
       "      <td>0</td>\n",
       "      <td>0</td>\n",
       "      <td>0</td>\n",
       "      <td>1.483826e+09</td>\n",
       "      <td>1.468703e+09</td>\n",
       "      <td>15123600.0</td>\n",
       "      <td>1.917838</td>\n",
       "    </tr>\n",
       "  </tbody>\n",
       "</table>\n",
       "<p>10 rows × 166 columns</p>\n",
       "</div>"
      ],
      "text/plain": [
       "      Ranking  Price Range  Number of Reviews  Rating  RestaurantsInCity  \\\n",
       "3512   9303.0            0                5.0     0.0               6108   \n",
       "9115   1297.0            2               39.0     0.0                836   \n",
       "2725   7716.0            2               66.0     0.0               7193   \n",
       "8319    305.0            2             2760.0     0.0               2589   \n",
       "6497  15409.0            1               15.0     0.0               7193   \n",
       "3818   3896.0            2               97.0     0.0               6108   \n",
       "2137  11165.0            2               22.0     0.0               7193   \n",
       "6428     85.0            2               74.0     0.0                488   \n",
       "4993   4261.0            2                9.0     0.0               2589   \n",
       "9334   1774.0            0                6.0     0.0                925   \n",
       "\n",
       "      City_Amsterdam  City_Athens  City_Barcelona  City_Berlin  \\\n",
       "3512               0            0               0            0   \n",
       "9115               0            0               0            0   \n",
       "2725               0            0               0            0   \n",
       "8319               0            0               0            0   \n",
       "6497               0            0               0            0   \n",
       "3818               0            0               0            0   \n",
       "2137               0            0               0            0   \n",
       "6428               0            0               0            0   \n",
       "4993               0            0               0            0   \n",
       "9334               0            0               0            0   \n",
       "\n",
       "      City_Bratislava  ...  Cuisine_Scandinavian  Cuisine_Chinese  \\\n",
       "3512                0  ...                     0                0   \n",
       "9115                0  ...                     0                0   \n",
       "2725                0  ...                     0                0   \n",
       "8319                0  ...                     0                0   \n",
       "6497                0  ...                     0                1   \n",
       "3818                0  ...                     0                0   \n",
       "2137                0  ...                     0                0   \n",
       "6428                0  ...                     0                0   \n",
       "4993                0  ...                     0                0   \n",
       "9334                0  ...                     0                0   \n",
       "\n",
       "      Cuisine_Polish  Cuisine_Hawaiian  Cuisine_Cajun & Creole  \\\n",
       "3512               0                 0                       0   \n",
       "9115               0                 0                       0   \n",
       "2725               0                 0                       0   \n",
       "8319               0                 0                       0   \n",
       "6497               0                 0                       0   \n",
       "3818               0                 0                       0   \n",
       "2137               0                 0                       0   \n",
       "6428               0                 0                       0   \n",
       "4993               0                 0                       0   \n",
       "9334               0                 0                       0   \n",
       "\n",
       "      Cuisine_New Zealand  Review1_Epoch  Review2_Epoch  Between_Reviews  \\\n",
       "3512                    0   0.000000e+00   0.000000e+00              0.0   \n",
       "9115                    0   1.511129e+09   1.508879e+09        2250000.0   \n",
       "2725                    0   1.489442e+09   1.507237e+09       17794800.0   \n",
       "8319                    0   1.515449e+09   1.515276e+09         172800.0   \n",
       "6497                    0   1.491685e+09   1.490134e+09        1551600.0   \n",
       "3818                    0   1.492117e+09   1.491772e+09         345600.0   \n",
       "2137                    0   1.500498e+09   1.499980e+09         518400.0   \n",
       "6428                    0   1.508792e+09   1.506632e+09        2160000.0   \n",
       "4993                    0   0.000000e+00   0.000000e+00              0.0   \n",
       "9334                    0   1.483826e+09   1.468703e+09       15123600.0   \n",
       "\n",
       "      NormalisedRanking  \n",
       "3512           1.523084  \n",
       "9115           1.551435  \n",
       "2725           1.072710  \n",
       "8319           0.117806  \n",
       "6497           2.142222  \n",
       "3818           0.637852  \n",
       "2137           1.552204  \n",
       "6428           0.174180  \n",
       "4993           1.645809  \n",
       "9334           1.917838  \n",
       "\n",
       "[10 rows x 166 columns]"
      ]
     },
     "execution_count": 267,
     "metadata": {},
     "output_type": "execute_result"
    }
   ],
   "source": [
    "test_data.sample(10)"
   ]
  },
  {
   "cell_type": "code",
   "execution_count": 268,
   "metadata": {
    "execution": {
     "iopub.execute_input": "2021-11-21T22:57:09.762075Z",
     "iopub.status.busy": "2021-11-21T22:57:09.761429Z",
     "iopub.status.idle": "2021-11-21T22:57:09.770671Z",
     "shell.execute_reply": "2021-11-21T22:57:09.770113Z",
     "shell.execute_reply.started": "2021-11-21T22:57:09.762008Z"
    }
   },
   "outputs": [],
   "source": [
    "test_data = test_data.drop(['Rating'], axis=1)"
   ]
  },
  {
   "cell_type": "code",
   "execution_count": 269,
   "metadata": {
    "execution": {
     "iopub.execute_input": "2021-11-21T22:57:09.773921Z",
     "iopub.status.busy": "2021-11-21T22:57:09.772120Z",
     "iopub.status.idle": "2021-11-21T22:57:09.789887Z",
     "shell.execute_reply": "2021-11-21T22:57:09.789329Z",
     "shell.execute_reply.started": "2021-11-21T22:57:09.772404Z"
    }
   },
   "outputs": [
    {
     "data": {
      "text/html": [
       "<div>\n",
       "<style scoped>\n",
       "    .dataframe tbody tr th:only-of-type {\n",
       "        vertical-align: middle;\n",
       "    }\n",
       "\n",
       "    .dataframe tbody tr th {\n",
       "        vertical-align: top;\n",
       "    }\n",
       "\n",
       "    .dataframe thead th {\n",
       "        text-align: right;\n",
       "    }\n",
       "</style>\n",
       "<table border=\"1\" class=\"dataframe\">\n",
       "  <thead>\n",
       "    <tr style=\"text-align: right;\">\n",
       "      <th></th>\n",
       "      <th>Restaurant_id</th>\n",
       "      <th>Rating</th>\n",
       "    </tr>\n",
       "  </thead>\n",
       "  <tbody>\n",
       "    <tr>\n",
       "      <th>0</th>\n",
       "      <td>id_0</td>\n",
       "      <td>2.0</td>\n",
       "    </tr>\n",
       "    <tr>\n",
       "      <th>1</th>\n",
       "      <td>id_1</td>\n",
       "      <td>2.5</td>\n",
       "    </tr>\n",
       "    <tr>\n",
       "      <th>2</th>\n",
       "      <td>id_2</td>\n",
       "      <td>4.0</td>\n",
       "    </tr>\n",
       "    <tr>\n",
       "      <th>3</th>\n",
       "      <td>id_3</td>\n",
       "      <td>1.0</td>\n",
       "    </tr>\n",
       "    <tr>\n",
       "      <th>4</th>\n",
       "      <td>id_4</td>\n",
       "      <td>4.0</td>\n",
       "    </tr>\n",
       "    <tr>\n",
       "      <th>...</th>\n",
       "      <td>...</td>\n",
       "      <td>...</td>\n",
       "    </tr>\n",
       "    <tr>\n",
       "      <th>9995</th>\n",
       "      <td>id_9995</td>\n",
       "      <td>3.0</td>\n",
       "    </tr>\n",
       "    <tr>\n",
       "      <th>9996</th>\n",
       "      <td>id_9996</td>\n",
       "      <td>1.5</td>\n",
       "    </tr>\n",
       "    <tr>\n",
       "      <th>9997</th>\n",
       "      <td>id_9997</td>\n",
       "      <td>4.5</td>\n",
       "    </tr>\n",
       "    <tr>\n",
       "      <th>9998</th>\n",
       "      <td>id_9998</td>\n",
       "      <td>1.0</td>\n",
       "    </tr>\n",
       "    <tr>\n",
       "      <th>9999</th>\n",
       "      <td>id_9999</td>\n",
       "      <td>2.5</td>\n",
       "    </tr>\n",
       "  </tbody>\n",
       "</table>\n",
       "<p>10000 rows × 2 columns</p>\n",
       "</div>"
      ],
      "text/plain": [
       "     Restaurant_id  Rating\n",
       "0             id_0     2.0\n",
       "1             id_1     2.5\n",
       "2             id_2     4.0\n",
       "3             id_3     1.0\n",
       "4             id_4     4.0\n",
       "...            ...     ...\n",
       "9995       id_9995     3.0\n",
       "9996       id_9996     1.5\n",
       "9997       id_9997     4.5\n",
       "9998       id_9998     1.0\n",
       "9999       id_9999     2.5\n",
       "\n",
       "[10000 rows x 2 columns]"
      ]
     },
     "execution_count": 269,
     "metadata": {},
     "output_type": "execute_result"
    }
   ],
   "source": [
    "sample_submission"
   ]
  },
  {
   "cell_type": "code",
   "execution_count": 270,
   "metadata": {
    "execution": {
     "iopub.execute_input": "2021-11-21T22:57:09.791335Z",
     "iopub.status.busy": "2021-11-21T22:57:09.790929Z",
     "iopub.status.idle": "2021-11-21T22:57:09.905735Z",
     "shell.execute_reply": "2021-11-21T22:57:09.904993Z",
     "shell.execute_reply.started": "2021-11-21T22:57:09.791295Z"
    }
   },
   "outputs": [
    {
     "name": "stderr",
     "output_type": "stream",
     "text": [
      "[Parallel(n_jobs=12)]: Using backend ThreadingBackend with 12 concurrent workers.\n",
      "[Parallel(n_jobs=12)]: Done  26 tasks      | elapsed:    0.0s\n",
      "[Parallel(n_jobs=12)]: Done 100 out of 100 | elapsed:    0.0s finished\n"
     ]
    }
   ],
   "source": [
    "predict_submission = model.predict(test_data)"
   ]
  },
  {
   "cell_type": "code",
   "execution_count": 271,
   "metadata": {
    "execution": {
     "iopub.execute_input": "2021-11-21T22:57:09.907125Z",
     "iopub.status.busy": "2021-11-21T22:57:09.906796Z",
     "iopub.status.idle": "2021-11-21T22:57:09.913105Z",
     "shell.execute_reply": "2021-11-21T22:57:09.912394Z",
     "shell.execute_reply.started": "2021-11-21T22:57:09.907076Z"
    }
   },
   "outputs": [
    {
     "data": {
      "text/plain": [
       "array([3.02 , 4.235, 4.445, ..., 3.065, 4.49 , 4.245])"
      ]
     },
     "execution_count": 271,
     "metadata": {},
     "output_type": "execute_result"
    }
   ],
   "source": [
    "predict_submission"
   ]
  },
  {
   "cell_type": "code",
   "execution_count": 272,
   "metadata": {
    "execution": {
     "iopub.execute_input": "2021-11-21T22:57:09.914705Z",
     "iopub.status.busy": "2021-11-21T22:57:09.914260Z",
     "iopub.status.idle": "2021-11-21T22:57:09.964527Z",
     "shell.execute_reply": "2021-11-21T22:57:09.963937Z",
     "shell.execute_reply.started": "2021-11-21T22:57:09.914655Z"
    }
   },
   "outputs": [
    {
     "data": {
      "text/html": [
       "<div>\n",
       "<style scoped>\n",
       "    .dataframe tbody tr th:only-of-type {\n",
       "        vertical-align: middle;\n",
       "    }\n",
       "\n",
       "    .dataframe tbody tr th {\n",
       "        vertical-align: top;\n",
       "    }\n",
       "\n",
       "    .dataframe thead th {\n",
       "        text-align: right;\n",
       "    }\n",
       "</style>\n",
       "<table border=\"1\" class=\"dataframe\">\n",
       "  <thead>\n",
       "    <tr style=\"text-align: right;\">\n",
       "      <th></th>\n",
       "      <th>Restaurant_id</th>\n",
       "      <th>Rating</th>\n",
       "    </tr>\n",
       "  </thead>\n",
       "  <tbody>\n",
       "    <tr>\n",
       "      <th>0</th>\n",
       "      <td>id_0</td>\n",
       "      <td>3.020</td>\n",
       "    </tr>\n",
       "    <tr>\n",
       "      <th>1</th>\n",
       "      <td>id_1</td>\n",
       "      <td>4.235</td>\n",
       "    </tr>\n",
       "    <tr>\n",
       "      <th>2</th>\n",
       "      <td>id_2</td>\n",
       "      <td>4.445</td>\n",
       "    </tr>\n",
       "    <tr>\n",
       "      <th>3</th>\n",
       "      <td>id_3</td>\n",
       "      <td>4.340</td>\n",
       "    </tr>\n",
       "    <tr>\n",
       "      <th>4</th>\n",
       "      <td>id_4</td>\n",
       "      <td>4.465</td>\n",
       "    </tr>\n",
       "    <tr>\n",
       "      <th>5</th>\n",
       "      <td>id_5</td>\n",
       "      <td>4.360</td>\n",
       "    </tr>\n",
       "    <tr>\n",
       "      <th>6</th>\n",
       "      <td>id_6</td>\n",
       "      <td>2.550</td>\n",
       "    </tr>\n",
       "    <tr>\n",
       "      <th>7</th>\n",
       "      <td>id_7</td>\n",
       "      <td>2.350</td>\n",
       "    </tr>\n",
       "    <tr>\n",
       "      <th>8</th>\n",
       "      <td>id_8</td>\n",
       "      <td>4.035</td>\n",
       "    </tr>\n",
       "    <tr>\n",
       "      <th>9</th>\n",
       "      <td>id_9</td>\n",
       "      <td>4.630</td>\n",
       "    </tr>\n",
       "  </tbody>\n",
       "</table>\n",
       "</div>"
      ],
      "text/plain": [
       "  Restaurant_id  Rating\n",
       "0          id_0   3.020\n",
       "1          id_1   4.235\n",
       "2          id_2   4.445\n",
       "3          id_3   4.340\n",
       "4          id_4   4.465\n",
       "5          id_5   4.360\n",
       "6          id_6   2.550\n",
       "7          id_7   2.350\n",
       "8          id_8   4.035\n",
       "9          id_9   4.630"
      ]
     },
     "execution_count": 272,
     "metadata": {},
     "output_type": "execute_result"
    }
   ],
   "source": [
    "sample_submission['Rating'] = predict_submission\n",
    "sample_submission.to_csv('submission.csv', index=False)\n",
    "sample_submission.head(10)"
   ]
  },
  {
   "cell_type": "code",
   "execution_count": null,
   "metadata": {},
   "outputs": [],
   "source": []
  }
 ],
 "metadata": {
  "kernelspec": {
   "display_name": "Python 3",
   "language": "python",
   "name": "python3"
  },
  "language_info": {
   "codemirror_mode": {
    "name": "ipython",
    "version": 3
   },
   "file_extension": ".py",
   "mimetype": "text/x-python",
   "name": "python",
   "nbconvert_exporter": "python",
   "pygments_lexer": "ipython3",
   "version": "3.8.8"
  }
 },
 "nbformat": 4,
 "nbformat_minor": 4
}
