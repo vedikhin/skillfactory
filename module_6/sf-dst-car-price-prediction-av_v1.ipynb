{
 "cells": [
  {
   "cell_type": "markdown",
   "id": "7d5f7dda",
   "metadata": {
    "papermill": {
     "duration": 0.105599,
     "end_time": "2022-04-12T09:54:30.135809",
     "exception": false,
     "start_time": "2022-04-12T09:54:30.030210",
     "status": "completed"
    },
    "tags": []
   },
   "source": [
    "<img src=\"https://whatcar.vn/media/2018/09/car-lot-940x470.jpg\"/>\n",
    "\n",
    "## Прогнозирование стоимости автомобиля по характеристикам"
   ]
  },
  {
   "cell_type": "code",
   "execution_count": 1,
   "id": "aa1fe5a6",
   "metadata": {
    "_cell_guid": "b1076dfc-b9ad-4769-8c92-a6c4dae69d19",
    "_uuid": "8f2839f25d086af736a60e9eeb907d3b93b6e0e5",
    "execution": {
     "iopub.execute_input": "2022-04-12T09:54:30.357267Z",
     "iopub.status.busy": "2022-04-12T09:54:30.348379Z",
     "iopub.status.idle": "2022-04-12T09:54:32.022126Z",
     "shell.execute_reply": "2022-04-12T09:54:32.021369Z"
    },
    "papermill": {
     "duration": 1.781618,
     "end_time": "2022-04-12T09:54:32.022299",
     "exception": false,
     "start_time": "2022-04-12T09:54:30.240681",
     "status": "completed"
    },
    "tags": []
   },
   "outputs": [],
   "source": [
    "import numpy as np # linear algebra\n",
    "import pandas as pd # data processing, CSV file I/O (e.g. pd.read_csv)\n",
    "import sys\n",
    "from sklearn.model_selection import train_test_split\n",
    "from sklearn.model_selection import KFold\n",
    "from tqdm.notebook import tqdm\n",
    "from catboost import CatBoostRegressor\n",
    "from sklearn.preprocessing import LabelEncoder\n",
    "from matplotlib import pyplot as plt\n",
    "import seaborn as sns\n",
    "from sklearn.ensemble import GradientBoostingRegressor, ExtraTreesRegressor, RandomForestRegressor, GradientBoostingRegressor\n",
    "from sklearn.preprocessing import StandardScaler\n",
    "from sklearn.model_selection import GridSearchCV\n",
    "from sklearn.neighbors import KNeighborsRegressor\n",
    "from sklearn.linear_model import LinearRegression\n",
    "from sklearn.base import clone\n",
    "from sklearn.ensemble import StackingRegressor"
   ]
  },
  {
   "cell_type": "code",
   "execution_count": 2,
   "id": "52c719c9",
   "metadata": {
    "_kg_hide-input": true,
    "execution": {
     "iopub.execute_input": "2022-04-12T09:54:32.239002Z",
     "iopub.status.busy": "2022-04-12T09:54:32.237916Z",
     "iopub.status.idle": "2022-04-12T09:54:32.244408Z",
     "shell.execute_reply": "2022-04-12T09:54:32.245183Z"
    },
    "papermill": {
     "duration": 0.117111,
     "end_time": "2022-04-12T09:54:32.245411",
     "exception": false,
     "start_time": "2022-04-12T09:54:32.128300",
     "status": "completed"
    },
    "tags": []
   },
   "outputs": [
    {
     "name": "stdout",
     "output_type": "stream",
     "text": [
      "Python       : 3.7.12 | packaged by conda-forge | (default, Oct 26 2021, 06:08:53) \n",
      "Numpy        : 1.20.3\n"
     ]
    }
   ],
   "source": [
    "print('Python       :', sys.version.split('\\n')[0])\n",
    "print('Numpy        :', np.__version__)"
   ]
  },
  {
   "cell_type": "code",
   "execution_count": 3,
   "id": "989604d8",
   "metadata": {
    "_kg_hide-input": true,
    "execution": {
     "iopub.execute_input": "2022-04-12T09:54:32.458736Z",
     "iopub.status.busy": "2022-04-12T09:54:32.457708Z",
     "iopub.status.idle": "2022-04-12T09:54:37.251554Z",
     "shell.execute_reply": "2022-04-12T09:54:37.250907Z"
    },
    "papermill": {
     "duration": 4.902066,
     "end_time": "2022-04-12T09:54:37.251705",
     "exception": false,
     "start_time": "2022-04-12T09:54:32.349639",
     "status": "completed"
    },
    "tags": []
   },
   "outputs": [],
   "source": [
    "# зафиксируем версию пакетов, чтобы эксперименты были воспроизводимы:\n",
    "!pip freeze > requirements.txt"
   ]
  },
  {
   "cell_type": "code",
   "execution_count": 4,
   "id": "ae030336",
   "metadata": {
    "execution": {
     "iopub.execute_input": "2022-04-12T09:54:37.465070Z",
     "iopub.status.busy": "2022-04-12T09:54:37.464099Z",
     "iopub.status.idle": "2022-04-12T09:54:37.466718Z",
     "shell.execute_reply": "2022-04-12T09:54:37.467257Z"
    },
    "papermill": {
     "duration": 0.111162,
     "end_time": "2022-04-12T09:54:37.467444",
     "exception": false,
     "start_time": "2022-04-12T09:54:37.356282",
     "status": "completed"
    },
    "tags": []
   },
   "outputs": [],
   "source": [
    "# всегда фиксируйте RANDOM_SEED, чтобы ваши эксперименты были воспроизводимы!\n",
    "RANDOM_SEED = 42"
   ]
  },
  {
   "cell_type": "code",
   "execution_count": 5,
   "id": "04ddc480",
   "metadata": {
    "_kg_hide-input": true,
    "execution": {
     "iopub.execute_input": "2022-04-12T09:54:37.682283Z",
     "iopub.status.busy": "2022-04-12T09:54:37.681441Z",
     "iopub.status.idle": "2022-04-12T09:54:37.684375Z",
     "shell.execute_reply": "2022-04-12T09:54:37.683840Z"
    },
    "papermill": {
     "duration": 0.11341,
     "end_time": "2022-04-12T09:54:37.684527",
     "exception": false,
     "start_time": "2022-04-12T09:54:37.571117",
     "status": "completed"
    },
    "tags": []
   },
   "outputs": [],
   "source": [
    "def mape(y_true, y_pred):\n",
    "    return np.mean(np.abs((y_pred-y_true)/y_true))"
   ]
  },
  {
   "cell_type": "markdown",
   "id": "713739fb",
   "metadata": {
    "papermill": {
     "duration": 0.103576,
     "end_time": "2022-04-12T09:54:37.893782",
     "exception": false,
     "start_time": "2022-04-12T09:54:37.790206",
     "status": "completed"
    },
    "tags": []
   },
   "source": [
    "# Setup"
   ]
  },
  {
   "cell_type": "code",
   "execution_count": 6,
   "id": "f21a6776",
   "metadata": {
    "execution": {
     "iopub.execute_input": "2022-04-12T09:54:38.109335Z",
     "iopub.status.busy": "2022-04-12T09:54:38.108297Z",
     "iopub.status.idle": "2022-04-12T09:54:38.111465Z",
     "shell.execute_reply": "2022-04-12T09:54:38.110809Z"
    },
    "papermill": {
     "duration": 0.113622,
     "end_time": "2022-04-12T09:54:38.111612",
     "exception": false,
     "start_time": "2022-04-12T09:54:37.997990",
     "status": "completed"
    },
    "tags": []
   },
   "outputs": [],
   "source": [
    "VERSION    = 16\n",
    "DIR_TRAIN  = '../input/all-auto-ru-09-09-2020/' # подключил к ноутбуку внешний датасет\n",
    "DIR_TEST   = '../input/sf-dst-car-price-prediction/'\n",
    "VAL_SIZE   = 0.20   # 20%"
   ]
  },
  {
   "cell_type": "markdown",
   "id": "14507e81",
   "metadata": {
    "papermill": {
     "duration": 0.103326,
     "end_time": "2022-04-12T09:54:38.322860",
     "exception": false,
     "start_time": "2022-04-12T09:54:38.219534",
     "status": "completed"
    },
    "tags": []
   },
   "source": [
    "# Data"
   ]
  },
  {
   "cell_type": "code",
   "execution_count": 7,
   "id": "15ee29a5",
   "metadata": {
    "execution": {
     "iopub.execute_input": "2022-04-12T09:54:38.541687Z",
     "iopub.status.busy": "2022-04-12T09:54:38.540869Z",
     "iopub.status.idle": "2022-04-12T09:54:39.292234Z",
     "shell.execute_reply": "2022-04-12T09:54:39.291674Z"
    },
    "papermill": {
     "duration": 0.865964,
     "end_time": "2022-04-12T09:54:39.292411",
     "exception": false,
     "start_time": "2022-04-12T09:54:38.426447",
     "status": "completed"
    },
    "tags": []
   },
   "outputs": [
    {
     "name": "stdout",
     "output_type": "stream",
     "text": [
      "all-auto-ru-09-09-2020\tsf-dst-car-price-prediction\r\n"
     ]
    }
   ],
   "source": [
    "!ls '../input'"
   ]
  },
  {
   "cell_type": "code",
   "execution_count": 8,
   "id": "1abfd1e1",
   "metadata": {
    "_cell_guid": "79c7e3d0-c299-4dcb-8224-4455121ee9b0",
    "_uuid": "d629ff2d2480ee46fbb7e2d37f6b5fab8052498a",
    "execution": {
     "iopub.execute_input": "2022-04-12T09:54:39.507574Z",
     "iopub.status.busy": "2022-04-12T09:54:39.506818Z",
     "iopub.status.idle": "2022-04-12T09:54:50.672474Z",
     "shell.execute_reply": "2022-04-12T09:54:50.672988Z"
    },
    "papermill": {
     "duration": 11.277907,
     "end_time": "2022-04-12T09:54:50.673175",
     "exception": false,
     "start_time": "2022-04-12T09:54:39.395268",
     "status": "completed"
    },
    "tags": []
   },
   "outputs": [],
   "source": [
    "train = pd.read_csv(DIR_TRAIN+'all_auto_ru_09_09_2020.csv') # датасет для обучения модели\n",
    "test = pd.read_csv(DIR_TEST+'test.csv')\n",
    "sample_submission = pd.read_csv(DIR_TEST+'sample_submission.csv')"
   ]
  },
  {
   "cell_type": "code",
   "execution_count": 9,
   "id": "d9767ea3",
   "metadata": {
    "execution": {
     "iopub.execute_input": "2022-04-12T09:54:50.910465Z",
     "iopub.status.busy": "2022-04-12T09:54:50.908240Z",
     "iopub.status.idle": "2022-04-12T09:54:50.952540Z",
     "shell.execute_reply": "2022-04-12T09:54:50.953041Z"
    },
    "papermill": {
     "duration": 0.166051,
     "end_time": "2022-04-12T09:54:50.953206",
     "exception": false,
     "start_time": "2022-04-12T09:54:50.787155",
     "status": "completed"
    },
    "tags": []
   },
   "outputs": [
    {
     "data": {
      "text/html": [
       "<div>\n",
       "<style scoped>\n",
       "    .dataframe tbody tr th:only-of-type {\n",
       "        vertical-align: middle;\n",
       "    }\n",
       "\n",
       "    .dataframe tbody tr th {\n",
       "        vertical-align: top;\n",
       "    }\n",
       "\n",
       "    .dataframe thead th {\n",
       "        text-align: right;\n",
       "    }\n",
       "</style>\n",
       "<table border=\"1\" class=\"dataframe\">\n",
       "  <thead>\n",
       "    <tr style=\"text-align: right;\">\n",
       "      <th></th>\n",
       "      <th>bodyType</th>\n",
       "      <th>brand</th>\n",
       "      <th>color</th>\n",
       "      <th>fuelType</th>\n",
       "      <th>modelDate</th>\n",
       "      <th>name</th>\n",
       "      <th>numberOfDoors</th>\n",
       "      <th>productionDate</th>\n",
       "      <th>vehicleConfiguration</th>\n",
       "      <th>vehicleTransmission</th>\n",
       "      <th>...</th>\n",
       "      <th>Руль</th>\n",
       "      <th>Состояние</th>\n",
       "      <th>Владельцы</th>\n",
       "      <th>ПТС</th>\n",
       "      <th>Таможня</th>\n",
       "      <th>Владение</th>\n",
       "      <th>price</th>\n",
       "      <th>start_date</th>\n",
       "      <th>hidden</th>\n",
       "      <th>model</th>\n",
       "    </tr>\n",
       "  </thead>\n",
       "  <tbody>\n",
       "    <tr>\n",
       "      <th>0</th>\n",
       "      <td>Седан</td>\n",
       "      <td>AUDI</td>\n",
       "      <td>040001</td>\n",
       "      <td>бензин</td>\n",
       "      <td>1990.0</td>\n",
       "      <td>2.8 MT (174 л.с.) 4WD</td>\n",
       "      <td>4.0</td>\n",
       "      <td>1991</td>\n",
       "      <td>SEDAN MECHANICAL 2.8</td>\n",
       "      <td>MECHANICAL</td>\n",
       "      <td>...</td>\n",
       "      <td>LEFT</td>\n",
       "      <td>NaN</td>\n",
       "      <td>3.0</td>\n",
       "      <td>ORIGINAL</td>\n",
       "      <td>True</td>\n",
       "      <td>NaN</td>\n",
       "      <td>200000.0</td>\n",
       "      <td>2019-10-03T08:09:11Z</td>\n",
       "      <td>NaN</td>\n",
       "      <td>100</td>\n",
       "    </tr>\n",
       "    <tr>\n",
       "      <th>1</th>\n",
       "      <td>Седан</td>\n",
       "      <td>AUDI</td>\n",
       "      <td>EE1D19</td>\n",
       "      <td>бензин</td>\n",
       "      <td>1982.0</td>\n",
       "      <td>1.8 MT (90 л.с.)</td>\n",
       "      <td>4.0</td>\n",
       "      <td>1986</td>\n",
       "      <td>SEDAN MECHANICAL 1.8</td>\n",
       "      <td>MECHANICAL</td>\n",
       "      <td>...</td>\n",
       "      <td>LEFT</td>\n",
       "      <td>NaN</td>\n",
       "      <td>3.0</td>\n",
       "      <td>ORIGINAL</td>\n",
       "      <td>True</td>\n",
       "      <td>NaN</td>\n",
       "      <td>60000.0</td>\n",
       "      <td>2020-09-06T06:49:40Z</td>\n",
       "      <td>NaN</td>\n",
       "      <td>100</td>\n",
       "    </tr>\n",
       "    <tr>\n",
       "      <th>2</th>\n",
       "      <td>Универсал 5 дв.</td>\n",
       "      <td>AUDI</td>\n",
       "      <td>0000CC</td>\n",
       "      <td>бензин</td>\n",
       "      <td>1988.0</td>\n",
       "      <td>2.3 MT (136 л.с.) 4WD</td>\n",
       "      <td>5.0</td>\n",
       "      <td>1989</td>\n",
       "      <td>WAGON_5_DOORS MECHANICAL 2.3</td>\n",
       "      <td>MECHANICAL</td>\n",
       "      <td>...</td>\n",
       "      <td>LEFT</td>\n",
       "      <td>NaN</td>\n",
       "      <td>3.0</td>\n",
       "      <td>ORIGINAL</td>\n",
       "      <td>True</td>\n",
       "      <td>NaN</td>\n",
       "      <td>99000.0</td>\n",
       "      <td>2020-09-02T14:04:21Z</td>\n",
       "      <td>NaN</td>\n",
       "      <td>100</td>\n",
       "    </tr>\n",
       "    <tr>\n",
       "      <th>3</th>\n",
       "      <td>Седан</td>\n",
       "      <td>AUDI</td>\n",
       "      <td>CACECB</td>\n",
       "      <td>бензин</td>\n",
       "      <td>1988.0</td>\n",
       "      <td>1.8 MT (90 л.с.)</td>\n",
       "      <td>4.0</td>\n",
       "      <td>1989</td>\n",
       "      <td>SEDAN MECHANICAL 1.8</td>\n",
       "      <td>MECHANICAL</td>\n",
       "      <td>...</td>\n",
       "      <td>LEFT</td>\n",
       "      <td>NaN</td>\n",
       "      <td>3.0</td>\n",
       "      <td>ORIGINAL</td>\n",
       "      <td>True</td>\n",
       "      <td>NaN</td>\n",
       "      <td>65000.0</td>\n",
       "      <td>2020-08-23T17:40:09Z</td>\n",
       "      <td>NaN</td>\n",
       "      <td>100</td>\n",
       "    </tr>\n",
       "    <tr>\n",
       "      <th>4</th>\n",
       "      <td>Седан</td>\n",
       "      <td>AUDI</td>\n",
       "      <td>040001</td>\n",
       "      <td>бензин</td>\n",
       "      <td>1990.0</td>\n",
       "      <td>2.0 MT (101 л.с.)</td>\n",
       "      <td>4.0</td>\n",
       "      <td>1991</td>\n",
       "      <td>SEDAN MECHANICAL 2.0</td>\n",
       "      <td>MECHANICAL</td>\n",
       "      <td>...</td>\n",
       "      <td>LEFT</td>\n",
       "      <td>NaN</td>\n",
       "      <td>3.0</td>\n",
       "      <td>DUPLICATE</td>\n",
       "      <td>True</td>\n",
       "      <td>NaN</td>\n",
       "      <td>100000.0</td>\n",
       "      <td>2020-09-08T09:22:07Z</td>\n",
       "      <td>NaN</td>\n",
       "      <td>100</td>\n",
       "    </tr>\n",
       "  </tbody>\n",
       "</table>\n",
       "<p>5 rows × 26 columns</p>\n",
       "</div>"
      ],
      "text/plain": [
       "          bodyType brand   color fuelType  modelDate                   name  \\\n",
       "0            Седан  AUDI  040001   бензин     1990.0  2.8 MT (174 л.с.) 4WD   \n",
       "1            Седан  AUDI  EE1D19   бензин     1982.0       1.8 MT (90 л.с.)   \n",
       "2  Универсал 5 дв.  AUDI  0000CC   бензин     1988.0  2.3 MT (136 л.с.) 4WD   \n",
       "3            Седан  AUDI  CACECB   бензин     1988.0       1.8 MT (90 л.с.)   \n",
       "4            Седан  AUDI  040001   бензин     1990.0      2.0 MT (101 л.с.)   \n",
       "\n",
       "   numberOfDoors  productionDate          vehicleConfiguration  \\\n",
       "0            4.0            1991          SEDAN MECHANICAL 2.8   \n",
       "1            4.0            1986          SEDAN MECHANICAL 1.8   \n",
       "2            5.0            1989  WAGON_5_DOORS MECHANICAL 2.3   \n",
       "3            4.0            1989          SEDAN MECHANICAL 1.8   \n",
       "4            4.0            1991          SEDAN MECHANICAL 2.0   \n",
       "\n",
       "  vehicleTransmission  ...  Руль  Состояние Владельцы        ПТС Таможня  \\\n",
       "0          MECHANICAL  ...  LEFT        NaN       3.0   ORIGINAL    True   \n",
       "1          MECHANICAL  ...  LEFT        NaN       3.0   ORIGINAL    True   \n",
       "2          MECHANICAL  ...  LEFT        NaN       3.0   ORIGINAL    True   \n",
       "3          MECHANICAL  ...  LEFT        NaN       3.0   ORIGINAL    True   \n",
       "4          MECHANICAL  ...  LEFT        NaN       3.0  DUPLICATE    True   \n",
       "\n",
       "  Владение     price            start_date  hidden model  \n",
       "0      NaN  200000.0  2019-10-03T08:09:11Z     NaN   100  \n",
       "1      NaN   60000.0  2020-09-06T06:49:40Z     NaN   100  \n",
       "2      NaN   99000.0  2020-09-02T14:04:21Z     NaN   100  \n",
       "3      NaN   65000.0  2020-08-23T17:40:09Z     NaN   100  \n",
       "4      NaN  100000.0  2020-09-08T09:22:07Z     NaN   100  \n",
       "\n",
       "[5 rows x 26 columns]"
      ]
     },
     "execution_count": 9,
     "metadata": {},
     "output_type": "execute_result"
    }
   ],
   "source": [
    "train.head(5)"
   ]
  },
  {
   "cell_type": "code",
   "execution_count": 10,
   "id": "500e6ca5",
   "metadata": {
    "execution": {
     "iopub.execute_input": "2022-04-12T09:54:51.166975Z",
     "iopub.status.busy": "2022-04-12T09:54:51.165940Z",
     "iopub.status.idle": "2022-04-12T09:54:51.346769Z",
     "shell.execute_reply": "2022-04-12T09:54:51.347426Z"
    },
    "papermill": {
     "duration": 0.289757,
     "end_time": "2022-04-12T09:54:51.347664",
     "exception": false,
     "start_time": "2022-04-12T09:54:51.057907",
     "status": "completed"
    },
    "tags": []
   },
   "outputs": [
    {
     "name": "stdout",
     "output_type": "stream",
     "text": [
      "<class 'pandas.core.frame.DataFrame'>\n",
      "RangeIndex: 89378 entries, 0 to 89377\n",
      "Data columns (total 26 columns):\n",
      " #   Column                Non-Null Count  Dtype  \n",
      "---  ------                --------------  -----  \n",
      " 0   bodyType              89377 non-null  object \n",
      " 1   brand                 89378 non-null  object \n",
      " 2   color                 89378 non-null  object \n",
      " 3   fuelType              89378 non-null  object \n",
      " 4   modelDate             89377 non-null  float64\n",
      " 5   name                  89377 non-null  object \n",
      " 6   numberOfDoors         89377 non-null  float64\n",
      " 7   productionDate        89378 non-null  int64  \n",
      " 8   vehicleConfiguration  89377 non-null  object \n",
      " 9   vehicleTransmission   89377 non-null  object \n",
      " 10  engineDisplacement    89377 non-null  object \n",
      " 11  enginePower           89377 non-null  float64\n",
      " 12  description           86124 non-null  object \n",
      " 13  mileage               89378 non-null  int64  \n",
      " 14  Комплектация          89378 non-null  object \n",
      " 15  Привод                89377 non-null  object \n",
      " 16  Руль                  89378 non-null  object \n",
      " 17  Состояние             0 non-null      float64\n",
      " 18  Владельцы             75790 non-null  float64\n",
      " 19  ПТС                   89017 non-null  object \n",
      " 20  Таможня               89378 non-null  bool   \n",
      " 21  Владение              29201 non-null  object \n",
      " 22  price                 88968 non-null  float64\n",
      " 23  start_date            89378 non-null  object \n",
      " 24  hidden                0 non-null      float64\n",
      " 25  model                 89378 non-null  object \n",
      "dtypes: bool(1), float64(7), int64(2), object(16)\n",
      "memory usage: 17.1+ MB\n"
     ]
    }
   ],
   "source": [
    "train.info()"
   ]
  },
  {
   "cell_type": "code",
   "execution_count": 11,
   "id": "dcd7d6d3",
   "metadata": {
    "execution": {
     "iopub.execute_input": "2022-04-12T09:54:51.560503Z",
     "iopub.status.busy": "2022-04-12T09:54:51.559814Z",
     "iopub.status.idle": "2022-04-12T09:54:51.582160Z",
     "shell.execute_reply": "2022-04-12T09:54:51.582669Z"
    },
    "papermill": {
     "duration": 0.129985,
     "end_time": "2022-04-12T09:54:51.582835",
     "exception": false,
     "start_time": "2022-04-12T09:54:51.452850",
     "status": "completed"
    },
    "tags": []
   },
   "outputs": [
    {
     "data": {
      "text/html": [
       "<div>\n",
       "<style scoped>\n",
       "    .dataframe tbody tr th:only-of-type {\n",
       "        vertical-align: middle;\n",
       "    }\n",
       "\n",
       "    .dataframe tbody tr th {\n",
       "        vertical-align: top;\n",
       "    }\n",
       "\n",
       "    .dataframe thead th {\n",
       "        text-align: right;\n",
       "    }\n",
       "</style>\n",
       "<table border=\"1\" class=\"dataframe\">\n",
       "  <thead>\n",
       "    <tr style=\"text-align: right;\">\n",
       "      <th></th>\n",
       "      <th>bodyType</th>\n",
       "      <th>brand</th>\n",
       "      <th>car_url</th>\n",
       "      <th>color</th>\n",
       "      <th>complectation_dict</th>\n",
       "      <th>description</th>\n",
       "      <th>engineDisplacement</th>\n",
       "      <th>enginePower</th>\n",
       "      <th>equipment_dict</th>\n",
       "      <th>fuelType</th>\n",
       "      <th>...</th>\n",
       "      <th>vehicleConfiguration</th>\n",
       "      <th>vehicleTransmission</th>\n",
       "      <th>vendor</th>\n",
       "      <th>Владельцы</th>\n",
       "      <th>Владение</th>\n",
       "      <th>ПТС</th>\n",
       "      <th>Привод</th>\n",
       "      <th>Руль</th>\n",
       "      <th>Состояние</th>\n",
       "      <th>Таможня</th>\n",
       "    </tr>\n",
       "  </thead>\n",
       "  <tbody>\n",
       "    <tr>\n",
       "      <th>0</th>\n",
       "      <td>лифтбек</td>\n",
       "      <td>SKODA</td>\n",
       "      <td>https://auto.ru/cars/used/sale/skoda/octavia/1...</td>\n",
       "      <td>синий</td>\n",
       "      <td>NaN</td>\n",
       "      <td>Все автомобили, представленные в продаже, прох...</td>\n",
       "      <td>1.2 LTR</td>\n",
       "      <td>105 N12</td>\n",
       "      <td>{\"engine-proof\":true,\"tinted-glass\":true,\"airb...</td>\n",
       "      <td>бензин</td>\n",
       "      <td>...</td>\n",
       "      <td>LIFTBACK ROBOT 1.2</td>\n",
       "      <td>роботизированная</td>\n",
       "      <td>EUROPEAN</td>\n",
       "      <td>3 или более</td>\n",
       "      <td>NaN</td>\n",
       "      <td>Оригинал</td>\n",
       "      <td>передний</td>\n",
       "      <td>Левый</td>\n",
       "      <td>Не требует ремонта</td>\n",
       "      <td>Растаможен</td>\n",
       "    </tr>\n",
       "    <tr>\n",
       "      <th>1</th>\n",
       "      <td>лифтбек</td>\n",
       "      <td>SKODA</td>\n",
       "      <td>https://auto.ru/cars/used/sale/skoda/octavia/1...</td>\n",
       "      <td>чёрный</td>\n",
       "      <td>NaN</td>\n",
       "      <td>ЛОТ: 01217195\\nАвтопрага Север\\nДанный автомоб...</td>\n",
       "      <td>1.6 LTR</td>\n",
       "      <td>110 N12</td>\n",
       "      <td>{\"cruise-control\":true,\"asr\":true,\"esp\":true,\"...</td>\n",
       "      <td>бензин</td>\n",
       "      <td>...</td>\n",
       "      <td>LIFTBACK MECHANICAL 1.6</td>\n",
       "      <td>механическая</td>\n",
       "      <td>EUROPEAN</td>\n",
       "      <td>1 владелец</td>\n",
       "      <td>NaN</td>\n",
       "      <td>Оригинал</td>\n",
       "      <td>передний</td>\n",
       "      <td>Левый</td>\n",
       "      <td>Не требует ремонта</td>\n",
       "      <td>Растаможен</td>\n",
       "    </tr>\n",
       "    <tr>\n",
       "      <th>2</th>\n",
       "      <td>лифтбек</td>\n",
       "      <td>SKODA</td>\n",
       "      <td>https://auto.ru/cars/used/sale/skoda/superb/11...</td>\n",
       "      <td>серый</td>\n",
       "      <td>{\"id\":\"20026336\",\"name\":\"Ambition\",\"available_...</td>\n",
       "      <td>Все автомобили, представленные в продаже, прох...</td>\n",
       "      <td>1.8 LTR</td>\n",
       "      <td>152 N12</td>\n",
       "      <td>{\"cruise-control\":true,\"tinted-glass\":true,\"es...</td>\n",
       "      <td>бензин</td>\n",
       "      <td>...</td>\n",
       "      <td>LIFTBACK ROBOT 1.8</td>\n",
       "      <td>роботизированная</td>\n",
       "      <td>EUROPEAN</td>\n",
       "      <td>1 владелец</td>\n",
       "      <td>NaN</td>\n",
       "      <td>Оригинал</td>\n",
       "      <td>передний</td>\n",
       "      <td>Левый</td>\n",
       "      <td>Не требует ремонта</td>\n",
       "      <td>Растаможен</td>\n",
       "    </tr>\n",
       "    <tr>\n",
       "      <th>3</th>\n",
       "      <td>лифтбек</td>\n",
       "      <td>SKODA</td>\n",
       "      <td>https://auto.ru/cars/used/sale/skoda/octavia/1...</td>\n",
       "      <td>коричневый</td>\n",
       "      <td>{\"id\":\"20803582\",\"name\":\"Ambition\",\"available_...</td>\n",
       "      <td>КОМПЛЕКТ ЗИМНЕЙ (ЛЕТНЕЙ) РЕЗИНЫ ПО СЕЗОНУ В ПО...</td>\n",
       "      <td>1.6 LTR</td>\n",
       "      <td>110 N12</td>\n",
       "      <td>{\"cruise-control\":true,\"roller-blind-for-rear-...</td>\n",
       "      <td>бензин</td>\n",
       "      <td>...</td>\n",
       "      <td>LIFTBACK AUTOMATIC 1.6</td>\n",
       "      <td>автоматическая</td>\n",
       "      <td>EUROPEAN</td>\n",
       "      <td>1 владелец</td>\n",
       "      <td>NaN</td>\n",
       "      <td>Оригинал</td>\n",
       "      <td>передний</td>\n",
       "      <td>Левый</td>\n",
       "      <td>Не требует ремонта</td>\n",
       "      <td>Растаможен</td>\n",
       "    </tr>\n",
       "    <tr>\n",
       "      <th>4</th>\n",
       "      <td>лифтбек</td>\n",
       "      <td>SKODA</td>\n",
       "      <td>https://auto.ru/cars/used/sale/skoda/octavia/1...</td>\n",
       "      <td>белый</td>\n",
       "      <td>NaN</td>\n",
       "      <td>ЛОТ: 01220889\\nАвтопрага Север\\n\\nВы можете по...</td>\n",
       "      <td>1.8 LTR</td>\n",
       "      <td>152 N12</td>\n",
       "      <td>{\"cruise-control\":true,\"asr\":true,\"esp\":true,\"...</td>\n",
       "      <td>бензин</td>\n",
       "      <td>...</td>\n",
       "      <td>LIFTBACK AUTOMATIC 1.8</td>\n",
       "      <td>автоматическая</td>\n",
       "      <td>EUROPEAN</td>\n",
       "      <td>1 владелец</td>\n",
       "      <td>NaN</td>\n",
       "      <td>Оригинал</td>\n",
       "      <td>передний</td>\n",
       "      <td>Левый</td>\n",
       "      <td>Не требует ремонта</td>\n",
       "      <td>Растаможен</td>\n",
       "    </tr>\n",
       "  </tbody>\n",
       "</table>\n",
       "<p>5 rows × 32 columns</p>\n",
       "</div>"
      ],
      "text/plain": [
       "  bodyType  brand                                            car_url  \\\n",
       "0  лифтбек  SKODA  https://auto.ru/cars/used/sale/skoda/octavia/1...   \n",
       "1  лифтбек  SKODA  https://auto.ru/cars/used/sale/skoda/octavia/1...   \n",
       "2  лифтбек  SKODA  https://auto.ru/cars/used/sale/skoda/superb/11...   \n",
       "3  лифтбек  SKODA  https://auto.ru/cars/used/sale/skoda/octavia/1...   \n",
       "4  лифтбек  SKODA  https://auto.ru/cars/used/sale/skoda/octavia/1...   \n",
       "\n",
       "        color                                 complectation_dict  \\\n",
       "0       синий                                                NaN   \n",
       "1      чёрный                                                NaN   \n",
       "2       серый  {\"id\":\"20026336\",\"name\":\"Ambition\",\"available_...   \n",
       "3  коричневый  {\"id\":\"20803582\",\"name\":\"Ambition\",\"available_...   \n",
       "4       белый                                                NaN   \n",
       "\n",
       "                                         description engineDisplacement  \\\n",
       "0  Все автомобили, представленные в продаже, прох...            1.2 LTR   \n",
       "1  ЛОТ: 01217195\\nАвтопрага Север\\nДанный автомоб...            1.6 LTR   \n",
       "2  Все автомобили, представленные в продаже, прох...            1.8 LTR   \n",
       "3  КОМПЛЕКТ ЗИМНЕЙ (ЛЕТНЕЙ) РЕЗИНЫ ПО СЕЗОНУ В ПО...            1.6 LTR   \n",
       "4  ЛОТ: 01220889\\nАвтопрага Север\\n\\nВы можете по...            1.8 LTR   \n",
       "\n",
       "  enginePower                                     equipment_dict fuelType  \\\n",
       "0     105 N12  {\"engine-proof\":true,\"tinted-glass\":true,\"airb...   бензин   \n",
       "1     110 N12  {\"cruise-control\":true,\"asr\":true,\"esp\":true,\"...   бензин   \n",
       "2     152 N12  {\"cruise-control\":true,\"tinted-glass\":true,\"es...   бензин   \n",
       "3     110 N12  {\"cruise-control\":true,\"roller-blind-for-rear-...   бензин   \n",
       "4     152 N12  {\"cruise-control\":true,\"asr\":true,\"esp\":true,\"...   бензин   \n",
       "\n",
       "   ...     vehicleConfiguration  vehicleTransmission    vendor    Владельцы  \\\n",
       "0  ...       LIFTBACK ROBOT 1.2     роботизированная  EUROPEAN  3 или более   \n",
       "1  ...  LIFTBACK MECHANICAL 1.6         механическая  EUROPEAN   1 владелец   \n",
       "2  ...       LIFTBACK ROBOT 1.8     роботизированная  EUROPEAN   1 владелец   \n",
       "3  ...   LIFTBACK AUTOMATIC 1.6       автоматическая  EUROPEAN   1 владелец   \n",
       "4  ...   LIFTBACK AUTOMATIC 1.8       автоматическая  EUROPEAN   1 владелец   \n",
       "\n",
       "  Владение       ПТС    Привод   Руль           Состояние     Таможня  \n",
       "0      NaN  Оригинал  передний  Левый  Не требует ремонта  Растаможен  \n",
       "1      NaN  Оригинал  передний  Левый  Не требует ремонта  Растаможен  \n",
       "2      NaN  Оригинал  передний  Левый  Не требует ремонта  Растаможен  \n",
       "3      NaN  Оригинал  передний  Левый  Не требует ремонта  Растаможен  \n",
       "4      NaN  Оригинал  передний  Левый  Не требует ремонта  Растаможен  \n",
       "\n",
       "[5 rows x 32 columns]"
      ]
     },
     "execution_count": 11,
     "metadata": {},
     "output_type": "execute_result"
    }
   ],
   "source": [
    "test.head(5)"
   ]
  },
  {
   "cell_type": "code",
   "execution_count": 12,
   "id": "76883e84",
   "metadata": {
    "execution": {
     "iopub.execute_input": "2022-04-12T09:54:51.797303Z",
     "iopub.status.busy": "2022-04-12T09:54:51.796625Z",
     "iopub.status.idle": "2022-04-12T09:54:51.908451Z",
     "shell.execute_reply": "2022-04-12T09:54:51.908915Z"
    },
    "papermill": {
     "duration": 0.221308,
     "end_time": "2022-04-12T09:54:51.909095",
     "exception": false,
     "start_time": "2022-04-12T09:54:51.687787",
     "status": "completed"
    },
    "tags": []
   },
   "outputs": [
    {
     "name": "stdout",
     "output_type": "stream",
     "text": [
      "<class 'pandas.core.frame.DataFrame'>\n",
      "RangeIndex: 34686 entries, 0 to 34685\n",
      "Data columns (total 32 columns):\n",
      " #   Column                Non-Null Count  Dtype \n",
      "---  ------                --------------  ----- \n",
      " 0   bodyType              34686 non-null  object\n",
      " 1   brand                 34686 non-null  object\n",
      " 2   car_url               34686 non-null  object\n",
      " 3   color                 34686 non-null  object\n",
      " 4   complectation_dict    6418 non-null   object\n",
      " 5   description           34686 non-null  object\n",
      " 6   engineDisplacement    34686 non-null  object\n",
      " 7   enginePower           34686 non-null  object\n",
      " 8   equipment_dict        24690 non-null  object\n",
      " 9   fuelType              34686 non-null  object\n",
      " 10  image                 34686 non-null  object\n",
      " 11  mileage               34686 non-null  int64 \n",
      " 12  modelDate             34686 non-null  int64 \n",
      " 13  model_info            34686 non-null  object\n",
      " 14  model_name            34686 non-null  object\n",
      " 15  name                  34686 non-null  object\n",
      " 16  numberOfDoors         34686 non-null  int64 \n",
      " 17  parsing_unixtime      34686 non-null  int64 \n",
      " 18  priceCurrency         34686 non-null  object\n",
      " 19  productionDate        34686 non-null  int64 \n",
      " 20  sell_id               34686 non-null  int64 \n",
      " 21  super_gen             34686 non-null  object\n",
      " 22  vehicleConfiguration  34686 non-null  object\n",
      " 23  vehicleTransmission   34686 non-null  object\n",
      " 24  vendor                34686 non-null  object\n",
      " 25  Владельцы             34686 non-null  object\n",
      " 26  Владение              11995 non-null  object\n",
      " 27  ПТС                   34685 non-null  object\n",
      " 28  Привод                34686 non-null  object\n",
      " 29  Руль                  34686 non-null  object\n",
      " 30  Состояние             34686 non-null  object\n",
      " 31  Таможня               34686 non-null  object\n",
      "dtypes: int64(6), object(26)\n",
      "memory usage: 8.5+ MB\n"
     ]
    }
   ],
   "source": [
    "test.info()"
   ]
  },
  {
   "cell_type": "markdown",
   "id": "429ee5fb",
   "metadata": {
    "papermill": {
     "duration": 0.106955,
     "end_time": "2022-04-12T09:54:52.122799",
     "exception": false,
     "start_time": "2022-04-12T09:54:52.015844",
     "status": "completed"
    },
    "tags": []
   },
   "source": [
    "## Data Preprocessing"
   ]
  },
  {
   "cell_type": "markdown",
   "id": "642c8d13",
   "metadata": {
    "papermill": {
     "duration": 0.10602,
     "end_time": "2022-04-12T09:54:52.339900",
     "exception": false,
     "start_time": "2022-04-12T09:54:52.233880",
     "status": "completed"
    },
    "tags": []
   },
   "source": [
    "Список брэндов в test:"
   ]
  },
  {
   "cell_type": "code",
   "execution_count": 13,
   "id": "ba54809f",
   "metadata": {
    "execution": {
     "iopub.execute_input": "2022-04-12T09:54:52.555634Z",
     "iopub.status.busy": "2022-04-12T09:54:52.554955Z",
     "iopub.status.idle": "2022-04-12T09:54:52.563680Z",
     "shell.execute_reply": "2022-04-12T09:54:52.564195Z"
    },
    "papermill": {
     "duration": 0.118297,
     "end_time": "2022-04-12T09:54:52.564385",
     "exception": false,
     "start_time": "2022-04-12T09:54:52.446088",
     "status": "completed"
    },
    "tags": []
   },
   "outputs": [
    {
     "data": {
      "text/plain": [
       "['SKODA',\n",
       " 'AUDI',\n",
       " 'HONDA',\n",
       " 'VOLVO',\n",
       " 'BMW',\n",
       " 'NISSAN',\n",
       " 'INFINITI',\n",
       " 'MERCEDES',\n",
       " 'TOYOTA',\n",
       " 'LEXUS',\n",
       " 'VOLKSWAGEN',\n",
       " 'MITSUBISHI']"
      ]
     },
     "execution_count": 13,
     "metadata": {},
     "output_type": "execute_result"
    }
   ],
   "source": [
    "brands = [brand for brand in test.brand.unique()]\n",
    "brands"
   ]
  },
  {
   "cell_type": "markdown",
   "id": "4b535657",
   "metadata": {
    "papermill": {
     "duration": 0.105912,
     "end_time": "2022-04-12T09:54:52.776465",
     "exception": false,
     "start_time": "2022-04-12T09:54:52.670553",
     "status": "completed"
    },
    "tags": []
   },
   "source": [
    "Список брэндов в train:"
   ]
  },
  {
   "cell_type": "code",
   "execution_count": 14,
   "id": "e7fb10ad",
   "metadata": {
    "execution": {
     "iopub.execute_input": "2022-04-12T09:54:52.996118Z",
     "iopub.status.busy": "2022-04-12T09:54:52.994197Z",
     "iopub.status.idle": "2022-04-12T09:54:53.006122Z",
     "shell.execute_reply": "2022-04-12T09:54:53.006708Z"
    },
    "papermill": {
     "duration": 0.124154,
     "end_time": "2022-04-12T09:54:53.006895",
     "exception": false,
     "start_time": "2022-04-12T09:54:52.882741",
     "status": "completed"
    },
    "tags": []
   },
   "outputs": [
    {
     "data": {
      "text/plain": [
       "['AUDI',\n",
       " 'BMW',\n",
       " 'CADILLAC',\n",
       " 'CHERY',\n",
       " 'CHEVROLET',\n",
       " 'CHRYSLER',\n",
       " 'CITROEN',\n",
       " 'DAEWOO',\n",
       " 'DODGE',\n",
       " 'FORD',\n",
       " 'GEELY',\n",
       " 'HONDA',\n",
       " 'HYUNDAI',\n",
       " 'INFINITI',\n",
       " 'JAGUAR',\n",
       " 'JEEP',\n",
       " 'KIA',\n",
       " 'LEXUS',\n",
       " 'MAZDA',\n",
       " 'MINI',\n",
       " 'MITSUBISHI',\n",
       " 'NISSAN',\n",
       " 'OPEL',\n",
       " 'PEUGEOT',\n",
       " 'PORSCHE',\n",
       " 'RENAULT',\n",
       " 'SKODA',\n",
       " 'SUBARU',\n",
       " 'SUZUKI',\n",
       " 'TOYOTA',\n",
       " 'VOLKSWAGEN',\n",
       " 'VOLVO',\n",
       " 'GREAT_WALL',\n",
       " 'LAND_ROVER',\n",
       " 'MERCEDES',\n",
       " 'SSANG_YONG']"
      ]
     },
     "execution_count": 14,
     "metadata": {},
     "output_type": "execute_result"
    }
   ],
   "source": [
    "brands_train = [brand for brand in train.brand.unique()]\n",
    "brands_train"
   ]
  },
  {
   "cell_type": "markdown",
   "id": "e92c500f",
   "metadata": {
    "papermill": {
     "duration": 0.106771,
     "end_time": "2022-04-12T09:54:53.224797",
     "exception": false,
     "start_time": "2022-04-12T09:54:53.118026",
     "status": "completed"
    },
    "tags": []
   },
   "source": [
    "Оставим в train только те брэнды, которые есть в test:"
   ]
  },
  {
   "cell_type": "code",
   "execution_count": 15,
   "id": "ed4a9fb2",
   "metadata": {
    "execution": {
     "iopub.execute_input": "2022-04-12T09:54:53.446667Z",
     "iopub.status.busy": "2022-04-12T09:54:53.445734Z",
     "iopub.status.idle": "2022-04-12T09:54:53.474425Z",
     "shell.execute_reply": "2022-04-12T09:54:53.473837Z"
    },
    "papermill": {
     "duration": 0.143446,
     "end_time": "2022-04-12T09:54:53.474602",
     "exception": false,
     "start_time": "2022-04-12T09:54:53.331156",
     "status": "completed"
    },
    "tags": []
   },
   "outputs": [
    {
     "name": "stdout",
     "output_type": "stream",
     "text": [
      "Rows before: 89378\n",
      "Rows after: 49309\n"
     ]
    }
   ],
   "source": [
    "print(f\"Rows before: {train.shape[0]}\")\n",
    "train = train[train.brand.isin(test.brand.unique())]\n",
    "print(f\"Rows after: {train.shape[0]}\")"
   ]
  },
  {
   "cell_type": "markdown",
   "id": "3759585c",
   "metadata": {
    "papermill": {
     "duration": 0.106986,
     "end_time": "2022-04-12T09:54:53.689373",
     "exception": false,
     "start_time": "2022-04-12T09:54:53.582387",
     "status": "completed"
    },
    "tags": []
   },
   "source": [
    "Уберем пропуски по таким важным параметрам как дата произвоства и mileage:"
   ]
  },
  {
   "cell_type": "code",
   "execution_count": 16,
   "id": "88e9db44",
   "metadata": {
    "execution": {
     "iopub.execute_input": "2022-04-12T09:54:53.911990Z",
     "iopub.status.busy": "2022-04-12T09:54:53.911234Z",
     "iopub.status.idle": "2022-04-12T09:54:53.946712Z",
     "shell.execute_reply": "2022-04-12T09:54:53.946120Z"
    },
    "papermill": {
     "duration": 0.150216,
     "end_time": "2022-04-12T09:54:53.946875",
     "exception": false,
     "start_time": "2022-04-12T09:54:53.796659",
     "status": "completed"
    },
    "tags": []
   },
   "outputs": [],
   "source": [
    "train.dropna(subset=['productionDate','mileage'], inplace=True)\n",
    "train.dropna(subset=['price'], inplace=True)"
   ]
  },
  {
   "cell_type": "markdown",
   "id": "c901e056",
   "metadata": {
    "papermill": {
     "duration": 0.107796,
     "end_time": "2022-04-12T09:54:54.163601",
     "exception": false,
     "start_time": "2022-04-12T09:54:54.055805",
     "status": "completed"
    },
    "tags": []
   },
   "source": [
    "Корелляция признаков:"
   ]
  },
  {
   "cell_type": "code",
   "execution_count": 17,
   "id": "73d3c785",
   "metadata": {
    "execution": {
     "iopub.execute_input": "2022-04-12T09:54:54.386696Z",
     "iopub.status.busy": "2022-04-12T09:54:54.381526Z",
     "iopub.status.idle": "2022-04-12T09:54:55.088180Z",
     "shell.execute_reply": "2022-04-12T09:54:55.087681Z"
    },
    "papermill": {
     "duration": 0.81656,
     "end_time": "2022-04-12T09:54:55.088359",
     "exception": false,
     "start_time": "2022-04-12T09:54:54.271799",
     "status": "completed"
    },
    "tags": []
   },
   "outputs": [
    {
     "data": {
      "text/plain": [
       "<AxesSubplot:>"
      ]
     },
     "execution_count": 17,
     "metadata": {},
     "output_type": "execute_result"
    },
    {
     "data": {
      "image/png": "[encoded data removed]",
      "text/plain": [
       "<Figure size 1080x576 with 2 Axes>"
      ]
     },
     "metadata": {
      "needs_background": "light"
     },
     "output_type": "display_data"
    }
   ],
   "source": [
    "plt.figure(figsize=(15, 8));\n",
    "sns.heatmap(train.corr(), vmin=-1, vmax=1, annot = True, cmap = 'coolwarm')"
   ]
  },
  {
   "cell_type": "markdown",
   "id": "554aa2c7",
   "metadata": {
    "papermill": {
     "duration": 0.111168,
     "end_time": "2022-04-12T09:54:55.309176",
     "exception": false,
     "start_time": "2022-04-12T09:54:55.198008",
     "status": "completed"
    },
    "tags": []
   },
   "source": [
    "Очень высокая корреляция наблюдается между modelDate и productionDate (что вполне логично). Возможно стоит поэксперементировать и удалить один из признаков.\n",
    "\n",
    "Также наблюдается относительно сильная корреляция между milage и modelDate/productionDate. И это тоже логично - чем старее машина, тем больше пробег.\n",
    "\n",
    "Есть некая корреляция между количеством владельцев и modelDate/productionDate, что тоже вполне логично - чем больше лет машине, тем больше количество владельцев.\n",
    "\n",
    "\n",
    "Теперь посмотрим, какие колонки присутствуют и в train, и в test:"
   ]
  },
  {
   "cell_type": "code",
   "execution_count": 18,
   "id": "437c15f4",
   "metadata": {
    "execution": {
     "iopub.execute_input": "2022-04-12T09:54:55.535516Z",
     "iopub.status.busy": "2022-04-12T09:54:55.531649Z",
     "iopub.status.idle": "2022-04-12T09:54:55.539085Z",
     "shell.execute_reply": "2022-04-12T09:54:55.538565Z"
    },
    "papermill": {
     "duration": 0.120872,
     "end_time": "2022-04-12T09:54:55.539220",
     "exception": false,
     "start_time": "2022-04-12T09:54:55.418348",
     "status": "completed"
    },
    "tags": []
   },
   "outputs": [
    {
     "data": {
      "text/plain": [
       "{'bodyType',\n",
       " 'brand',\n",
       " 'color',\n",
       " 'description',\n",
       " 'engineDisplacement',\n",
       " 'enginePower',\n",
       " 'fuelType',\n",
       " 'mileage',\n",
       " 'modelDate',\n",
       " 'name',\n",
       " 'numberOfDoors',\n",
       " 'productionDate',\n",
       " 'vehicleConfiguration',\n",
       " 'vehicleTransmission',\n",
       " 'Владельцы',\n",
       " 'Владение',\n",
       " 'ПТС',\n",
       " 'Привод',\n",
       " 'Руль',\n",
       " 'Состояние',\n",
       " 'Таможня'}"
      ]
     },
     "execution_count": 18,
     "metadata": {},
     "output_type": "execute_result"
    }
   ],
   "source": [
    "set(test.columns).intersection(train.columns)"
   ]
  },
  {
   "cell_type": "markdown",
   "id": "df841544",
   "metadata": {
    "papermill": {
     "duration": 0.111824,
     "end_time": "2022-04-12T09:54:55.761177",
     "exception": false,
     "start_time": "2022-04-12T09:54:55.649353",
     "status": "completed"
    },
    "tags": []
   },
   "source": [
    "Добавим в список колонок ниже еще следующие (на мой взгляд, важные) колонки: color, enginePower, fuelType, modelDate, vehicleTransmission, Владельцы, Привод, Руль, Состояние"
   ]
  },
  {
   "cell_type": "code",
   "execution_count": 19,
   "id": "1d5bdfef",
   "metadata": {
    "execution": {
     "iopub.execute_input": "2022-04-12T09:54:55.992377Z",
     "iopub.status.busy": "2022-04-12T09:54:55.990818Z",
     "iopub.status.idle": "2022-04-12T09:54:56.006607Z",
     "shell.execute_reply": "2022-04-12T09:54:56.007147Z"
    },
    "papermill": {
     "duration": 0.132665,
     "end_time": "2022-04-12T09:54:56.007344",
     "exception": false,
     "start_time": "2022-04-12T09:54:55.874679",
     "status": "completed"
    },
    "tags": []
   },
   "outputs": [],
   "source": [
    "columns = ['bodyType', 'brand', 'productionDate', 'engineDisplacement', 'mileage', 'color', 'enginePower',\n",
    "           'fuelType', 'modelDate', 'vehicleTransmission', 'Владельцы', 'Привод', 'Руль', 'Состояние']\n",
    "df_train = train[columns]\n",
    "df_test = test[columns]"
   ]
  },
  {
   "cell_type": "code",
   "execution_count": 20,
   "id": "3f97fb0c",
   "metadata": {
    "execution": {
     "iopub.execute_input": "2022-04-12T09:54:56.234138Z",
     "iopub.status.busy": "2022-04-12T09:54:56.233102Z",
     "iopub.status.idle": "2022-04-12T09:54:56.237330Z",
     "shell.execute_reply": "2022-04-12T09:54:56.237908Z"
    },
    "papermill": {
     "duration": 0.118341,
     "end_time": "2022-04-12T09:54:56.238078",
     "exception": false,
     "start_time": "2022-04-12T09:54:56.119737",
     "status": "completed"
    },
    "tags": []
   },
   "outputs": [],
   "source": [
    "y = train['price']"
   ]
  },
  {
   "cell_type": "markdown",
   "id": "52a91d03",
   "metadata": {
    "papermill": {
     "duration": 0.109795,
     "end_time": "2022-04-12T09:54:56.461973",
     "exception": false,
     "start_time": "2022-04-12T09:54:56.352178",
     "status": "completed"
    },
    "tags": []
   },
   "source": [
    "## Label Encoding"
   ]
  },
  {
   "cell_type": "code",
   "execution_count": 21,
   "id": "d3d9c0eb",
   "metadata": {
    "execution": {
     "iopub.execute_input": "2022-04-12T09:54:56.688963Z",
     "iopub.status.busy": "2022-04-12T09:54:56.687943Z",
     "iopub.status.idle": "2022-04-12T09:54:56.801653Z",
     "shell.execute_reply": "2022-04-12T09:54:56.802507Z"
    },
    "papermill": {
     "duration": 0.227952,
     "end_time": "2022-04-12T09:54:56.802753",
     "exception": false,
     "start_time": "2022-04-12T09:54:56.574801",
     "status": "completed"
    },
    "tags": []
   },
   "outputs": [
    {
     "name": "stderr",
     "output_type": "stream",
     "text": [
      "/opt/conda/lib/python3.7/site-packages/ipykernel_launcher.py:2: SettingWithCopyWarning: \n",
      "A value is trying to be set on a copy of a slice from a DataFrame.\n",
      "Try using .loc[row_indexer,col_indexer] = value instead\n",
      "\n",
      "See the caveats in the documentation: https://pandas.pydata.org/pandas-docs/stable/user_guide/indexing.html#returning-a-view-versus-a-copy\n",
      "  \n",
      "/opt/conda/lib/python3.7/site-packages/ipykernel_launcher.py:3: SettingWithCopyWarning: \n",
      "A value is trying to be set on a copy of a slice from a DataFrame.\n",
      "Try using .loc[row_indexer,col_indexer] = value instead\n",
      "\n",
      "See the caveats in the documentation: https://pandas.pydata.org/pandas-docs/stable/user_guide/indexing.html#returning-a-view-versus-a-copy\n",
      "  This is separate from the ipykernel package so we can avoid doing imports until\n"
     ]
    },
    {
     "data": {
      "text/html": [
       "<div>\n",
       "<style scoped>\n",
       "    .dataframe tbody tr th:only-of-type {\n",
       "        vertical-align: middle;\n",
       "    }\n",
       "\n",
       "    .dataframe tbody tr th {\n",
       "        vertical-align: top;\n",
       "    }\n",
       "\n",
       "    .dataframe thead th {\n",
       "        text-align: right;\n",
       "    }\n",
       "</style>\n",
       "<table border=\"1\" class=\"dataframe\">\n",
       "  <thead>\n",
       "    <tr style=\"text-align: right;\">\n",
       "      <th></th>\n",
       "      <th>bodyType</th>\n",
       "      <th>brand</th>\n",
       "      <th>productionDate</th>\n",
       "      <th>engineDisplacement</th>\n",
       "      <th>mileage</th>\n",
       "      <th>color</th>\n",
       "      <th>enginePower</th>\n",
       "      <th>fuelType</th>\n",
       "      <th>modelDate</th>\n",
       "      <th>vehicleTransmission</th>\n",
       "      <th>Владельцы</th>\n",
       "      <th>Привод</th>\n",
       "      <th>Руль</th>\n",
       "      <th>Состояние</th>\n",
       "      <th>sample</th>\n",
       "    </tr>\n",
       "  </thead>\n",
       "  <tbody>\n",
       "    <tr>\n",
       "      <th>0</th>\n",
       "      <td>лифтбек</td>\n",
       "      <td>SKODA</td>\n",
       "      <td>2014</td>\n",
       "      <td>1.2 LTR</td>\n",
       "      <td>74000</td>\n",
       "      <td>синий</td>\n",
       "      <td>105 N12</td>\n",
       "      <td>бензин</td>\n",
       "      <td>2013.0</td>\n",
       "      <td>роботизированная</td>\n",
       "      <td>3 или более</td>\n",
       "      <td>передний</td>\n",
       "      <td>Левый</td>\n",
       "      <td>Не требует ремонта</td>\n",
       "      <td>0</td>\n",
       "    </tr>\n",
       "    <tr>\n",
       "      <th>1</th>\n",
       "      <td>лифтбек</td>\n",
       "      <td>SKODA</td>\n",
       "      <td>2017</td>\n",
       "      <td>1.6 LTR</td>\n",
       "      <td>60563</td>\n",
       "      <td>чёрный</td>\n",
       "      <td>110 N12</td>\n",
       "      <td>бензин</td>\n",
       "      <td>2017.0</td>\n",
       "      <td>механическая</td>\n",
       "      <td>1 владелец</td>\n",
       "      <td>передний</td>\n",
       "      <td>Левый</td>\n",
       "      <td>Не требует ремонта</td>\n",
       "      <td>0</td>\n",
       "    </tr>\n",
       "    <tr>\n",
       "      <th>2</th>\n",
       "      <td>лифтбек</td>\n",
       "      <td>SKODA</td>\n",
       "      <td>2014</td>\n",
       "      <td>1.8 LTR</td>\n",
       "      <td>88000</td>\n",
       "      <td>серый</td>\n",
       "      <td>152 N12</td>\n",
       "      <td>бензин</td>\n",
       "      <td>2013.0</td>\n",
       "      <td>роботизированная</td>\n",
       "      <td>1 владелец</td>\n",
       "      <td>передний</td>\n",
       "      <td>Левый</td>\n",
       "      <td>Не требует ремонта</td>\n",
       "      <td>0</td>\n",
       "    </tr>\n",
       "    <tr>\n",
       "      <th>3</th>\n",
       "      <td>лифтбек</td>\n",
       "      <td>SKODA</td>\n",
       "      <td>2014</td>\n",
       "      <td>1.6 LTR</td>\n",
       "      <td>95000</td>\n",
       "      <td>коричневый</td>\n",
       "      <td>110 N12</td>\n",
       "      <td>бензин</td>\n",
       "      <td>2013.0</td>\n",
       "      <td>автоматическая</td>\n",
       "      <td>1 владелец</td>\n",
       "      <td>передний</td>\n",
       "      <td>Левый</td>\n",
       "      <td>Не требует ремонта</td>\n",
       "      <td>0</td>\n",
       "    </tr>\n",
       "    <tr>\n",
       "      <th>4</th>\n",
       "      <td>лифтбек</td>\n",
       "      <td>SKODA</td>\n",
       "      <td>2012</td>\n",
       "      <td>1.8 LTR</td>\n",
       "      <td>58536</td>\n",
       "      <td>белый</td>\n",
       "      <td>152 N12</td>\n",
       "      <td>бензин</td>\n",
       "      <td>2008.0</td>\n",
       "      <td>автоматическая</td>\n",
       "      <td>1 владелец</td>\n",
       "      <td>передний</td>\n",
       "      <td>Левый</td>\n",
       "      <td>Не требует ремонта</td>\n",
       "      <td>0</td>\n",
       "    </tr>\n",
       "  </tbody>\n",
       "</table>\n",
       "</div>"
      ],
      "text/plain": [
       "  bodyType  brand  productionDate engineDisplacement  mileage       color  \\\n",
       "0  лифтбек  SKODA            2014            1.2 LTR    74000       синий   \n",
       "1  лифтбек  SKODA            2017            1.6 LTR    60563      чёрный   \n",
       "2  лифтбек  SKODA            2014            1.8 LTR    88000       серый   \n",
       "3  лифтбек  SKODA            2014            1.6 LTR    95000  коричневый   \n",
       "4  лифтбек  SKODA            2012            1.8 LTR    58536       белый   \n",
       "\n",
       "  enginePower fuelType  modelDate vehicleTransmission    Владельцы    Привод  \\\n",
       "0     105 N12   бензин     2013.0    роботизированная  3 или более  передний   \n",
       "1     110 N12   бензин     2017.0        механическая   1 владелец  передний   \n",
       "2     152 N12   бензин     2013.0    роботизированная   1 владелец  передний   \n",
       "3     110 N12   бензин     2013.0      автоматическая   1 владелец  передний   \n",
       "4     152 N12   бензин     2008.0      автоматическая   1 владелец  передний   \n",
       "\n",
       "    Руль           Состояние  sample  \n",
       "0  Левый  Не требует ремонта       0  \n",
       "1  Левый  Не требует ремонта       0  \n",
       "2  Левый  Не требует ремонта       0  \n",
       "3  Левый  Не требует ремонта       0  \n",
       "4  Левый  Не требует ремонта       0  "
      ]
     },
     "execution_count": 21,
     "metadata": {},
     "output_type": "execute_result"
    }
   ],
   "source": [
    "# ВАЖНО! дря корректной обработки признаков объединяем трейн и тест в один датасет\n",
    "df_train['sample'] = 1 # помечаем где у нас трейн\n",
    "df_test['sample'] = 0 # помечаем где у нас тест\n",
    "\n",
    "data = df_test.append(df_train, sort=False).reset_index(drop=True) # объединяем\n",
    "data.head(5)"
   ]
  },
  {
   "cell_type": "code",
   "execution_count": 22,
   "id": "d997619d",
   "metadata": {
    "execution": {
     "iopub.execute_input": "2022-04-12T09:54:57.035424Z",
     "iopub.status.busy": "2022-04-12T09:54:57.034743Z",
     "iopub.status.idle": "2022-04-12T09:54:57.037340Z",
     "shell.execute_reply": "2022-04-12T09:54:57.037795Z"
    },
    "papermill": {
     "duration": 0.120433,
     "end_time": "2022-04-12T09:54:57.037968",
     "exception": false,
     "start_time": "2022-04-12T09:54:56.917535",
     "status": "completed"
    },
    "tags": []
   },
   "outputs": [],
   "source": [
    "#числовые:\n",
    "num_cols = []\n",
    "\n",
    "# бинарные, количество уникальных значений которых равно двум\n",
    "bin_cols = []\n",
    "\n",
    "# категориальные\n",
    "cat_cols = []"
   ]
  },
  {
   "cell_type": "markdown",
   "id": "4c2eccd3",
   "metadata": {
    "papermill": {
     "duration": 0.112886,
     "end_time": "2022-04-12T09:54:57.263582",
     "exception": false,
     "start_time": "2022-04-12T09:54:57.150696",
     "status": "completed"
    },
    "tags": []
   },
   "source": [
    "### Предобработка bodyType:"
   ]
  },
  {
   "cell_type": "code",
   "execution_count": 23,
   "id": "ff9306fa",
   "metadata": {
    "execution": {
     "iopub.execute_input": "2022-04-12T09:54:57.506489Z",
     "iopub.status.busy": "2022-04-12T09:54:57.505524Z",
     "iopub.status.idle": "2022-04-12T09:54:57.513111Z",
     "shell.execute_reply": "2022-04-12T09:54:57.513633Z"
    },
    "papermill": {
     "duration": 0.138114,
     "end_time": "2022-04-12T09:54:57.513809",
     "exception": false,
     "start_time": "2022-04-12T09:54:57.375695",
     "status": "completed"
    },
    "tags": []
   },
   "outputs": [
    {
     "data": {
      "text/plain": [
       "Внедорожник 5 дв.             19984\n",
       "Седан                         16662\n",
       "седан                         13147\n",
       "внедорожник 5 дв.             12228\n",
       "Лифтбек                        2566\n",
       "                              ...  \n",
       "Универсал 5 дв. California        1\n",
       "Минивэн Caravan Elgrand           1\n",
       "Универсал 5 дв. Plus              1\n",
       "Универсал 5 дв. Shuttle           1\n",
       "Компактвэн Joy                    1\n",
       "Name: bodyType, Length: 126, dtype: int64"
      ]
     },
     "execution_count": 23,
     "metadata": {},
     "output_type": "execute_result"
    }
   ],
   "source": [
    "data['bodyType'].value_counts()"
   ]
  },
  {
   "cell_type": "code",
   "execution_count": 24,
   "id": "e304e772",
   "metadata": {
    "execution": {
     "iopub.execute_input": "2022-04-12T09:54:57.742827Z",
     "iopub.status.busy": "2022-04-12T09:54:57.742097Z",
     "iopub.status.idle": "2022-04-12T09:54:57.852350Z",
     "shell.execute_reply": "2022-04-12T09:54:57.852845Z"
    },
    "papermill": {
     "duration": 0.226156,
     "end_time": "2022-04-12T09:54:57.853029",
     "exception": false,
     "start_time": "2022-04-12T09:54:57.626873",
     "status": "completed"
    },
    "tags": []
   },
   "outputs": [
    {
     "data": {
      "text/plain": [
       "внедорожник      32498\n",
       "седан            31110\n",
       "хэтчбек           5432\n",
       "лифтбек           5099\n",
       "универсал         2708\n",
       "минивэн           2283\n",
       "купе              1787\n",
       "компактвэн        1124\n",
       "пикап              673\n",
       "купе-хардтоп       351\n",
       "фургон             231\n",
       "родстер            227\n",
       "кабриолет          199\n",
       "седан-хардтоп       29\n",
       "микровэн            15\n",
       "лимузин             12\n",
       "тарга                5\n",
       "фастбек              3\n",
       "nan                  1\n",
       "Name: bodyType, dtype: int64"
      ]
     },
     "execution_count": 24,
     "metadata": {},
     "output_type": "execute_result"
    }
   ],
   "source": [
    "data['bodyType'] = data['bodyType'].astype(str).apply(lambda x: None if x.strip()=='' else x)\n",
    "data['bodyType'] = data.bodyType.apply(lambda x: x.split(' ')[0].lower())\n",
    "data['bodyType'].value_counts()"
   ]
  },
  {
   "cell_type": "markdown",
   "id": "e90310fe",
   "metadata": {
    "papermill": {
     "duration": 0.115033,
     "end_time": "2022-04-12T09:54:58.083065",
     "exception": false,
     "start_time": "2022-04-12T09:54:57.968032",
     "status": "completed"
    },
    "tags": []
   },
   "source": [
    "Распределение признака:"
   ]
  },
  {
   "cell_type": "code",
   "execution_count": 25,
   "id": "1d29626b",
   "metadata": {
    "execution": {
     "iopub.execute_input": "2022-04-12T09:54:58.317622Z",
     "iopub.status.busy": "2022-04-12T09:54:58.316867Z",
     "iopub.status.idle": "2022-04-12T09:54:58.652947Z",
     "shell.execute_reply": "2022-04-12T09:54:58.652340Z"
    },
    "papermill": {
     "duration": 0.45494,
     "end_time": "2022-04-12T09:54:58.653093",
     "exception": false,
     "start_time": "2022-04-12T09:54:58.198153",
     "status": "completed"
    },
    "tags": []
   },
   "outputs": [
    {
     "data": {
      "text/plain": [
       "<AxesSubplot:>"
      ]
     },
     "execution_count": 25,
     "metadata": {},
     "output_type": "execute_result"
    },
    {
     "data": {
      "image/png": "[encoded data removed]",
      "text/plain": [
       "<Figure size 432x288 with 1 Axes>"
      ]
     },
     "metadata": {
      "needs_background": "light"
     },
     "output_type": "display_data"
    }
   ],
   "source": [
    "data.bodyType.value_counts().plot.barh()"
   ]
  },
  {
   "cell_type": "code",
   "execution_count": 26,
   "id": "5695d54d",
   "metadata": {
    "execution": {
     "iopub.execute_input": "2022-04-12T09:54:58.887574Z",
     "iopub.status.busy": "2022-04-12T09:54:58.886913Z",
     "iopub.status.idle": "2022-04-12T09:54:58.889872Z",
     "shell.execute_reply": "2022-04-12T09:54:58.889306Z"
    },
    "papermill": {
     "duration": 0.121557,
     "end_time": "2022-04-12T09:54:58.890018",
     "exception": false,
     "start_time": "2022-04-12T09:54:58.768461",
     "status": "completed"
    },
    "tags": []
   },
   "outputs": [],
   "source": [
    "cat_cols.append('bodyType')"
   ]
  },
  {
   "cell_type": "markdown",
   "id": "6efdd2d6",
   "metadata": {
    "papermill": {
     "duration": 0.115828,
     "end_time": "2022-04-12T09:54:59.120762",
     "exception": false,
     "start_time": "2022-04-12T09:54:59.004934",
     "status": "completed"
    },
    "tags": []
   },
   "source": [
    "### Предобработка brand"
   ]
  },
  {
   "cell_type": "code",
   "execution_count": 27,
   "id": "b97df62e",
   "metadata": {
    "execution": {
     "iopub.execute_input": "2022-04-12T09:54:59.370835Z",
     "iopub.status.busy": "2022-04-12T09:54:59.370079Z",
     "iopub.status.idle": "2022-04-12T09:54:59.374342Z",
     "shell.execute_reply": "2022-04-12T09:54:59.373701Z"
    },
    "papermill": {
     "duration": 0.13937,
     "end_time": "2022-04-12T09:54:59.374518",
     "exception": false,
     "start_time": "2022-04-12T09:54:59.235148",
     "status": "completed"
    },
    "tags": []
   },
   "outputs": [
    {
     "data": {
      "text/plain": [
       "MERCEDES      12159\n",
       "BMW           11838\n",
       "VOLKSWAGEN    11515\n",
       "NISSAN        10143\n",
       "TOYOTA         8708\n",
       "AUDI           7491\n",
       "MITSUBISHI     6762\n",
       "SKODA          5536\n",
       "VOLVO          3525\n",
       "HONDA          2323\n",
       "INFINITI       1907\n",
       "LEXUS          1880\n",
       "Name: brand, dtype: int64"
      ]
     },
     "execution_count": 27,
     "metadata": {},
     "output_type": "execute_result"
    }
   ],
   "source": [
    "data.brand.value_counts()"
   ]
  },
  {
   "cell_type": "markdown",
   "id": "9f94c1d1",
   "metadata": {
    "papermill": {
     "duration": 0.114629,
     "end_time": "2022-04-12T09:54:59.605148",
     "exception": false,
     "start_time": "2022-04-12T09:54:59.490519",
     "status": "completed"
    },
    "tags": []
   },
   "source": [
    "Распределение признака:"
   ]
  },
  {
   "cell_type": "code",
   "execution_count": 28,
   "id": "f5f32a23",
   "metadata": {
    "execution": {
     "iopub.execute_input": "2022-04-12T09:54:59.878399Z",
     "iopub.status.busy": "2022-04-12T09:54:59.854434Z",
     "iopub.status.idle": "2022-04-12T09:55:00.100993Z",
     "shell.execute_reply": "2022-04-12T09:55:00.101561Z"
    },
    "papermill": {
     "duration": 0.37976,
     "end_time": "2022-04-12T09:55:00.101748",
     "exception": false,
     "start_time": "2022-04-12T09:54:59.721988",
     "status": "completed"
    },
    "scrolled": true,
    "tags": []
   },
   "outputs": [
    {
     "data": {
      "text/plain": [
       "<AxesSubplot:>"
      ]
     },
     "execution_count": 28,
     "metadata": {},
     "output_type": "execute_result"
    },
    {
     "data": {
      "image/png": "[encoded data removed]",
      "text/plain": [
       "<Figure size 432x288 with 1 Axes>"
      ]
     },
     "metadata": {
      "needs_background": "light"
     },
     "output_type": "display_data"
    }
   ],
   "source": [
    "data.brand.value_counts().plot.barh()"
   ]
  },
  {
   "cell_type": "code",
   "execution_count": 29,
   "id": "5e813186",
   "metadata": {
    "execution": {
     "iopub.execute_input": "2022-04-12T09:55:00.343357Z",
     "iopub.status.busy": "2022-04-12T09:55:00.342667Z",
     "iopub.status.idle": "2022-04-12T09:55:00.344929Z",
     "shell.execute_reply": "2022-04-12T09:55:00.345470Z"
    },
    "papermill": {
     "duration": 0.126391,
     "end_time": "2022-04-12T09:55:00.345644",
     "exception": false,
     "start_time": "2022-04-12T09:55:00.219253",
     "status": "completed"
    },
    "tags": []
   },
   "outputs": [],
   "source": [
    "cat_cols.append('brand')"
   ]
  },
  {
   "cell_type": "markdown",
   "id": "f7f2c4de",
   "metadata": {
    "papermill": {
     "duration": 0.117077,
     "end_time": "2022-04-12T09:55:00.582022",
     "exception": false,
     "start_time": "2022-04-12T09:55:00.464945",
     "status": "completed"
    },
    "tags": []
   },
   "source": [
    "### Предобработка productionDate"
   ]
  },
  {
   "cell_type": "code",
   "execution_count": 30,
   "id": "fab560f6",
   "metadata": {
    "execution": {
     "iopub.execute_input": "2022-04-12T09:55:00.823473Z",
     "iopub.status.busy": "2022-04-12T09:55:00.822794Z",
     "iopub.status.idle": "2022-04-12T09:55:00.830181Z",
     "shell.execute_reply": "2022-04-12T09:55:00.830779Z"
    },
    "papermill": {
     "duration": 0.131032,
     "end_time": "2022-04-12T09:55:00.830960",
     "exception": false,
     "start_time": "2022-04-12T09:55:00.699928",
     "status": "completed"
    },
    "tags": []
   },
   "outputs": [
    {
     "data": {
      "text/plain": [
       "2020    10370\n",
       "2012     5791\n",
       "2008     5718\n",
       "2011     5511\n",
       "2013     5045\n",
       "        ...  \n",
       "1949        2\n",
       "1948        2\n",
       "1964        2\n",
       "1954        1\n",
       "1966        1\n",
       "Name: productionDate, Length: 72, dtype: int64"
      ]
     },
     "execution_count": 30,
     "metadata": {},
     "output_type": "execute_result"
    }
   ],
   "source": [
    "data.productionDate.value_counts()"
   ]
  },
  {
   "cell_type": "code",
   "execution_count": 31,
   "id": "d8c7e3fe",
   "metadata": {
    "execution": {
     "iopub.execute_input": "2022-04-12T09:55:01.073527Z",
     "iopub.status.busy": "2022-04-12T09:55:01.072866Z",
     "iopub.status.idle": "2022-04-12T09:55:01.379162Z",
     "shell.execute_reply": "2022-04-12T09:55:01.378587Z"
    },
    "papermill": {
     "duration": 0.428151,
     "end_time": "2022-04-12T09:55:01.379343",
     "exception": false,
     "start_time": "2022-04-12T09:55:00.951192",
     "status": "completed"
    },
    "tags": []
   },
   "outputs": [
    {
     "name": "stderr",
     "output_type": "stream",
     "text": [
      "/opt/conda/lib/python3.7/site-packages/seaborn/distributions.py:2619: FutureWarning: `distplot` is a deprecated function and will be removed in a future version. Please adapt your code to use either `displot` (a figure-level function with similar flexibility) or `histplot` (an axes-level function for histograms).\n",
      "  warnings.warn(msg, FutureWarning)\n"
     ]
    },
    {
     "data": {
      "image/png": "[encoded data removed]",
      "text/plain": [
       "<Figure size 432x288 with 1 Axes>"
      ]
     },
     "metadata": {
      "needs_background": "light"
     },
     "output_type": "display_data"
    }
   ],
   "source": [
    "plt.figure()\n",
    "sns.distplot(data.productionDate.dropna(), kde = False, rug=False)\n",
    "plt.title('productionDate')\n",
    "plt.show()"
   ]
  },
  {
   "cell_type": "code",
   "execution_count": 32,
   "id": "01f7f400",
   "metadata": {
    "execution": {
     "iopub.execute_input": "2022-04-12T09:55:01.623683Z",
     "iopub.status.busy": "2022-04-12T09:55:01.622949Z",
     "iopub.status.idle": "2022-04-12T09:55:01.625665Z",
     "shell.execute_reply": "2022-04-12T09:55:01.626283Z"
    },
    "papermill": {
     "duration": 0.128092,
     "end_time": "2022-04-12T09:55:01.626495",
     "exception": false,
     "start_time": "2022-04-12T09:55:01.498403",
     "status": "completed"
    },
    "tags": []
   },
   "outputs": [],
   "source": [
    "num_cols.append('productionDate')"
   ]
  },
  {
   "cell_type": "markdown",
   "id": "fdfdf314",
   "metadata": {
    "papermill": {
     "duration": 0.151538,
     "end_time": "2022-04-12T09:55:01.897655",
     "exception": false,
     "start_time": "2022-04-12T09:55:01.746117",
     "status": "completed"
    },
    "tags": []
   },
   "source": [
    "Создадим еще один признак - количество лет машине (используем 2020, потому что датасет из 2020 года):"
   ]
  },
  {
   "cell_type": "code",
   "execution_count": 33,
   "id": "31eb2bab",
   "metadata": {
    "execution": {
     "iopub.execute_input": "2022-04-12T09:55:02.152581Z",
     "iopub.status.busy": "2022-04-12T09:55:02.151801Z",
     "iopub.status.idle": "2022-04-12T09:55:02.157182Z",
     "shell.execute_reply": "2022-04-12T09:55:02.157832Z"
    },
    "papermill": {
     "duration": 0.131485,
     "end_time": "2022-04-12T09:55:02.158006",
     "exception": false,
     "start_time": "2022-04-12T09:55:02.026521",
     "status": "completed"
    },
    "tags": []
   },
   "outputs": [],
   "source": [
    "data['old_years'] = 2020 - data.productionDate\n",
    "num_cols.append('old_years')"
   ]
  },
  {
   "cell_type": "markdown",
   "id": "bae2b553",
   "metadata": {
    "papermill": {
     "duration": 0.123331,
     "end_time": "2022-04-12T09:55:02.404133",
     "exception": false,
     "start_time": "2022-04-12T09:55:02.280802",
     "status": "completed"
    },
    "tags": []
   },
   "source": [
    "### Преодбработка engineDisplacement"
   ]
  },
  {
   "cell_type": "code",
   "execution_count": 34,
   "id": "f88e724d",
   "metadata": {
    "execution": {
     "iopub.execute_input": "2022-04-12T09:55:02.664115Z",
     "iopub.status.busy": "2022-04-12T09:55:02.661022Z",
     "iopub.status.idle": "2022-04-12T09:55:02.666899Z",
     "shell.execute_reply": "2022-04-12T09:55:02.667382Z"
    },
    "papermill": {
     "duration": 0.143642,
     "end_time": "2022-04-12T09:55:02.667618",
     "exception": false,
     "start_time": "2022-04-12T09:55:02.523976",
     "status": "completed"
    },
    "tags": []
   },
   "outputs": [
    {
     "data": {
      "text/plain": [
       "2.0 LTR    7391\n",
       "2.0        7031\n",
       "1.6        5726\n",
       "1.6 LTR    4973\n",
       "3.0 LTR    3915\n",
       "           ... \n",
       "4.0d          1\n",
       "3.5d          1\n",
       "Regius        1\n",
       "Emina         1\n",
       "116           1\n",
       "Name: engineDisplacement, Length: 466, dtype: int64"
      ]
     },
     "execution_count": 34,
     "metadata": {},
     "output_type": "execute_result"
    }
   ],
   "source": [
    "data.engineDisplacement.value_counts()"
   ]
  },
  {
   "cell_type": "code",
   "execution_count": 35,
   "id": "52236d96",
   "metadata": {
    "execution": {
     "iopub.execute_input": "2022-04-12T09:55:02.915174Z",
     "iopub.status.busy": "2022-04-12T09:55:02.914516Z",
     "iopub.status.idle": "2022-04-12T09:55:02.930719Z",
     "shell.execute_reply": "2022-04-12T09:55:02.931282Z"
    },
    "papermill": {
     "duration": 0.142374,
     "end_time": "2022-04-12T09:55:02.931544",
     "exception": false,
     "start_time": "2022-04-12T09:55:02.789170",
     "status": "completed"
    },
    "tags": []
   },
   "outputs": [
    {
     "data": {
      "text/plain": [
       "array(['1.2 LTR', '1.6 LTR', '1.8 LTR', '2.0 LTR', '1.4 LTR', '1.3 LTR',\n",
       "       '1.0 LTR', '3.6 LTR', '1.5 LTR', '1.9 LTR', '2.8 LTR', '1.1 LTR',\n",
       "       '2.5 LTR', '4.2 LTR', '3.0 LTR', '4.0 LTR', '5.9 LTR', '2.7 LTR',\n",
       "       '3.1 LTR', '2.4 LTR', '5.2 LTR', '3.2 LTR', '4.1 LTR', '6.3 LTR',\n",
       "       '2.3 LTR', '6.0 LTR', '2.2 LTR', '3.7 LTR', '2.9 LTR', '5.0 LTR',\n",
       "       '3.3 LTR', '2.1 LTR', '2.6 LTR', ' LTR', '3.5 LTR', '1.7 LTR',\n",
       "       '0.7 LTR', '4.4 LTR', '4.8 LTR', '5.4 LTR', '6.6 LTR', '4.9 LTR',\n",
       "       '3.8 LTR', '3.4 LTR', '3.9 LTR', '4.6 LTR', '5.6 LTR', '4.5 LTR',\n",
       "       '5.5 LTR', '6.2 LTR', '4.7 LTR', '4.3 LTR', '5.8 LTR', '5.3 LTR',\n",
       "       '5.7 LTR', '2.8', '1.8', '2.3', '2.0', '2.6', '2.2', 'S4', '2.0d',\n",
       "       '2.5d', '1.9', '2.1', '2.4', '1.6', '1.9d', '1.6d', '1.3', '3.3',\n",
       "       '1.4', '1.2d', 'ultra', '1.2', '3.2', '1.5', '8V', '3.1', '3.0d',\n",
       "       '2.7d', '16V', '3.0', '7S-tronic', 'tiptronic', '40', '45', '55',\n",
       "       '2.7', '4.2', 'S-tronic', 'Tiptronic', 'Long', '4.0', '60', '3.9d',\n",
       "       '6.0', '3.7', '4.1d', '35', '8tiptronic', 'clean', '2.0hyb', '3.6',\n",
       "       '5.9d', 'V10', 'V8', '2.5', '2.9', '5.0', '5.2', 'M135i', '116i',\n",
       "       '120i', '118i', '135i', 'M140i', '125i', '120d', '130i', '118d',\n",
       "       '218i', '220i', '220d', 'M235i', '218d', '216d', '335i', '320i',\n",
       "       '318i', '318d', '320d', '316i', '328i', '330i', '325xi', '325i',\n",
       "       '330d', '340i', '323i', '335d', '335xi', '330xi', '316', '315',\n",
       "       '318', 'N46', '420d', '428i', '420i', '435i', '430i', '440i',\n",
       "       '520d', '530d', '525i', '523i', '520i', '530i', '525d', '528i',\n",
       "       '550i', '535d', 'M550i', 'M550d', '540i', '535i', '530xi', '530Li',\n",
       "       '525xi', '518', '520Li', '528Li', '535xi', '545i', '524d', '518i',\n",
       "       '535Li', '530xd', '630i', '640i', '650i', '640d', '630d', '620d',\n",
       "       '635i', '645i', '750d', '740i', '730Ld', '750i', '750Li', '740Li',\n",
       "       '730d', '730i', '750Ld', '730Li', '740d', 'M760Li', '740Ld',\n",
       "       'Active', '760Li', '735i', '745d', '728i', '728Li', '760i', '745i',\n",
       "       '745Li', '735Li', '733i', '725d', 'M850i', '840d', '840i', '850i',\n",
       "       '94Ah', 'Electro', 'S', '0.7hyb', '1.5hyb', 'Competition', '4.4',\n",
       "       '4.9', '18i', '20i', '18d', '20d', '25d', '28i', '23d', '25i',\n",
       "       'sDrive18i', 'xDrive20i', 'xDrive18d', 'xDrive20d', '30d', 'M40d',\n",
       "       '30i', '35i', 'M40i', '35d', 'M50d', '40i', '48i', '3.0sd', '50i',\n",
       "       '3.0i', '40d', 'M50i', '4.4i', '4.8i', '3.0si', '4.8is', '40e',\n",
       "       '4.6is', 'ActiveHybrid', '23i', '35is', 'Type', '3.5', 'Sport',\n",
       "       '0.7', 'Hybrid', 'AMT', 'Shuttle', '1.7', nan, '2.2d', 'del',\n",
       "       'Spike', '1.3hyb', 'Spada', 'EX25', 'EX35', 'EX37', 'FX37', 'FX35',\n",
       "       'FX50', 'FX45', 'FX30d', 'FX', 'G37', 'G35', 'G25', 'G20', 'I30',\n",
       "       'JX35', 'M37', 'M35', 'M56', 'M25', 'M45', 'Q45', '3.5hyb', '5.6',\n",
       "       '2.5hyb', '200h', '250', '200', '300', '350', '330', '300h',\n",
       "       '450h', '430', '460', '470', '250h', '200t', '250C', '400', '600h',\n",
       "       '500', '570', '450d', '450', '270', '400h', '350L', 'Grandis',\n",
       "       'CZ1', 'CZ2', 'Plus', 'CZ3', '1.1', '2.8d', '2.3d', '3.8', 'VR-4',\n",
       "       'Easy', '2.4d', 'Super', 'Classic', 'Cedia', '5-speed', 'PHEV',\n",
       "       '3.2d', 'Cubic', '30kWh', '1.0', '1.2hyb', '1.5d', '4.2d', '4.8',\n",
       "       'Joy', '4.5', 'Latio', '100', 'Scout', '1.4d', 'DSG7', 'DSG',\n",
       "       'ACT', '3.4', '4.7', '2.4hyb', 'US', 'Japan', 'Gracia',\n",
       "       'Prominent', 'GT-Four', 'GT', 'Fielder', 'Axio', 'Ceres', 'Runx',\n",
       "       'i', 'SF', 'Premio', '4.3', '1.8hyb', 'Lucida', 'Emina', '3.3hyb',\n",
       "       'Regius', '4.5d', '4.6', '3.4d', '105', 'Cygnus', '78', '76', '79',\n",
       "       '5.7', '3.5d', '4.0d', '3.6d', 'Arctic', 'Noah', 'Qualis', 'JDM',\n",
       "       'CrewMax', 'Double', 'Ardeo', 'Multimode', 'full-time',\n",
       "       'part-time', 'Maxi', 'BiFuel', 'Alltrack', 'EcoFuel', '4MOTION',\n",
       "       'e-Golf', 'KAT', 'VR6', 'GTI\"35\"', '5-Seater', '4-Seater', '4.9d',\n",
       "       'Cross', 'Allspace', '3.0hyb', '4.1', 'Syncro', '1.7d', 'R',\n",
       "       'T-5R', 'Bi-Fuel', 'XC', '180', '160', '170', '220', '150', '140',\n",
       "       '210', 'C', '63', '53', '43', '230', '240', '280', '320', '109',\n",
       "       '550', '600', '420', '65', 'All-Terrain', '290', '50', 'Brabus',\n",
       "       '560', '650', 'Pullman', '380', '260', '5.3', '5.4', '6.2', 'L1',\n",
       "       'L3', 'L2', 'Marco', '121', '113', '111', '119', '114', '112',\n",
       "       '108', '115', '110', '116'], dtype=object)"
      ]
     },
     "execution_count": 35,
     "metadata": {},
     "output_type": "execute_result"
    }
   ],
   "source": [
    "data.engineDisplacement.unique()"
   ]
  },
  {
   "cell_type": "markdown",
   "id": "d302cf27",
   "metadata": {
    "papermill": {
     "duration": 0.120653,
     "end_time": "2022-04-12T09:55:03.174678",
     "exception": false,
     "start_time": "2022-04-12T09:55:03.054025",
     "status": "completed"
    },
    "tags": []
   },
   "source": [
    "Думаю, что стоит удалить столбец. Среди значений встречаются и полезные данные (типа литража двигателя), но все-таки не так просто будет выделит полезную информацию."
   ]
  },
  {
   "cell_type": "code",
   "execution_count": 36,
   "id": "9a4969a6",
   "metadata": {
    "execution": {
     "iopub.execute_input": "2022-04-12T09:55:03.420951Z",
     "iopub.status.busy": "2022-04-12T09:55:03.420221Z",
     "iopub.status.idle": "2022-04-12T09:55:03.433805Z",
     "shell.execute_reply": "2022-04-12T09:55:03.434383Z"
    },
    "papermill": {
     "duration": 0.139355,
     "end_time": "2022-04-12T09:55:03.434574",
     "exception": false,
     "start_time": "2022-04-12T09:55:03.295219",
     "status": "completed"
    },
    "tags": []
   },
   "outputs": [],
   "source": [
    "data = data.drop(['engineDisplacement'], axis=1)"
   ]
  },
  {
   "cell_type": "markdown",
   "id": "71dfa2a4",
   "metadata": {
    "papermill": {
     "duration": 0.121255,
     "end_time": "2022-04-12T09:55:03.677120",
     "exception": false,
     "start_time": "2022-04-12T09:55:03.555865",
     "status": "completed"
    },
    "tags": []
   },
   "source": [
    "### Предобработка mileage"
   ]
  },
  {
   "cell_type": "code",
   "execution_count": 37,
   "id": "94deb2d2",
   "metadata": {
    "execution": {
     "iopub.execute_input": "2022-04-12T09:55:03.931217Z",
     "iopub.status.busy": "2022-04-12T09:55:03.930517Z",
     "iopub.status.idle": "2022-04-12T09:55:03.940423Z",
     "shell.execute_reply": "2022-04-12T09:55:03.940953Z"
    },
    "papermill": {
     "duration": 0.139697,
     "end_time": "2022-04-12T09:55:03.941126",
     "exception": false,
     "start_time": "2022-04-12T09:55:03.801429",
     "status": "completed"
    },
    "tags": []
   },
   "outputs": [
    {
     "data": {
      "text/plain": [
       "0         10953\n",
       "200000     1000\n",
       "150000      878\n",
       "300000      834\n",
       "250000      829\n",
       "          ...  \n",
       "55812         1\n",
       "182480        1\n",
       "264642        1\n",
       "113304        1\n",
       "520           1\n",
       "Name: mileage, Length: 17170, dtype: int64"
      ]
     },
     "execution_count": 37,
     "metadata": {},
     "output_type": "execute_result"
    }
   ],
   "source": [
    "data.mileage.value_counts()"
   ]
  },
  {
   "cell_type": "markdown",
   "id": "604244f0",
   "metadata": {
    "papermill": {
     "duration": 0.121403,
     "end_time": "2022-04-12T09:55:04.185976",
     "exception": false,
     "start_time": "2022-04-12T09:55:04.064573",
     "status": "completed"
    },
    "tags": []
   },
   "source": [
    "Распределение признака:"
   ]
  },
  {
   "cell_type": "code",
   "execution_count": 38,
   "id": "69f54738",
   "metadata": {
    "execution": {
     "iopub.execute_input": "2022-04-12T09:55:04.432924Z",
     "iopub.status.busy": "2022-04-12T09:55:04.432165Z",
     "iopub.status.idle": "2022-04-12T09:55:04.865104Z",
     "shell.execute_reply": "2022-04-12T09:55:04.865585Z"
    },
    "papermill": {
     "duration": 0.558971,
     "end_time": "2022-04-12T09:55:04.865762",
     "exception": false,
     "start_time": "2022-04-12T09:55:04.306791",
     "status": "completed"
    },
    "tags": []
   },
   "outputs": [
    {
     "data": {
      "image/png": "[encoded data removed]",
      "text/plain": [
       "<Figure size 432x288 with 1 Axes>"
      ]
     },
     "metadata": {
      "needs_background": "light"
     },
     "output_type": "display_data"
    }
   ],
   "source": [
    "plt.figure()\n",
    "sns.distplot(data.mileage.dropna(), kde = False, rug=False)\n",
    "plt.title('mileage')\n",
    "plt.show()"
   ]
  },
  {
   "cell_type": "code",
   "execution_count": 39,
   "id": "6b1c0638",
   "metadata": {
    "execution": {
     "iopub.execute_input": "2022-04-12T09:55:05.117771Z",
     "iopub.status.busy": "2022-04-12T09:55:05.116995Z",
     "iopub.status.idle": "2022-04-12T09:55:05.120253Z",
     "shell.execute_reply": "2022-04-12T09:55:05.120781Z"
    },
    "papermill": {
     "duration": 0.131342,
     "end_time": "2022-04-12T09:55:05.120954",
     "exception": false,
     "start_time": "2022-04-12T09:55:04.989612",
     "status": "completed"
    },
    "tags": []
   },
   "outputs": [],
   "source": [
    "num_cols.append('mileage')"
   ]
  },
  {
   "cell_type": "markdown",
   "id": "ec05801e",
   "metadata": {
    "papermill": {
     "duration": 0.124265,
     "end_time": "2022-04-12T09:55:05.367878",
     "exception": false,
     "start_time": "2022-04-12T09:55:05.243613",
     "status": "completed"
    },
    "tags": []
   },
   "source": [
    "У нас есть машины, у которых пробег 0?"
   ]
  },
  {
   "cell_type": "code",
   "execution_count": 40,
   "id": "af072b5b",
   "metadata": {
    "execution": {
     "iopub.execute_input": "2022-04-12T09:55:05.619239Z",
     "iopub.status.busy": "2022-04-12T09:55:05.618590Z",
     "iopub.status.idle": "2022-04-12T09:55:05.627674Z",
     "shell.execute_reply": "2022-04-12T09:55:05.628147Z"
    },
    "papermill": {
     "duration": 0.13748,
     "end_time": "2022-04-12T09:55:05.628343",
     "exception": false,
     "start_time": "2022-04-12T09:55:05.490863",
     "status": "completed"
    },
    "tags": []
   },
   "outputs": [
    {
     "data": {
      "text/plain": [
       "10953"
      ]
     },
     "execution_count": 40,
     "metadata": {},
     "output_type": "execute_result"
    }
   ],
   "source": [
    "data[data.mileage == 0].mileage.count()"
   ]
  },
  {
   "cell_type": "markdown",
   "id": "93e0d1b0",
   "metadata": {
    "papermill": {
     "duration": 0.124509,
     "end_time": "2022-04-12T09:55:05.877589",
     "exception": false,
     "start_time": "2022-04-12T09:55:05.753080",
     "status": "completed"
    },
    "tags": []
   },
   "source": [
    "Добавим новый признак:"
   ]
  },
  {
   "cell_type": "code",
   "execution_count": 41,
   "id": "40cf2877",
   "metadata": {
    "execution": {
     "iopub.execute_input": "2022-04-12T09:55:06.134614Z",
     "iopub.status.busy": "2022-04-12T09:55:06.133555Z",
     "iopub.status.idle": "2022-04-12T09:55:06.193366Z",
     "shell.execute_reply": "2022-04-12T09:55:06.194010Z"
    },
    "papermill": {
     "duration": 0.190639,
     "end_time": "2022-04-12T09:55:06.194196",
     "exception": false,
     "start_time": "2022-04-12T09:55:06.003557",
     "status": "completed"
    },
    "tags": []
   },
   "outputs": [],
   "source": [
    "data['is_new'] = data.mileage.apply(lambda x: 1 if x == 0 else 0)\n",
    "bin_cols.append('is_new')"
   ]
  },
  {
   "cell_type": "markdown",
   "id": "86ad66cd",
   "metadata": {
    "papermill": {
     "duration": 0.125054,
     "end_time": "2022-04-12T09:55:06.442863",
     "exception": false,
     "start_time": "2022-04-12T09:55:06.317809",
     "status": "completed"
    },
    "tags": []
   },
   "source": [
    "### Предобработка color"
   ]
  },
  {
   "cell_type": "code",
   "execution_count": 42,
   "id": "ccdc858d",
   "metadata": {
    "execution": {
     "iopub.execute_input": "2022-04-12T09:55:06.709397Z",
     "iopub.status.busy": "2022-04-12T09:55:06.708369Z",
     "iopub.status.idle": "2022-04-12T09:55:06.715974Z",
     "shell.execute_reply": "2022-04-12T09:55:06.715188Z"
    },
    "papermill": {
     "duration": 0.149283,
     "end_time": "2022-04-12T09:55:06.716125",
     "exception": false,
     "start_time": "2022-04-12T09:55:06.566842",
     "status": "completed"
    },
    "tags": []
   },
   "outputs": [
    {
     "data": {
      "text/plain": [
       "040001         16135\n",
       "чёрный         11010\n",
       "FAFBFB          8988\n",
       "белый           6133\n",
       "97948F          5622\n",
       "CACECB          5497\n",
       "0000CC          4963\n",
       "серебристый     4113\n",
       "серый           3984\n",
       "синий           3289\n",
       "200204          2028\n",
       "EE1D19          1784\n",
       "красный         1531\n",
       "коричневый      1501\n",
       "007F00          1321\n",
       "зелёный          952\n",
       "C49648           857\n",
       "бежевый          639\n",
       "22A0F8           591\n",
       "голубой          457\n",
       "DEA522           317\n",
       "660099           314\n",
       "золотистый       266\n",
       "пурпурный        254\n",
       "4A2197           248\n",
       "FFD600           224\n",
       "фиолетовый       219\n",
       "FF8649           199\n",
       "жёлтый           194\n",
       "оранжевый        131\n",
       "розовый           13\n",
       "FFC0CB            13\n",
       "Name: color, dtype: int64"
      ]
     },
     "execution_count": 42,
     "metadata": {},
     "output_type": "execute_result"
    }
   ],
   "source": [
    "data.color.value_counts()"
   ]
  },
  {
   "cell_type": "markdown",
   "id": "ac31988b",
   "metadata": {
    "papermill": {
     "duration": 0.125689,
     "end_time": "2022-04-12T09:55:06.971108",
     "exception": false,
     "start_time": "2022-04-12T09:55:06.845419",
     "status": "completed"
    },
    "tags": []
   },
   "source": [
    "Очистим данные:"
   ]
  },
  {
   "cell_type": "code",
   "execution_count": 43,
   "id": "88e31a9a",
   "metadata": {
    "execution": {
     "iopub.execute_input": "2022-04-12T09:55:07.238691Z",
     "iopub.status.busy": "2022-04-12T09:55:07.237922Z",
     "iopub.status.idle": "2022-04-12T09:55:07.328027Z",
     "shell.execute_reply": "2022-04-12T09:55:07.327509Z"
    },
    "papermill": {
     "duration": 0.229468,
     "end_time": "2022-04-12T09:55:07.328185",
     "exception": false,
     "start_time": "2022-04-12T09:55:07.098717",
     "status": "completed"
    },
    "tags": []
   },
   "outputs": [
    {
     "data": {
      "text/plain": [
       "чёрный         27145\n",
       "белый          15121\n",
       "серебристый     9610\n",
       "серый           9606\n",
       "синий           8252\n",
       "коричневый      3529\n",
       "красный         3315\n",
       "зелёный         2273\n",
       "бежевый         1496\n",
       "голубой         1048\n",
       "золотистый       583\n",
       "пурпурный        568\n",
       "фиолетовый       467\n",
       "жёлтый           418\n",
       "оранжевый        330\n",
       "розовый           26\n",
       "Name: color, dtype: int64"
      ]
     },
     "execution_count": 43,
     "metadata": {},
     "output_type": "execute_result"
    }
   ],
   "source": [
    "color_dict = {'040001':\"чёрный\", 'EE1D19': 'красный', '0000CC':'синий', 'CACECB':'серебристый',\\\n",
    "              '007F00':'зелёный', 'FAFBFB':'белый', '97948F':'серый', '22A0F8':'голубой',\\\n",
    "              '660099':'пурпурный', '200204':'коричневый', 'C49648':'бежевый',\\\n",
    "              'DEA522':'золотистый','4A2197':'фиолетовый', 'FFD600':'жёлтый',\\\n",
    "              'FF8649':'оранжевый', 'FFC0CB':'розовый'}\n",
    "\n",
    "data['color'].replace(color_dict, inplace=True)\n",
    "data.color.value_counts()"
   ]
  },
  {
   "cell_type": "code",
   "execution_count": 44,
   "id": "59a89eb5",
   "metadata": {
    "execution": {
     "iopub.execute_input": "2022-04-12T09:55:07.597312Z",
     "iopub.status.busy": "2022-04-12T09:55:07.596269Z",
     "iopub.status.idle": "2022-04-12T09:55:07.871238Z",
     "shell.execute_reply": "2022-04-12T09:55:07.871835Z"
    },
    "papermill": {
     "duration": 0.418215,
     "end_time": "2022-04-12T09:55:07.872016",
     "exception": false,
     "start_time": "2022-04-12T09:55:07.453801",
     "status": "completed"
    },
    "tags": []
   },
   "outputs": [
    {
     "data": {
      "text/plain": [
       "<AxesSubplot:>"
      ]
     },
     "execution_count": 44,
     "metadata": {},
     "output_type": "execute_result"
    },
    {
     "data": {
      "image/png": "[encoded data removed]",
      "text/plain": [
       "<Figure size 432x288 with 1 Axes>"
      ]
     },
     "metadata": {
      "needs_background": "light"
     },
     "output_type": "display_data"
    }
   ],
   "source": [
    "data.color.value_counts().plot.barh()"
   ]
  },
  {
   "cell_type": "code",
   "execution_count": 45,
   "id": "288b041e",
   "metadata": {
    "execution": {
     "iopub.execute_input": "2022-04-12T09:55:08.134337Z",
     "iopub.status.busy": "2022-04-12T09:55:08.133237Z",
     "iopub.status.idle": "2022-04-12T09:55:08.135264Z",
     "shell.execute_reply": "2022-04-12T09:55:08.135889Z"
    },
    "papermill": {
     "duration": 0.136175,
     "end_time": "2022-04-12T09:55:08.136056",
     "exception": false,
     "start_time": "2022-04-12T09:55:07.999881",
     "status": "completed"
    },
    "tags": []
   },
   "outputs": [],
   "source": [
    "cat_cols.append('color')"
   ]
  },
  {
   "cell_type": "markdown",
   "id": "19991110",
   "metadata": {
    "papermill": {
     "duration": 0.128152,
     "end_time": "2022-04-12T09:55:08.391406",
     "exception": false,
     "start_time": "2022-04-12T09:55:08.263254",
     "status": "completed"
    },
    "tags": []
   },
   "source": [
    "### Предобработка enginePower"
   ]
  },
  {
   "cell_type": "code",
   "execution_count": 46,
   "id": "23756180",
   "metadata": {
    "execution": {
     "iopub.execute_input": "2022-04-12T09:55:08.654517Z",
     "iopub.status.busy": "2022-04-12T09:55:08.653493Z",
     "iopub.status.idle": "2022-04-12T09:55:08.672817Z",
     "shell.execute_reply": "2022-04-12T09:55:08.672155Z"
    },
    "papermill": {
     "duration": 0.151448,
     "end_time": "2022-04-12T09:55:08.672961",
     "exception": false,
     "start_time": "2022-04-12T09:55:08.521513",
     "status": "completed"
    },
    "tags": []
   },
   "outputs": [
    {
     "data": {
      "text/plain": [
       "249.0      3377\n",
       "150.0      3158\n",
       "110.0      1872\n",
       "190.0      1802\n",
       "249 N12    1708\n",
       "           ... \n",
       "514 N12       1\n",
       "626 N12       1\n",
       "42 N12        1\n",
       "38 N12        1\n",
       "61.0          1\n",
       "Name: enginePower, Length: 631, dtype: int64"
      ]
     },
     "execution_count": 46,
     "metadata": {},
     "output_type": "execute_result"
    }
   ],
   "source": [
    "data.enginePower.value_counts()"
   ]
  },
  {
   "cell_type": "code",
   "execution_count": 47,
   "id": "bfa357f8",
   "metadata": {
    "execution": {
     "iopub.execute_input": "2022-04-12T09:55:08.935477Z",
     "iopub.status.busy": "2022-04-12T09:55:08.934701Z",
     "iopub.status.idle": "2022-04-12T09:55:09.041421Z",
     "shell.execute_reply": "2022-04-12T09:55:09.040834Z"
    },
    "papermill": {
     "duration": 0.241578,
     "end_time": "2022-04-12T09:55:09.041563",
     "exception": false,
     "start_time": "2022-04-12T09:55:08.799985",
     "status": "completed"
    },
    "tags": []
   },
   "outputs": [],
   "source": [
    "data.enginePower = data.enginePower.astype(str)\n",
    "data.enginePower = data.enginePower.apply(lambda x: float(x.split(\" \")[0]))\n",
    "data.enginePower = data.enginePower.fillna(data.enginePower.mean())\n",
    "num_cols.append('enginePower')"
   ]
  },
  {
   "cell_type": "markdown",
   "id": "6bb9d922",
   "metadata": {
    "papermill": {
     "duration": 0.127323,
     "end_time": "2022-04-12T09:55:09.296578",
     "exception": false,
     "start_time": "2022-04-12T09:55:09.169255",
     "status": "completed"
    },
    "tags": []
   },
   "source": [
    "### Предобработка fuelType"
   ]
  },
  {
   "cell_type": "code",
   "execution_count": 48,
   "id": "64203875",
   "metadata": {
    "execution": {
     "iopub.execute_input": "2022-04-12T09:55:09.553649Z",
     "iopub.status.busy": "2022-04-12T09:55:09.552999Z",
     "iopub.status.idle": "2022-04-12T09:55:09.572507Z",
     "shell.execute_reply": "2022-04-12T09:55:09.573032Z"
    },
    "papermill": {
     "duration": 0.14907,
     "end_time": "2022-04-12T09:55:09.573203",
     "exception": false,
     "start_time": "2022-04-12T09:55:09.424133",
     "status": "completed"
    },
    "tags": []
   },
   "outputs": [
    {
     "data": {
      "text/plain": [
       "бензин       67863\n",
       "дизель       15264\n",
       "гибрид         491\n",
       "электро        151\n",
       "газ             17\n",
       "универсал        1\n",
       "Name: fuelType, dtype: int64"
      ]
     },
     "execution_count": 48,
     "metadata": {},
     "output_type": "execute_result"
    }
   ],
   "source": [
    "data.fuelType.value_counts()"
   ]
  },
  {
   "cell_type": "code",
   "execution_count": 49,
   "id": "7135bf25",
   "metadata": {
    "execution": {
     "iopub.execute_input": "2022-04-12T09:55:09.908216Z",
     "iopub.status.busy": "2022-04-12T09:55:09.907139Z",
     "iopub.status.idle": "2022-04-12T09:55:10.108620Z",
     "shell.execute_reply": "2022-04-12T09:55:10.109152Z"
    },
    "papermill": {
     "duration": 0.381584,
     "end_time": "2022-04-12T09:55:10.109340",
     "exception": false,
     "start_time": "2022-04-12T09:55:09.727756",
     "status": "completed"
    },
    "tags": []
   },
   "outputs": [
    {
     "data": {
      "text/plain": [
       "<AxesSubplot:>"
      ]
     },
     "execution_count": 49,
     "metadata": {},
     "output_type": "execute_result"
    },
    {
     "data": {
      "image/png": "[encoded data removed]",
      "text/plain": [
       "<Figure size 432x288 with 1 Axes>"
      ]
     },
     "metadata": {
      "needs_background": "light"
     },
     "output_type": "display_data"
    }
   ],
   "source": [
    "data.fuelType.value_counts().plot.barh()"
   ]
  },
  {
   "cell_type": "code",
   "execution_count": 50,
   "id": "b34f1125",
   "metadata": {
    "execution": {
     "iopub.execute_input": "2022-04-12T09:55:10.375776Z",
     "iopub.status.busy": "2022-04-12T09:55:10.374759Z",
     "iopub.status.idle": "2022-04-12T09:55:10.378747Z",
     "shell.execute_reply": "2022-04-12T09:55:10.379290Z"
    },
    "papermill": {
     "duration": 0.140554,
     "end_time": "2022-04-12T09:55:10.379478",
     "exception": false,
     "start_time": "2022-04-12T09:55:10.238924",
     "status": "completed"
    },
    "tags": []
   },
   "outputs": [],
   "source": [
    "cat_cols.append('fuelType')"
   ]
  },
  {
   "cell_type": "markdown",
   "id": "dd50e466",
   "metadata": {
    "papermill": {
     "duration": 0.129788,
     "end_time": "2022-04-12T09:55:10.643237",
     "exception": false,
     "start_time": "2022-04-12T09:55:10.513449",
     "status": "completed"
    },
    "tags": []
   },
   "source": [
    "### Предобработка modelDate"
   ]
  },
  {
   "cell_type": "code",
   "execution_count": 51,
   "id": "3c9d1b73",
   "metadata": {
    "execution": {
     "iopub.execute_input": "2022-04-12T09:55:10.906501Z",
     "iopub.status.busy": "2022-04-12T09:55:10.905481Z",
     "iopub.status.idle": "2022-04-12T09:55:10.918167Z",
     "shell.execute_reply": "2022-04-12T09:55:10.918743Z"
    },
    "papermill": {
     "duration": 0.147175,
     "end_time": "2022-04-12T09:55:10.918916",
     "exception": false,
     "start_time": "2022-04-12T09:55:10.771741",
     "status": "completed"
    },
    "tags": []
   },
   "outputs": [
    {
     "data": {
      "text/plain": [
       "2017.0    5107\n",
       "2010.0    5063\n",
       "2006.0    4842\n",
       "2008.0    4739\n",
       "2009.0    4597\n",
       "          ... \n",
       "1965.0       2\n",
       "1973.0       2\n",
       "1969.0       2\n",
       "1950.0       1\n",
       "1957.0       1\n",
       "Name: modelDate, Length: 69, dtype: int64"
      ]
     },
     "execution_count": 51,
     "metadata": {},
     "output_type": "execute_result"
    }
   ],
   "source": [
    "data.modelDate.value_counts()"
   ]
  },
  {
   "cell_type": "code",
   "execution_count": 52,
   "id": "9441d578",
   "metadata": {
    "execution": {
     "iopub.execute_input": "2022-04-12T09:55:11.187965Z",
     "iopub.status.busy": "2022-04-12T09:55:11.187006Z",
     "iopub.status.idle": "2022-04-12T09:55:11.466007Z",
     "shell.execute_reply": "2022-04-12T09:55:11.466596Z"
    },
    "papermill": {
     "duration": 0.416589,
     "end_time": "2022-04-12T09:55:11.466778",
     "exception": false,
     "start_time": "2022-04-12T09:55:11.050189",
     "status": "completed"
    },
    "tags": []
   },
   "outputs": [
    {
     "data": {
      "image/png": "[encoded data removed]",
      "text/plain": [
       "<Figure size 432x288 with 1 Axes>"
      ]
     },
     "metadata": {
      "needs_background": "light"
     },
     "output_type": "display_data"
    }
   ],
   "source": [
    "plt.figure()\n",
    "sns.distplot(data.modelDate.dropna(), kde = False, rug=False)\n",
    "plt.title('modelDate')\n",
    "plt.show()"
   ]
  },
  {
   "cell_type": "code",
   "execution_count": 53,
   "id": "546b2b42",
   "metadata": {
    "execution": {
     "iopub.execute_input": "2022-04-12T09:55:11.732200Z",
     "iopub.status.busy": "2022-04-12T09:55:11.731545Z",
     "iopub.status.idle": "2022-04-12T09:55:11.822688Z",
     "shell.execute_reply": "2022-04-12T09:55:11.823474Z"
    },
    "papermill": {
     "duration": 0.22555,
     "end_time": "2022-04-12T09:55:11.823725",
     "exception": false,
     "start_time": "2022-04-12T09:55:11.598175",
     "status": "completed"
    },
    "tags": []
   },
   "outputs": [
    {
     "name": "stdout",
     "output_type": "stream",
     "text": [
      "<class 'pandas.core.frame.DataFrame'>\n",
      "RangeIndex: 83787 entries, 0 to 83786\n",
      "Data columns (total 16 columns):\n",
      " #   Column               Non-Null Count  Dtype  \n",
      "---  ------               --------------  -----  \n",
      " 0   bodyType             83787 non-null  object \n",
      " 1   brand                83787 non-null  object \n",
      " 2   productionDate       83787 non-null  int64  \n",
      " 3   mileage              83787 non-null  int64  \n",
      " 4   color                83787 non-null  object \n",
      " 5   enginePower          83787 non-null  float64\n",
      " 6   fuelType             83787 non-null  object \n",
      " 7   modelDate            83787 non-null  float64\n",
      " 8   vehicleTransmission  83786 non-null  object \n",
      " 9   Владельцы            72834 non-null  object \n",
      " 10  Привод               83786 non-null  object \n",
      " 11  Руль                 83787 non-null  object \n",
      " 12  Состояние            34686 non-null  object \n",
      " 13  sample               83787 non-null  int64  \n",
      " 14  old_years            83787 non-null  int64  \n",
      " 15  is_new               83787 non-null  int64  \n",
      "dtypes: float64(2), int64(5), object(9)\n",
      "memory usage: 10.2+ MB\n"
     ]
    }
   ],
   "source": [
    "data['modelDate'] = data['modelDate'].fillna(data['modelDate'].mean())\n",
    "num_cols.append('modelDate')\n",
    "data.info()"
   ]
  },
  {
   "cell_type": "markdown",
   "id": "b7c1c056",
   "metadata": {
    "papermill": {
     "duration": 0.133477,
     "end_time": "2022-04-12T09:55:12.091601",
     "exception": false,
     "start_time": "2022-04-12T09:55:11.958124",
     "status": "completed"
    },
    "tags": []
   },
   "source": [
    "Создадим новый признак:"
   ]
  },
  {
   "cell_type": "code",
   "execution_count": 54,
   "id": "26fe3920",
   "metadata": {
    "execution": {
     "iopub.execute_input": "2022-04-12T09:55:12.361692Z",
     "iopub.status.busy": "2022-04-12T09:55:12.360974Z",
     "iopub.status.idle": "2022-04-12T09:55:12.642181Z",
     "shell.execute_reply": "2022-04-12T09:55:12.641679Z"
    },
    "papermill": {
     "duration": 0.41711,
     "end_time": "2022-04-12T09:55:12.642344",
     "exception": false,
     "start_time": "2022-04-12T09:55:12.225234",
     "status": "completed"
    },
    "tags": []
   },
   "outputs": [
    {
     "data": {
      "image/png": "[encoded data removed]",
      "text/plain": [
       "<Figure size 432x288 with 1 Axes>"
      ]
     },
     "metadata": {
      "needs_background": "light"
     },
     "output_type": "display_data"
    }
   ],
   "source": [
    "data['model_years'] = 2020 - data.modelDate\n",
    "data['model_years'] = data['model_years'].fillna(0)\n",
    "num_cols.append('model_years')\n",
    "\n",
    "plt.figure()\n",
    "sns.distplot(data.model_years.dropna(), kde = False, rug=False)\n",
    "plt.title('model_years')\n",
    "plt.show()"
   ]
  },
  {
   "cell_type": "markdown",
   "id": "eb3910a9",
   "metadata": {
    "papermill": {
     "duration": 0.154484,
     "end_time": "2022-04-12T09:55:12.940521",
     "exception": false,
     "start_time": "2022-04-12T09:55:12.786037",
     "status": "completed"
    },
    "tags": []
   },
   "source": [
    "### Предобработка vehicleTransmission"
   ]
  },
  {
   "cell_type": "code",
   "execution_count": 55,
   "id": "69ef5f83",
   "metadata": {
    "execution": {
     "iopub.execute_input": "2022-04-12T09:55:13.209729Z",
     "iopub.status.busy": "2022-04-12T09:55:13.209025Z",
     "iopub.status.idle": "2022-04-12T09:55:13.228111Z",
     "shell.execute_reply": "2022-04-12T09:55:13.228804Z"
    },
    "papermill": {
     "duration": 0.155447,
     "end_time": "2022-04-12T09:55:13.228985",
     "exception": false,
     "start_time": "2022-04-12T09:55:13.073538",
     "status": "completed"
    },
    "tags": []
   },
   "outputs": [
    {
     "data": {
      "text/plain": [
       "AUTOMATIC           28306\n",
       "автоматическая      19596\n",
       "MECHANICAL           8797\n",
       "механическая         7209\n",
       "VARIATOR             6245\n",
       "ROBOT                5752\n",
       "вариатор             3999\n",
       "роботизированная     3882\n",
       "Name: vehicleTransmission, dtype: int64"
      ]
     },
     "execution_count": 55,
     "metadata": {},
     "output_type": "execute_result"
    }
   ],
   "source": [
    "data.vehicleTransmission.value_counts()"
   ]
  },
  {
   "cell_type": "code",
   "execution_count": 56,
   "id": "4e40de9f",
   "metadata": {
    "execution": {
     "iopub.execute_input": "2022-04-12T09:55:13.499697Z",
     "iopub.status.busy": "2022-04-12T09:55:13.499067Z",
     "iopub.status.idle": "2022-04-12T09:55:13.546142Z",
     "shell.execute_reply": "2022-04-12T09:55:13.546673Z"
    },
    "papermill": {
     "duration": 0.183902,
     "end_time": "2022-04-12T09:55:13.546846",
     "exception": false,
     "start_time": "2022-04-12T09:55:13.362944",
     "status": "completed"
    },
    "tags": []
   },
   "outputs": [
    {
     "data": {
      "text/plain": [
       "автоматическая      47902\n",
       "механическая        16006\n",
       "вариатор            10244\n",
       "роботизированная     9634\n",
       "Name: vehicleTransmission, dtype: int64"
      ]
     },
     "execution_count": 56,
     "metadata": {},
     "output_type": "execute_result"
    }
   ],
   "source": [
    "trans_dict = {'MECHANICAL': 'механическая','AUTOMATIC':'автоматическая', 'ROBOT':'роботизированная', 'VARIATOR':'вариатор'}\n",
    "data['vehicleTransmission'].replace(trans_dict,inplace=True)\n",
    "data.vehicleTransmission.value_counts()"
   ]
  },
  {
   "cell_type": "code",
   "execution_count": 57,
   "id": "74f42e73",
   "metadata": {
    "execution": {
     "iopub.execute_input": "2022-04-12T09:55:13.834564Z",
     "iopub.status.busy": "2022-04-12T09:55:13.833851Z",
     "iopub.status.idle": "2022-04-12T09:55:14.027299Z",
     "shell.execute_reply": "2022-04-12T09:55:14.026656Z"
    },
    "papermill": {
     "duration": 0.346047,
     "end_time": "2022-04-12T09:55:14.027541",
     "exception": false,
     "start_time": "2022-04-12T09:55:13.681494",
     "status": "completed"
    },
    "tags": []
   },
   "outputs": [
    {
     "data": {
      "text/plain": [
       "<AxesSubplot:>"
      ]
     },
     "execution_count": 57,
     "metadata": {},
     "output_type": "execute_result"
    },
    {
     "data": {
      "image/png": "[encoded data removed]",
      "text/plain": [
       "<Figure size 432x288 with 1 Axes>"
      ]
     },
     "metadata": {
      "needs_background": "light"
     },
     "output_type": "display_data"
    }
   ],
   "source": [
    "data.vehicleTransmission.value_counts().plot.barh()"
   ]
  },
  {
   "cell_type": "code",
   "execution_count": 58,
   "id": "22ea22a3",
   "metadata": {
    "execution": {
     "iopub.execute_input": "2022-04-12T09:55:14.302546Z",
     "iopub.status.busy": "2022-04-12T09:55:14.301836Z",
     "iopub.status.idle": "2022-04-12T09:55:14.305421Z",
     "shell.execute_reply": "2022-04-12T09:55:14.305956Z"
    },
    "papermill": {
     "duration": 0.141582,
     "end_time": "2022-04-12T09:55:14.306128",
     "exception": false,
     "start_time": "2022-04-12T09:55:14.164546",
     "status": "completed"
    },
    "tags": []
   },
   "outputs": [],
   "source": [
    "cat_cols.append('vehicleTransmission')"
   ]
  },
  {
   "cell_type": "markdown",
   "id": "4550161e",
   "metadata": {
    "papermill": {
     "duration": 0.134768,
     "end_time": "2022-04-12T09:55:14.576473",
     "exception": false,
     "start_time": "2022-04-12T09:55:14.441705",
     "status": "completed"
    },
    "tags": []
   },
   "source": [
    "### Предобработка Владельцы"
   ]
  },
  {
   "cell_type": "code",
   "execution_count": 59,
   "id": "9b338496",
   "metadata": {
    "execution": {
     "iopub.execute_input": "2022-04-12T09:55:14.931865Z",
     "iopub.status.busy": "2022-04-12T09:55:14.931057Z",
     "iopub.status.idle": "2022-04-12T09:55:14.936849Z",
     "shell.execute_reply": "2022-04-12T09:55:14.937490Z"
    },
    "papermill": {
     "duration": 0.158322,
     "end_time": "2022-04-12T09:55:14.937670",
     "exception": false,
     "start_time": "2022-04-12T09:55:14.779348",
     "status": "completed"
    },
    "tags": []
   },
   "outputs": [
    {
     "data": {
      "text/plain": [
       "3.0            19031\n",
       "3 или более    15957\n",
       "2.0            10211\n",
       "1 владелец      9459\n",
       "2 владельца     9270\n",
       "1.0             8906\n",
       "Name: Владельцы, dtype: int64"
      ]
     },
     "execution_count": 59,
     "metadata": {},
     "output_type": "execute_result"
    }
   ],
   "source": [
    "data['Владельцы'].value_counts()"
   ]
  },
  {
   "cell_type": "code",
   "execution_count": 60,
   "id": "3c106bbc",
   "metadata": {
    "execution": {
     "iopub.execute_input": "2022-04-12T09:55:15.214985Z",
     "iopub.status.busy": "2022-04-12T09:55:15.214181Z",
     "iopub.status.idle": "2022-04-12T09:55:15.254754Z",
     "shell.execute_reply": "2022-04-12T09:55:15.255212Z"
    },
    "papermill": {
     "duration": 0.179555,
     "end_time": "2022-04-12T09:55:15.255407",
     "exception": false,
     "start_time": "2022-04-12T09:55:15.075852",
     "status": "completed"
    },
    "tags": []
   },
   "outputs": [
    {
     "data": {
      "text/plain": [
       "3 или более    34988\n",
       "2 владельца    19481\n",
       "1 владелец     18365\n",
       "Name: Владельцы, dtype: int64"
      ]
     },
     "execution_count": 60,
     "metadata": {},
     "output_type": "execute_result"
    }
   ],
   "source": [
    "owners_dict = {3.0: '3 или более', 2.0: '2\\xa0владельца', 1.0: '1\\xa0владелец'}\n",
    "data['Владельцы'].replace(owners_dict, inplace=True)\n",
    "data['Владельцы'].value_counts()"
   ]
  },
  {
   "cell_type": "code",
   "execution_count": 61,
   "id": "4f61e0ec",
   "metadata": {
    "execution": {
     "iopub.execute_input": "2022-04-12T09:55:15.534219Z",
     "iopub.status.busy": "2022-04-12T09:55:15.533542Z",
     "iopub.status.idle": "2022-04-12T09:55:15.736578Z",
     "shell.execute_reply": "2022-04-12T09:55:15.735891Z"
    },
    "papermill": {
     "duration": 0.344609,
     "end_time": "2022-04-12T09:55:15.736732",
     "exception": false,
     "start_time": "2022-04-12T09:55:15.392123",
     "status": "completed"
    },
    "tags": []
   },
   "outputs": [
    {
     "data": {
      "text/plain": [
       "<AxesSubplot:>"
      ]
     },
     "execution_count": 61,
     "metadata": {},
     "output_type": "execute_result"
    },
    {
     "data": {
      "image/png": "[encoded data removed]",
      "text/plain": [
       "<Figure size 432x288 with 1 Axes>"
      ]
     },
     "metadata": {
      "needs_background": "light"
     },
     "output_type": "display_data"
    }
   ],
   "source": [
    "data['Владельцы'].value_counts().plot.barh()"
   ]
  },
  {
   "cell_type": "code",
   "execution_count": 62,
   "id": "4b663623",
   "metadata": {
    "execution": {
     "iopub.execute_input": "2022-04-12T09:55:16.019890Z",
     "iopub.status.busy": "2022-04-12T09:55:16.018772Z",
     "iopub.status.idle": "2022-04-12T09:55:16.040190Z",
     "shell.execute_reply": "2022-04-12T09:55:16.039602Z"
    },
    "papermill": {
     "duration": 0.165202,
     "end_time": "2022-04-12T09:55:16.040379",
     "exception": false,
     "start_time": "2022-04-12T09:55:15.875177",
     "status": "completed"
    },
    "tags": []
   },
   "outputs": [],
   "source": [
    "data = data.rename(columns = {'Владельцы':'owner_count'})\n",
    "cat_cols.append('owner_count')"
   ]
  },
  {
   "cell_type": "markdown",
   "id": "547b39d5",
   "metadata": {
    "papermill": {
     "duration": 0.140659,
     "end_time": "2022-04-12T09:55:16.321705",
     "exception": false,
     "start_time": "2022-04-12T09:55:16.181046",
     "status": "completed"
    },
    "tags": []
   },
   "source": [
    "### Предобработка Привод"
   ]
  },
  {
   "cell_type": "code",
   "execution_count": 63,
   "id": "32ea1234",
   "metadata": {
    "execution": {
     "iopub.execute_input": "2022-04-12T09:55:16.602246Z",
     "iopub.status.busy": "2022-04-12T09:55:16.601570Z",
     "iopub.status.idle": "2022-04-12T09:55:16.622527Z",
     "shell.execute_reply": "2022-04-12T09:55:16.621933Z"
    },
    "papermill": {
     "duration": 0.161628,
     "end_time": "2022-04-12T09:55:16.622669",
     "exception": false,
     "start_time": "2022-04-12T09:55:16.461041",
     "status": "completed"
    },
    "tags": []
   },
   "outputs": [
    {
     "data": {
      "text/plain": [
       "полный      38592\n",
       "передний    35173\n",
       "задний      10021\n",
       "Name: Привод, dtype: int64"
      ]
     },
     "execution_count": 63,
     "metadata": {},
     "output_type": "execute_result"
    }
   ],
   "source": [
    "data['Привод'].value_counts()"
   ]
  },
  {
   "cell_type": "code",
   "execution_count": 64,
   "id": "a0feb14b",
   "metadata": {
    "execution": {
     "iopub.execute_input": "2022-04-12T09:55:16.961016Z",
     "iopub.status.busy": "2022-04-12T09:55:16.948762Z",
     "iopub.status.idle": "2022-04-12T09:55:17.129150Z",
     "shell.execute_reply": "2022-04-12T09:55:17.129698Z"
    },
    "papermill": {
     "duration": 0.357288,
     "end_time": "2022-04-12T09:55:17.129915",
     "exception": false,
     "start_time": "2022-04-12T09:55:16.772627",
     "status": "completed"
    },
    "tags": []
   },
   "outputs": [
    {
     "data": {
      "text/plain": [
       "<AxesSubplot:>"
      ]
     },
     "execution_count": 64,
     "metadata": {},
     "output_type": "execute_result"
    },
    {
     "data": {
      "image/png": "[encoded data removed]",
      "text/plain": [
       "<Figure size 432x288 with 1 Axes>"
      ]
     },
     "metadata": {
      "needs_background": "light"
     },
     "output_type": "display_data"
    }
   ],
   "source": [
    "data['Привод'].value_counts().plot.barh()"
   ]
  },
  {
   "cell_type": "code",
   "execution_count": 65,
   "id": "aae2cbfd",
   "metadata": {
    "execution": {
     "iopub.execute_input": "2022-04-12T09:55:17.418527Z",
     "iopub.status.busy": "2022-04-12T09:55:17.417756Z",
     "iopub.status.idle": "2022-04-12T09:55:17.427766Z",
     "shell.execute_reply": "2022-04-12T09:55:17.428266Z"
    },
    "papermill": {
     "duration": 0.156925,
     "end_time": "2022-04-12T09:55:17.428474",
     "exception": false,
     "start_time": "2022-04-12T09:55:17.271549",
     "status": "completed"
    },
    "tags": []
   },
   "outputs": [],
   "source": [
    "data = data.rename(columns = {'Привод':'wd_type'})\n",
    "cat_cols.append('wd_type')"
   ]
  },
  {
   "cell_type": "markdown",
   "id": "15e89cd4",
   "metadata": {
    "papermill": {
     "duration": 0.140987,
     "end_time": "2022-04-12T09:55:17.713361",
     "exception": false,
     "start_time": "2022-04-12T09:55:17.572374",
     "status": "completed"
    },
    "tags": []
   },
   "source": [
    "### Предобработка Руль"
   ]
  },
  {
   "cell_type": "code",
   "execution_count": 66,
   "id": "321f38c4",
   "metadata": {
    "execution": {
     "iopub.execute_input": "2022-04-12T09:55:18.021869Z",
     "iopub.status.busy": "2022-04-12T09:55:18.021158Z",
     "iopub.status.idle": "2022-04-12T09:55:18.023979Z",
     "shell.execute_reply": "2022-04-12T09:55:18.024520Z"
    },
    "papermill": {
     "duration": 0.168047,
     "end_time": "2022-04-12T09:55:18.024686",
     "exception": false,
     "start_time": "2022-04-12T09:55:17.856639",
     "status": "completed"
    },
    "tags": []
   },
   "outputs": [
    {
     "data": {
      "text/plain": [
       "LEFT      47568\n",
       "Левый     33287\n",
       "RIGHT      1533\n",
       "Правый     1399\n",
       "Name: Руль, dtype: int64"
      ]
     },
     "execution_count": 66,
     "metadata": {},
     "output_type": "execute_result"
    }
   ],
   "source": [
    "data['Руль'].value_counts()"
   ]
  },
  {
   "cell_type": "code",
   "execution_count": 67,
   "id": "e0d62f15",
   "metadata": {
    "execution": {
     "iopub.execute_input": "2022-04-12T09:55:18.320612Z",
     "iopub.status.busy": "2022-04-12T09:55:18.319816Z",
     "iopub.status.idle": "2022-04-12T09:55:18.356733Z",
     "shell.execute_reply": "2022-04-12T09:55:18.357245Z"
    },
    "papermill": {
     "duration": 0.188073,
     "end_time": "2022-04-12T09:55:18.357436",
     "exception": false,
     "start_time": "2022-04-12T09:55:18.169363",
     "status": "completed"
    },
    "tags": []
   },
   "outputs": [
    {
     "data": {
      "text/plain": [
       "LEFT     80855\n",
       "RIGHT     2932\n",
       "Name: Руль, dtype: int64"
      ]
     },
     "execution_count": 67,
     "metadata": {},
     "output_type": "execute_result"
    }
   ],
   "source": [
    "wheel_dict = { 'Левый': 'LEFT', 'Правый': 'RIGHT'}\n",
    "data['Руль'].replace(wheel_dict, inplace=True)\n",
    "data['Руль'].value_counts()"
   ]
  },
  {
   "cell_type": "code",
   "execution_count": 68,
   "id": "13558e4d",
   "metadata": {
    "execution": {
     "iopub.execute_input": "2022-04-12T09:55:18.652745Z",
     "iopub.status.busy": "2022-04-12T09:55:18.651969Z",
     "iopub.status.idle": "2022-04-12T09:55:18.661881Z",
     "shell.execute_reply": "2022-04-12T09:55:18.662380Z"
    },
    "papermill": {
     "duration": 0.157745,
     "end_time": "2022-04-12T09:55:18.662577",
     "exception": false,
     "start_time": "2022-04-12T09:55:18.504832",
     "status": "completed"
    },
    "tags": []
   },
   "outputs": [],
   "source": [
    "data = data.rename(columns = {'Руль':'wheel_type'})\n",
    "cat_cols.append('wheel_type')"
   ]
  },
  {
   "cell_type": "markdown",
   "id": "2eaffadf",
   "metadata": {
    "papermill": {
     "duration": 0.145366,
     "end_time": "2022-04-12T09:55:18.950664",
     "exception": false,
     "start_time": "2022-04-12T09:55:18.805298",
     "status": "completed"
    },
    "tags": []
   },
   "source": [
    "### Предобработка Состояние"
   ]
  },
  {
   "cell_type": "code",
   "execution_count": 69,
   "id": "fa41abc8",
   "metadata": {
    "execution": {
     "iopub.execute_input": "2022-04-12T09:55:19.240600Z",
     "iopub.status.busy": "2022-04-12T09:55:19.239886Z",
     "iopub.status.idle": "2022-04-12T09:55:19.253586Z",
     "shell.execute_reply": "2022-04-12T09:55:19.254209Z"
    },
    "papermill": {
     "duration": 0.163245,
     "end_time": "2022-04-12T09:55:19.254405",
     "exception": false,
     "start_time": "2022-04-12T09:55:19.091160",
     "status": "completed"
    },
    "tags": []
   },
   "outputs": [
    {
     "data": {
      "text/plain": [
       "Не требует ремонта    34686\n",
       "Name: Состояние, dtype: int64"
      ]
     },
     "execution_count": 69,
     "metadata": {},
     "output_type": "execute_result"
    }
   ],
   "source": [
    "data['Состояние'].value_counts()"
   ]
  },
  {
   "cell_type": "code",
   "execution_count": 70,
   "id": "3ddb0b3a",
   "metadata": {
    "execution": {
     "iopub.execute_input": "2022-04-12T09:55:19.544366Z",
     "iopub.status.busy": "2022-04-12T09:55:19.543693Z",
     "iopub.status.idle": "2022-04-12T09:55:19.629168Z",
     "shell.execute_reply": "2022-04-12T09:55:19.628496Z"
    },
    "papermill": {
     "duration": 0.23326,
     "end_time": "2022-04-12T09:55:19.629312",
     "exception": false,
     "start_time": "2022-04-12T09:55:19.396052",
     "status": "completed"
    },
    "tags": []
   },
   "outputs": [
    {
     "data": {
      "text/plain": [
       "0    49101\n",
       "1    34686\n",
       "Name: condition, dtype: int64"
      ]
     },
     "execution_count": 70,
     "metadata": {},
     "output_type": "execute_result"
    }
   ],
   "source": [
    "data['Состояние'] = data['Состояние'].apply(lambda x: 1 if x == 'Не требует ремонта' else 0).astype('int8')\n",
    "data = data.rename(columns = {'Состояние':'condition'})\n",
    "bin_cols.append('condition')\n",
    "\n",
    "data.condition.value_counts()"
   ]
  },
  {
   "cell_type": "code",
   "execution_count": 71,
   "id": "9d507463",
   "metadata": {
    "execution": {
     "iopub.execute_input": "2022-04-12T09:55:19.938609Z",
     "iopub.status.busy": "2022-04-12T09:55:19.924816Z",
     "iopub.status.idle": "2022-04-12T09:55:20.033305Z",
     "shell.execute_reply": "2022-04-12T09:55:20.032695Z"
    },
    "papermill": {
     "duration": 0.258021,
     "end_time": "2022-04-12T09:55:20.033475",
     "exception": false,
     "start_time": "2022-04-12T09:55:19.775454",
     "status": "completed"
    },
    "tags": []
   },
   "outputs": [],
   "source": [
    "for colum in cat_cols:\n",
    "    data[colum] = data[colum].astype('category').cat.codes"
   ]
  },
  {
   "cell_type": "code",
   "execution_count": 72,
   "id": "2e6325c2",
   "metadata": {
    "execution": {
     "iopub.execute_input": "2022-04-12T09:55:20.321562Z",
     "iopub.status.busy": "2022-04-12T09:55:20.320860Z",
     "iopub.status.idle": "2022-04-12T09:55:20.345009Z",
     "shell.execute_reply": "2022-04-12T09:55:20.345630Z"
    },
    "papermill": {
     "duration": 0.170443,
     "end_time": "2022-04-12T09:55:20.345834",
     "exception": false,
     "start_time": "2022-04-12T09:55:20.175391",
     "status": "completed"
    },
    "scrolled": true,
    "tags": []
   },
   "outputs": [
    {
     "data": {
      "text/html": [
       "<div>\n",
       "<style scoped>\n",
       "    .dataframe tbody tr th:only-of-type {\n",
       "        vertical-align: middle;\n",
       "    }\n",
       "\n",
       "    .dataframe tbody tr th {\n",
       "        vertical-align: top;\n",
       "    }\n",
       "\n",
       "    .dataframe thead th {\n",
       "        text-align: right;\n",
       "    }\n",
       "</style>\n",
       "<table border=\"1\" class=\"dataframe\">\n",
       "  <thead>\n",
       "    <tr style=\"text-align: right;\">\n",
       "      <th></th>\n",
       "      <th>bodyType</th>\n",
       "      <th>brand</th>\n",
       "      <th>productionDate</th>\n",
       "      <th>mileage</th>\n",
       "      <th>color</th>\n",
       "      <th>enginePower</th>\n",
       "      <th>fuelType</th>\n",
       "      <th>modelDate</th>\n",
       "      <th>vehicleTransmission</th>\n",
       "      <th>owner_count</th>\n",
       "      <th>wd_type</th>\n",
       "      <th>wheel_type</th>\n",
       "      <th>condition</th>\n",
       "      <th>sample</th>\n",
       "      <th>old_years</th>\n",
       "      <th>is_new</th>\n",
       "      <th>model_years</th>\n",
       "    </tr>\n",
       "  </thead>\n",
       "  <tbody>\n",
       "    <tr>\n",
       "      <th>0</th>\n",
       "      <td>7</td>\n",
       "      <td>8</td>\n",
       "      <td>2014</td>\n",
       "      <td>74000</td>\n",
       "      <td>13</td>\n",
       "      <td>105.0</td>\n",
       "      <td>0</td>\n",
       "      <td>2013.0</td>\n",
       "      <td>3</td>\n",
       "      <td>2</td>\n",
       "      <td>1</td>\n",
       "      <td>0</td>\n",
       "      <td>1</td>\n",
       "      <td>0</td>\n",
       "      <td>6</td>\n",
       "      <td>0</td>\n",
       "      <td>7.0</td>\n",
       "    </tr>\n",
       "    <tr>\n",
       "      <th>1</th>\n",
       "      <td>7</td>\n",
       "      <td>8</td>\n",
       "      <td>2017</td>\n",
       "      <td>60563</td>\n",
       "      <td>15</td>\n",
       "      <td>110.0</td>\n",
       "      <td>0</td>\n",
       "      <td>2017.0</td>\n",
       "      <td>2</td>\n",
       "      <td>0</td>\n",
       "      <td>1</td>\n",
       "      <td>0</td>\n",
       "      <td>1</td>\n",
       "      <td>0</td>\n",
       "      <td>3</td>\n",
       "      <td>0</td>\n",
       "      <td>3.0</td>\n",
       "    </tr>\n",
       "    <tr>\n",
       "      <th>2</th>\n",
       "      <td>7</td>\n",
       "      <td>8</td>\n",
       "      <td>2014</td>\n",
       "      <td>88000</td>\n",
       "      <td>12</td>\n",
       "      <td>152.0</td>\n",
       "      <td>0</td>\n",
       "      <td>2013.0</td>\n",
       "      <td>3</td>\n",
       "      <td>0</td>\n",
       "      <td>1</td>\n",
       "      <td>0</td>\n",
       "      <td>1</td>\n",
       "      <td>0</td>\n",
       "      <td>6</td>\n",
       "      <td>0</td>\n",
       "      <td>7.0</td>\n",
       "    </tr>\n",
       "    <tr>\n",
       "      <th>3</th>\n",
       "      <td>7</td>\n",
       "      <td>8</td>\n",
       "      <td>2014</td>\n",
       "      <td>95000</td>\n",
       "      <td>6</td>\n",
       "      <td>110.0</td>\n",
       "      <td>0</td>\n",
       "      <td>2013.0</td>\n",
       "      <td>0</td>\n",
       "      <td>0</td>\n",
       "      <td>1</td>\n",
       "      <td>0</td>\n",
       "      <td>1</td>\n",
       "      <td>0</td>\n",
       "      <td>6</td>\n",
       "      <td>0</td>\n",
       "      <td>7.0</td>\n",
       "    </tr>\n",
       "    <tr>\n",
       "      <th>4</th>\n",
       "      <td>7</td>\n",
       "      <td>8</td>\n",
       "      <td>2012</td>\n",
       "      <td>58536</td>\n",
       "      <td>1</td>\n",
       "      <td>152.0</td>\n",
       "      <td>0</td>\n",
       "      <td>2008.0</td>\n",
       "      <td>0</td>\n",
       "      <td>0</td>\n",
       "      <td>1</td>\n",
       "      <td>0</td>\n",
       "      <td>1</td>\n",
       "      <td>0</td>\n",
       "      <td>8</td>\n",
       "      <td>0</td>\n",
       "      <td>12.0</td>\n",
       "    </tr>\n",
       "    <tr>\n",
       "      <th>...</th>\n",
       "      <td>...</td>\n",
       "      <td>...</td>\n",
       "      <td>...</td>\n",
       "      <td>...</td>\n",
       "      <td>...</td>\n",
       "      <td>...</td>\n",
       "      <td>...</td>\n",
       "      <td>...</td>\n",
       "      <td>...</td>\n",
       "      <td>...</td>\n",
       "      <td>...</td>\n",
       "      <td>...</td>\n",
       "      <td>...</td>\n",
       "      <td>...</td>\n",
       "      <td>...</td>\n",
       "      <td>...</td>\n",
       "      <td>...</td>\n",
       "    </tr>\n",
       "    <tr>\n",
       "      <th>83782</th>\n",
       "      <td>4</td>\n",
       "      <td>5</td>\n",
       "      <td>1952</td>\n",
       "      <td>45200</td>\n",
       "      <td>5</td>\n",
       "      <td>150.0</td>\n",
       "      <td>0</td>\n",
       "      <td>1951.0</td>\n",
       "      <td>2</td>\n",
       "      <td>0</td>\n",
       "      <td>0</td>\n",
       "      <td>0</td>\n",
       "      <td>0</td>\n",
       "      <td>1</td>\n",
       "      <td>68</td>\n",
       "      <td>0</td>\n",
       "      <td>69.0</td>\n",
       "    </tr>\n",
       "    <tr>\n",
       "      <th>83783</th>\n",
       "      <td>12</td>\n",
       "      <td>5</td>\n",
       "      <td>1959</td>\n",
       "      <td>10000</td>\n",
       "      <td>15</td>\n",
       "      <td>160.0</td>\n",
       "      <td>0</td>\n",
       "      <td>1957.0</td>\n",
       "      <td>0</td>\n",
       "      <td>1</td>\n",
       "      <td>0</td>\n",
       "      <td>0</td>\n",
       "      <td>0</td>\n",
       "      <td>1</td>\n",
       "      <td>61</td>\n",
       "      <td>0</td>\n",
       "      <td>63.0</td>\n",
       "    </tr>\n",
       "    <tr>\n",
       "      <th>83784</th>\n",
       "      <td>10</td>\n",
       "      <td>5</td>\n",
       "      <td>2018</td>\n",
       "      <td>800</td>\n",
       "      <td>12</td>\n",
       "      <td>258.0</td>\n",
       "      <td>3</td>\n",
       "      <td>2017.0</td>\n",
       "      <td>0</td>\n",
       "      <td>0</td>\n",
       "      <td>2</td>\n",
       "      <td>0</td>\n",
       "      <td>0</td>\n",
       "      <td>1</td>\n",
       "      <td>2</td>\n",
       "      <td>0</td>\n",
       "      <td>3.0</td>\n",
       "    </tr>\n",
       "    <tr>\n",
       "      <th>83785</th>\n",
       "      <td>10</td>\n",
       "      <td>5</td>\n",
       "      <td>2018</td>\n",
       "      <td>15850</td>\n",
       "      <td>12</td>\n",
       "      <td>190.0</td>\n",
       "      <td>3</td>\n",
       "      <td>2017.0</td>\n",
       "      <td>0</td>\n",
       "      <td>0</td>\n",
       "      <td>2</td>\n",
       "      <td>0</td>\n",
       "      <td>0</td>\n",
       "      <td>1</td>\n",
       "      <td>2</td>\n",
       "      <td>0</td>\n",
       "      <td>3.0</td>\n",
       "    </tr>\n",
       "    <tr>\n",
       "      <th>83786</th>\n",
       "      <td>10</td>\n",
       "      <td>5</td>\n",
       "      <td>2018</td>\n",
       "      <td>18000</td>\n",
       "      <td>12</td>\n",
       "      <td>258.0</td>\n",
       "      <td>3</td>\n",
       "      <td>2017.0</td>\n",
       "      <td>0</td>\n",
       "      <td>0</td>\n",
       "      <td>2</td>\n",
       "      <td>0</td>\n",
       "      <td>0</td>\n",
       "      <td>1</td>\n",
       "      <td>2</td>\n",
       "      <td>0</td>\n",
       "      <td>3.0</td>\n",
       "    </tr>\n",
       "  </tbody>\n",
       "</table>\n",
       "<p>83787 rows × 17 columns</p>\n",
       "</div>"
      ],
      "text/plain": [
       "       bodyType  brand  productionDate  mileage  color  enginePower  fuelType  \\\n",
       "0             7      8            2014    74000     13        105.0         0   \n",
       "1             7      8            2017    60563     15        110.0         0   \n",
       "2             7      8            2014    88000     12        152.0         0   \n",
       "3             7      8            2014    95000      6        110.0         0   \n",
       "4             7      8            2012    58536      1        152.0         0   \n",
       "...         ...    ...             ...      ...    ...          ...       ...   \n",
       "83782         4      5            1952    45200      5        150.0         0   \n",
       "83783        12      5            1959    10000     15        160.0         0   \n",
       "83784        10      5            2018      800     12        258.0         3   \n",
       "83785        10      5            2018    15850     12        190.0         3   \n",
       "83786        10      5            2018    18000     12        258.0         3   \n",
       "\n",
       "       modelDate  vehicleTransmission  owner_count  wd_type  wheel_type  \\\n",
       "0         2013.0                    3            2        1           0   \n",
       "1         2017.0                    2            0        1           0   \n",
       "2         2013.0                    3            0        1           0   \n",
       "3         2013.0                    0            0        1           0   \n",
       "4         2008.0                    0            0        1           0   \n",
       "...          ...                  ...          ...      ...         ...   \n",
       "83782     1951.0                    2            0        0           0   \n",
       "83783     1957.0                    0            1        0           0   \n",
       "83784     2017.0                    0            0        2           0   \n",
       "83785     2017.0                    0            0        2           0   \n",
       "83786     2017.0                    0            0        2           0   \n",
       "\n",
       "       condition  sample  old_years  is_new  model_years  \n",
       "0              1       0          6       0          7.0  \n",
       "1              1       0          3       0          3.0  \n",
       "2              1       0          6       0          7.0  \n",
       "3              1       0          6       0          7.0  \n",
       "4              1       0          8       0         12.0  \n",
       "...          ...     ...        ...     ...          ...  \n",
       "83782          0       1         68       0         69.0  \n",
       "83783          0       1         61       0         63.0  \n",
       "83784          0       1          2       0          3.0  \n",
       "83785          0       1          2       0          3.0  \n",
       "83786          0       1          2       0          3.0  \n",
       "\n",
       "[83787 rows x 17 columns]"
      ]
     },
     "execution_count": 72,
     "metadata": {},
     "output_type": "execute_result"
    }
   ],
   "source": [
    "data"
   ]
  },
  {
   "cell_type": "code",
   "execution_count": 73,
   "id": "d8321aaf",
   "metadata": {
    "execution": {
     "iopub.execute_input": "2022-04-12T09:55:20.641484Z",
     "iopub.status.busy": "2022-04-12T09:55:20.640787Z",
     "iopub.status.idle": "2022-04-12T09:55:20.663168Z",
     "shell.execute_reply": "2022-04-12T09:55:20.663718Z"
    },
    "papermill": {
     "duration": 0.171477,
     "end_time": "2022-04-12T09:55:20.663897",
     "exception": false,
     "start_time": "2022-04-12T09:55:20.492420",
     "status": "completed"
    },
    "tags": []
   },
   "outputs": [],
   "source": [
    "X = data.query('sample == 1').drop(['sample'], axis=1)\n",
    "X_sub = data.query('sample == 0').drop(['sample'], axis=1)"
   ]
  },
  {
   "cell_type": "markdown",
   "id": "947b6377",
   "metadata": {
    "papermill": {
     "duration": 0.146814,
     "end_time": "2022-04-12T09:55:20.956270",
     "exception": false,
     "start_time": "2022-04-12T09:55:20.809456",
     "status": "completed"
    },
    "tags": []
   },
   "source": [
    "## Train Split"
   ]
  },
  {
   "cell_type": "code",
   "execution_count": 74,
   "id": "49cdb08c",
   "metadata": {
    "execution": {
     "iopub.execute_input": "2022-04-12T09:55:21.248510Z",
     "iopub.status.busy": "2022-04-12T09:55:21.247770Z",
     "iopub.status.idle": "2022-04-12T09:55:21.262224Z",
     "shell.execute_reply": "2022-04-12T09:55:21.262994Z"
    },
    "papermill": {
     "duration": 0.161956,
     "end_time": "2022-04-12T09:55:21.263214",
     "exception": false,
     "start_time": "2022-04-12T09:55:21.101258",
     "status": "completed"
    },
    "tags": []
   },
   "outputs": [],
   "source": [
    "X_train, X_test, y_train, y_test = train_test_split(X, y, test_size=VAL_SIZE, shuffle=True, random_state=RANDOM_SEED)"
   ]
  },
  {
   "cell_type": "markdown",
   "id": "1d2248ad",
   "metadata": {
    "papermill": {
     "duration": 0.143467,
     "end_time": "2022-04-12T09:55:21.550124",
     "exception": false,
     "start_time": "2022-04-12T09:55:21.406657",
     "status": "completed"
    },
    "tags": []
   },
   "source": [
    "# # Model 1 : RandomForestRegressor"
   ]
  },
  {
   "cell_type": "code",
   "execution_count": 75,
   "id": "b6a4270f",
   "metadata": {
    "execution": {
     "iopub.execute_input": "2022-04-12T09:55:21.839755Z",
     "iopub.status.busy": "2022-04-12T09:55:21.839060Z",
     "iopub.status.idle": "2022-04-12T09:55:35.965382Z",
     "shell.execute_reply": "2022-04-12T09:55:35.966156Z"
    },
    "papermill": {
     "duration": 14.273455,
     "end_time": "2022-04-12T09:55:35.966449",
     "exception": false,
     "start_time": "2022-04-12T09:55:21.692994",
     "status": "completed"
    },
    "tags": []
   },
   "outputs": [
    {
     "name": "stdout",
     "output_type": "stream",
     "text": [
      "Точность модели по метрике MAPE: 13.07%\n"
     ]
    }
   ],
   "source": [
    "model = RandomForestRegressor(random_state=RANDOM_SEED)\n",
    "model.fit(X_train, np.log(y_train))\n",
    "\n",
    "predict_test = np.exp(model.predict(X_test))\n",
    "#predict_submission = np.exp(model.predict(X_sub))\n",
    "\n",
    "print(f\"Точность модели по метрике MAPE: {(mape(y_test, predict_test))*100:0.2f}%\")"
   ]
  },
  {
   "cell_type": "markdown",
   "id": "4e647777",
   "metadata": {
    "papermill": {
     "duration": 0.147167,
     "end_time": "2022-04-12T09:55:36.269354",
     "exception": false,
     "start_time": "2022-04-12T09:55:36.122187",
     "status": "completed"
    },
    "tags": []
   },
   "source": [
    "LeaderBoard score 12.29014"
   ]
  },
  {
   "cell_type": "markdown",
   "id": "21aaba7b",
   "metadata": {
    "papermill": {
     "duration": 0.143302,
     "end_time": "2022-04-12T09:55:36.555996",
     "exception": false,
     "start_time": "2022-04-12T09:55:36.412694",
     "status": "completed"
    },
    "tags": []
   },
   "source": [
    "# # Model 2 : ExtraTreesRegression"
   ]
  },
  {
   "cell_type": "code",
   "execution_count": 76,
   "id": "c26699cd",
   "metadata": {
    "execution": {
     "iopub.execute_input": "2022-04-12T09:55:36.861252Z",
     "iopub.status.busy": "2022-04-12T09:55:36.849962Z",
     "iopub.status.idle": "2022-04-12T09:55:48.990249Z",
     "shell.execute_reply": "2022-04-12T09:55:48.990810Z"
    },
    "papermill": {
     "duration": 12.291824,
     "end_time": "2022-04-12T09:55:48.990980",
     "exception": false,
     "start_time": "2022-04-12T09:55:36.699156",
     "status": "completed"
    },
    "tags": []
   },
   "outputs": [
    {
     "name": "stdout",
     "output_type": "stream",
     "text": [
      "Точность модели по метрике MAPE: 13.35%\n"
     ]
    }
   ],
   "source": [
    "model = ExtraTreesRegressor(random_state=RANDOM_SEED)\n",
    "model.fit(X_train, np.log(y_train))\n",
    "     \n",
    "predict_test = np.exp(model.predict(X_test))\n",
    "predict_submission = np.exp(model.predict(X_sub))\n",
    "\n",
    "print(f\"Точность модели по метрике MAPE: {(mape(y_test, predict_test))*100:0.2f}%\")"
   ]
  },
  {
   "cell_type": "markdown",
   "id": "c3d06563",
   "metadata": {
    "papermill": {
     "duration": 0.151761,
     "end_time": "2022-04-12T09:55:49.298438",
     "exception": false,
     "start_time": "2022-04-12T09:55:49.146677",
     "status": "completed"
    },
    "tags": []
   },
   "source": [
    "**LeaderBoard score 11.24685 - this is the best model among all!**"
   ]
  },
  {
   "cell_type": "markdown",
   "id": "22db7ced",
   "metadata": {
    "papermill": {
     "duration": 0.151615,
     "end_time": "2022-04-12T09:55:49.604445",
     "exception": false,
     "start_time": "2022-04-12T09:55:49.452830",
     "status": "completed"
    },
    "tags": []
   },
   "source": [
    "# # Model 3 : CatBoost\n",
    "![](https://pbs.twimg.com/media/DP-jUCyXcAArRTo.png:large)   \n",
    "\n",
    "\n",
    "У нас в данных практически все признаки категориальные. Специально для работы с такими данными была создана очень удобная библиотека CatBoost от Яндекса. [https://catboost.ai](http://)     \n",
    "На данный момент **CatBoost является одной из лучших библиотек для табличных данных!**\n",
    "\n",
    "#### Полезные видео о CatBoost (на русском):\n",
    "* [Доклад про CatBoost](https://youtu.be/9ZrfErvm97M)\n",
    "* [Свежий Туториал от команды CatBoost (практическая часть)](https://youtu.be/wQt4kgAOgV0) "
   ]
  },
  {
   "cell_type": "markdown",
   "id": "2d620ba2",
   "metadata": {
    "papermill": {
     "duration": 0.149783,
     "end_time": "2022-04-12T09:55:49.909522",
     "exception": false,
     "start_time": "2022-04-12T09:55:49.759739",
     "status": "completed"
    },
    "tags": []
   },
   "source": [
    "## Fit"
   ]
  },
  {
   "cell_type": "code",
   "execution_count": 77,
   "id": "3ddc5ec6",
   "metadata": {
    "execution": {
     "iopub.execute_input": "2022-04-12T09:55:50.224809Z",
     "iopub.status.busy": "2022-04-12T09:55:50.224055Z",
     "iopub.status.idle": "2022-04-12T09:56:17.818711Z",
     "shell.execute_reply": "2022-04-12T09:56:17.819439Z"
    },
    "papermill": {
     "duration": 27.757388,
     "end_time": "2022-04-12T09:56:17.819632",
     "exception": false,
     "start_time": "2022-04-12T09:55:50.062244",
     "status": "completed"
    },
    "tags": []
   },
   "outputs": [],
   "source": [
    "model = CatBoostRegressor(iterations = 5000,\n",
    "                          random_seed = RANDOM_SEED,\n",
    "                          eval_metric='MAPE',\n",
    "                          custom_metric=['R2', 'MAE'],\n",
    "                          silent=True,\n",
    "                         )\n",
    "model.fit(X_train, y_train,\n",
    "         #cat_features=cat_features_ids,\n",
    "         eval_set=(X_test, y_test),\n",
    "         verbose_eval=0,\n",
    "         use_best_model=True,\n",
    "         #plot=True\n",
    "         )\n",
    "\n",
    "model.save_model('catboost_single_model_baseline.model')"
   ]
  },
  {
   "cell_type": "code",
   "execution_count": 78,
   "id": "ee6e9d66",
   "metadata": {
    "execution": {
     "iopub.execute_input": "2022-04-12T09:56:18.112763Z",
     "iopub.status.busy": "2022-04-12T09:56:18.112094Z",
     "iopub.status.idle": "2022-04-12T09:56:18.153354Z",
     "shell.execute_reply": "2022-04-12T09:56:18.153894Z"
    },
    "papermill": {
     "duration": 0.18982,
     "end_time": "2022-04-12T09:56:18.154066",
     "exception": false,
     "start_time": "2022-04-12T09:56:17.964246",
     "status": "completed"
    },
    "tags": []
   },
   "outputs": [
    {
     "name": "stdout",
     "output_type": "stream",
     "text": [
      "Точность модели по метрике MAPE: 14.51%\n"
     ]
    }
   ],
   "source": [
    "# оцениваем точность\n",
    "predict_test = model.predict(X_test)\n",
    "print(f\"Точность модели по метрике MAPE: {(mape(y_test, predict_test))*100:0.2f}%\")"
   ]
  },
  {
   "cell_type": "markdown",
   "id": "e826304e",
   "metadata": {
    "papermill": {
     "duration": 0.144206,
     "end_time": "2022-04-12T09:56:18.445252",
     "exception": false,
     "start_time": "2022-04-12T09:56:18.301046",
     "status": "completed"
    },
    "tags": []
   },
   "source": [
    "### Log Traget\n",
    "Попробуем взять таргет в логорифм - это позволит уменьшить влияние выбросов на обучение модели (используем для этого np.log и np.exp).    \n",
    "В принциепе мы можем использовать любое приобразование на целевую переменную. Например деление на курс доллара, евро или гречки :) в дату сбора данных, смотрим дату парсинга в тесте в **parsing_unixtime**"
   ]
  },
  {
   "cell_type": "code",
   "execution_count": 79,
   "id": "3c62e1f2",
   "metadata": {
    "execution": {
     "iopub.execute_input": "2022-04-12T09:56:18.740759Z",
     "iopub.status.busy": "2022-04-12T09:56:18.739718Z",
     "iopub.status.idle": "2022-04-12T09:56:18.748692Z",
     "shell.execute_reply": "2022-04-12T09:56:18.749306Z"
    },
    "papermill": {
     "duration": 0.15908,
     "end_time": "2022-04-12T09:56:18.749577",
     "exception": false,
     "start_time": "2022-04-12T09:56:18.590497",
     "status": "completed"
    },
    "tags": []
   },
   "outputs": [
    {
     "data": {
      "text/plain": [
       "75311    14.552531\n",
       "25063    13.161584\n",
       "84326    14.922620\n",
       "71936    13.764217\n",
       "70345    13.217674\n",
       "           ...    \n",
       "11325    15.702429\n",
       "84276    13.815511\n",
       "75629    14.880221\n",
       "865      12.641097\n",
       "43187    12.230765\n",
       "Name: price, Length: 39280, dtype: float64"
      ]
     },
     "execution_count": 79,
     "metadata": {},
     "output_type": "execute_result"
    }
   ],
   "source": [
    "np.log(y_train)"
   ]
  },
  {
   "cell_type": "code",
   "execution_count": 80,
   "id": "51b4e67a",
   "metadata": {
    "execution": {
     "iopub.execute_input": "2022-04-12T09:56:19.070686Z",
     "iopub.status.busy": "2022-04-12T09:56:19.069929Z",
     "iopub.status.idle": "2022-04-12T09:56:46.114941Z",
     "shell.execute_reply": "2022-04-12T09:56:46.115539Z"
    },
    "papermill": {
     "duration": 27.202731,
     "end_time": "2022-04-12T09:56:46.115737",
     "exception": false,
     "start_time": "2022-04-12T09:56:18.913006",
     "status": "completed"
    },
    "tags": []
   },
   "outputs": [],
   "source": [
    "model = CatBoostRegressor(iterations = 5000,\n",
    "                          random_seed = RANDOM_SEED,\n",
    "                          eval_metric='MAPE',\n",
    "                          custom_metric=['R2', 'MAE'],\n",
    "                          silent=True,\n",
    "                         )\n",
    "model.fit(X_train, np.log(y_train),\n",
    "         #cat_features=cat_features_ids,\n",
    "         eval_set=(X_test, np.log(y_test)),\n",
    "         verbose_eval=0,\n",
    "         use_best_model=True,\n",
    "         #plot=True\n",
    "         )\n",
    "\n",
    "model.save_model('catboost_single_model_2_baseline.model')"
   ]
  },
  {
   "cell_type": "code",
   "execution_count": 81,
   "id": "26f3899a",
   "metadata": {
    "execution": {
     "iopub.execute_input": "2022-04-12T09:56:46.414224Z",
     "iopub.status.busy": "2022-04-12T09:56:46.413230Z",
     "iopub.status.idle": "2022-04-12T09:56:46.445863Z",
     "shell.execute_reply": "2022-04-12T09:56:46.446726Z"
    },
    "papermill": {
     "duration": 0.18622,
     "end_time": "2022-04-12T09:56:46.446908",
     "exception": false,
     "start_time": "2022-04-12T09:56:46.260688",
     "status": "completed"
    },
    "tags": []
   },
   "outputs": [],
   "source": [
    "predict_test = np.exp(model.predict(X_test))\n",
    "#predict_submission = np.exp(model.predict(X_sub))"
   ]
  },
  {
   "cell_type": "code",
   "execution_count": 82,
   "id": "cc5678a7",
   "metadata": {
    "execution": {
     "iopub.execute_input": "2022-04-12T09:56:46.745348Z",
     "iopub.status.busy": "2022-04-12T09:56:46.744238Z",
     "iopub.status.idle": "2022-04-12T09:56:46.747994Z",
     "shell.execute_reply": "2022-04-12T09:56:46.748710Z"
    },
    "papermill": {
     "duration": 0.15599,
     "end_time": "2022-04-12T09:56:46.748945",
     "exception": false,
     "start_time": "2022-04-12T09:56:46.592955",
     "status": "completed"
    },
    "tags": []
   },
   "outputs": [
    {
     "name": "stdout",
     "output_type": "stream",
     "text": [
      "Точность модели по метрике MAPE: 12.67%\n"
     ]
    }
   ],
   "source": [
    "print(f\"Точность модели по метрике MAPE: {(mape(y_test, predict_test))*100:0.2f}%\")"
   ]
  },
  {
   "cell_type": "markdown",
   "id": "ed1a4673",
   "metadata": {
    "papermill": {
     "duration": 0.148087,
     "end_time": "2022-04-12T09:56:47.044224",
     "exception": false,
     "start_time": "2022-04-12T09:56:46.896137",
     "status": "completed"
    },
    "tags": []
   },
   "source": [
    "Leader Board score: 13.38145"
   ]
  },
  {
   "cell_type": "markdown",
   "id": "163b3c52",
   "metadata": {
    "papermill": {
     "duration": 0.144853,
     "end_time": "2022-04-12T09:56:47.336364",
     "exception": false,
     "start_time": "2022-04-12T09:56:47.191511",
     "status": "completed"
    },
    "tags": []
   },
   "source": [
    "# # Model 4 : KNeighborsRegressor"
   ]
  },
  {
   "cell_type": "code",
   "execution_count": 83,
   "id": "527fbdc1",
   "metadata": {
    "execution": {
     "iopub.execute_input": "2022-04-12T09:56:47.638945Z",
     "iopub.status.busy": "2022-04-12T09:56:47.637820Z",
     "iopub.status.idle": "2022-04-12T09:56:57.813884Z",
     "shell.execute_reply": "2022-04-12T09:56:57.813167Z"
    },
    "papermill": {
     "duration": 10.33282,
     "end_time": "2022-04-12T09:56:57.814037",
     "exception": false,
     "start_time": "2022-04-12T09:56:47.481217",
     "status": "completed"
    },
    "tags": []
   },
   "outputs": [
    {
     "name": "stdout",
     "output_type": "stream",
     "text": [
      "Точность модели по метрике MAPE: 32.41%\n"
     ]
    }
   ],
   "source": [
    "model = KNeighborsRegressor(n_neighbors=2, weights = 'distance', p=1)\n",
    "model.fit(X_train, np.log(y_train))\n",
    "     \n",
    "predict_test = np.exp(model.predict(X_test))\n",
    "#predict_submission = np.exp(model.predict(X_sub))\n",
    "\n",
    "print(f\"Точность модели по метрике MAPE: {(mape(y_test, predict_test))*100:0.2f}%\")"
   ]
  },
  {
   "cell_type": "markdown",
   "id": "7d17370f",
   "metadata": {
    "papermill": {
     "duration": 0.147784,
     "end_time": "2022-04-12T09:56:58.110409",
     "exception": false,
     "start_time": "2022-04-12T09:56:57.962625",
     "status": "completed"
    },
    "tags": []
   },
   "source": [
    "# # Model 5 : GradientBoostingRegressor с подбором оптимизированных параметров"
   ]
  },
  {
   "cell_type": "code",
   "execution_count": 84,
   "id": "48422402",
   "metadata": {
    "execution": {
     "iopub.execute_input": "2022-04-12T09:56:58.407916Z",
     "iopub.status.busy": "2022-04-12T09:56:58.407216Z",
     "iopub.status.idle": "2022-04-12T09:56:58.410150Z",
     "shell.execute_reply": "2022-04-12T09:56:58.410681Z"
    },
    "papermill": {
     "duration": 0.153363,
     "end_time": "2022-04-12T09:56:58.410863",
     "exception": false,
     "start_time": "2022-04-12T09:56:58.257500",
     "status": "completed"
    },
    "tags": []
   },
   "outputs": [],
   "source": [
    "# Подбор параметров делал на локальном компьютере:\n",
    "\n",
    "#param_grid = {'learning_rate':[0.00001, 0.0001, 0.001, 0.01, 0.1, 1], \n",
    "#              'n_estimators':[100, 250, 500, 750, 1000, 1250, 1500, 1750]}\n",
    "\n",
    "#model = GradientBoostingRegressor(random_state=42, learning_rate=0.1, n_estimators=100,max_depth=3, min_samples_split=2, min_samples_leaf=1, subsample=1,max_features=None)\n",
    "#gs = GridSearchCV(estimator=model, param_grid=param_grid, scoring='neg_mean_squared_error', n_jobs=-1, cv=5)\n",
    "#gs.fit(X_train, np.log(y_train))\n",
    "     \n",
    "#predict_test = np.exp(gs.best_estimator_.predict(X_test))\n",
    "#predict_submission = np.exp(gs.best_estimator_.predict(X_sub))\n",
    "\n",
    "#print(f\"Точность модели по метрике MAPE: {(mape(y_test, predict_test))*100:0.2f}%\")\n",
    "\n",
    "#gs.best_estimator_.get_params()"
   ]
  },
  {
   "cell_type": "markdown",
   "id": "3d6c5ce5",
   "metadata": {
    "papermill": {
     "duration": 0.148382,
     "end_time": "2022-04-12T09:56:58.706355",
     "exception": false,
     "start_time": "2022-04-12T09:56:58.557973",
     "status": "completed"
    },
    "tags": []
   },
   "source": [
    "Получились такие оптимальные параметры:\n",
    "\n",
    "{'alpha': 0.9,\n",
    " 'ccp_alpha': 0.0,\n",
    " 'criterion': 'friedman_mse',\n",
    " 'init': None,\n",
    " 'learning_rate': 0.1,\n",
    " 'loss': 'ls',\n",
    " 'max_depth': 3,\n",
    " 'max_features': None,\n",
    " 'max_leaf_nodes': None,\n",
    " 'min_impurity_decrease': 0.0,\n",
    " 'min_impurity_split': None,\n",
    " 'min_samples_leaf': 1,\n",
    " 'min_samples_split': 2,\n",
    " 'min_weight_fraction_leaf': 0.0,\n",
    " 'n_estimators': 1750,\n",
    " 'n_iter_no_change': None,\n",
    " 'random_state': 42,\n",
    " 'subsample': 1,\n",
    " 'tol': 0.0001,\n",
    " 'validation_fraction': 0.1,\n",
    " 'verbose': 0,\n",
    " 'warm_start': False}"
   ]
  },
  {
   "cell_type": "code",
   "execution_count": 85,
   "id": "1500e7f0",
   "metadata": {
    "execution": {
     "iopub.execute_input": "2022-04-12T09:56:59.001122Z",
     "iopub.status.busy": "2022-04-12T09:56:59.000390Z",
     "iopub.status.idle": "2022-04-12T09:58:15.043739Z",
     "shell.execute_reply": "2022-04-12T09:58:15.044308Z"
    },
    "papermill": {
     "duration": 76.192015,
     "end_time": "2022-04-12T09:58:15.044675",
     "exception": false,
     "start_time": "2022-04-12T09:56:58.852660",
     "status": "completed"
    },
    "tags": []
   },
   "outputs": [
    {
     "name": "stdout",
     "output_type": "stream",
     "text": [
      "Точность модели по метрике MAPE: 13.69%\n"
     ]
    }
   ],
   "source": [
    "model = GradientBoostingRegressor(random_state=42, learning_rate=0.1, n_estimators=1750,max_depth=3, min_samples_split=2, min_samples_leaf=1, subsample=1,max_features=None)\n",
    "model.fit(X_train, np.log(y_train))\n",
    "     \n",
    "predict_test = np.exp(model.predict(X_test))\n",
    "#predict_submission = np.exp(model.predict(X_sub))\n",
    "\n",
    "print(f\"Точность модели по метрике MAPE: {(mape(y_test, predict_test))*100:0.2f}%\")"
   ]
  },
  {
   "cell_type": "markdown",
   "id": "b4e42a86",
   "metadata": {
    "papermill": {
     "duration": 0.148952,
     "end_time": "2022-04-12T09:58:15.341109",
     "exception": false,
     "start_time": "2022-04-12T09:58:15.192157",
     "status": "completed"
    },
    "tags": []
   },
   "source": [
    "LeaderBoard score 14.77627."
   ]
  },
  {
   "cell_type": "markdown",
   "id": "c15cc238",
   "metadata": {
    "papermill": {
     "duration": 0.148785,
     "end_time": "2022-04-12T09:58:15.640183",
     "exception": false,
     "start_time": "2022-04-12T09:58:15.491398",
     "status": "completed"
    },
    "tags": []
   },
   "source": [
    "# # Model 6 : ExtraTreesRegressor с подбором параметров"
   ]
  },
  {
   "cell_type": "code",
   "execution_count": 86,
   "id": "24712d86",
   "metadata": {
    "execution": {
     "iopub.execute_input": "2022-04-12T09:58:15.947821Z",
     "iopub.status.busy": "2022-04-12T09:58:15.947009Z",
     "iopub.status.idle": "2022-04-12T10:16:17.654462Z",
     "shell.execute_reply": "2022-04-12T10:16:17.655048Z"
    },
    "papermill": {
     "duration": 1081.862371,
     "end_time": "2022-04-12T10:16:17.655335",
     "exception": false,
     "start_time": "2022-04-12T09:58:15.792964",
     "status": "completed"
    },
    "tags": []
   },
   "outputs": [
    {
     "name": "stderr",
     "output_type": "stream",
     "text": [
      "/opt/conda/lib/python3.7/site-packages/sklearn/base.py:446: UserWarning: X does not have valid feature names, but ExtraTreesRegressor was fitted with feature names\n",
      "  \"X does not have valid feature names, but\"\n",
      "/opt/conda/lib/python3.7/site-packages/sklearn/base.py:446: UserWarning: X does not have valid feature names, but ExtraTreesRegressor was fitted with feature names\n",
      "  \"X does not have valid feature names, but\"\n",
      "/opt/conda/lib/python3.7/site-packages/sklearn/base.py:446: UserWarning: X does not have valid feature names, but ExtraTreesRegressor was fitted with feature names\n",
      "  \"X does not have valid feature names, but\"\n",
      "/opt/conda/lib/python3.7/site-packages/sklearn/base.py:446: UserWarning: X does not have valid feature names, but ExtraTreesRegressor was fitted with feature names\n",
      "  \"X does not have valid feature names, but\"\n",
      "/opt/conda/lib/python3.7/site-packages/sklearn/base.py:446: UserWarning: X does not have valid feature names, but ExtraTreesRegressor was fitted with feature names\n",
      "  \"X does not have valid feature names, but\"\n",
      "/opt/conda/lib/python3.7/site-packages/sklearn/base.py:446: UserWarning: X does not have valid feature names, but ExtraTreesRegressor was fitted with feature names\n",
      "  \"X does not have valid feature names, but\"\n",
      "/opt/conda/lib/python3.7/site-packages/sklearn/base.py:446: UserWarning: X does not have valid feature names, but ExtraTreesRegressor was fitted with feature names\n",
      "  \"X does not have valid feature names, but\"\n",
      "/opt/conda/lib/python3.7/site-packages/sklearn/base.py:446: UserWarning: X does not have valid feature names, but ExtraTreesRegressor was fitted with feature names\n",
      "  \"X does not have valid feature names, but\"\n",
      "/opt/conda/lib/python3.7/site-packages/sklearn/base.py:446: UserWarning: X does not have valid feature names, but ExtraTreesRegressor was fitted with feature names\n",
      "  \"X does not have valid feature names, but\"\n",
      "/opt/conda/lib/python3.7/site-packages/sklearn/base.py:446: UserWarning: X does not have valid feature names, but ExtraTreesRegressor was fitted with feature names\n",
      "  \"X does not have valid feature names, but\"\n",
      "/opt/conda/lib/python3.7/site-packages/joblib/externals/loky/process_executor.py:705: UserWarning: A worker stopped while some jobs were given to the executor. This can be caused by a too short worker timeout or by a memory leak.\n",
      "  \"timeout or by a memory leak.\", UserWarning\n",
      "/opt/conda/lib/python3.7/site-packages/sklearn/base.py:446: UserWarning: X does not have valid feature names, but ExtraTreesRegressor was fitted with feature names\n",
      "  \"X does not have valid feature names, but\"\n",
      "/opt/conda/lib/python3.7/site-packages/sklearn/base.py:446: UserWarning: X does not have valid feature names, but ExtraTreesRegressor was fitted with feature names\n",
      "  \"X does not have valid feature names, but\"\n",
      "/opt/conda/lib/python3.7/site-packages/sklearn/base.py:446: UserWarning: X does not have valid feature names, but ExtraTreesRegressor was fitted with feature names\n",
      "  \"X does not have valid feature names, but\"\n",
      "/opt/conda/lib/python3.7/site-packages/sklearn/base.py:446: UserWarning: X does not have valid feature names, but ExtraTreesRegressor was fitted with feature names\n",
      "  \"X does not have valid feature names, but\"\n",
      "/opt/conda/lib/python3.7/site-packages/sklearn/base.py:446: UserWarning: X does not have valid feature names, but ExtraTreesRegressor was fitted with feature names\n",
      "  \"X does not have valid feature names, but\"\n",
      "/opt/conda/lib/python3.7/site-packages/sklearn/base.py:446: UserWarning: X does not have valid feature names, but ExtraTreesRegressor was fitted with feature names\n",
      "  \"X does not have valid feature names, but\"\n",
      "/opt/conda/lib/python3.7/site-packages/sklearn/base.py:446: UserWarning: X does not have valid feature names, but ExtraTreesRegressor was fitted with feature names\n",
      "  \"X does not have valid feature names, but\"\n",
      "/opt/conda/lib/python3.7/site-packages/sklearn/base.py:446: UserWarning: X does not have valid feature names, but ExtraTreesRegressor was fitted with feature names\n",
      "  \"X does not have valid feature names, but\"\n",
      "/opt/conda/lib/python3.7/site-packages/sklearn/base.py:446: UserWarning: X does not have valid feature names, but ExtraTreesRegressor was fitted with feature names\n",
      "  \"X does not have valid feature names, but\"\n",
      "/opt/conda/lib/python3.7/site-packages/sklearn/base.py:446: UserWarning: X does not have valid feature names, but ExtraTreesRegressor was fitted with feature names\n",
      "  \"X does not have valid feature names, but\"\n",
      "/opt/conda/lib/python3.7/site-packages/sklearn/base.py:446: UserWarning: X does not have valid feature names, but ExtraTreesRegressor was fitted with feature names\n",
      "  \"X does not have valid feature names, but\"\n",
      "/opt/conda/lib/python3.7/site-packages/sklearn/base.py:446: UserWarning: X does not have valid feature names, but ExtraTreesRegressor was fitted with feature names\n",
      "  \"X does not have valid feature names, but\"\n",
      "/opt/conda/lib/python3.7/site-packages/sklearn/base.py:446: UserWarning: X does not have valid feature names, but ExtraTreesRegressor was fitted with feature names\n",
      "  \"X does not have valid feature names, but\"\n",
      "/opt/conda/lib/python3.7/site-packages/sklearn/base.py:446: UserWarning: X does not have valid feature names, but ExtraTreesRegressor was fitted with feature names\n",
      "  \"X does not have valid feature names, but\"\n",
      "/opt/conda/lib/python3.7/site-packages/sklearn/base.py:446: UserWarning: X does not have valid feature names, but ExtraTreesRegressor was fitted with feature names\n",
      "  \"X does not have valid feature names, but\"\n",
      "/opt/conda/lib/python3.7/site-packages/sklearn/base.py:446: UserWarning: X does not have valid feature names, but ExtraTreesRegressor was fitted with feature names\n",
      "  \"X does not have valid feature names, but\"\n",
      "/opt/conda/lib/python3.7/site-packages/sklearn/base.py:446: UserWarning: X does not have valid feature names, but ExtraTreesRegressor was fitted with feature names\n",
      "  \"X does not have valid feature names, but\"\n",
      "/opt/conda/lib/python3.7/site-packages/sklearn/base.py:446: UserWarning: X does not have valid feature names, but ExtraTreesRegressor was fitted with feature names\n",
      "  \"X does not have valid feature names, but\"\n",
      "/opt/conda/lib/python3.7/site-packages/sklearn/base.py:446: UserWarning: X does not have valid feature names, but ExtraTreesRegressor was fitted with feature names\n",
      "  \"X does not have valid feature names, but\"\n",
      "/opt/conda/lib/python3.7/site-packages/sklearn/base.py:446: UserWarning: X does not have valid feature names, but ExtraTreesRegressor was fitted with feature names\n",
      "  \"X does not have valid feature names, but\"\n",
      "/opt/conda/lib/python3.7/site-packages/sklearn/base.py:446: UserWarning: X does not have valid feature names, but ExtraTreesRegressor was fitted with feature names\n",
      "  \"X does not have valid feature names, but\"\n",
      "/opt/conda/lib/python3.7/site-packages/sklearn/base.py:446: UserWarning: X does not have valid feature names, but ExtraTreesRegressor was fitted with feature names\n",
      "  \"X does not have valid feature names, but\"\n",
      "/opt/conda/lib/python3.7/site-packages/sklearn/base.py:446: UserWarning: X does not have valid feature names, but ExtraTreesRegressor was fitted with feature names\n",
      "  \"X does not have valid feature names, but\"\n",
      "/opt/conda/lib/python3.7/site-packages/sklearn/base.py:446: UserWarning: X does not have valid feature names, but ExtraTreesRegressor was fitted with feature names\n",
      "  \"X does not have valid feature names, but\"\n",
      "/opt/conda/lib/python3.7/site-packages/sklearn/base.py:446: UserWarning: X does not have valid feature names, but ExtraTreesRegressor was fitted with feature names\n",
      "  \"X does not have valid feature names, but\"\n",
      "/opt/conda/lib/python3.7/site-packages/sklearn/base.py:446: UserWarning: X does not have valid feature names, but ExtraTreesRegressor was fitted with feature names\n",
      "  \"X does not have valid feature names, but\"\n",
      "/opt/conda/lib/python3.7/site-packages/sklearn/base.py:446: UserWarning: X does not have valid feature names, but ExtraTreesRegressor was fitted with feature names\n",
      "  \"X does not have valid feature names, but\"\n",
      "/opt/conda/lib/python3.7/site-packages/sklearn/base.py:446: UserWarning: X does not have valid feature names, but ExtraTreesRegressor was fitted with feature names\n",
      "  \"X does not have valid feature names, but\"\n",
      "/opt/conda/lib/python3.7/site-packages/sklearn/base.py:446: UserWarning: X does not have valid feature names, but ExtraTreesRegressor was fitted with feature names\n",
      "  \"X does not have valid feature names, but\"\n",
      "/opt/conda/lib/python3.7/site-packages/sklearn/base.py:446: UserWarning: X does not have valid feature names, but ExtraTreesRegressor was fitted with feature names\n",
      "  \"X does not have valid feature names, but\"\n",
      "/opt/conda/lib/python3.7/site-packages/sklearn/base.py:446: UserWarning: X does not have valid feature names, but ExtraTreesRegressor was fitted with feature names\n",
      "  \"X does not have valid feature names, but\"\n",
      "/opt/conda/lib/python3.7/site-packages/sklearn/base.py:446: UserWarning: X does not have valid feature names, but ExtraTreesRegressor was fitted with feature names\n",
      "  \"X does not have valid feature names, but\"\n",
      "/opt/conda/lib/python3.7/site-packages/sklearn/base.py:446: UserWarning: X does not have valid feature names, but ExtraTreesRegressor was fitted with feature names\n",
      "  \"X does not have valid feature names, but\"\n",
      "/opt/conda/lib/python3.7/site-packages/sklearn/base.py:446: UserWarning: X does not have valid feature names, but ExtraTreesRegressor was fitted with feature names\n",
      "  \"X does not have valid feature names, but\"\n",
      "/opt/conda/lib/python3.7/site-packages/sklearn/base.py:446: UserWarning: X does not have valid feature names, but ExtraTreesRegressor was fitted with feature names\n",
      "  \"X does not have valid feature names, but\"\n",
      "/opt/conda/lib/python3.7/site-packages/sklearn/base.py:446: UserWarning: X does not have valid feature names, but ExtraTreesRegressor was fitted with feature names\n",
      "  \"X does not have valid feature names, but\"\n",
      "/opt/conda/lib/python3.7/site-packages/sklearn/base.py:446: UserWarning: X does not have valid feature names, but ExtraTreesRegressor was fitted with feature names\n",
      "  \"X does not have valid feature names, but\"\n",
      "/opt/conda/lib/python3.7/site-packages/sklearn/base.py:446: UserWarning: X does not have valid feature names, but ExtraTreesRegressor was fitted with feature names\n",
      "  \"X does not have valid feature names, but\"\n",
      "/opt/conda/lib/python3.7/site-packages/sklearn/base.py:446: UserWarning: X does not have valid feature names, but ExtraTreesRegressor was fitted with feature names\n",
      "  \"X does not have valid feature names, but\"\n",
      "/opt/conda/lib/python3.7/site-packages/sklearn/base.py:446: UserWarning: X does not have valid feature names, but ExtraTreesRegressor was fitted with feature names\n",
      "  \"X does not have valid feature names, but\"\n",
      "/opt/conda/lib/python3.7/site-packages/sklearn/base.py:446: UserWarning: X does not have valid feature names, but ExtraTreesRegressor was fitted with feature names\n",
      "  \"X does not have valid feature names, but\"\n",
      "/opt/conda/lib/python3.7/site-packages/sklearn/base.py:446: UserWarning: X does not have valid feature names, but ExtraTreesRegressor was fitted with feature names\n",
      "  \"X does not have valid feature names, but\"\n",
      "/opt/conda/lib/python3.7/site-packages/sklearn/base.py:446: UserWarning: X does not have valid feature names, but ExtraTreesRegressor was fitted with feature names\n",
      "  \"X does not have valid feature names, but\"\n",
      "/opt/conda/lib/python3.7/site-packages/sklearn/base.py:446: UserWarning: X does not have valid feature names, but ExtraTreesRegressor was fitted with feature names\n",
      "  \"X does not have valid feature names, but\"\n",
      "/opt/conda/lib/python3.7/site-packages/sklearn/base.py:446: UserWarning: X does not have valid feature names, but ExtraTreesRegressor was fitted with feature names\n",
      "  \"X does not have valid feature names, but\"\n",
      "/opt/conda/lib/python3.7/site-packages/sklearn/base.py:446: UserWarning: X does not have valid feature names, but ExtraTreesRegressor was fitted with feature names\n",
      "  \"X does not have valid feature names, but\"\n",
      "/opt/conda/lib/python3.7/site-packages/sklearn/base.py:446: UserWarning: X does not have valid feature names, but ExtraTreesRegressor was fitted with feature names\n",
      "  \"X does not have valid feature names, but\"\n",
      "/opt/conda/lib/python3.7/site-packages/sklearn/base.py:446: UserWarning: X does not have valid feature names, but ExtraTreesRegressor was fitted with feature names\n",
      "  \"X does not have valid feature names, but\"\n",
      "/opt/conda/lib/python3.7/site-packages/sklearn/base.py:446: UserWarning: X does not have valid feature names, but ExtraTreesRegressor was fitted with feature names\n",
      "  \"X does not have valid feature names, but\"\n",
      "/opt/conda/lib/python3.7/site-packages/sklearn/base.py:446: UserWarning: X does not have valid feature names, but ExtraTreesRegressor was fitted with feature names\n",
      "  \"X does not have valid feature names, but\"\n",
      "/opt/conda/lib/python3.7/site-packages/sklearn/base.py:446: UserWarning: X does not have valid feature names, but ExtraTreesRegressor was fitted with feature names\n",
      "  \"X does not have valid feature names, but\"\n",
      "/opt/conda/lib/python3.7/site-packages/sklearn/base.py:446: UserWarning: X does not have valid feature names, but ExtraTreesRegressor was fitted with feature names\n",
      "  \"X does not have valid feature names, but\"\n",
      "/opt/conda/lib/python3.7/site-packages/sklearn/base.py:446: UserWarning: X does not have valid feature names, but ExtraTreesRegressor was fitted with feature names\n",
      "  \"X does not have valid feature names, but\"\n",
      "/opt/conda/lib/python3.7/site-packages/sklearn/base.py:446: UserWarning: X does not have valid feature names, but ExtraTreesRegressor was fitted with feature names\n",
      "  \"X does not have valid feature names, but\"\n",
      "/opt/conda/lib/python3.7/site-packages/sklearn/base.py:446: UserWarning: X does not have valid feature names, but ExtraTreesRegressor was fitted with feature names\n",
      "  \"X does not have valid feature names, but\"\n",
      "/opt/conda/lib/python3.7/site-packages/sklearn/base.py:446: UserWarning: X does not have valid feature names, but ExtraTreesRegressor was fitted with feature names\n",
      "  \"X does not have valid feature names, but\"\n",
      "/opt/conda/lib/python3.7/site-packages/sklearn/base.py:446: UserWarning: X does not have valid feature names, but ExtraTreesRegressor was fitted with feature names\n",
      "  \"X does not have valid feature names, but\"\n",
      "/opt/conda/lib/python3.7/site-packages/sklearn/base.py:446: UserWarning: X does not have valid feature names, but ExtraTreesRegressor was fitted with feature names\n",
      "  \"X does not have valid feature names, but\"\n",
      "/opt/conda/lib/python3.7/site-packages/sklearn/base.py:446: UserWarning: X does not have valid feature names, but ExtraTreesRegressor was fitted with feature names\n",
      "  \"X does not have valid feature names, but\"\n",
      "/opt/conda/lib/python3.7/site-packages/sklearn/base.py:446: UserWarning: X does not have valid feature names, but ExtraTreesRegressor was fitted with feature names\n",
      "  \"X does not have valid feature names, but\"\n",
      "/opt/conda/lib/python3.7/site-packages/sklearn/base.py:446: UserWarning: X does not have valid feature names, but ExtraTreesRegressor was fitted with feature names\n",
      "  \"X does not have valid feature names, but\"\n",
      "/opt/conda/lib/python3.7/site-packages/sklearn/base.py:446: UserWarning: X does not have valid feature names, but ExtraTreesRegressor was fitted with feature names\n",
      "  \"X does not have valid feature names, but\"\n",
      "/opt/conda/lib/python3.7/site-packages/sklearn/base.py:446: UserWarning: X does not have valid feature names, but ExtraTreesRegressor was fitted with feature names\n",
      "  \"X does not have valid feature names, but\"\n",
      "/opt/conda/lib/python3.7/site-packages/sklearn/base.py:446: UserWarning: X does not have valid feature names, but ExtraTreesRegressor was fitted with feature names\n",
      "  \"X does not have valid feature names, but\"\n",
      "/opt/conda/lib/python3.7/site-packages/sklearn/base.py:446: UserWarning: X does not have valid feature names, but ExtraTreesRegressor was fitted with feature names\n",
      "  \"X does not have valid feature names, but\"\n",
      "/opt/conda/lib/python3.7/site-packages/sklearn/base.py:446: UserWarning: X does not have valid feature names, but ExtraTreesRegressor was fitted with feature names\n",
      "  \"X does not have valid feature names, but\"\n",
      "/opt/conda/lib/python3.7/site-packages/sklearn/base.py:446: UserWarning: X does not have valid feature names, but ExtraTreesRegressor was fitted with feature names\n",
      "  \"X does not have valid feature names, but\"\n",
      "/opt/conda/lib/python3.7/site-packages/sklearn/base.py:446: UserWarning: X does not have valid feature names, but ExtraTreesRegressor was fitted with feature names\n",
      "  \"X does not have valid feature names, but\"\n",
      "/opt/conda/lib/python3.7/site-packages/sklearn/base.py:446: UserWarning: X does not have valid feature names, but ExtraTreesRegressor was fitted with feature names\n",
      "  \"X does not have valid feature names, but\"\n",
      "/opt/conda/lib/python3.7/site-packages/sklearn/base.py:446: UserWarning: X does not have valid feature names, but ExtraTreesRegressor was fitted with feature names\n",
      "  \"X does not have valid feature names, but\"\n",
      "/opt/conda/lib/python3.7/site-packages/sklearn/base.py:446: UserWarning: X does not have valid feature names, but ExtraTreesRegressor was fitted with feature names\n",
      "  \"X does not have valid feature names, but\"\n",
      "/opt/conda/lib/python3.7/site-packages/sklearn/base.py:446: UserWarning: X does not have valid feature names, but ExtraTreesRegressor was fitted with feature names\n",
      "  \"X does not have valid feature names, but\"\n",
      "/opt/conda/lib/python3.7/site-packages/sklearn/base.py:446: UserWarning: X does not have valid feature names, but ExtraTreesRegressor was fitted with feature names\n",
      "  \"X does not have valid feature names, but\"\n",
      "/opt/conda/lib/python3.7/site-packages/sklearn/base.py:446: UserWarning: X does not have valid feature names, but ExtraTreesRegressor was fitted with feature names\n",
      "  \"X does not have valid feature names, but\"\n",
      "/opt/conda/lib/python3.7/site-packages/sklearn/base.py:446: UserWarning: X does not have valid feature names, but ExtraTreesRegressor was fitted with feature names\n",
      "  \"X does not have valid feature names, but\"\n",
      "/opt/conda/lib/python3.7/site-packages/sklearn/base.py:446: UserWarning: X does not have valid feature names, but ExtraTreesRegressor was fitted with feature names\n",
      "  \"X does not have valid feature names, but\"\n",
      "/opt/conda/lib/python3.7/site-packages/sklearn/base.py:446: UserWarning: X does not have valid feature names, but ExtraTreesRegressor was fitted with feature names\n",
      "  \"X does not have valid feature names, but\"\n",
      "/opt/conda/lib/python3.7/site-packages/sklearn/base.py:446: UserWarning: X does not have valid feature names, but ExtraTreesRegressor was fitted with feature names\n",
      "  \"X does not have valid feature names, but\"\n",
      "/opt/conda/lib/python3.7/site-packages/sklearn/base.py:446: UserWarning: X does not have valid feature names, but ExtraTreesRegressor was fitted with feature names\n",
      "  \"X does not have valid feature names, but\"\n",
      "/opt/conda/lib/python3.7/site-packages/sklearn/base.py:446: UserWarning: X does not have valid feature names, but ExtraTreesRegressor was fitted with feature names\n",
      "  \"X does not have valid feature names, but\"\n",
      "/opt/conda/lib/python3.7/site-packages/sklearn/base.py:446: UserWarning: X does not have valid feature names, but ExtraTreesRegressor was fitted with feature names\n",
      "  \"X does not have valid feature names, but\"\n",
      "/opt/conda/lib/python3.7/site-packages/sklearn/base.py:446: UserWarning: X does not have valid feature names, but ExtraTreesRegressor was fitted with feature names\n",
      "  \"X does not have valid feature names, but\"\n",
      "/opt/conda/lib/python3.7/site-packages/sklearn/base.py:446: UserWarning: X does not have valid feature names, but ExtraTreesRegressor was fitted with feature names\n",
      "  \"X does not have valid feature names, but\"\n",
      "/opt/conda/lib/python3.7/site-packages/sklearn/base.py:446: UserWarning: X does not have valid feature names, but ExtraTreesRegressor was fitted with feature names\n",
      "  \"X does not have valid feature names, but\"\n",
      "/opt/conda/lib/python3.7/site-packages/sklearn/base.py:446: UserWarning: X does not have valid feature names, but ExtraTreesRegressor was fitted with feature names\n",
      "  \"X does not have valid feature names, but\"\n",
      "/opt/conda/lib/python3.7/site-packages/sklearn/base.py:446: UserWarning: X does not have valid feature names, but ExtraTreesRegressor was fitted with feature names\n",
      "  \"X does not have valid feature names, but\"\n",
      "/opt/conda/lib/python3.7/site-packages/sklearn/base.py:446: UserWarning: X does not have valid feature names, but ExtraTreesRegressor was fitted with feature names\n",
      "  \"X does not have valid feature names, but\"\n",
      "/opt/conda/lib/python3.7/site-packages/sklearn/base.py:446: UserWarning: X does not have valid feature names, but ExtraTreesRegressor was fitted with feature names\n",
      "  \"X does not have valid feature names, but\"\n",
      "/opt/conda/lib/python3.7/site-packages/sklearn/base.py:446: UserWarning: X does not have valid feature names, but ExtraTreesRegressor was fitted with feature names\n",
      "  \"X does not have valid feature names, but\"\n",
      "/opt/conda/lib/python3.7/site-packages/sklearn/base.py:446: UserWarning: X does not have valid feature names, but ExtraTreesRegressor was fitted with feature names\n",
      "  \"X does not have valid feature names, but\"\n",
      "/opt/conda/lib/python3.7/site-packages/sklearn/base.py:446: UserWarning: X does not have valid feature names, but ExtraTreesRegressor was fitted with feature names\n",
      "  \"X does not have valid feature names, but\"\n",
      "/opt/conda/lib/python3.7/site-packages/sklearn/base.py:446: UserWarning: X does not have valid feature names, but ExtraTreesRegressor was fitted with feature names\n",
      "  \"X does not have valid feature names, but\"\n",
      "/opt/conda/lib/python3.7/site-packages/sklearn/base.py:446: UserWarning: X does not have valid feature names, but ExtraTreesRegressor was fitted with feature names\n",
      "  \"X does not have valid feature names, but\"\n",
      "/opt/conda/lib/python3.7/site-packages/sklearn/base.py:446: UserWarning: X does not have valid feature names, but ExtraTreesRegressor was fitted with feature names\n",
      "  \"X does not have valid feature names, but\"\n",
      "/opt/conda/lib/python3.7/site-packages/sklearn/base.py:446: UserWarning: X does not have valid feature names, but ExtraTreesRegressor was fitted with feature names\n",
      "  \"X does not have valid feature names, but\"\n",
      "/opt/conda/lib/python3.7/site-packages/sklearn/base.py:446: UserWarning: X does not have valid feature names, but ExtraTreesRegressor was fitted with feature names\n",
      "  \"X does not have valid feature names, but\"\n",
      "/opt/conda/lib/python3.7/site-packages/sklearn/base.py:446: UserWarning: X does not have valid feature names, but ExtraTreesRegressor was fitted with feature names\n",
      "  \"X does not have valid feature names, but\"\n",
      "/opt/conda/lib/python3.7/site-packages/sklearn/base.py:446: UserWarning: X does not have valid feature names, but ExtraTreesRegressor was fitted with feature names\n",
      "  \"X does not have valid feature names, but\"\n"
     ]
    },
    {
     "name": "stdout",
     "output_type": "stream",
     "text": [
      "Точность модели по метрике MAPE: 13.22%\n"
     ]
    },
    {
     "data": {
      "text/plain": [
       "{'bootstrap': True,\n",
       " 'ccp_alpha': 0.0,\n",
       " 'criterion': 'squared_error',\n",
       " 'max_depth': 25,\n",
       " 'max_features': 'sqrt',\n",
       " 'max_leaf_nodes': None,\n",
       " 'max_samples': None,\n",
       " 'min_impurity_decrease': 0.0,\n",
       " 'min_samples_leaf': 1,\n",
       " 'min_samples_split': 2,\n",
       " 'min_weight_fraction_leaf': 0.0,\n",
       " 'n_estimators': 500,\n",
       " 'n_jobs': -1,\n",
       " 'oob_score': True,\n",
       " 'random_state': 42,\n",
       " 'verbose': 0,\n",
       " 'warm_start': True}"
      ]
     },
     "execution_count": 86,
     "metadata": {},
     "output_type": "execute_result"
    }
   ],
   "source": [
    "param_grid = {'max_depth': [3, 5, 10, 15, 20, 25, 30, 35, 40, 45, 50], \n",
    "              'max_features': ['sqrt', 'log2'],\n",
    "              'oob_score': [True, False]}\n",
    "\n",
    "model = ExtraTreesRegressor(random_state=RANDOM_SEED, n_jobs=-1, warm_start=True, n_estimators=500, bootstrap=True)\n",
    "gs = GridSearchCV(estimator=model, param_grid=param_grid, scoring='neg_mean_squared_error', n_jobs=-1, cv=5)\n",
    "gs.fit(X_train, np.log(y_train))\n",
    "     \n",
    "predict_test = np.exp(gs.best_estimator_.predict(X_test))\n",
    "#predict_submission = np.exp(gs.best_estimator_.predict(X_sub))\n",
    "\n",
    "print(f\"Точность модели по метрике MAPE: {(mape(y_test, predict_test))*100:0.2f}%\")\n",
    "\n",
    "gs.best_estimator_.get_params()"
   ]
  },
  {
   "cell_type": "markdown",
   "id": "5e925faa",
   "metadata": {
    "papermill": {
     "duration": 0.16487,
     "end_time": "2022-04-12T10:16:18.001066",
     "exception": false,
     "start_time": "2022-04-12T10:16:17.836196",
     "status": "completed"
    },
    "tags": []
   },
   "source": [
    "LeaderBoard score 12.57278"
   ]
  },
  {
   "cell_type": "markdown",
   "id": "09698bcf",
   "metadata": {
    "papermill": {
     "duration": 0.159821,
     "end_time": "2022-04-12T10:16:18.324556",
     "exception": false,
     "start_time": "2022-04-12T10:16:18.164735",
     "status": "completed"
    },
    "tags": []
   },
   "source": [
    "# # Model 7 : StackingRegressor"
   ]
  },
  {
   "cell_type": "code",
   "execution_count": 87,
   "id": "1c4d8df7",
   "metadata": {
    "execution": {
     "iopub.execute_input": "2022-04-12T10:16:18.653510Z",
     "iopub.status.busy": "2022-04-12T10:16:18.652781Z",
     "iopub.status.idle": "2022-04-12T10:23:18.442520Z",
     "shell.execute_reply": "2022-04-12T10:23:18.444566Z"
    },
    "papermill": {
     "duration": 419.958258,
     "end_time": "2022-04-12T10:23:18.444875",
     "exception": false,
     "start_time": "2022-04-12T10:16:18.486617",
     "status": "completed"
    },
    "tags": []
   },
   "outputs": [
    {
     "name": "stderr",
     "output_type": "stream",
     "text": [
      "[Parallel(n_jobs=-1)]: Using backend LokyBackend with 4 concurrent workers.\n",
      "[Parallel(n_jobs=-1)]: Done  76 tasks      | elapsed:    3.7s\n",
      "[Parallel(n_jobs=-1)]: Done  93 out of 100 | elapsed:    4.5s remaining:    0.3s\n",
      "[Parallel(n_jobs=-1)]: Done 100 out of 100 | elapsed:    4.7s finished\n",
      "[Parallel(n_jobs=-1)]: Using backend LokyBackend with 4 concurrent workers.\n",
      "[Parallel(n_jobs=-1)]: Done  76 tasks      | elapsed:    1.5s\n",
      "[Parallel(n_jobs=-1)]: Done 200 out of 200 | elapsed:    3.6s finished\n",
      "[Parallel(n_jobs=-1)]: Using backend LokyBackend with 4 concurrent workers.\n",
      "[Parallel(n_jobs=-1)]: Done  76 tasks      | elapsed:    2.9s\n",
      "[Parallel(n_jobs=-1)]: Done  93 out of 100 | elapsed:    3.5s remaining:    0.3s\n",
      "[Parallel(n_jobs=-1)]: Done 100 out of 100 | elapsed:    3.7s finished\n",
      "[Parallel(n_jobs=4)]: Using backend ThreadingBackend with 4 concurrent workers.\n",
      "[Parallel(n_jobs=4)]: Done  42 tasks      | elapsed:    0.1s\n",
      "[Parallel(n_jobs=4)]: Done 100 out of 100 | elapsed:    0.1s finished\n",
      "[Parallel(n_jobs=-1)]: Using backend LokyBackend with 4 concurrent workers.\n",
      "[Parallel(n_jobs=-1)]: Done  76 tasks      | elapsed:    2.7s\n",
      "[Parallel(n_jobs=-1)]: Done 100 out of 100 | elapsed:    3.4s finished\n",
      "[Parallel(n_jobs=4)]: Using backend ThreadingBackend with 4 concurrent workers.\n",
      "[Parallel(n_jobs=4)]: Done  42 tasks      | elapsed:    0.1s\n",
      "[Parallel(n_jobs=4)]: Done 100 out of 100 | elapsed:    0.1s finished\n",
      "[Parallel(n_jobs=-1)]: Using backend LokyBackend with 4 concurrent workers.\n",
      "[Parallel(n_jobs=-1)]: Done  76 tasks      | elapsed:    2.7s\n",
      "[Parallel(n_jobs=-1)]: Done 100 out of 100 | elapsed:    3.5s finished\n",
      "[Parallel(n_jobs=4)]: Using backend ThreadingBackend with 4 concurrent workers.\n",
      "[Parallel(n_jobs=4)]: Done  42 tasks      | elapsed:    0.1s\n",
      "[Parallel(n_jobs=4)]: Done 100 out of 100 | elapsed:    0.1s finished\n",
      "[Parallel(n_jobs=-1)]: Using backend LokyBackend with 4 concurrent workers.\n",
      "[Parallel(n_jobs=-1)]: Done  76 tasks      | elapsed:    2.7s\n",
      "[Parallel(n_jobs=-1)]: Done 100 out of 100 | elapsed:    3.5s finished\n",
      "[Parallel(n_jobs=4)]: Using backend ThreadingBackend with 4 concurrent workers.\n",
      "[Parallel(n_jobs=4)]: Done  42 tasks      | elapsed:    0.1s\n",
      "[Parallel(n_jobs=4)]: Done 100 out of 100 | elapsed:    0.1s finished\n",
      "[Parallel(n_jobs=-1)]: Using backend LokyBackend with 4 concurrent workers.\n",
      "[Parallel(n_jobs=-1)]: Done  76 tasks      | elapsed:    2.7s\n",
      "[Parallel(n_jobs=-1)]: Done 100 out of 100 | elapsed:    3.4s finished\n",
      "[Parallel(n_jobs=4)]: Using backend ThreadingBackend with 4 concurrent workers.\n",
      "[Parallel(n_jobs=4)]: Done  42 tasks      | elapsed:    0.1s\n",
      "[Parallel(n_jobs=4)]: Done 100 out of 100 | elapsed:    0.1s finished\n",
      "[Parallel(n_jobs=-1)]: Using backend LokyBackend with 4 concurrent workers.\n",
      "[Parallel(n_jobs=-1)]: Done 128 tasks      | elapsed:    1.8s\n",
      "[Parallel(n_jobs=-1)]: Done 200 out of 200 | elapsed:    2.7s finished\n",
      "[Parallel(n_jobs=4)]: Using backend ThreadingBackend with 4 concurrent workers.\n",
      "[Parallel(n_jobs=4)]: Done  42 tasks      | elapsed:    0.0s\n",
      "[Parallel(n_jobs=4)]: Done 192 tasks      | elapsed:    0.1s\n",
      "[Parallel(n_jobs=4)]: Done 200 out of 200 | elapsed:    0.1s finished\n",
      "[Parallel(n_jobs=-1)]: Using backend LokyBackend with 4 concurrent workers.\n",
      "[Parallel(n_jobs=-1)]: Done 128 tasks      | elapsed:    1.9s\n",
      "[Parallel(n_jobs=-1)]: Done 200 out of 200 | elapsed:    3.0s finished\n",
      "[Parallel(n_jobs=4)]: Using backend ThreadingBackend with 4 concurrent workers.\n",
      "[Parallel(n_jobs=4)]: Done  42 tasks      | elapsed:    0.0s\n",
      "[Parallel(n_jobs=4)]: Done 192 tasks      | elapsed:    0.1s\n",
      "[Parallel(n_jobs=4)]: Done 200 out of 200 | elapsed:    0.1s finished\n",
      "[Parallel(n_jobs=-1)]: Using backend LokyBackend with 4 concurrent workers.\n",
      "[Parallel(n_jobs=-1)]: Done 128 tasks      | elapsed:    1.8s\n",
      "[Parallel(n_jobs=-1)]: Done 200 out of 200 | elapsed:    2.6s finished\n",
      "[Parallel(n_jobs=4)]: Using backend ThreadingBackend with 4 concurrent workers.\n",
      "[Parallel(n_jobs=4)]: Done  42 tasks      | elapsed:    0.0s\n",
      "[Parallel(n_jobs=4)]: Done 192 tasks      | elapsed:    0.1s\n",
      "[Parallel(n_jobs=4)]: Done 200 out of 200 | elapsed:    0.1s finished\n",
      "[Parallel(n_jobs=-1)]: Using backend LokyBackend with 4 concurrent workers.\n",
      "[Parallel(n_jobs=-1)]: Done 128 tasks      | elapsed:    1.7s\n",
      "[Parallel(n_jobs=-1)]: Done 200 out of 200 | elapsed:    2.6s finished\n",
      "[Parallel(n_jobs=4)]: Using backend ThreadingBackend with 4 concurrent workers.\n",
      "[Parallel(n_jobs=4)]: Done  42 tasks      | elapsed:    0.0s\n",
      "[Parallel(n_jobs=4)]: Done 192 tasks      | elapsed:    0.1s\n",
      "[Parallel(n_jobs=4)]: Done 200 out of 200 | elapsed:    0.1s finished\n",
      "[Parallel(n_jobs=-1)]: Using backend LokyBackend with 4 concurrent workers.\n",
      "[Parallel(n_jobs=-1)]: Done 128 tasks      | elapsed:    1.8s\n",
      "[Parallel(n_jobs=-1)]: Done 200 out of 200 | elapsed:    2.6s finished\n",
      "[Parallel(n_jobs=4)]: Using backend ThreadingBackend with 4 concurrent workers.\n",
      "[Parallel(n_jobs=4)]: Done  42 tasks      | elapsed:    0.0s\n",
      "[Parallel(n_jobs=4)]: Done 192 tasks      | elapsed:    0.1s\n",
      "[Parallel(n_jobs=4)]: Done 200 out of 200 | elapsed:    0.1s finished\n",
      "[Parallel(n_jobs=4)]: Using backend ThreadingBackend with 4 concurrent workers.\n",
      "[Parallel(n_jobs=4)]: Done  42 tasks      | elapsed:    0.1s\n",
      "[Parallel(n_jobs=4)]: Done 100 out of 100 | elapsed:    0.2s finished\n"
     ]
    },
    {
     "name": "stdout",
     "output_type": "stream",
     "text": [
      "Точность модели по метрике MAPE: 12.61%\n"
     ]
    },
    {
     "name": "stderr",
     "output_type": "stream",
     "text": [
      "[Parallel(n_jobs=4)]: Using backend ThreadingBackend with 4 concurrent workers.\n",
      "[Parallel(n_jobs=4)]: Done  42 tasks      | elapsed:    0.0s\n",
      "[Parallel(n_jobs=4)]: Done 192 tasks      | elapsed:    0.1s\n",
      "[Parallel(n_jobs=4)]: Done 200 out of 200 | elapsed:    0.1s finished\n"
     ]
    }
   ],
   "source": [
    "estimators = [\n",
    "    ('etr', ExtraTreesRegressor(random_state=RANDOM_SEED, n_jobs=-1, verbose=1)),\n",
    "    ('gbr', GradientBoostingRegressor(random_state=42, learning_rate=0.1, n_estimators=1750,max_depth=3, min_samples_split=2, min_samples_leaf=1, subsample=1,max_features=None)),\n",
    "    ('rfr', RandomForestRegressor(random_state = RANDOM_SEED, n_jobs = -1, verbose = 1, max_depth=5, n_estimators=200))\n",
    "]\n",
    "\n",
    "model = StackingRegressor(\n",
    "    estimators=estimators,\n",
    "    final_estimator=LinearRegression()\n",
    ")\n",
    "\n",
    "model.fit(X_train, np.log(y_train))\n",
    "\n",
    "predict_test = np.exp(model.predict(X_test))\n",
    "#predict_submission = np.exp(model.predict(X_sub))\n",
    "     \n",
    "print(f\"Точность модели по метрике MAPE: {(mape(y_test, predict_test))*100:0.2f}%\")"
   ]
  },
  {
   "cell_type": "markdown",
   "id": "000d5f89",
   "metadata": {
    "papermill": {
     "duration": 0.172332,
     "end_time": "2022-04-12T10:23:18.838017",
     "exception": false,
     "start_time": "2022-04-12T10:23:18.665685",
     "status": "completed"
    },
    "tags": []
   },
   "source": [
    "LeaderBoard score 12.21737"
   ]
  },
  {
   "cell_type": "markdown",
   "id": "0785dd1f",
   "metadata": {
    "papermill": {
     "duration": 0.172093,
     "end_time": "2022-04-12T10:23:19.186656",
     "exception": false,
     "start_time": "2022-04-12T10:23:19.014563",
     "status": "completed"
    },
    "tags": []
   },
   "source": [
    "# Submission"
   ]
  },
  {
   "cell_type": "code",
   "execution_count": 88,
   "id": "1296411a",
   "metadata": {
    "execution": {
     "iopub.execute_input": "2022-04-12T10:23:19.541085Z",
     "iopub.status.busy": "2022-04-12T10:23:19.540308Z",
     "iopub.status.idle": "2022-04-12T10:23:19.683524Z",
     "shell.execute_reply": "2022-04-12T10:23:19.682892Z"
    },
    "papermill": {
     "duration": 0.323089,
     "end_time": "2022-04-12T10:23:19.683694",
     "exception": false,
     "start_time": "2022-04-12T10:23:19.360605",
     "status": "completed"
    },
    "tags": []
   },
   "outputs": [
    {
     "data": {
      "text/html": [
       "<div>\n",
       "<style scoped>\n",
       "    .dataframe tbody tr th:only-of-type {\n",
       "        vertical-align: middle;\n",
       "    }\n",
       "\n",
       "    .dataframe tbody tr th {\n",
       "        vertical-align: top;\n",
       "    }\n",
       "\n",
       "    .dataframe thead th {\n",
       "        text-align: right;\n",
       "    }\n",
       "</style>\n",
       "<table border=\"1\" class=\"dataframe\">\n",
       "  <thead>\n",
       "    <tr style=\"text-align: right;\">\n",
       "      <th></th>\n",
       "      <th>sell_id</th>\n",
       "      <th>price</th>\n",
       "    </tr>\n",
       "  </thead>\n",
       "  <tbody>\n",
       "    <tr>\n",
       "      <th>0</th>\n",
       "      <td>1100575026</td>\n",
       "      <td>5.490000e+05</td>\n",
       "    </tr>\n",
       "    <tr>\n",
       "      <th>1</th>\n",
       "      <td>1100549428</td>\n",
       "      <td>8.950000e+05</td>\n",
       "    </tr>\n",
       "    <tr>\n",
       "      <th>2</th>\n",
       "      <td>1100658222</td>\n",
       "      <td>8.482943e+05</td>\n",
       "    </tr>\n",
       "    <tr>\n",
       "      <th>3</th>\n",
       "      <td>1100937408</td>\n",
       "      <td>6.912100e+05</td>\n",
       "    </tr>\n",
       "    <tr>\n",
       "      <th>4</th>\n",
       "      <td>1101037972</td>\n",
       "      <td>6.535416e+05</td>\n",
       "    </tr>\n",
       "    <tr>\n",
       "      <th>5</th>\n",
       "      <td>1100912634</td>\n",
       "      <td>7.174750e+05</td>\n",
       "    </tr>\n",
       "    <tr>\n",
       "      <th>6</th>\n",
       "      <td>1101228730</td>\n",
       "      <td>5.719380e+05</td>\n",
       "    </tr>\n",
       "    <tr>\n",
       "      <th>7</th>\n",
       "      <td>1100165896</td>\n",
       "      <td>3.650000e+05</td>\n",
       "    </tr>\n",
       "    <tr>\n",
       "      <th>8</th>\n",
       "      <td>1100768262</td>\n",
       "      <td>1.757288e+06</td>\n",
       "    </tr>\n",
       "    <tr>\n",
       "      <th>9</th>\n",
       "      <td>1101218501</td>\n",
       "      <td>7.851081e+05</td>\n",
       "    </tr>\n",
       "  </tbody>\n",
       "</table>\n",
       "</div>"
      ],
      "text/plain": [
       "      sell_id         price\n",
       "0  1100575026  5.490000e+05\n",
       "1  1100549428  8.950000e+05\n",
       "2  1100658222  8.482943e+05\n",
       "3  1100937408  6.912100e+05\n",
       "4  1101037972  6.535416e+05\n",
       "5  1100912634  7.174750e+05\n",
       "6  1101228730  5.719380e+05\n",
       "7  1100165896  3.650000e+05\n",
       "8  1100768262  1.757288e+06\n",
       "9  1101218501  7.851081e+05"
      ]
     },
     "execution_count": 88,
     "metadata": {},
     "output_type": "execute_result"
    }
   ],
   "source": [
    "sample_submission['price'] = predict_submission\n",
    "sample_submission.to_csv(f'submission_2_v{VERSION}.csv', index=False)\n",
    "sample_submission.head(10)"
   ]
  }
 ],
 "metadata": {
  "kernelspec": {
   "display_name": "Python 3",
   "language": "python",
   "name": "python3"
  },
  "language_info": {
   "codemirror_mode": {
    "name": "ipython",
    "version": 3
   },
   "file_extension": ".py",
   "mimetype": "text/x-python",
   "name": "python",
   "nbconvert_exporter": "python",
   "pygments_lexer": "ipython3",
   "version": "3.7.12"
  },
  "papermill": {
   "default_parameters": {},
   "duration": 1741.980241,
   "end_time": "2022-04-12T10:23:21.479071",
   "environment_variables": {},
   "exception": null,
   "input_path": "__notebook__.ipynb",
   "output_path": "__notebook__.ipynb",
   "parameters": {},
   "start_time": "2022-04-12T09:54:19.498830",
   "version": "2.3.3"
  }
 },
 "nbformat": 4,
 "nbformat_minor": 5
}
